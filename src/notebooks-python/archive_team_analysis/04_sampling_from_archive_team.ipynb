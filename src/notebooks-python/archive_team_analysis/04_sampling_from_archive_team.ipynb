{
 "cells": [
  {
   "cell_type": "code",
   "execution_count": 1,
   "metadata": {},
   "outputs": [],
   "source": [
    "import sys\n",
    "sys.path.insert(1, r\"Q:\\IlMIoDrive\\magistrale\\1anno\\terzo_periodo\\MAS\\analysis\")\n",
    "#sys.path.insert(1, r\"C:\\Econophysics\\analysis\")\n",
    "from importlib import reload\n",
    "import Econophysics as Ec\n", 
    "import credentials as cr\n",
    "Ec = reload(Ec)\n",
    "cr  = reload(cr)\n",
    "import pickle\n",
    "from threading import Thread\n",
    "from datetime import datetime\n",
    "import tweepy\n",
    "import os\n",
    "import numpy as np\n",
    "import pandas as pd"
   ]
  },
  {
   "cell_type": "code",
   "execution_count": 2,
   "metadata": {},
   "outputs": [
    {
     "data": {
      "text/plain": [
       "110"
      ]
     },
     "execution_count": 2,
     "metadata": {},
     "output_type": "execute_result"
    }
   ],
   "source": [
    "len(cr.apps) #https://archive.org/details/twitterstream?&sort=-publicdate"
   ]
  },
  {
   "cell_type": "markdown",
   "metadata": {},
   "source": [
    "Load retweet network extracted from hashtag mining"
   ]
  },
  {
   "cell_type": "code",
   "execution_count": 3,
   "metadata": {},
   "outputs": [
    {
     "name": "stdout",
     "output_type": "stream",
     "text": [
      "Wall time: 2.04 s\n"
     ]
    },
    {
     "data": {
      "text/plain": [
       "[{'user_id': 556,\n",
       "  'profile_created_at': 'Wed Jul 12 23:50:48 +0000 2006',\n",
       "  'retweeted_tweet_id': [],\n",
       "  'retweeted_user_id': [],\n",
       "  'hashtags': ['DNC', 'michelleobama', 'Obama2012']},\n",
       " {'user_id': 586,\n",
       "  'profile_created_at': 'Thu Jul 13 09:05:49 +0000 2006',\n",
       "  'retweeted_tweet_id': [250394237219250178, 256410591407788032],\n",
       "  'retweeted_user_id': [27255049, 939091],\n",
       "  'hashtags': ['Obama2012', 'Das', 'TeamObamaBiden']},\n",
       " {'user_id': 882,\n",
       "  'profile_created_at': 'Fri Jul 14 15:08:02 +0000 2006',\n",
       "  'retweeted_tweet_id': [],\n",
       "  'retweeted_user_id': [],\n",
       "  'hashtags': ['gObama2012']}]"
      ]
     },
     "execution_count": 3,
     "metadata": {},
     "output_type": "execute_result"
    }
   ],
   "source": [
    "%%time\n",
    "#retweet_network_np = np.load(r\"F:\\TwitterUsers\\archiveTeam\\retweet_network\\retweet_network1.npy\", allow_pickle = True)\n",
    "retweet_network_np = np.load(r\"G:\\TwitterUsers\\processed_files\\retweet_network\\retweet_network.npy\", allow_pickle = True)\n",
    "retweet_network_csv = pd.DataFrame(retweet_network_np,columns = [\"user_id\",\t\"profile_created_at\", \"retweeted_tweet_id\", \"retweeted_user_id\", \"hashtags\"] )\n",
    "retweet_network = retweet_network_csv.to_dict(\"records\")\n",
    "retweet_network[:3]"
   ]
  },
  {
   "cell_type": "markdown",
   "metadata": {},
   "source": [
    "Check that users are uniques (which means validate previous parts of the pipeline)"
   ]
  },
  {
   "cell_type": "code",
   "execution_count": 4,
   "metadata": {},
   "outputs": [
    {
     "data": {
      "text/plain": [
       "True"
      ]
     },
     "execution_count": 4,
     "metadata": {},
     "output_type": "execute_result"
    }
   ],
   "source": [
    "len(set([user[\"user_id\"] for user in retweet_network])) == len(retweet_network)"
   ]
  },
  {
   "cell_type": "code",
   "execution_count": 5,
   "metadata": {},
   "outputs": [
    {
     "name": "stdout",
     "output_type": "stream",
     "text": [
      "thread0 constructed\n",
      "thread1 constructed\n",
      "thread2 constructed\n",
      "thread3 constructed\n",
      "thread4 constructed\n",
      "thread5 constructed\n",
      "thread6 constructed\n",
      "thread7 constructed\n",
      "thread8 constructed\n",
      "thread9 constructed\n",
      "thread10 constructed\n",
      "thread11 constructed\n",
      "thread12 constructed\n",
      "thread13 constructed\n",
      "thread14 constructed\n",
      "thread15 constructed\n",
      "thread16 constructed\n",
      "thread17 constructed\n",
      "thread18 constructed\n",
      "thread19 constructed\n",
      "Wall time: 18 ms\n"
     ]
    }
   ],
   "source": [
    "%%time\n",
    "#Ec = reload(Ec) #started at 00:40\n",
    "#path_to_dir = r\"F:\\TwitterUsers\\archiveTeam\\saved_objs\\05\\\\\"\n",
    "threads = Ec.get_AT_threads(n_threads = 20,users = retweet_network ,apps = cr.apps, resource =[\"resources\",\"users\",\"/users/:id\"] , save_path = r\"G:\\TwitterUsers\\processed_files\\AT_thread_output\" , restart = False)\n",
    "#thread = AT_Thread(name = \"thread0\",paths =[path_to_dir+\"objs_1440.txt\",path_to_dir+\"objs_2880.txt\"] ,apps=cr.apps,resource_remaining=[\"resources\",\"users\",\"/users/:id\",\"remaining\"],resource_reset=[\"resources\",\"users\",\"/users/:id\",\"reset\"],save_path = r\"F:\\TwitterUsers\\archiveTeam\\processed_files\",restart=False)"
   ]
  },
  {
   "cell_type": "code",
   "execution_count": 6,
   "metadata": {},
   "outputs": [
    {
     "name": "stdout",
     "output_type": "stream",
     "text": [
      "thread0 started\n",
      "thread1thread2 starteders . len(retweet_network) = 0 , len(unsubscribed_users) = 0 , len(ok_users) = 0 . App number = 0 , boosts = 0\n",
      " started\n",
      "thread3thread4thread5 thread6 started\n",
      " started\n",
      "startedthread7 started\n",
      "\n",
      " started\n",
      "thread8 started\n",
      "thread9 started\n",
      "thread10thread11thread12  started\n",
      " started\n",
      "started\n",
      "thread13 started\n",
      "thread14 started\n",
      "thread15 started\n",
      "thread16 thread17started\n",
      " started\n",
      "thread18 started\n",
      "thread19 started\n",
      "thread19 FINISHED 10797 users . len(retweet_network) = 3980 , len(unsubscribed_users) = 52859 , len(ok_users) = 156376 . App number = 2 , boosts = 00797 users . len(retweet_network) = 3430 , len(unsubscribed_users) = 16831 , len(ok_users) = 52158 . App number = 2 , boosts = 0 23031 , len(ok_users) = 71387 . App number = 3 , boosts = 043431 , len(ok_users) = 129785 . App number = 1 , boosts = 0\n",
      "\n",
      "thread1863 out of 10797 users . len(retweet_network) = 1783 , len(unsubscribed_users) = 53444 , len(ok_users) = 158170 . App number = 2 , boosts = 0 FINISHED \n",
      "\n",
      "thread17 FINISHED 10797 users . len(retweet_network) = 59 , len(unsubscribed_users) = 53467 , len(ok_users) = 158237 . App number = 2 , boosts = 0\n",
      "\n",
      "thread16 FINISHED 10797 users . len(retweet_network) = 1967 , len(unsubscribed_users) = 54003 , len(ok_users) = 160207 . App number = 2 , boosts = 0\n",
      "\n",
      "thread6 FINISHED  10797 users . len(retweet_network) = 564 , len(unsubscribed_users) = 54167 , len(ok_users) = 160773 . App number = 2 , boosts = 0\n",
      "\n",
      "thread5 FINISHED  10797 users . len(retweet_network) = 846 , len(unsubscribed_users) = 54241 , len(ok_users) = 161055 . App number = 2 , boosts = 0\n",
      "\n",
      "thread0 FINISHED  10797 users . len(retweet_network) = 957 , len(unsubscribed_users) = 54280 , len(ok_users) = 161166 . App number = 2 , boosts = 0\n",
      "\n",
      "thread13 FINISHED \n",
      "\n",
      "thread2 FINISHED \n",
      "\n",
      "thread14 FINISHED \n",
      "\n",
      "thread15 FINISHED \n",
      "\n",
      "thread12 FINISHED \n",
      "\n",
      "thread8 FINISHED \n",
      "\n",
      "thread1 FINISHED \n",
      "\n",
      "thread10 FINISHED \n",
      "\n",
      "thread7 FINISHED \n",
      "\n",
      "thread9 FINISHED \n",
      "\n",
      "thread4 FINISHED \n",
      "\n",
      "thread3 FINISHED \n",
      "\n",
      "thread11 FINISHED \n",
      "\n",
      "Wall time: 47min 36s\n"
     ]
    }
   ],
   "source": [
    "%%time\n",
    "Ec.start_threads(threads, wait = 0) #started at 19:29"
   ]
  },
  {
   "cell_type": "code",
   "execution_count": null,
   "metadata": {},
   "outputs": [],
   "source": []
  }
 ],
 "metadata": {
  "kernelspec": {
   "display_name": "tf-gpu",
   "language": "python",
   "name": "tf-gpu"
  },
  "language_info": {
   "codemirror_mode": {
    "name": "ipython",
    "version": 3
   },
   "file_extension": ".py",
   "mimetype": "text/x-python",
   "name": "python",
   "nbconvert_exporter": "python",
   "pygments_lexer": "ipython3",
   "version": "3.7.9"
  }
 },
 "nbformat": 4,
 "nbformat_minor": 4
}
