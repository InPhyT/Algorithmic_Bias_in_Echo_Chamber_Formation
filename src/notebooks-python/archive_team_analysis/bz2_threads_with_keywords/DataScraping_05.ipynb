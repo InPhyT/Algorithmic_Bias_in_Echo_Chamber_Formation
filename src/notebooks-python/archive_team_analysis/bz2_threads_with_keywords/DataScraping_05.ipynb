{
 "cells": [
  {
   "cell_type": "code",
   "execution_count": 1,
   "metadata": {},
   "outputs": [],
   "source": [
    "import sys\n",
    "sys.path.insert(1, r\"Q:\\IlMIoDrive\\magistrale\\1anno\\terzo_periodo\\MAS\\analysis\")\n",
    "import json as js\n",
    "import bz2\n",
    "import copy\n",
    "import os\n",
    "from threading import Thread\n",
    "import pickle"
   ]
  },
  {
   "cell_type": "markdown",
   "metadata": {},
   "source": [
    "Insert path to year folder (*bz_files_path*) (containing all months folders) and saving folder (*save_path*) here. The latter must contain a subfolder for every month , called $01$, $02$ etc..."
   ]
  },
  {
   "cell_type": "code",
   "execution_count": 2,
   "metadata": {},
   "outputs": [],
   "source": [
    "bz_files_path = r\"D:\\TwitterUsers\\archiveTeam\\months\\2012\\\\\" \n",
    "save_path = r\"D:\\TwitterUsers\\archiveTeam\\saved_objs_with_keywords\\\\\""
   ]
  },
  {
   "cell_type": "markdown",
   "metadata": {},
   "source": [
    "bz2 archiveTeam parsing:"
   ]
  },
  {
   "cell_type": "code",
   "execution_count": 3,
   "metadata": {},
   "outputs": [],
   "source": [
    "fldr = \"05\"\n",
    "listOfFiles = list()\n",
    "for (dirpath, dirnames, filenames) in os.walk(bz_files_path+fldr):\n",
    "    listOfFiles += [os.path.join(dirpath, file) for file in filenames]"
   ]
  },
  {
   "cell_type": "code",
   "execution_count": 4,
   "metadata": {},
   "outputs": [
    {
     "data": {
      "text/plain": [
       "42554"
      ]
     },
     "execution_count": 4,
     "metadata": {},
     "output_type": "execute_result"
    }
   ],
   "source": [
    "len(listOfFiles)"
   ]
  },
  {
   "cell_type": "code",
   "execution_count": 5,
   "metadata": {},
   "outputs": [],
   "source": [
    "class bz2Thread(Thread):\n",
    "    \n",
    "    def __init__(self,name, paths, save_path, save_every = 1440):\n",
    "        Thread.__init__(self)\n",
    "        self.name  = name\n",
    "        self.paths = paths\n",
    "        self.save_path = save_path\n",
    "        self.save_every = save_every\n",
    "        \n",
    "        \n",
    "    def parse_tweet(self,tweet,path):\n",
    "        result  = copy.deepcopy(tweet)\n",
    "    \n",
    "        try:\n",
    "            for field in path:\n",
    "                result = result[field]\n",
    "            return result\n",
    "        except KeyError:\n",
    "            return []\n",
    "    \n",
    "    \n",
    "    def run(self):\n",
    "        i = 0\n",
    "        j = 0\n",
    "        total = len(self.paths)\n",
    "        objs = []\n",
    "        for path in self.paths:\n",
    "            bz_file = bz2.BZ2File(path)\n",
    "            line_list = bz_file.readlines()\n",
    "            tweets = [js.loads(statusObj.decode('utf8').replace(\"\\r\\n\",\"\")) for statusObj in line_list]\n",
    "            objs.extend([{\"tweet_id\":self.parse_tweet(tweet, [\"id\"]),\"retweeted_tweet_id\":self.parse_tweet(tweet,[\"retweeted_status\",\"id\"]),\"retweeted_user_id\":self.parse_tweet(tweet,[\"retweeted_status\",\"user\",\"id\"]),\"hashtags\":[dct[\"text\"] for dct in self.parse_tweet(tweet,[\"entities\",\"hashtags\"])], \"tweet_created_at\":self.parse_tweet(tweet,[\"created_at\"]),\"text\":self.parse_tweet(tweet,[\"text\"]),\"user_mentions\": [mention[\"id\"] for mention in self.parse_tweet(tweet,[\"entities\",\"user_mentions\"])],\"user_id\":self.parse_tweet(tweet,[\"user\",\"id\"]),\"profile_created_at\":self.parse_tweet(tweet,[\"user\",\"created_at\"]),'followers_count': self.parse_tweet(tweet,[\"user\",\"followers_count\"]),'friends_count': self.parse_tweet(tweet,[\"user\",\"friends_count\"]), \"statuses_count\":self.parse_tweet(tweet, [\"user\",\"statuses_count\"]), \"favourites_count\":self.parse_tweet(tweet, [\"user\",\"favourites_count\"]) } for tweet in tweets if self.parse_tweet(tweet, [\"user\",\"lang\"])==\"en\" ])\n",
    "            i += 1\n",
    "            if i%self.save_every == 0:\n",
    "                with open(self.save_path+str(j)+\".txt\", \"wb\") as f:\n",
    "                    pickle.dump(objs, f)\n",
    "                objs = []\n",
    "                j += 1\n",
    "            \n",
    "            if self.name == \"thread0\":\n",
    "                print(\"done\",i,\"out of\", total,end = \"\\r\")\n",
    "        \n",
    "        if len(objs) > 0:\n",
    "            with open(self.save_path+str(j)+\".txt\", \"ab\") as f:\n",
    "                pickle.dump(objs, f)\n",
    "                objs = []"
   ]
  },
  {
   "cell_type": "code",
   "execution_count": 6,
   "metadata": {},
   "outputs": [],
   "source": [
    "bz2Thread1 = bz2Thread(name = \"thread0\",paths = listOfFiles ,save_path = save_path + fldr +\"\\objs_\")"
   ]
  },
  {
   "cell_type": "code",
   "execution_count": 7,
   "metadata": {},
   "outputs": [
    {
     "name": "stdout",
     "output_type": "stream",
     "text": [
      "Wall time: 1d 30min 16s4765 out of 42554 15364 out of 42554 20007 out of 42554 21431 out of 42554 28333 out of 42554 28339 out of 42554 35411 out of 42554\n"
     ]
    }
   ],
   "source": [
    "%%time\n",
    "bz2Thread1.start()\n",
    "bz2Thread1.join()"
   ]
  }
 ],
 "metadata": {
  "kernelspec": {
   "display_name": "tf-gpu",
   "language": "python",
   "name": "tf-gpu"
  },
  "language_info": {
   "codemirror_mode": {
    "name": "ipython",
    "version": 3
   },
   "file_extension": ".py",
   "mimetype": "text/x-python",
   "name": "python",
   "nbconvert_exporter": "python",
   "pygments_lexer": "ipython3",
   "version": "3.7.9"
  }
 },
 "nbformat": 4,
 "nbformat_minor": 4
}
