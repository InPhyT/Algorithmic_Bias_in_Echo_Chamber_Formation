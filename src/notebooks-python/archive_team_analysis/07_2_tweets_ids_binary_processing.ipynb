{
 "cells": [
  {
   "cell_type": "code",
   "execution_count": 1,
   "metadata": {},
   "outputs": [],
   "source": [
    "import sys\n",
    "#sys.path.insert(1, r\"/Users/Pit/GitHub/Econophysics/Project/TwitterMonitor/\")\n",
    "sys.path.insert(1, r\"E:\\IlMIoDrive\\magistrale\\1anno\\terzo_periodo\\MAS\\analysis\")\n",
    "import pickle\n",
    "import pandas as pd\n",
    "import numpy as np\n",
    "from importlib import reload\n",
    "import Econophysics as Ec\n",
    "import os\n",
    "from collections import Counter\n",
    "Ec=reload(Ec)"
   ]
  },
  {
   "cell_type": "code",
   "execution_count": 2,
   "metadata": {},
   "outputs": [],
   "source": [
    "paths = Ec.get_listOfFiles(r\"F:\\TwitterUsers\\saved_objs_withKeywords\\01\")"
   ]
  },
  {
   "cell_type": "code",
   "execution_count": 4,
   "metadata": {},
   "outputs": [],
   "source": [
    "day = Ec.pickle_loader(paths[0])"
   ]
  },
  {
   "cell_type": "code",
   "execution_count": 42,
   "metadata": {},
   "outputs": [
    {
     "data": {
      "text/plain": [
       "'0b1000100000111000010001010100010100100000100100000000000000'"
      ]
     },
     "execution_count": 42,
     "metadata": {},
     "output_type": "execute_result"
    }
   ],
   "source": [
    "bin(day[0][\"tweet_id\"])"
   ]
  },
  {
   "cell_type": "code",
   "execution_count": 25,
   "metadata": {},
   "outputs": [
    {
     "data": {
      "text/plain": [
       "'012345678910111'"
      ]
     },
     "execution_count": 25,
     "metadata": {},
     "output_type": "execute_result"
    }
   ],
   "source": [
    "\"0123456789101112\"[:-1]"
   ]
  },
  {
   "cell_type": "code",
   "execution_count": 37,
   "metadata": {},
   "outputs": [
    {
     "data": {
      "text/plain": [
       "{'tweet_id': 153369867985240064,\n",
       " 'retweeted_tweet_id': [],\n",
       " 'retweeted_user_id': [],\n",
       " 'hashtags': [],\n",
       " 'tweet_created_at': 'Sun Jan 01 07:00:00 +0000 2012',\n",
       " 'text': 'My twit pic is sexy (: .',\n",
       " 'user_mentions': [],\n",
       " 'user_id': 251462327,\n",
       " 'profile_created_at': 'Sun Feb 13 05:22:08 +0000 2011',\n",
       " 'followers_count': 81,\n",
       " 'friends_count': 86,\n",
       " 'statuses_count': 768,\n",
       " 'favourites_count': 0}"
      ]
     },
     "execution_count": 37,
     "metadata": {},
     "output_type": "execute_result"
    }
   ],
   "source": [
    "day[0]"
   ]
  },
  {
   "cell_type": "code",
   "execution_count": 39,
   "metadata": {},
   "outputs": [
    {
     "data": {
      "text/plain": [
       "36562625343"
      ]
     },
     "execution_count": 39,
     "metadata": {},
     "output_type": "execute_result"
    }
   ],
   "source": [
    "1325397600000 -1288834974657"
   ]
  },
  {
   "cell_type": "code",
   "execution_count": 38,
   "metadata": {},
   "outputs": [
    {
     "data": {
      "text/plain": [
       "36566225343"
      ]
     },
     "execution_count": 38,
     "metadata": {},
     "output_type": "execute_result"
    }
   ],
   "source": [
    " 1325401200000 - 1288834974657"
   ]
  },
  {
   "cell_type": "code",
   "execution_count": 70,
   "metadata": {},
   "outputs": [],
   "source": [
    "def get_t_mId_seq(tweet_id):\n",
    "    binary = bin(tweet_id)\n",
    "    return (eval(binary[:-22]),eval(\"0b\"+binary[-22:-12]),eval(\"0b\"+binary[-12:]))"
   ]
  },
  {
   "cell_type": "code",
   "execution_count": 15,
   "metadata": {},
   "outputs": [],
   "source": [
    "def get_machineId_sequence(tweet_id):\n",
    "    return (eval(\"0b\"+bin(tweet_id)[-22:-12]),eval(\"0b\"+bin(tweet_id)[-12:]))"
   ]
  },
  {
   "cell_type": "code",
   "execution_count": 30,
   "metadata": {},
   "outputs": [],
   "source": [
    "def get_timestamp(tweet_id):\n",
    "    return eval(bin(tweet_id)[:-22])"
   ]
  },
  {
   "cell_type": "code",
   "execution_count": 31,
   "metadata": {},
   "outputs": [],
   "source": [
    "machine_seq  = []\n",
    "for tweet in day:\n",
    "    machine_seq = [get_machineId_sequence(tweet[\"tweet_id\"]) for tweet in ]\n",
    "    \n",
    "timestamps = [get_timestamp(tweet[\"tweet_id\"]) for tweet in day]"
   ]
  },
  {
   "cell_type": "code",
   "execution_count": 20,
   "metadata": {},
   "outputs": [
    {
     "data": {
      "text/plain": [
       "5"
      ]
     },
     "execution_count": 20,
     "metadata": {},
     "output_type": "execute_result"
    }
   ],
   "source": [
    "len(np.unique([couple[0] for couple in machine_seq]))"
   ]
  },
  {
   "cell_type": "code",
   "execution_count": 23,
   "metadata": {},
   "outputs": [
    {
     "data": {
      "text/plain": [
       "0.36953105577569706"
      ]
     },
     "execution_count": 23,
     "metadata": {},
     "output_type": "execute_result"
    }
   ],
   "source": [
    "np.mean([couple[1] for couple in machine_seq])"
   ]
  },
  {
   "cell_type": "code",
   "execution_count": 24,
   "metadata": {},
   "outputs": [
    {
     "data": {
      "text/plain": [
       "0.6521003735600311"
      ]
     },
     "execution_count": 24,
     "metadata": {},
     "output_type": "execute_result"
    }
   ],
   "source": [
    "np.std([couple[1] for couple in machine_seq])"
   ]
  },
  {
   "cell_type": "code",
   "execution_count": 60,
   "metadata": {},
   "outputs": [
    {
     "data": {
      "text/plain": [
       "'01'"
      ]
     },
     "execution_count": 60,
     "metadata": {},
     "output_type": "execute_result"
    }
   ],
   "source": []
  },
  {
   "cell_type": "code",
   "execution_count": 120,
   "metadata": {},
   "outputs": [
    {
     "name": "stdout",
     "output_type": "stream",
     "text": [
      "Wall time: 0 ns\n"
     ]
    }
   ],
   "source": [
    "%%time\n",
    "mp = map(lambda x: (eval(bin(x)[:-22]),eval(\"0b\"+bin(x)[-22:-12]),eval(\"0b\"+bin(x)[-12:])) , day)#[ (eval(bin(tweet_id)[:-22]),eval(\"0b\"+bin(tweet_id)[-22:-12]),eval(\"0b\"+bin(tweet_id)[-12:])) for tweet_id in day]"
   ]
  },
  {
   "cell_type": "code",
   "execution_count": 100,
   "metadata": {},
   "outputs": [
    {
     "name": "stdout",
     "output_type": "stream",
     "text": [
      "Wall time: 18.8 s\n"
     ]
    }
   ],
   "source": [
    "%%time\n",
    "tot = sum([1 for x in mp])"
   ]
  },
  {
   "cell_type": "code",
   "execution_count": 121,
   "metadata": {},
   "outputs": [
    {
     "name": "stdout",
     "output_type": "stream",
     "text": [
      "Wall time: 19.1 s\n"
     ]
    }
   ],
   "source": [
    "%%time\n",
    "lst = list(mp)"
   ]
  },
  {
   "cell_type": "code",
   "execution_count": 126,
   "metadata": {},
   "outputs": [
    {
     "data": {
      "text/plain": [
       "'00'"
      ]
     },
     "execution_count": 126,
     "metadata": {},
     "output_type": "execute_result"
    }
   ],
   "source": [
    "str(lst[0][0])[-3:-1]"
   ]
  },
  {
   "cell_type": "code",
   "execution_count": 132,
   "metadata": {},
   "outputs": [
    {
     "name": "stdout",
     "output_type": "stream",
     "text": [
      "Wall time: 2h 15min 48srity...in 10 -th month out of 11 months\n"
     ]
    }
   ],
   "source": [
    "%%time\n",
    "\n",
    "# get metadata\n",
    "start_path = r\"F:\\TwitterUsers\\final_analysis\\create_hashtagged_tweets\\2012_10000_grab\\all_daily_ids\\\\\"\n",
    "dirs = [start_path + path for path in  os.listdir(start_path)]\n",
    "\n",
    "for j,dirct in enumerate(dirs):\n",
    "    \n",
    "    paths   = Ec.get_listOfFiles(dirct)\n",
    "    \n",
    "    metadatum = dict()\n",
    "    t_mId_seq = []\n",
    "    total_days = len(paths)\n",
    "    for i,path in enumerate(paths):\n",
    "        day = Ec.pickle_loader(path)\n",
    "        #t_mId_seq.append(map(lambda x: (eval(bin(x)[:-22]),eval(\"0b\"+bin(x)[-22:-12]),eval(\"0b\"+bin(x)[-12:])) , day))\n",
    "        t_mId_seq.extend([ (eval(bin(tweet_id)[:-22]),eval(\"0b\"+bin(tweet_id)[-22:-12]),eval(\"0b\"+bin(tweet_id)[-12:])) for tweet_id in day])\n",
    "        print(\"done\",i,\"-th day out of\",total_days, \"within\",j,\"-th month out of\",str(11),\"months\", end = \"\\r\" )\n",
    "    print(\"extracting timestamps...\", end = \"\\r\")\n",
    "    timestamps = [triple[0] for triple in t_mId_seq]\n",
    "    #timestamps = [triple[0] for mp in t_mId_seq for triple in mp]\n",
    "    print(\"timestamps_delta_regularity...\", end = \"\\r\")\n",
    "    metadatum[\"timestamps_delta_regularity\"] = [max(timestamps) , min(timestamps), sum([1 if str(timestamp)[-3:-1] != \"00\" else 0 for timestamp in timestamps])]\n",
    "    print(\"unique_machines...\", end = \"\\r\")\n",
    "    metadatum[\"unique_machines\"]  = dict(Counter([triple[1] for triple in t_mId_seq])) #list(set([triple[1] for triple in t_mId_seq]))\n",
    "    print(\"sequences_counter...\", end = \"\\r\")\n",
    "    metadatum[\"sequences_counter\"] = dict(Counter([triple[2] for triple in t_mId_seq])) #[np.mean()]\n",
    "    \n",
    "    Ec.pickle_dumper(r\"D:\\TwitterUsers\\archiveTeam\\final_analysis\\create_hashtagged_tweets\\2012_10000_grab\\metadata\\metadatum_\"+dirct[-2:]+\".txt\",metadatum)\n",
    "    "
   ]
  },
  {
   "cell_type": "code",
   "execution_count": 2,
   "metadata": {},
   "outputs": [],
   "source": [
    "paths = Ec.get_listOfFiles(r\"F:\\TwitterUsers\\final_analysis\\create_hashtagged_tweets\\2012_10000_grab\\all_daily_ids\\01\")\n",
    "t_mId_seq = []\n",
    "day = Ec.pickle_loader(paths[0])\n",
    "#t_mId_seq.append(map(lambda x: (eval(bin(x)[:-22]),eval(\"0b\"+bin(x)[-22:-12]),eval(\"0b\"+bin(x)[-12:])) , day))\n",
    "t_mId_seq.extend([ (eval(bin(tweet_id)[:-22]),eval(\"0b\"+bin(tweet_id)[-22:-12]),eval(\"0b\"+bin(tweet_id)[-12:])) for tweet_id in day])"
   ]
  },
  {
   "cell_type": "code",
   "execution_count": 5,
   "metadata": {},
   "outputs": [],
   "source": [
    "sorted_t_mId_seq = sorted(t_mId_seq, key= lambda tup: tup[0])"
   ]
  },
  {
   "cell_type": "code",
   "execution_count": 9,
   "metadata": {},
   "outputs": [],
   "source": [
    "t_seq_unique = np.unique([(tup[0],tup[2]) for tup in t_mId_seq])"
   ]
  },
  {
   "cell_type": "code",
   "execution_count": 12,
   "metadata": {},
   "outputs": [
    {
     "data": {
      "text/plain": [
       "1516449"
      ]
     },
     "execution_count": 12,
     "metadata": {},
     "output_type": "execute_result"
    }
   ],
   "source": [
    "len(t_mId_seq)"
   ]
  },
  {
   "cell_type": "code",
   "execution_count": 10,
   "metadata": {},
   "outputs": [
    {
     "data": {
      "text/plain": [
       "816693"
      ]
     },
     "execution_count": 10,
     "metadata": {},
     "output_type": "execute_result"
    }
   ],
   "source": [
    "len(t_mId_seq) - len(t_seq_unique)"
   ]
  },
  {
   "cell_type": "code",
   "execution_count": 8,
   "metadata": {
    "collapsed": true,
    "jupyter": {
     "outputs_hidden": true
    }
   },
   "outputs": [
    {
     "data": {
      "text/plain": [
       "[(36566226000, 36, 0),\n",
       " (36566226002, 36, 0),\n",
       " (36566226002, 33, 0),\n",
       " (36566226002, 35, 0),\n",
       " (36566226002, 32, 1),\n",
       " (36566226003, 33, 0),\n",
       " (36566226003, 35, 0),\n",
       " (36566226004, 36, 1),\n",
       " (36566226004, 36, 0),\n",
       " (36566226006, 34, 1),\n",
       " (36566226007, 33, 0),\n",
       " (36566226007, 33, 1),\n",
       " (36566226008, 32, 0),\n",
       " (36566226008, 34, 0),\n",
       " (36566226009, 32, 0),\n",
       " (36566227000, 33, 0),\n",
       " (36566227000, 33, 1),\n",
       " (36566227000, 35, 0),\n",
       " (36566227000, 35, 1),\n",
       " (36566227000, 36, 0),\n",
       " (36566227001, 32, 0),\n",
       " (36566227001, 33, 0),\n",
       " (36566227002, 36, 0),\n",
       " (36566227003, 36, 0),\n",
       " (36566227003, 35, 0),\n",
       " (36566227006, 36, 1),\n",
       " (36566227007, 36, 0),\n",
       " (36566227007, 34, 0),\n",
       " (36566227007, 33, 0),\n",
       " (36566227008, 32, 0),\n",
       " (36566227009, 35, 2),\n",
       " (36566228000, 33, 0),\n",
       " (36566228000, 34, 0),\n",
       " (36566228001, 33, 0),\n",
       " (36566228001, 34, 1),\n",
       " (36566228002, 33, 2),\n",
       " (36566228002, 35, 1),\n",
       " (36566228002, 33, 0),\n",
       " (36566228003, 32, 0),\n",
       " (36566228003, 36, 0),\n",
       " (36566228004, 32, 0),\n",
       " (36566228004, 33, 2),\n",
       " (36566228004, 35, 0),\n",
       " (36566228004, 36, 0),\n",
       " (36566228004, 33, 3),\n",
       " (36566228004, 33, 4),\n",
       " (36566228004, 33, 1),\n",
       " (36566228005, 36, 0),\n",
       " (36566228005, 35, 0)]"
      ]
     },
     "execution_count": 8,
     "metadata": {},
     "output_type": "execute_result"
    }
   ],
   "source": [
    "sorted_t_mId_seq[1:50]"
   ]
  },
  {
   "cell_type": "code",
   "execution_count": 133,
   "metadata": {},
   "outputs": [],
   "source": [
    "metadata = []\n",
    "for path in Ec.get_listOfFiles(r\"D:\\TwitterUsers\\archiveTeam\\final_analysis\\create_hashtagged_tweets\\2012_10000_grab\\metadata\"):\n",
    "    metadata.append(Ec.pickle_loader(path))"
   ]
  },
  {
   "cell_type": "code",
   "execution_count": 139,
   "metadata": {},
   "outputs": [],
   "source": [
    "#evaluate mean sequence value\n",
    "mean_seq = np.mean([np.sum([key*value for key,value in metadatum[\"sequences_counter\"].items()])/np.sum([value for value in metadatum[\"sequences_counter\"].values() ]) for metadatum in metadata])\n",
    "mean_seq"
   ]
  },
  {
   "cell_type": "code",
   "execution_count": 142,
   "metadata": {},
   "outputs": [
    {
     "data": {
      "text/plain": [
       "array([32, 33, 34, 35, 36, 37, 38, 39])"
      ]
     },
     "execution_count": 142,
     "metadata": {},
     "output_type": "execute_result"
    }
   ],
   "source": [
    "unique_machines = np.unique([machine for metadatum in metadata for machine in metadatum[\"unique_machines\"].keys()])\n",
    "unique_machines"
   ]
  },
  {
   "cell_type": "code",
   "execution_count": 144,
   "metadata": {
    "collapsed": true,
    "jupyter": {
     "outputs_hidden": true
    }
   },
   "outputs": [
    {
     "data": {
      "text/plain": [
       "[{36: 10250001, 33: 10257895, 35: 10252698, 32: 10254464, 34: 10251854},\n",
       " {35: 9853835, 34: 9854577, 33: 9848147, 32: 9854147, 36: 9851734},\n",
       " {35: 11349845, 36: 11352203, 34: 11361387, 33: 11357721, 32: 11355441},\n",
       " {36: 11220901, 33: 11224266, 32: 11216116, 34: 11222497, 35: 11228627},\n",
       " {34: 11839683, 33: 11840380, 36: 11837451, 35: 11831055, 32: 11844434},\n",
       " {35: 12422598, 33: 12420687, 32: 12419743, 34: 12421449, 36: 12426005},\n",
       " {32: 11663749,\n",
       "  35: 11705915,\n",
       "  34: 11693124,\n",
       "  33: 11691558,\n",
       "  36: 11690071,\n",
       "  38: 3903083,\n",
       "  39: 3906261,\n",
       "  37: 3906206},\n",
       " {32: 8704827,\n",
       "  39: 8700926,\n",
       "  34: 8700369,\n",
       "  38: 8707634,\n",
       "  36: 8703635,\n",
       "  35: 8704500,\n",
       "  33: 8702290,\n",
       "  37: 8702529},\n",
       " {39: 8006505,\n",
       "  33: 8006556,\n",
       "  36: 8014301,\n",
       "  37: 8013639,\n",
       "  32: 8004740,\n",
       "  38: 8012010,\n",
       "  35: 7987256,\n",
       "  34: 8009495},\n",
       " {32: 8340334,\n",
       "  39: 8350943,\n",
       "  36: 8350058,\n",
       "  38: 8352477,\n",
       "  35: 8355308,\n",
       "  33: 8348666,\n",
       "  37: 8340296,\n",
       "  34: 8344001},\n",
       " {38: 8387750,\n",
       "  33: 8385437,\n",
       "  35: 8378346,\n",
       "  34: 8398672,\n",
       "  32: 8390770,\n",
       "  39: 8386173,\n",
       "  37: 8396533,\n",
       "  36: 8372599}]"
      ]
     },
     "execution_count": 144,
     "metadata": {},
     "output_type": "execute_result"
    }
   ],
   "source": [
    "unique_machines_all = [metadatum[\"unique_machines\"] for metadatum in metadata]\n",
    "unique_machines_all"
   ]
  },
  {
   "cell_type": "code",
   "execution_count": 48,
   "metadata": {},
   "outputs": [
    {
     "data": {
      "text/plain": [
       "['.ipynb',\n",
       " '.ipynb.ipynb',\n",
       " '.ipynb_checkpoints',\n",
       " '02.hashtag_sampling_archiveTeam.ipynb',\n",
       " '03.test_sampling_from_archiveTeam.ipynb',\n",
       " '04.sampling_from_archiveTeam.ipynb',\n",
       " '05.InitializationRTWT.ipynb',\n",
       " '06.sampling_EconophysicsInitialization.ipynb',\n",
       " '07.create_hashtagged_tweets.ipynb',\n",
       " '08.Hashtags_Annotator.ipynb',\n",
       " '2012HashtagCooccurenceNetwork.ipynb',\n",
       " '7_1.tweets_ids_binary_processing.ipynb',\n",
       " 'bz2Threads',\n",
       " 'bz2Threads_withKeywords',\n",
       " 'hashtag_sampling_archiveTeam (1).ipynb',\n",
       " 'Hydrator.ipynb',\n",
       " 'Quattrociocchi_exploratory_analysis',\n",
       " 'snowflake',\n",
       " 'streamer',\n",
       " 'temp',\n",
       " 'without_mentions']"
      ]
     },
     "execution_count": 48,
     "metadata": {},
     "output_type": "execute_result"
    }
   ],
   "source": [
    "[path for path in os.listdir(\".\")]"
   ]
  },
  {
   "cell_type": "code",
   "execution_count": 44,
   "metadata": {},
   "outputs": [
    {
     "data": {
      "text/plain": [
       "['.ipynb',\n",
       " '.ipynb.ipynb',\n",
       " '.ipynb_checkpoints',\n",
       " '02.hashtag_sampling_archiveTeam.ipynb',\n",
       " '03.test_sampling_from_archiveTeam.ipynb',\n",
       " '04.sampling_from_archiveTeam.ipynb',\n",
       " '05.InitializationRTWT.ipynb',\n",
       " '06.sampling_EconophysicsInitialization.ipynb',\n",
       " '07.create_hashtagged_tweets.ipynb',\n",
       " '08.Hashtags_Annotator.ipynb',\n",
       " '2012HashtagCooccurenceNetwork.ipynb',\n",
       " '7_1.tweets_ids_binary_processing.ipynb',\n",
       " 'bz2Threads',\n",
       " 'bz2Threads_withKeywords',\n",
       " 'hashtag_sampling_archiveTeam (1).ipynb',\n",
       " 'Hydrator.ipynb',\n",
       " 'Quattrociocchi_exploratory_analysis',\n",
       " 'snowflake',\n",
       " 'streamer',\n",
       " 'temp',\n",
       " 'without_mentions']"
      ]
     },
     "execution_count": 44,
     "metadata": {},
     "output_type": "execute_result"
    }
   ],
   "source": [
    "os.listdir(\".\")"
   ]
  },
  {
   "cell_type": "code",
   "execution_count": 40,
   "metadata": {},
   "outputs": [
    {
     "data": {
      "text/plain": [
       "'0b100100'"
      ]
     },
     "execution_count": 40,
     "metadata": {},
     "output_type": "execute_result"
    }
   ],
   "source": [
    "bin(36)"
   ]
  },
  {
   "cell_type": "code",
   "execution_count": 35,
   "metadata": {},
   "outputs": [
    {
     "data": {
      "text/plain": [
       "[(36, 0),\n",
       " (33, 0),\n",
       " (35, 0),\n",
       " (32, 0),\n",
       " (33, 0),\n",
       " (34, 1),\n",
       " (33, 0),\n",
       " (35, 0),\n",
       " (35, 0),\n",
       " (32, 1),\n",
       " (33, 1),\n",
       " (36, 1),\n",
       " (32, 0),\n",
       " (36, 0),\n",
       " (36, 0),\n",
       " (33, 0),\n",
       " (34, 0),\n",
       " (36, 1),\n",
       " (33, 1),\n",
       " (35, 0),\n",
       " (36, 0),\n",
       " (35, 2),\n",
       " (32, 0),\n",
       " (36, 0),\n",
       " (35, 1),\n",
       " (36, 0),\n",
       " (32, 0),\n",
       " (33, 0),\n",
       " (34, 0),\n",
       " (36, 0),\n",
       " (32, 0),\n",
       " (33, 2),\n",
       " (35, 1),\n",
       " (33, 0),\n",
       " (33, 2),\n",
       " (32, 2),\n",
       " (35, 0),\n",
       " (36, 0),\n",
       " (33, 0),\n",
       " (32, 0)]"
      ]
     },
     "execution_count": 35,
     "metadata": {},
     "output_type": "execute_result"
    }
   ],
   "source": [
    "machine_seq[:40]"
   ]
  },
  {
   "cell_type": "code",
   "execution_count": 34,
   "metadata": {
    "collapsed": true,
    "jupyter": {
     "outputs_hidden": true
    }
   },
   "outputs": [
    {
     "data": {
      "text/plain": [
       "[36566226002,\n",
       " 36566226002,\n",
       " 36566226000,\n",
       " 36566226008,\n",
       " 36566226007,\n",
       " 36566226006,\n",
       " 36566226003,\n",
       " 36566226002,\n",
       " 36566226003,\n",
       " 36566226002,\n",
       " 36566226007,\n",
       " 36566226004,\n",
       " 36566226009,\n",
       " 36566226004,\n",
       " 36566226000,\n",
       " 36566227000,\n",
       " 36566226008,\n",
       " 36566227006,\n",
       " 36566227000,\n",
       " 36566227000,\n",
       " 36566227007,\n",
       " 36566227009,\n",
       " 36566227008,\n",
       " 36566227002,\n",
       " 36566227000,\n",
       " 36566227000,\n",
       " 36566227001,\n",
       " 36566227001,\n",
       " 36566227007,\n",
       " 36566227003,\n",
       " 36566228004,\n",
       " 36566228002,\n",
       " 36566228002,\n",
       " 36566228001,\n",
       " 36566228004,\n",
       " 36566228009,\n",
       " 36566228004,\n",
       " 36566228004,\n",
       " 36566228002,\n",
       " 36566228007]"
      ]
     },
     "execution_count": 34,
     "metadata": {},
     "output_type": "execute_result"
    }
   ],
   "source": [
    "timestamps[:40]"
   ]
  }
 ],
 "metadata": {
  "kernelspec": {
   "display_name": "tf-gpu",
   "language": "python",
   "name": "tf-gpu"
  },
  "language_info": {
   "codemirror_mode": {
    "name": "ipython",
    "version": 3
   },
   "file_extension": ".py",
   "mimetype": "text/x-python",
   "name": "python",
   "nbconvert_exporter": "python",
   "pygments_lexer": "ipython3",
   "version": "3.7.9"
  }
 },
 "nbformat": 4,
 "nbformat_minor": 4
}
