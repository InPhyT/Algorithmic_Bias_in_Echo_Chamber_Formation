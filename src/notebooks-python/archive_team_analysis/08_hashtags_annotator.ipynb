{
 "cells": [
  {
   "cell_type": "markdown",
   "metadata": {},
   "source": [
    "# Hashtags Annotator"
   ]
  },
  {
   "cell_type": "code",
   "execution_count": 1,
   "metadata": {},
   "outputs": [],
   "source": [
    "import pickle\n",
    "from collections import OrderedDict\n",
    "import ast\n",
    "from IPython.display import clear_output\n",
    "import warnings\n",
    "import sys\n",
    "sys.path.insert(1, r\"E:\\IlMIoDrive\\magistrale\\1anno\\terzo_periodo\\MAS\\analysis\")\n",
    "\n",
    "import Econophysics as Ec\n",
    "\n",
    "from importlib import reload\n",
    "Ec = reload(Ec)"
   ]
  },
  {
   "cell_type": "markdown",
   "metadata": {},
   "source": [
    "Here we construct the annotator object (implemented in Econophysics module) that launches the relative app. <br> <br>\n",
    "Before running this cell, make sure you created a folder containing another folder named `backup`. As you see in the code below, I created the `my_folder` inside `D:\\TwitterUsers\\archiveTeam\\final_analysis\\hashtags` and inside `my_folder` I also created the `backup` folder. <br>\n",
    "Please *copy* your txt file containing the list of dicts inside that folder (make a copy, don't cut and paste it for backup reasons). <br>\n",
    "Once you did it, assign the path to your `my_folder` to the **folder** variable and the path to the [hashtagged_tweets.txt](https://drive.google.com/file/d/15rU3b_bi6tErOL_rU0v4-kBz-SWil93F/view?usp=sharing) to the **tweets_path** variable , then run the following cell . Plase follow the instructions presented as you proceed. \n",
    "\n",
    "Important: Should the app or jupyter crash, just do a backup of the hashtag_{name}.txt and the info.txt inside `my_folder`, restart jupyter and re-run al cells. It should work."
   ]
  },
  {
   "cell_type": "code",
   "execution_count": 2,
   "metadata": {
    "collapsed": true,
    "jupyter": {
     "outputs_hidden": true
    }
   },
   "outputs": [],
   "source": [
    "# insert path to my_folder here\n",
    "folder = r\"D:\\TwitterUsers\\archiveTeam\\final_analysis\\hashtags\\Annotator_folder\\\\\"\n",
    "tweets_path = r\"D:\\TwitterUsers\\archiveTeam\\final_analysis\\create_hashtagged_tweets\\hashtagged_tweets_AT_38M_10000.txt\" \n",
    "# get annotator object.\n",
    "# who : insert your name, lower case\n",
    "# save_path: where hashtags will be saved\n",
    "# tweets_path: path to hashtagged_tweets file. You may find it here: https://drive.google.com/drive/u/7/folders/1Nfrl_P3GeQn4GAobfCWQ1ag75uMvjm_e\n",
    "H = Ec.hashtag_annotator(who = \"claudio\",save_path = folder, backup_path =folder +r\"backup\\\\\" ,tweets_path = tweets_path)\n",
    "\n",
    "# run the app\n",
    "H.display_and_polarize()"
   ]
  }
 ],
 "metadata": {
  "kernelspec": {
   "display_name": "tf-gpu",
   "language": "python",
   "name": "tf-gpu"
  },
  "language_info": {
   "codemirror_mode": {
    "name": "ipython",
    "version": 3
   },
   "file_extension": ".py",
   "mimetype": "text/x-python",
   "name": "python",
   "nbconvert_exporter": "python",
   "pygments_lexer": "ipython3",
   "version": "3.7.9"
  }
 },
 "nbformat": 4,
 "nbformat_minor": 4
}
