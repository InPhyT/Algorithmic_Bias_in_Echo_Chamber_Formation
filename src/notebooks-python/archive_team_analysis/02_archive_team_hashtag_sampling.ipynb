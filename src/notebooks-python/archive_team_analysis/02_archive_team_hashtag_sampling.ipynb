{
 "cells": [
  {
   "cell_type": "code",
   "execution_count": 1,
   "metadata": {},
   "outputs": [],
   "source": [
    "import pickle\n",
    "import numpy as np\n",
    "import pandas as pd\n", 
    "from functools import reduce\n",
    "import os"
   ]
  },
  {
   "cell_type": "markdown",
   "metadata": {},
   "source": [
    "Get list of paths to files"
   ]
  },
  {
   "cell_type": "code",
   "execution_count": 2,
   "metadata": {},
   "outputs": [],
   "source": [
    "listOfFiles = list()\n",
    "for (dirpath, dirnames, filenames) in os.walk(r\"G:\\TwitterUsers\\saved_objs_withKeywords\"):\n",
    "    listOfFiles += [os.path.join(dirpath, file) for file in filenames]"
   ]
  },
  {
   "cell_type": "code",
   "execution_count": 3,
   "metadata": {},
   "outputs": [],
   "source": [
    "#listOfFiles = listOfFiles[-47:-16]"
   ]
  },
  {
   "cell_type": "code",
   "execution_count": 4,
   "metadata": {},
   "outputs": [
    {
     "data": {
      "text/plain": [
       "330"
      ]
     },
     "execution_count": 4,
     "metadata": {},
     "output_type": "execute_result"
    }
   ],
   "source": [
    "len(listOfFiles)"
   ]
  },
  {
   "cell_type": "markdown",
   "metadata": {},
   "source": [
    "Set initial hashtags to look for"
   ]
  },
  {
   "cell_type": "code",
   "execution_count": 5,
   "metadata": {},
   "outputs": [],
   "source": [
    "initial_keywords = set([\"election2012\",\"vote\",\"voteblue\",\"votered\",\"obama\",\"romney\"])"
   ]
  },
  {
   "cell_type": "markdown",
   "metadata": {},
   "source": [
    "Perform first search"
   ]
  },
  {
   "cell_type": "code",
   "execution_count": null,
   "metadata": {},
   "outputs": [
    {
     "name": "stdout",
     "output_type": "stream",
     "text": [
      "        doing 142 -th file out of  330\r"
     ]
    }
   ],
   "source": [
    "%%time\n",
    "hashtags = set()\n",
    "i = 0\n",
    "total = len(listOfFiles)\n",
    "save_path = r\"G:\\TwitterUsers\\processed_files\\hashtags\\hashtags_1.txt\" \n",
    "backup_save_path = r\"G:\\TwitterUsers\\processed_files\\hashtags\\backup\\hashtags_1.txt\" \n",
    "for path in listOfFiles:\n",
    "    print(\"        doing\", i, \"-th file out of \", total, end = \"\\r\")\n",
    "    with open(path,\"rb\") as f:\n",
    "        day = pickle.load(f)\n",
    "        f.close()\n",
    "#     j = 0\n",
    "#     tot_tweets = len(day)\n",
    "    print(\"loaded\", end = \"\\r\")\n",
    "    for tweet in day:\n",
    "        #if not set([hashtag.lower() for hashtag in tweet[\"hashtags\"]]).isdisjoint(initial_hashtag):\n",
    "        if any(kw in tweet[\"text\"] for kw in initial_keywords ):\n",
    "            hashtags.update(tweet[\"hashtags\"])\n",
    "        \n",
    "#         j += 1\n",
    "#         if j%10000 == 0:\n",
    "#             print(\"done,\",j,\" tweets out of\", tot_tweets, \"of\",i,\"-th file out of\", total, end = \"\\r\")\n",
    "    \n",
    "    i += 1\n",
    "    print(\"saving\", end = \"\\r\")\n",
    "    with open(save_path, \"wb\") as f:\n",
    "        pickle.dump(list(hashtags),f)\n",
    "        f.close()\n",
    "        \n",
    "    with open(backup_save_path, \"wb\") as f:\n",
    "        pickle.dump(list(hashtags),f)\n",
    "        f.close()"
   ]
  },
  {
   "cell_type": "markdown",
   "metadata": {},
   "source": [
    "Load hashtags resulting from first search"
   ]
  },
  {
   "cell_type": "code",
   "execution_count": null,
   "metadata": {},
   "outputs": [],
   "source": [
    "save_path = r\"G:\\TwitterUsers\\processed_files\\hashtags\\hashtags_1.txt\" \n",
    "with open(save_path, \"rb\") as f:\n",
    "    hashtags = pickle.load(f)\n",
    "    f.close()\n",
    "print(len(hashtags))"
   ]
  },
  {
   "cell_type": "markdown",
   "metadata": {},
   "source": [
    "Set interesting pieces to look for in the hastags resulting from first search."
   ]
  },
  {
   "cell_type": "code",
   "execution_count": null,
   "metadata": {},
   "outputs": [],
   "source": [
    "pieces = set([\"democrat\",\"republican\",\"obama\",\"romney\",\"votered\",\"voteblue\"])"
   ]
  },
  {
   "cell_type": "markdown",
   "metadata": {},
   "source": [
    "Select second round hashtags"
   ]
  },
  {
   "cell_type": "code",
   "execution_count": null,
   "metadata": {},
   "outputs": [],
   "source": [
    "second_hashtags = set([hashtag for hashtag in hashtags  for piece in pieces if piece in hashtag.lower()])\n",
    "print(len(second_hashtags)) #1010\n",
    "#list(second_hashtags)[:100]"
   ]
  },
  {
   "cell_type": "code",
   "execution_count": null,
   "metadata": {},
   "outputs": [],
   "source": [
    "list(second_hashtags)[:100]"
   ]
  },
  {
   "cell_type": "markdown",
   "metadata": {},
   "source": [
    "Perform second hashtag search"
   ]
  },
  {
   "cell_type": "code",
   "execution_count": null,
   "metadata": {},
   "outputs": [],
   "source": [
    "%%time\n",
    "hashtags = set()\n",
    "i = 0\n",
    "total = len(listOfFiles)\n",
    "save_path = r\"G:\\TwitterUsers\\processed_files\\hashtags\\hashtags_2.txt\" \n",
    "backup_save_path = r\"G:\\TwitterUsers\\processed_files\\hashtags\\backup\\hashtags_2.txt\" \n",
    "for path in listOfFiles:\n",
    "    print(\"        doing\", i, \"-th file out of \", total, end = \"\\r\")\n",
    "    with open(path,\"rb\") as f:\n",
    "        day = pickle.load(f)\n",
    "        f.close()\n",
    "#     j = 0\n",
    "#     tot_tweets = len(day)\n",
    "    print(\"loaded\", end = \"\\r\")\n",
    "    for tweet in day:\n",
    "        #if not set([hashtag.lower() for hashtag in tweet[\"hashtags\"]]).isdisjoint(second_hashtags):\n",
    "        if any(kw in tweet[\"text\"] for kw in second_hashtags ):\n",
    "            hashtags.update(tweet[\"hashtags\"])\n",
    "        \n",
    "#         j += 1\n",
    "#         if j%10000 == 0:\n",
    "#             print(\"done,\",j,\" tweets out of\", tot_tweets, \"of\",i,\"-th file out of\", total, end = \"\\r\")\n",
    "    \n",
    "    i += 1\n",
    "    print(\"saving\", end = \"\\r\")\n",
    "    with open(save_path, \"wb\") as f:\n",
    "        pickle.dump(list(hashtags),f)\n",
    "        f.close()\n",
    "        \n",
    "    with open(backup_save_path, \"wb\") as f:\n",
    "        pickle.dump(list(hashtags),f)\n",
    "        f.close()"
   ]
  },
  {
   "cell_type": "markdown",
   "metadata": {},
   "source": [
    "Load second round hashtags"
   ]
  },
  {
   "cell_type": "code",
   "execution_count": null,
   "metadata": {},
   "outputs": [],
   "source": [
    "with open(r\"G:\\TwitterUsers\\processed_files\\hashtags\\hashtags_2.txt\", \"rb\") as f:\n",
    "    hashtags = pickle.load(f)\n",
    "    f.close()\n",
    "    \n",
    "print(len(hashtags))"
   ]
  },
  {
   "cell_type": "markdown",
   "metadata": {},
   "source": [
    "Extract interesting hashtags and save file"
   ]
  },
  {
   "cell_type": "code",
   "execution_count": null,
   "metadata": {},
   "outputs": [],
   "source": [
    "third_hashtags =  list(set([hashtag for hashtag in hashtags  for piece in pieces if piece in hashtag.lower()]))\n",
    "print(len(third_hashtags))"
   ]
  },
  {
   "cell_type": "code",
   "execution_count": null,
   "metadata": {},
   "outputs": [],
   "source": [
    "with open(r\"G:\\TwitterUsers\\processed_files\\hashtags\\hashtags_3.txt\",\"wb\") as f:\n",
    "    pickle.dump(third_hashtags,f)\n",
    "    f.close()"
   ]
  }
 ],
 "metadata": {
  "kernelspec": {
   "display_name": "tf-gpu",
   "language": "python",
   "name": "tf-gpu"
  },
  "language_info": {
   "codemirror_mode": {
    "name": "ipython",
    "version": 3
   },
   "file_extension": ".py",
   "mimetype": "text/x-python",
   "name": "python",
   "nbconvert_exporter": "python",
   "pygments_lexer": "ipython3",
   "version": "3.7.9"
  }
 },
 "nbformat": 4,
 "nbformat_minor": 4
}
