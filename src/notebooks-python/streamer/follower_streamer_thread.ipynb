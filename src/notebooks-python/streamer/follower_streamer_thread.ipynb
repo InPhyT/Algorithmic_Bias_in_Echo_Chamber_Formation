{
 "cells": [
  {
   "cell_type": "markdown",
   "metadata": {},
   "source": [
    "# User ID Mining (USA)"
   ]
  },
  {
   "cell_type": "markdown",
   "metadata": {},
   "source": [
    "## Modules"
   ]
  },
  {
   "cell_type": "code",
   "execution_count": 1,
   "metadata": {},
   "outputs": [],
   "source": [
    "# Data Wrangling \n",
    "import pandas as pd\n",
    "import numpy as np\n",
    "import sys\n",
    "sys.path.insert(1, r\"C:\\Econophysics\\analysis\")\n",
    "\n",
    "# Custom Modules\n",
    "import Econophysics as Ec\n",
    "import credentials as cr\n",
    "\n",
    "# Reload Custom Modules\n",
    "from importlib import reload\n",
    "Ec  = reload(Ec)\n",
    "cr = reload(cr)\n",
    "\n",
    "# Twitter Scraping\n",
    "import tweepy\n",
    "\n",
    "# Basic Utilities\n",
    "import time\n",
    "import requests\n",
    "import pickle\n",
    "\n",
    "from threading import Thread"
   ]
  },
  {
   "cell_type": "markdown",
   "metadata": {},
   "source": [
    "Check initial condition in case of restart"
   ]
  },
  {
   "cell_type": "code",
   "execution_count": 2,
   "metadata": {},
   "outputs": [],
   "source": [
    "# tweets = Ec.objs_loader(r\"C:\\Econophysics\\TwitterUsers\\archiveTeam\\Streamer_archiveTeam\\tweets.txt\")\n",
    "# print(len(tweets))\n",
    "# len(set([tweet[\"user_id\"] for tweet in tweets]))\n",
    "# users_stremed = set([tweet[\"user_id\"] for tweet in tweets])\n",
    "# intersection = users_stremed.intersection(ok_users)\n",
    "# len(intersection)"
   ]
  },
  {
   "cell_type": "markdown",
   "metadata": {},
   "source": [
    "Load unique users"
   ]
  },
  {
   "cell_type": "code",
   "execution_count": 3,
   "metadata": {},
   "outputs": [
    {
     "name": "stdout",
     "output_type": "stream",
     "text": [
      "154826\n"
     ]
    }
   ],
   "source": [
    "with open(r\"C:\\Econophysics\\TwitterUsers\\archiveTeam\\processed_files\\ok_users.txt\", \"rb\") as f: #C:\\Econophysics\\TwitterUsers\\archiveTeam\\processed_files  # r\"F:\\TwitterUsers\\archiveTeam\\processed_files\\ok_users.txt\"\n",
    "    ok_users = set(pickle.load(f))\n",
    "    f.close()\n",
    "    \n",
    "print(len(ok_users))"
   ]
  },
  {
   "cell_type": "markdown",
   "metadata": {},
   "source": [
    "Get and start proper amount of streaming threads"
   ]
  },
  {
   "cell_type": "code",
   "execution_count": 5,
   "metadata": {},
   "outputs": [
    {
     "name": "stdout",
     "output_type": "stream",
     "text": [
      "starting 31 threads\n"
     ]
    },
    {
     "data": {
      "text/plain": [
       "31"
      ]
     },
     "execution_count": 5,
     "metadata": {},
     "output_type": "execute_result"
    }
   ],
   "source": [
    "threads = Ec.get_follow_streamer_threads(list(ok_users), apps = cr.apps, save_path =r\"C:\\Econophysics\\TwitterUsers\\archiveTeam\\Streamer_archiveTeam\\tweets.txt\", users_save_path = r\"C:\\Econophysics\\TwitterUsers\\archiveTeam\\Streamer_archiveTeam\\users.txt\"  ) # C:\\Econophysics\\TwitterUsers\\archiveTeam\\Streamer_archiveTeam #r\"F:\\TwitterUsers\\archiveTeam\\Streamer_archiveTeam\\tweets.txt\"\n",
    "len(threads)"
   ]
  },
  {
   "cell_type": "code",
   "execution_count": null,
   "metadata": {},
   "outputs": [
    {
     "name": "stdout",
     "output_type": "stream",
     "text": [
      "thread0 : relogging...\n",
      "thread1 thread2: relogging... : relogging...\n",
      "\n",
      "thread3 : relogging...\n",
      "thread4 thread5: relogging...\n",
      " thread6: relogging... \n",
      ": relogging...\n",
      "thread7 : relogging...\n",
      "thread8thread9thread10 : relogging... thread11 \n",
      ": relogging...: relogging...\n",
      "\n",
      " : relogging...thread12\n",
      " : relogging...\n",
      "thread13 : relogging...\n",
      "thread14thread15thread16 : relogging...\n",
      " thread17 : relogging...\n",
      " : relogging...: relogging...\n",
      "\n",
      "thread18 : relogging...\n",
      "thread19 : relogging...\n",
      "thread20 : relogging...\n",
      "thread21 thread22: relogging...\n",
      " : relogging...\n",
      "thread23 : relogging...\n",
      "thread24 thread25: relogging...\n",
      "thread26 : relogging...\n",
      " : relogging...thread27thread28 : relogging...\n",
      " thread29: relogging...\n",
      "\n",
      "thread30 : relogging...\n",
      " : relogging...\n",
      "Arrived 184443 tweets from 97346 unique userseets from 100 unique users 172 tweets from 171 unique users 902 tweets from 855 unique users 1339 tweets from 1229 unique users1580 unique users 1776 tweets from 1592 unique usersunique users 3989 tweets from 3369 unique users 4718 tweets from 3946 unique users 5917 tweets from 4823 unique users 7263 tweets from 5813 unique users8067 tweets from 6386 unique users 12222 tweets from 9191 unique users 14575 tweets from 10707 unique users 15518 tweets from 11331 unique users 17258 tweets from 12436 unique users 19410 tweets from 13786 unique users 19694 tweets from 13969 unique users 21637 tweets from 15167 unique users 25235 tweets from 17276 unique users 26351 tweets from 17930 unique users 28015 tweets from 18903 unique users 30482 tweets from 20302 unique users 30508 tweets from 20315 unique users 30646 tweets from 20403 unique usersunique users 32409 tweets from 21395 unique users 35817 tweets from 23352 unique users 36586 tweets from 23783 unique users 36648 tweets from 23813 unique users 37424 tweets from 24260 unique users 37798 tweets from 24481 unique users 38683 tweets from 24997 unique users 39948 tweets from 25676 unique users 40860 tweets from 26165 unique users 41777 tweets from 26693 unique users 44310 tweets from 28117 unique users 44454 tweets from 28200 unique users 44954 tweets from 28488 unique users 48477 tweets from 30418 unique users 52512 tweets from 32618 unique users 53632 tweets from 33217 unique users 54283 tweets from 33568 unique users 54351 tweets from 33601 unique userstweets from 34487 unique users 56099 tweets from 34526 unique users57347 tweets from 35200 unique users 58057 tweets from 35589 unique users 59166 tweets from 36142 unique users 62390 tweets from 37841 unique users 64745 tweets from 39022 unique users 68315 tweets from 40904 unique users 70911 tweets from 42241 unique users 71142 tweets from 42347 unique users 72660 tweets from 43094 unique users 73157 tweets from 43337 unique users 78191 tweets from 45916 unique users 82031 tweets from 47858 unique users 83391 tweets from 48527 unique users 88258 tweets from 50953 unique users 90547 tweets from 52080 unique users 90634 tweets from 52126 unique users 91458 tweets from 52534 unique users 91936 tweets from 52771 unique users 92336 tweets from 52967 unique users 92667 tweets from 53141 unique users 93263 tweets from 53452 unique users 94617 tweets from 54135 unique users 96156 tweets from 54900 unique users 98595 tweets from 56156 unique users 99324 tweets from 56511 unique users 99482 tweets from 56594 unique users 100011 tweets from 56866 unique users 101175 tweets from 57458 unique users 101984 tweets from 57880 unique users 103382 tweets from 58581 unique users 112124 tweets from 62850 unique users 114229 tweets from 63880 unique users 114784 tweets from 64165 unique users 115583 tweets from 64570 unique users 116281 tweets from 64920 unique users 116525 tweets from 65046 unique users 116960 tweets from 65262 unique users 118427 tweets from 65957 unique users 118887 tweets from 66185 unique users 122656 tweets from 68013 unique users 126907 tweets from 70075 unique users unique users 127231 tweets from 70234 unique users 127454 tweets from 70356 unique users 132075 tweets from 72635 unique users 133248 tweets from 73201 unique users 133365 tweets from 73259 unique users 133464 tweets from 73308 unique users 133474 tweets from 73316 unique users 134070 tweets from 73604 unique users 135125 tweets from 74108 unique users 135591 tweets from 74323 unique users 137258 tweets from 75146 unique users 139651 tweets from 76293 unique users 140931 tweets from 76887 unique users 142673 tweets from 77732 unique users 143818 tweets from 78315 unique users 144255 tweets from 78524 unique users 144611 tweets from 78679 unique users 147826 tweets from 80213 unique users 147876 tweets from 80240 unique users 150390 tweets from 81415 unique users 156748 tweets from 84471 unique users 157986 tweets from 85078 unique users 159181 tweets from 85663 unique users tweets from 86189 unique users 161371 tweets from 86696 unique usersunique users 162991 tweets from 87456 unique users 165516 tweets from 88672 unique users 165827 tweets from 88817 unique usersunique users 167660 tweets from 89654 unique users 168017 tweets from 89820 unique users 173533 tweets from 92316 unique users 175900 tweets from 93394 unique users 178100 tweets from 94408 unique users 180658 tweets from 95597 unique users 180873 tweets from 95689 unique users 181794 tweets from 96112 unique users 183046 tweets from 96692 unique users\r"
     ]
    }
   ],
   "source": [
    "Ec.start_threads(threads)"
   ]
  }
 ],
 "metadata": {
  "kernelspec": {
   "display_name": "tf-gpu",
   "language": "python",
   "name": "tf-gpu"
  },
  "language_info": {
   "codemirror_mode": {
    "name": "ipython",
    "version": 3
   },
   "file_extension": ".py",
   "mimetype": "text/x-python",
   "name": "python",
   "nbconvert_exporter": "python",
   "pygments_lexer": "ipython3",
   "version": "3.8.5"
  }
 },
 "nbformat": 4,
 "nbformat_minor": 4
}
