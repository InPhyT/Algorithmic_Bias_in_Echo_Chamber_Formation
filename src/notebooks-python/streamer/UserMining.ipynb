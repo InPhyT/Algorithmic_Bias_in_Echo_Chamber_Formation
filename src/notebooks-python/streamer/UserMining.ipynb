{
 "cells": [
  {
   "cell_type": "markdown",
   "metadata": {},
   "source": [
    "# User ID Mining (USA)"
   ]
  },
  {
   "cell_type": "markdown",
   "metadata": {},
   "source": [
    "## Modules"
   ]
  },
  {
   "cell_type": "code",
   "execution_count": 1,
   "metadata": {},
   "outputs": [],
   "source": [
    "# Data Wrangling \n",
    "import pandas as pd\n",
    "import numpy as np\n",
    "import sys\n",
    "sys.path.insert(1, r\"Q:\\IlMIoDrive\\magistrale\\1anno\\terzo_periodo\\MAS\\analysis\")\n",
    "\n",
    "# Custom Modules\n",
    "import Econophysics as Ec\n",
    "import credentials as cr\n",
    "\n",
    "# Reload Custom Modules\n",
    "from importlib import reload\n",
    "Ec  = reload(Ec)\n",
    "cr = reload(cr)\n",
    "\n",
    "# Twitter Scraping\n",
    "import tweepy\n",
    "\n",
    "# Basic Utilities\n",
    "import time\n",
    "import requests\n",
    "import pickle"
   ]
  },
  {
   "cell_type": "markdown",
   "metadata": {},
   "source": [
    "## Streamer Class"
   ]
  },
  {
   "cell_type": "code",
   "execution_count": 2,
   "metadata": {},
   "outputs": [],
   "source": [
    "# Create a StreamListener \n",
    "class MyStreamListener(tweepy.StreamListener):\n",
    "    def __init__(self,run_name, save_path):\n",
    "        super().__init__()\n",
    "        self.tweets_arrived = 0\n",
    "        self.keep_alive_arrived = 0\n",
    "        self.users_ids = set()\n",
    "        self.tweets = []\n",
    "        self.save_path = save_path+\"\\\\\"+run_name+\".txt\"\n",
    "        \n",
    "    def on_status(self, status):\n",
    "        # Set time \n",
    "        #t = time.localtime()\n",
    "        #current_time = time.strftime(\"%H:%M:%S\", t)\n",
    "        self.tweets_arrived += 1\n",
    "        hashtags =  [dct[\"text\"] for dct in status.entities[\"hashtags\"]]\n",
    "        #print(\"\\nStatus arrived at\", current_time)\n",
    "        #print (status.text)\n",
    "        \n",
    "        self.users_ids.add(status.user.id)                     # add author id\n",
    "        #print(\"AUTHOR ID:\", status.user.id)\n",
    "        #self.hashtags.append(tweet.entities[\"hashtags\"])\n",
    "        \n",
    "        \n",
    "#         if status.in_reply_to_user_id is not None:\n",
    "#             #print(\"REPLIED ID:\", status.in_reply_to_user_id)\n",
    "#             self.user_ids.add(status.in_reply_to_user_id)     # add replied id\n",
    "        \n",
    "        try:\n",
    "            retweeted_user_id  = status.retweeted_status.user.id\n",
    "            #retweeted_user_id = retweeted_status\n",
    "            self.tweets.append({\"user_id\":status.user.id, \"hashtags\":hashtags, \"retweeted_user_id\":retweeted_user_id})\n",
    "        except AttributeError:\n",
    "            self.tweets.append({\"user_id\":status.user.id, \"hashtags\":hashtags, \"retweeted_user_id\":None})\n",
    "            pass\n",
    "        \n",
    "        #np.save(\"/Users/Pit/GitHub/Econophysics/Project/TwitterMonitor/Streamer_USA/UserIDs/user_ids.npy\", np.array(list(self.user_ids))) # PIETRO 1 \n",
    "        #np.save(\"/Users/pietromonticone/github/Econophysics/Project/TwitterMonitor/Streamer_USA/UserIDs/user_ids.npy\", np.array(list(self.user_ids))) # PIETRO 2\n",
    "        if self.tweets_arrived%10:\n",
    "            with open(self.save_path, \"ab\") as f:\n",
    "                pickle.dump(self.tweets,f) # RICCARDO\n",
    "                self.tweets  = []\n",
    "                f.close()\n",
    "        #np.save(\"C:\\Users\\Utente\\Desktop\\Progetti\\Python\\Econophysics\\Project\\TwitterMonitor\\Streamer_USA\\UserIDs\\user_ids.npy\", np.array(list(self.user_ids))) # DAVIDE\n",
    "        print(\"Arrived\",self.tweets_arrived, \"tweets from\", len(self.users_ids),\"unique users\", end = \"\\r\")\n",
    "    def keep_alive(self):\n",
    "        #print(\"keep alive arrived\")\n",
    "        self.keep_alive_arrived += 1\n",
    "        \n",
    "    def on_error(self, status_code):\n",
    "        print(\"Error\", status_code)\n",
    "        if status_code == 420:\n",
    "            #returning False in on_error disconnects the stream\n",
    "            return False\n",
    "        return False"
   ]
  },
  {
   "cell_type": "markdown",
   "metadata": {},
   "source": [
    "## Initialization"
   ]
  },
  {
   "cell_type": "code",
   "execution_count": 3,
   "metadata": {},
   "outputs": [
    {
     "name": "stdout",
     "output_type": "stream",
     "text": [
      "154824\n"
     ]
    }
   ],
   "source": [
    "# Initialize user ids set \n",
    "##user_ids = set() # EMPTY\n",
    "##user_ids = set(np.load(\"/Users/Pit/GitHub/Econophysics/Project/TwitterMonitor/Streamer_USA/UserIDs/user_ids.npy\", allow_pickle=True)) # PIETRO 1 \n",
    "##user_ids = set(np.load(\"/Users/pietromonticone/github/Econophysics/Project/TwitterMonitor/Streamer_USA/UserIDs/user_ids.npy\", allow_pickle=True)) # PIETRO 2\n",
    "##user_ids = set(np.load(r\"C:\\Users\\Utente\\Desktop\\Progetti\\Python\\Econophysics\\Project\\TwitterMonitor\\Streamer_USA\\UserIDs\\user_ids.npy\", allow_pickle=True)) # DAVIDE \n",
    "#user_ids = set(np.load(r\"C:\\Users\\39345\\Documents\\GitHub\\Econophysics\\Project\\TwitterMonitor\\Streamer_USA\\UserIDs\\ok_users.txt\", allow_pickle=True)) # RICCARDO \n",
    "with open(r\"F:\\TwitterUsers\\archiveTeam\\processed_files\\ok_users.txt\", \"rb\") as f:\n",
    "    ok_users = list(set(pickle.load(f)))\n",
    "    f.close()\n",
    "    \n",
    "print(len(ok_users))\n",
    "\n",
    "# Create a Stream \n",
    "myStreamListener = MyStreamListener(run_name = \"users_id_track&follow\",save_path =r\"F:\\TwitterUsers\\archiveTeam\\Streamer_archiveTeam\" )\n",
    "\n",
    "# Log an app \n",
    "app = Ec.logger(cr.apps[31], mode=\"user\", wait_on_rate_limit=True)\n",
    "\n",
    "# Create streamer \n",
    "\n",
    "def stream():\n",
    "    i = 0\n",
    "    while True:\n",
    "        try: \n",
    "            myStream = tweepy.Stream(auth=app.auth, listener=myStreamListener)\n",
    "            \n",
    "            myStream.filter(\n",
    "                follow = [str(ID) for ID in ok_users[:5000] ],\n",
    "        \n",
    "                languages=[\"en\"], \n",
    "        \n",
    "                is_async=False,\n",
    "        \n",
    "                stall_warnings=True)\n",
    "            \n",
    "            \n",
    "        except Exception as e: \n",
    "            i += 1\n",
    "            #print(i)\n",
    "            #Relogging in 10 seconds \n",
    "            print(\"Relogging in\", (2**i)*60 +1, \" seconds!\")\n",
    "            print(e.__dict__)\n",
    "            raise e\n",
    "            time.sleep((2**i)*60 +1)\n",
    "           \n",
    "            continue\n",
    "            #break"
   ]
  },
  {
   "cell_type": "markdown",
   "metadata": {},
   "source": [
    "## Streaming"
   ]
  },
  {
   "cell_type": "code",
   "execution_count": 4,
   "metadata": {},
   "outputs": [],
   "source": [
    "#                 track=\n",
    "#                 [\"Vote2020\", \"vote2020\", \"election\", \"Election2020\", \"ELECTION2020\",\"PresidentialElection2020\", \"election2020\", \"PresidentialElections\", \"2020Elections\", \"election2020\", \"2020Election\",\n",
    "#     \"VoteTrumpOut2020\", \"VoteBidenOut2020\", \"TrumpSupporter\", \"BidenSupporter\",\n",
    "#     \"voteblue2020\", \"VoteBlue\", \"VoteBlueToSaveAmerica\", \"votered2020\", \"VoteRed\", \"VoteRedToSaveAmerica\",\n",
    "#     \"bidenharris\",  \"bidenharris2020\", \"trumppence\", \"trumppence2020\", \"BidenHarris2020\", \"bidenharris2020\", \"TrumpPence2020\", \"trumppence2020\",\n",
    "#     \"KamalaHarris\", \"MikePence\", \"DonaldTrump\", \"JoeBiden\", \"trump2020\", \"biden2020\", \"joebiden\", \"donaldtrump\", \"GoTrump\", \"GoBiden\",\n",
    "#     \"BidenForPresident2020\", \"TrumpForPresident2020\",\n",
    "#     \"Democrats2020\", \"Republicans2020\",\n",
    "#     \"GoTrump\", \"GoBiden\", \"BidenLies\", \"TrumpLies\", \n",
    "#     \"VoteJoeBiden\", \"voteJoeBiden\", \"VoteDonaldTrump\", \"voteDonaldTrump\", \n",
    "#     \"Biden2020\", \"JoeBiden2020\", \"Trump2020\", \"DonaldTrump2020\", \n",
    "#     \"PresidentBiden\", \"PresidentTrump\",\n",
    "#     \"RepublicansForBiden\", \"RepublicansForTrump\", \"DemocratsForBiden\", \"DemocratsForTrump\",\n",
    "#     \"NeverTrump\", \"NeverBiden\",\n",
    "#     \"TrumpPence2020ToSaveAmerica\", \"BidenHarris2020ToSaveAmerica\", \"TRUMP2020ToSaveAmerica\", \"BIDEN2020ToSaveAmerica\",\n",
    "#     \"Trump2020Victory\", \"Biden2020Victory\", \n",
    "#     \"BidenHarrisToSaveAmerica2020\", \"TrumpPenceToSaveAmerica2020\",\n",
    "#     \"TeamJoeKamala2020\", \"TeamDonaldMike2020\",\n",
    "#     \"VoteForJoeBiden\", \"VoteForDonaldTrump\", \"voteJoeBiden\", \"voteDonaldTrump\",\n",
    "#     \"LibertariansForBiden\", \"LibertariansForTrump\",\n",
    "#     \"TrumpIsOurPresident\", \"BidenIsOurPresident\", \"TrumpMustLose\", \"BidenMustLose\",\n",
    "#     \"unfollowTrump\", \"UnfollowTrump\", \"unfollowBiden\", \"UnfollowBidem\",\n",
    "#     \"VoteOutEveryDemocrat\", \"VoteOutEveryRepublican\",\n",
    "#     \"voteforrepublican\", \"votefordemocrat\", \"VoteRedOnly\", \"VoteBlueOnly\", \"VoteRepublican\", \"VoteDemocrat\",\n",
    "#     \"voteblue2020saveamerica\", \"votered2020saveamerica\", \"VoteTrump2020LetsSaveAmerica\", \"VoteTrump2020LetsSaveAmerica\"\n",
    "#                 ]"
   ]
  },
  {
   "cell_type": "code",
   "execution_count": null,
   "metadata": {},
   "outputs": [
    {
     "name": "stdout",
     "output_type": "stream",
     "text": [
      "Arrived 49 tweets from 45 unique users\r"
     ]
    }
   ],
   "source": [
    "stream()\n",
    "\n",
    "# Check resource consumption\n",
    "###app.rate_limit_status()[\"resources\"]"
   ]
  },
  {
   "cell_type": "code",
   "execution_count": null,
   "metadata": {},
   "outputs": [],
   "source": []
  }
 ],
 "metadata": {
  "kernelspec": {
   "display_name": "tf-gpu",
   "language": "python",
   "name": "tf-gpu"
  },
  "language_info": {
   "codemirror_mode": {
    "name": "ipython",
    "version": 3
   },
   "file_extension": ".py",
   "mimetype": "text/x-python",
   "name": "python",
   "nbconvert_exporter": "python",
   "pygments_lexer": "ipython3",
   "version": "3.8.5"
  }
 },
 "nbformat": 4,
 "nbformat_minor": 4
}
