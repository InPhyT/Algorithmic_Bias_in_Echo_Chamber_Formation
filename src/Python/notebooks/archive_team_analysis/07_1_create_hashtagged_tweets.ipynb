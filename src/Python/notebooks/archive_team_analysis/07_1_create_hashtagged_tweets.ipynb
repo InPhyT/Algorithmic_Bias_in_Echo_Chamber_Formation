{
 "cells": [
  {
   "cell_type": "code",
   "execution_count": 1,
   "metadata": {},
   "outputs": [
    {
     "name": "stdout",
     "output_type": "stream",
     "text": [
      "Populating the interactive namespace from numpy and matplotlib\n"
     ]
    }
   ],
   "source": [
    "# Utilities\n",
    "import sys\n",
    "#sys.path.insert(1, r\"/Users/Pit/GitHub/Econophysics/Project/TwitterMonitor/\")\n",
    "sys.path.insert(1, r\"E:\\IlMIoDrive\\magistrale\\1anno\\terzo_periodo\\MAS\\analysis\")\n",
    "from pathlib import Path \n",
    "import json as js\n",
    "import bz2\n",
    "import ast\n",
    "import operator\n",
    "import warnings\n",
    "warnings.filterwarnings('ignore')\n",
    "\n",
    "# Data Manipulation\n",
    "from collections import OrderedDict,Counter,defaultdict\n",
    "import pickle\n",
    "import pandas as pd\n",
    "import numpy as np\n",
    "from copy import deepcopy\n",
    "from scipy import stats\n",
    "from sklearn.neighbors import KernelDensity\n",
    "\n",
    "# Data Visualization\n",
    "#import seaborn as sns\n",
    "import matplotlib.pyplot as plt \n",
    "import matplotlib.ticker as ticker\n",
    "import networkx as nx\n",
    "%pylab inline\n",
    "\n",
    "# Custom \n",
    "from datetime import datetime\n",
    "from importlib import reload\n",
    "import Econophysics as Ec\n",
    "import credentials as cr\n",
    "Ec=reload(Ec)"
   ]
  },
  {
   "cell_type": "markdown",
   "metadata": {},
   "source": [
    "Load all processed tweets ( AT + 38M):"
   ]
  },
  {
   "cell_type": "code",
   "execution_count": 17,
   "metadata": {},
   "outputs": [],
   "source": [
    "paths = Ec.get_listOfFiles(r\"F:\\TwitterUsers\\saved_objs_withKeywords\") + Ec.get_listOfFiles(r\"D:\\TwitterUsers\\archiveTeam\\final_analysis\\hydration\\hydrated\\threading_objs\") \n",
    "total = len(paths)"
   ]
  },
  {
   "cell_type": "code",
   "execution_count": 18,
   "metadata": {},
   "outputs": [],
   "source": [
    "day = Ec.pickle_loader(paths[0])"
   ]
  },
  {
   "cell_type": "code",
   "execution_count": 19,
   "metadata": {},
   "outputs": [
    {
     "data": {
      "text/plain": [
       "1516449"
      ]
     },
     "execution_count": 19,
     "metadata": {},
     "output_type": "execute_result"
    }
   ],
   "source": [
    "len(day)"
   ]
  },
  {
   "cell_type": "code",
   "execution_count": 20,
   "metadata": {},
   "outputs": [],
   "source": [
    "hashs = [tweet[\"hashtags\"] for tweet in day]"
   ]
  },
  {
   "cell_type": "code",
   "execution_count": 21,
   "metadata": {
    "collapsed": true,
    "jupyter": {
     "outputs_hidden": true
    }
   },
   "outputs": [
    {
     "data": {
      "text/plain": [
       "[[],\n",
       " [],\n",
       " [],\n",
       " [],\n",
       " [],\n",
       " [],\n",
       " [],\n",
       " [],\n",
       " [],\n",
       " [],\n",
       " [],\n",
       " [],\n",
       " ['SOPA', 'endofartificaltime'],\n",
       " ['NYE2012'],\n",
       " [],\n",
       " [],\n",
       " [],\n",
       " [],\n",
       " [],\n",
       " ['winning'],\n",
       " [],\n",
       " [],\n",
       " [],\n",
       " [],\n",
       " [],\n",
       " [],\n",
       " [],\n",
       " [],\n",
       " [],\n",
       " [],\n",
       " [],\n",
       " [],\n",
       " [],\n",
       " ['FB'],\n",
       " [],\n",
       " ['flashcards', 'learning', 'studytips'],\n",
       " [],\n",
       " [],\n",
       " ['ebony'],\n",
       " ['drinkinginthenewyear'],\n",
       " [],\n",
       " [],\n",
       " [],\n",
       " [],\n",
       " [],\n",
       " [],\n",
       " [],\n",
       " [],\n",
       " [],\n",
       " [],\n",
       " [],\n",
       " [],\n",
       " [],\n",
       " [],\n",
       " ['prayforjapan'],\n",
       " [],\n",
       " [],\n",
       " [],\n",
       " [],\n",
       " [],\n",
       " [],\n",
       " [],\n",
       " [],\n",
       " [],\n",
       " [],\n",
       " [],\n",
       " [],\n",
       " ['NYE', 'Occupy', 'Epic'],\n",
       " [],\n",
       " [],\n",
       " [],\n",
       " [],\n",
       " [],\n",
       " [],\n",
       " [],\n",
       " [],\n",
       " [],\n",
       " [],\n",
       " [],\n",
       " [],\n",
       " [],\n",
       " [],\n",
       " [],\n",
       " [],\n",
       " [],\n",
       " [],\n",
       " [],\n",
       " [],\n",
       " [],\n",
       " [],\n",
       " [],\n",
       " ['Kingdomschools'],\n",
       " [],\n",
       " [],\n",
       " [],\n",
       " [],\n",
       " [],\n",
       " [],\n",
       " [],\n",
       " [],\n",
       " [],\n",
       " [],\n",
       " [],\n",
       " [],\n",
       " [],\n",
       " [],\n",
       " [],\n",
       " [],\n",
       " [],\n",
       " [],\n",
       " [],\n",
       " [],\n",
       " [],\n",
       " [],\n",
       " [],\n",
       " [],\n",
       " [],\n",
       " [],\n",
       " [],\n",
       " ['ithinkimalittlelate'],\n",
       " [],\n",
       " [],\n",
       " [],\n",
       " [],\n",
       " [],\n",
       " ['tipssad'],\n",
       " [],\n",
       " [],\n",
       " [],\n",
       " [],\n",
       " [],\n",
       " [],\n",
       " ['epicfail'],\n",
       " [],\n",
       " [],\n",
       " [],\n",
       " [],\n",
       " [],\n",
       " [],\n",
       " [],\n",
       " [],\n",
       " ['1salud'],\n",
       " [],\n",
       " [],\n",
       " [],\n",
       " ['mixing'],\n",
       " [],\n",
       " [],\n",
       " [],\n",
       " [],\n",
       " [],\n",
       " [],\n",
       " [],\n",
       " [],\n",
       " [],\n",
       " [],\n",
       " [],\n",
       " [],\n",
       " ['free', 'escort', 'FORUM'],\n",
       " [],\n",
       " [],\n",
       " [],\n",
       " [],\n",
       " ['goodnight'],\n",
       " [],\n",
       " ['BeBold', 'HaterWorthy'],\n",
       " [],\n",
       " [],\n",
       " ['Nagpur'],\n",
       " [],\n",
       " ['SingItForJapan'],\n",
       " [],\n",
       " [],\n",
       " [],\n",
       " [],\n",
       " ['dog'],\n",
       " [],\n",
       " [],\n",
       " ['winning'],\n",
       " [],\n",
       " [],\n",
       " [],\n",
       " [],\n",
       " [],\n",
       " [],\n",
       " [],\n",
       " [],\n",
       " ['REalHipHOP', 'RealTalk', 'Realshit'],\n",
       " [],\n",
       " [],\n",
       " [],\n",
       " [],\n",
       " [],\n",
       " [],\n",
       " [],\n",
       " [],\n",
       " [],\n",
       " [],\n",
       " [],\n",
       " [],\n",
       " [],\n",
       " [],\n",
       " [],\n",
       " [],\n",
       " [],\n",
       " [],\n",
       " [],\n",
       " [],\n",
       " [],\n",
       " [],\n",
       " [],\n",
       " [],\n",
       " [],\n",
       " [],\n",
       " [],\n",
       " [],\n",
       " [],\n",
       " [],\n",
       " [],\n",
       " [],\n",
       " [],\n",
       " [],\n",
       " [],\n",
       " ['GOODNIGHT'],\n",
       " [],\n",
       " [],\n",
       " ['stupidfuxker'],\n",
       " [],\n",
       " ['usecondoms'],\n",
       " [],\n",
       " [],\n",
       " [],\n",
       " [],\n",
       " [],\n",
       " ['PrayForJapan'],\n",
       " [],\n",
       " [],\n",
       " [],\n",
       " ['Egypt', 'jan25', 'tahrir', 'Egitto3000'],\n",
       " [],\n",
       " [],\n",
       " ['YARDSELLR'],\n",
       " [],\n",
       " [],\n",
       " ['world', 'news'],\n",
       " [],\n",
       " [],\n",
       " [],\n",
       " ['oomf'],\n",
       " [],\n",
       " [],\n",
       " [],\n",
       " [],\n",
       " ['ffdp'],\n",
       " [],\n",
       " [],\n",
       " [],\n",
       " [],\n",
       " [],\n",
       " [],\n",
       " [],\n",
       " [],\n",
       " [],\n",
       " [],\n",
       " [],\n",
       " [],\n",
       " [],\n",
       " [],\n",
       " [],\n",
       " ['hellyeah'],\n",
       " [],\n",
       " [],\n",
       " [],\n",
       " [],\n",
       " [],\n",
       " [],\n",
       " [],\n",
       " [],\n",
       " [],\n",
       " ['Grill'],\n",
       " [],\n",
       " [],\n",
       " [],\n",
       " [],\n",
       " [],\n",
       " [],\n",
       " [],\n",
       " [],\n",
       " [],\n",
       " [],\n",
       " [],\n",
       " [],\n",
       " [],\n",
       " [],\n",
       " [],\n",
       " ['needsomecleartape', 'askjustin'],\n",
       " ['Botox', 'Beauty', 'AntiAging', 'Boomers'],\n",
       " [],\n",
       " [],\n",
       " ['Can', 'anyone', 'buisness', 'Online'],\n",
       " ['tellme'],\n",
       " [],\n",
       " [],\n",
       " [],\n",
       " [],\n",
       " [],\n",
       " [],\n",
       " [],\n",
       " [],\n",
       " [],\n",
       " [],\n",
       " [],\n",
       " [],\n",
       " ['prayforjapan'],\n",
       " [],\n",
       " [],\n",
       " [],\n",
       " [],\n",
       " [],\n",
       " [],\n",
       " [],\n",
       " [],\n",
       " [],\n",
       " [],\n",
       " [],\n",
       " [],\n",
       " [],\n",
       " ['ngakak'],\n",
       " ['HappyNewYear'],\n",
       " [],\n",
       " [],\n",
       " [],\n",
       " [],\n",
       " [],\n",
       " [],\n",
       " [],\n",
       " [],\n",
       " [],\n",
       " [],\n",
       " [],\n",
       " [],\n",
       " [],\n",
       " [],\n",
       " [],\n",
       " [],\n",
       " [],\n",
       " [],\n",
       " [],\n",
       " [],\n",
       " [],\n",
       " [],\n",
       " [],\n",
       " [],\n",
       " [],\n",
       " [],\n",
       " [],\n",
       " [],\n",
       " [],\n",
       " [],\n",
       " [],\n",
       " [],\n",
       " [],\n",
       " ['tellme'],\n",
       " [],\n",
       " [],\n",
       " [],\n",
       " [],\n",
       " [],\n",
       " [],\n",
       " [],\n",
       " [],\n",
       " [],\n",
       " [],\n",
       " [],\n",
       " [],\n",
       " [],\n",
       " ['NewYearNewShit'],\n",
       " [],\n",
       " [],\n",
       " [],\n",
       " [],\n",
       " [],\n",
       " [],\n",
       " [],\n",
       " [],\n",
       " [],\n",
       " [],\n",
       " [],\n",
       " [],\n",
       " [],\n",
       " [],\n",
       " [],\n",
       " [],\n",
       " [],\n",
       " [],\n",
       " [],\n",
       " [],\n",
       " [],\n",
       " [],\n",
       " [],\n",
       " ['Dubai'],\n",
       " [],\n",
       " [],\n",
       " ['RedCupConcert'],\n",
       " [],\n",
       " [],\n",
       " [],\n",
       " [],\n",
       " [],\n",
       " [],\n",
       " [],\n",
       " [],\n",
       " [],\n",
       " [],\n",
       " [],\n",
       " [],\n",
       " [],\n",
       " [],\n",
       " ['lookinup'],\n",
       " [],\n",
       " [],\n",
       " [],\n",
       " [],\n",
       " [],\n",
       " [],\n",
       " [],\n",
       " [],\n",
       " [],\n",
       " [],\n",
       " ['ngakakguling2'],\n",
       " [],\n",
       " [],\n",
       " [],\n",
       " [],\n",
       " [],\n",
       " [],\n",
       " [],\n",
       " [],\n",
       " ['HappyNewYear'],\n",
       " [],\n",
       " [],\n",
       " [],\n",
       " [],\n",
       " [],\n",
       " [],\n",
       " [],\n",
       " [],\n",
       " [],\n",
       " [],\n",
       " [],\n",
       " [],\n",
       " [],\n",
       " [],\n",
       " [],\n",
       " [],\n",
       " [],\n",
       " [],\n",
       " [],\n",
       " [],\n",
       " [],\n",
       " [],\n",
       " [],\n",
       " ['先着5名様非公式rtした方に大好きといってみる'],\n",
       " [],\n",
       " [],\n",
       " [],\n",
       " ['np'],\n",
       " [],\n",
       " [],\n",
       " [],\n",
       " ['PrayForJapan'],\n",
       " [],\n",
       " [],\n",
       " [],\n",
       " [],\n",
       " [],\n",
       " [],\n",
       " [],\n",
       " [],\n",
       " [],\n",
       " [],\n",
       " [],\n",
       " [],\n",
       " [],\n",
       " [],\n",
       " [],\n",
       " [],\n",
       " [],\n",
       " [],\n",
       " [],\n",
       " ['prayforjapan'],\n",
       " ['ImDone'],\n",
       " [],\n",
       " [],\n",
       " [],\n",
       " [],\n",
       " [],\n",
       " [],\n",
       " [],\n",
       " [],\n",
       " [],\n",
       " [],\n",
       " [],\n",
       " [],\n",
       " [],\n",
       " [],\n",
       " [],\n",
       " [],\n",
       " [],\n",
       " [],\n",
       " [],\n",
       " [],\n",
       " [],\n",
       " [],\n",
       " [],\n",
       " ['butIthinkIminterested'],\n",
       " [],\n",
       " ['King'],\n",
       " [],\n",
       " [],\n",
       " [],\n",
       " [],\n",
       " [],\n",
       " [],\n",
       " [],\n",
       " [],\n",
       " [],\n",
       " [],\n",
       " [],\n",
       " [],\n",
       " [],\n",
       " [],\n",
       " [],\n",
       " [],\n",
       " [],\n",
       " [],\n",
       " [],\n",
       " [],\n",
       " [],\n",
       " ['BeSafe'],\n",
       " [],\n",
       " [],\n",
       " [],\n",
       " [],\n",
       " [],\n",
       " [],\n",
       " ['TeamIsaac'],\n",
       " [],\n",
       " [],\n",
       " ['realtlk'],\n",
       " [],\n",
       " [],\n",
       " [],\n",
       " [],\n",
       " [],\n",
       " [],\n",
       " ['newyearsresolution'],\n",
       " [],\n",
       " [],\n",
       " [],\n",
       " [],\n",
       " [],\n",
       " [],\n",
       " [],\n",
       " [],\n",
       " [],\n",
       " [],\n",
       " [],\n",
       " [],\n",
       " ['swag'],\n",
       " [],\n",
       " [],\n",
       " [],\n",
       " [],\n",
       " [],\n",
       " [],\n",
       " [],\n",
       " [],\n",
       " [],\n",
       " [],\n",
       " [],\n",
       " ['dobetter', 'dobigger'],\n",
       " [],\n",
       " [],\n",
       " [],\n",
       " [],\n",
       " [],\n",
       " [],\n",
       " [],\n",
       " [],\n",
       " [],\n",
       " [],\n",
       " [],\n",
       " [],\n",
       " [],\n",
       " [],\n",
       " [],\n",
       " ['HAPPYNEWYEAR2012'],\n",
       " [],\n",
       " [],\n",
       " [],\n",
       " [],\n",
       " [],\n",
       " [],\n",
       " ['온'],\n",
       " [],\n",
       " [],\n",
       " [],\n",
       " [],\n",
       " [],\n",
       " [],\n",
       " ['coolfuckinguy'],\n",
       " [],\n",
       " [],\n",
       " [],\n",
       " [],\n",
       " [],\n",
       " [],\n",
       " [],\n",
       " ['indirecttweet'],\n",
       " ['TK2012'],\n",
       " [],\n",
       " [],\n",
       " [],\n",
       " [],\n",
       " ['nightisasuvcesssss'],\n",
       " [],\n",
       " [],\n",
       " [],\n",
       " [],\n",
       " ['WU'],\n",
       " [],\n",
       " [],\n",
       " [],\n",
       " [],\n",
       " [],\n",
       " [],\n",
       " [],\n",
       " [],\n",
       " [],\n",
       " [],\n",
       " ['SHINeeisBack'],\n",
       " ['desteni'],\n",
       " [],\n",
       " [],\n",
       " [],\n",
       " [],\n",
       " [],\n",
       " [],\n",
       " [],\n",
       " [],\n",
       " [],\n",
       " [],\n",
       " [],\n",
       " [],\n",
       " [],\n",
       " [],\n",
       " [],\n",
       " [],\n",
       " [],\n",
       " [],\n",
       " [],\n",
       " [],\n",
       " ['RealG', 'Swag'],\n",
       " [],\n",
       " [],\n",
       " [],\n",
       " [],\n",
       " [],\n",
       " ['job'],\n",
       " [],\n",
       " ['ilovemytrueniggas'],\n",
       " [],\n",
       " [],\n",
       " [],\n",
       " [],\n",
       " [],\n",
       " [],\n",
       " [],\n",
       " [],\n",
       " [],\n",
       " [],\n",
       " ['PrayForJapan'],\n",
       " [],\n",
       " ['KuisPromote'],\n",
       " [],\n",
       " [],\n",
       " [],\n",
       " [],\n",
       " [],\n",
       " [],\n",
       " [],\n",
       " [],\n",
       " ['designateddriver4life'],\n",
       " ['BDS'],\n",
       " [],\n",
       " [],\n",
       " [],\n",
       " [],\n",
       " ['PrayForJapan'],\n",
       " [],\n",
       " [],\n",
       " ['SongOfTheNight'],\n",
       " [],\n",
       " [],\n",
       " [],\n",
       " ['awesome'],\n",
       " [],\n",
       " ['LakerNation'],\n",
       " [],\n",
       " [],\n",
       " [],\n",
       " [],\n",
       " [],\n",
       " [],\n",
       " [],\n",
       " ['slowmoment', 'lilsis'],\n",
       " [],\n",
       " [],\n",
       " [],\n",
       " [],\n",
       " [],\n",
       " [],\n",
       " [],\n",
       " [],\n",
       " [],\n",
       " [],\n",
       " ['eerie'],\n",
       " [],\n",
       " [],\n",
       " [],\n",
       " [],\n",
       " ['Egypt', 'jan25', 'tahrir', 'Egitto3000'],\n",
       " [],\n",
       " [],\n",
       " [],\n",
       " [],\n",
       " [],\n",
       " [],\n",
       " ['tellme'],\n",
       " [],\n",
       " [],\n",
       " [],\n",
       " ['PrayForJapan'],\n",
       " [],\n",
       " [],\n",
       " ['models'],\n",
       " [],\n",
       " [],\n",
       " [],\n",
       " [],\n",
       " [],\n",
       " [],\n",
       " [],\n",
       " [],\n",
       " [],\n",
       " [],\n",
       " [],\n",
       " [],\n",
       " [],\n",
       " [],\n",
       " [],\n",
       " [],\n",
       " ['ThisYearIsDifferent'],\n",
       " [],\n",
       " [],\n",
       " [],\n",
       " [],\n",
       " [],\n",
       " [],\n",
       " [],\n",
       " ['thatf'],\n",
       " [],\n",
       " [],\n",
       " [],\n",
       " [],\n",
       " [],\n",
       " [],\n",
       " [],\n",
       " ['magistream'],\n",
       " [],\n",
       " [],\n",
       " [],\n",
       " [],\n",
       " ['Rocketship'],\n",
       " [],\n",
       " [],\n",
       " [],\n",
       " [],\n",
       " ['SWAGG'],\n",
       " [],\n",
       " [],\n",
       " [],\n",
       " [],\n",
       " [],\n",
       " [],\n",
       " [],\n",
       " [],\n",
       " [],\n",
       " ['cantevenreadthenamez'],\n",
       " [],\n",
       " [],\n",
       " [],\n",
       " [],\n",
       " [],\n",
       " [],\n",
       " [],\n",
       " [],\n",
       " [],\n",
       " [],\n",
       " [],\n",
       " [],\n",
       " [],\n",
       " [],\n",
       " ['PrayForJapan'],\n",
       " [],\n",
       " [],\n",
       " [],\n",
       " [],\n",
       " [],\n",
       " [],\n",
       " [],\n",
       " [],\n",
       " [],\n",
       " [],\n",
       " [],\n",
       " [],\n",
       " [],\n",
       " [],\n",
       " [],\n",
       " [],\n",
       " [],\n",
       " ['goodnight', 'hello2012'],\n",
       " [],\n",
       " [],\n",
       " [],\n",
       " [],\n",
       " [],\n",
       " [],\n",
       " [],\n",
       " [],\n",
       " [],\n",
       " [],\n",
       " [],\n",
       " [],\n",
       " [],\n",
       " [],\n",
       " [],\n",
       " ['creep'],\n",
       " [],\n",
       " [],\n",
       " [],\n",
       " [],\n",
       " [],\n",
       " [],\n",
       " [],\n",
       " [],\n",
       " [],\n",
       " [],\n",
       " [],\n",
       " [],\n",
       " [],\n",
       " [],\n",
       " [],\n",
       " ['stoked'],\n",
       " ['PrayForJapan'],\n",
       " [],\n",
       " [],\n",
       " [],\n",
       " [],\n",
       " ['DOG'],\n",
       " [],\n",
       " [],\n",
       " [],\n",
       " [],\n",
       " [],\n",
       " [],\n",
       " [],\n",
       " [],\n",
       " [],\n",
       " [],\n",
       " [],\n",
       " [],\n",
       " [],\n",
       " [],\n",
       " [],\n",
       " [],\n",
       " [],\n",
       " [],\n",
       " [],\n",
       " [],\n",
       " [],\n",
       " [],\n",
       " [],\n",
       " ['ehGilaNgenezzzz'],\n",
       " [],\n",
       " [],\n",
       " [],\n",
       " [],\n",
       " [],\n",
       " [],\n",
       " [],\n",
       " [],\n",
       " ['Photo', 'Metal', 'Statue', 'Lizard', 'Jacksonville', 'Zoo'],\n",
       " [],\n",
       " [],\n",
       " ['yarb'],\n",
       " [],\n",
       " [],\n",
       " [],\n",
       " [],\n",
       " [],\n",
       " [],\n",
       " [],\n",
       " [],\n",
       " [],\n",
       " ['prayforjapan'],\n",
       " [],\n",
       " [],\n",
       " [],\n",
       " [],\n",
       " [],\n",
       " [],\n",
       " ['puppylove'],\n",
       " [],\n",
       " ['FirstFavoriteSongOf2012'],\n",
       " [],\n",
       " [],\n",
       " [],\n",
       " [],\n",
       " [],\n",
       " [],\n",
       " [],\n",
       " [],\n",
       " [],\n",
       " [],\n",
       " [],\n",
       " ['PrayForJapan'],\n",
       " [],\n",
       " [],\n",
       " ['muchlovee'],\n",
       " [],\n",
       " [],\n",
       " [],\n",
       " [],\n",
       " [],\n",
       " [],\n",
       " [],\n",
       " [],\n",
       " [],\n",
       " [],\n",
       " [],\n",
       " [],\n",
       " [],\n",
       " [],\n",
       " [],\n",
       " [],\n",
       " [],\n",
       " ['Bahrain', 'humanrights', 'feb14'],\n",
       " [],\n",
       " [],\n",
       " [],\n",
       " [],\n",
       " [],\n",
       " [],\n",
       " [],\n",
       " [],\n",
       " [],\n",
       " [],\n",
       " [],\n",
       " [],\n",
       " ['EstePrimerDiadeEnero'],\n",
       " [],\n",
       " [],\n",
       " [],\n",
       " [],\n",
       " [],\n",
       " [],\n",
       " ['prayforjapan'],\n",
       " [],\n",
       " [],\n",
       " [],\n",
       " [],\n",
       " ['TweepsThatMade2011FunForMe'],\n",
       " [],\n",
       " ['oomf'],\n",
       " [],\n",
       " ['PrayForJapan'],\n",
       " [],\n",
       " [],\n",
       " [],\n",
       " [],\n",
       " [],\n",
       " [],\n",
       " [],\n",
       " [],\n",
       " [],\n",
       " [],\n",
       " [],\n",
       " [],\n",
       " ...]"
      ]
     },
     "execution_count": 21,
     "metadata": {},
     "output_type": "execute_result"
    }
   ],
   "source": [
    "hashs"
   ]
  },
  {
   "cell_type": "markdown",
   "metadata": {},
   "source": [
    "Load selected hashtags"
   ]
  },
  {
   "cell_type": "code",
   "execution_count": 22,
   "metadata": {},
   "outputs": [
    {
     "data": {
      "text/plain": [
       "6948"
      ]
     },
     "execution_count": 22,
     "metadata": {},
     "output_type": "execute_result"
    }
   ],
   "source": [
    "# load selected hashtags\n",
    "hashtags = []\n",
    "with open(r\"E:\\IlMioDrive\\magistrale\\1anno\\terzo_periodo\\MAS\\temp\\hashtags\\hashtags_1_filtered.txt\",\"rb\") as f:\n",
    "    hashtags = set(pickle.load(f))\n",
    "    f.close()\n",
    "len(hashtags)"
   ]
  },
  {
   "cell_type": "markdown",
   "metadata": {},
   "source": [
    "Define `save_path` and start processing "
   ]
  },
  {
   "cell_type": "code",
   "execution_count": 23,
   "metadata": {},
   "outputs": [
    {
     "name": "stdout",
     "output_type": "stream",
     "text": [
      "Wall time: 1h 15min 34st path =  D:\\TwitterUsers\\archiveTeam\\final_analysis\\hydration\\hydrated\\threading_objs\\hydrator_objs_99.txtt 336 out of 587 Last path =  D:\\TwitterUsers\\archiveTeam\\final_analysis\\hydration\\hydrated\\threading_objs\\hydrator_objs_103.txt 342 out of 587 Last path =  D:\\TwitterUsers\\archiveTeam\\final_analysis\\hydration\\hydrated\\threading_objs\\hydrator_objs_109.txt 352 out of 587 Last path =  D:\\TwitterUsers\\archiveTeam\\final_analysis\\hydration\\hydrated\\threading_objs\\hydrator_objs_118.txt 360 out of 587 Last path =  D:\\TwitterUsers\\archiveTeam\\final_analysis\\hydration\\hydrated\\threading_objs\\hydrator_objs_125.txt 366 out of 587 Last path =  D:\\TwitterUsers\\archiveTeam\\final_analysis\\hydration\\hydrated\\threading_objs\\hydrator_objs_130.txt 373 out of 587 Last path =  D:\\TwitterUsers\\archiveTeam\\final_analysis\\hydration\\hydrated\\threading_objs\\hydrator_objs_137.txt 383 out of 587 Last path =  D:\\TwitterUsers\\archiveTeam\\final_analysis\\hydration\\hydrated\\threading_objs\\hydrator_objs_146.txt 392 out of 587 Last path =  D:\\TwitterUsers\\archiveTeam\\final_analysis\\hydration\\hydrated\\threading_objs\\hydrator_objs_154.txt 404 out of 587 Last path =  D:\\TwitterUsers\\archiveTeam\\final_analysis\\hydration\\hydrated\\threading_objs\\hydrator_objs_165.txt 411 out of 587 Last path =  D:\\TwitterUsers\\archiveTeam\\final_analysis\\hydration\\hydrated\\threading_objs\\hydrator_objs_171.txt 422 out of 587 Last path =  D:\\TwitterUsers\\archiveTeam\\final_analysis\\hydration\\hydrated\\threading_objs\\hydrator_objs_181.txt 587 Last path =  D:\\TwitterUsers\\archiveTeam\\final_analysis\\hydration\\hydrated\\threading_objs\\hydrator_objs_189.txt 436 out of 587 Last path =  D:\\TwitterUsers\\archiveTeam\\final_analysis\\hydration\\hydrated\\threading_objs\\hydrator_objs_194.txt 441 out of 587 Last path =  D:\\TwitterUsers\\archiveTeam\\final_analysis\\hydration\\hydrated\\threading_objs\\hydrator_objs_199.txt 449 out of 587 Last path =  D:\\TwitterUsers\\archiveTeam\\final_analysis\\hydration\\hydrated\\threading_objs\\hydrator_objs_205.txt 459 out of 587 Last path =  D:\\TwitterUsers\\archiveTeam\\final_analysis\\hydration\\hydrated\\threading_objs\\hydrator_objs_214.txt 468 out of 587 Last path =  D:\\TwitterUsers\\archiveTeam\\final_analysis\\hydration\\hydrated\\threading_objs\\hydrator_objs_222.txt 477 out of 587 Last path =  D:\\TwitterUsers\\archiveTeam\\final_analysis\\hydration\\hydrated\\threading_objs\\hydrator_objs_230.txt 487 out of 587 Last path =  D:\\TwitterUsers\\archiveTeam\\final_analysis\\hydration\\hydrated\\threading_objs\\hydrator_objs_24.txt 495 out of 587 Last path =  D:\\TwitterUsers\\archiveTeam\\final_analysis\\hydration\\hydrated\\threading_objs\\hydrator_objs_247.txt 506 out of 587 Last path =  D:\\TwitterUsers\\archiveTeam\\final_analysis\\hydration\\hydrated\\threading_objs\\hydrator_objs_26.txt 525 out of 587 Last path =  D:\\TwitterUsers\\archiveTeam\\final_analysis\\hydration\\hydrated\\threading_objs\\hydrator_objs_43.txt 536 out of 587 Last path =  D:\\TwitterUsers\\archiveTeam\\final_analysis\\hydration\\hydrated\\threading_objs\\hydrator_objs_53.txt 547 out of 587 Last path =  D:\\TwitterUsers\\archiveTeam\\final_analysis\\hydration\\hydrated\\threading_objs\\hydrator_objs_63.txt 556 out of 587 Last path =  D:\\TwitterUsers\\archiveTeam\\final_analysis\\hydration\\hydrated\\threading_objs\\hydrator_objs_71.txt 566 out of 587 Last path =  D:\\TwitterUsers\\archiveTeam\\final_analysis\\hydration\\hydrated\\threading_objs\\hydrator_objs_80.txt D:\\TwitterUsers\\archiveTeam\\final_analysis\\hydration\\hydrated\\threading_objs\\hydrator_objs_91.txt\n"
     ]
    }
   ],
   "source": [
    "%%time\n",
    "#started at 16:00. finished at 16:55\n",
    "save_path = r\"D:\\TwitterUsers\\archiveTeam\\final_analysis\\create_hashtagged_tweets\\hashtagged_tweets_AT_38M.txt\"\n",
    "interesting_tweets = []\n",
    "for i,path in enumerate(paths):\n",
    "    day = Ec.pickle_loader(path)\n",
    "    interesting_tweets = [tweet for tweet in day if not set(tweet[\"hashtags\"]).isdisjoint(hashtags)]\n",
    "    Ec.pickle_dumper(save_path,interesting_tweets, mode = \"ab\")\n",
    "    interesting_tweets = []\n",
    "    print(\"Done\",i,\"out of\", total,\"Last path = \", path,  end = \"\\r\")\n",
    "    \n",
    "\n",
    "        "
   ]
  },
  {
   "cell_type": "markdown",
   "metadata": {},
   "source": [
    "Load 160'000 users and 10'000 users"
   ]
  },
  {
   "cell_type": "code",
   "execution_count": 24,
   "metadata": {},
   "outputs": [],
   "source": [
    "ok_users = set(Ec.pickle_loader(\"F:\\TwitterUsers\\processed_files\\AT_thread_output\\ok_users.txt\"))\n",
    "\n",
    "# load ids of monitored users\n",
    "monitored_users_objects = np.load(r\"D:\\TwitterUsers\\archiveTeam\\monitor\\initial_monitor_objs\\archiveTeam_initial_monitor_objs.npy\", allow_pickle = True)\n",
    "monitored_users_ids = set([user[\"user_id\"] for user in monitored_users_objects ])"
   ]
  },
  {
   "cell_type": "markdown",
   "metadata": {},
   "source": [
    "Load all hashtagged tweets"
   ]
  },
  {
   "cell_type": "code",
   "execution_count": 25,
   "metadata": {},
   "outputs": [],
   "source": [
    "hashtagged_tweets = Ec.loader_e(r\"D:\\TwitterUsers\\archiveTeam\\final_analysis\\create_hashtagged_tweets\\hashtagged_tweets_AT_38M.txt\")"
   ]
  },
  {
   "cell_type": "markdown",
   "metadata": {},
   "source": [
    "Extract only tweets written by the 160'000 users and save them"
   ]
  },
  {
   "cell_type": "code",
   "execution_count": 26,
   "metadata": {},
   "outputs": [],
   "source": [
    "hashtagged_tweets_160000 = [tweet for tweet in hashtagged_tweets if tweet[\"user_id\"] in ok_users ]\n",
    "Ec.pickle_dumper(r\"D:\\TwitterUsers\\archiveTeam\\final_analysis\\create_hashtagged_tweets\\hashtagged_tweets_AT_38M_160000.txt\",hashtagged_tweets_160000)"
   ]
  },
  {
   "cell_type": "markdown",
   "metadata": {},
   "source": [
    "Extract only tweets written by the 10'000 users and save them"
   ]
  },
  {
   "cell_type": "code",
   "execution_count": 27,
   "metadata": {},
   "outputs": [],
   "source": [
    "hashtagged_tweets_10000 = [tweet for tweet in hashtagged_tweets if tweet[\"user_id\"] in monitored_users_ids ]\n",
    "Ec.pickle_dumper(r\"D:\\TwitterUsers\\archiveTeam\\final_analysis\\create_hashtagged_tweets\\hashtagged_tweets_AT_38M_10000.txt\",hashtagged_tweets_10000)"
   ]
  },
  {
   "cell_type": "markdown",
   "metadata": {},
   "source": [
    "Compare"
   ]
  },
  {
   "cell_type": "code",
   "execution_count": 28,
   "metadata": {},
   "outputs": [
    {
     "name": "stdout",
     "output_type": "stream",
     "text": [
      "304416 224326 34301\n"
     ]
    }
   ],
   "source": [
    "print(len(hashtagged_tweets),len(hashtagged_tweets_160000),len(hashtagged_tweets_10000))"
   ]
  },
  {
   "cell_type": "markdown",
   "metadata": {},
   "source": [
    "## 2020 retweet network\n",
    "\n",
    "In this section, we extract all tweets, retweets and favourites 2020 timelines produced by the 10'000 that belong to 2012.\n",
    "### Retweet Network\n",
    "#### pre-monitor\n",
    "##### Hydration"
   ]
  },
  {
   "cell_type": "code",
   "execution_count": 2,
   "metadata": {},
   "outputs": [],
   "source": [
    "rtwt_pre = np.load(r\"F:\\TwitterUsers\\monitor\\retweet_network\\archiveTeam_retweet_network_objs.npy\", allow_pickle = True)"
   ]
  },
  {
   "cell_type": "code",
   "execution_count": 11,
   "metadata": {},
   "outputs": [],
   "source": [
    "rtwt_pre_tweet_ids = [tweet_id for user in rtwt_pre for tweet_id in user[\"tweets_ids\"]]"
   ]
  },
  {
   "cell_type": "code",
   "execution_count": 16,
   "metadata": {},
   "outputs": [],
   "source": [
    "# get hydrator threads\n",
    "hydrator_threads = Ec.get_hydrator_threads(n_threads = 60,path_start = r\"F:\\TwitterUsers\\monitor\\retweet_network\\hydration\\threading_objs\\hydrator_objs_\" ,ids =rtwt_pre_tweet_ids ,apps = cr.apps,save_every = 10, restart = False)"
   ]
  },
  {
   "cell_type": "code",
   "execution_count": 17,
   "metadata": {
    "collapsed": true,
    "jupyter": {
     "outputs_hidden": true
    }
   },
   "outputs": [
    {
     "name": "stdout",
     "output_type": "stream",
     "text": [
      "thread0 thread1Started with Started with 3000 tweet ids to hydrate\n",
      " 3000 tweet ids to hydrate\n",
      "thread2 thread3 Started with 3000 tweet ids to hydrate\n",
      "Started withthread4  3000Started with 3000 tweet ids to hydrate\n",
      "thread5  Started with 3000 tweet ids to hydrate\n",
      "tweet ids to hydrate\n",
      "thread6 thread7Started with  thread83000Started with thread9 Started with 3000 tweet ids to hydrate\n",
      " Started withtweet ids to hydrate thread10\n",
      "3000   tweet ids to hydrate\n",
      "Started with3000thread11  tweet ids to hydrate\n",
      "3000 Started with thread12tweet ids to hydrate  Started with 3000 tweet ids to hydrate\n",
      "3000 tweet ids to hydrate\n",
      "thread13\n",
      " Started withthread14 Started with 3000 tweet ids to hydrate\n",
      " 3000thread15  thread16 Started with 3000 tweet ids to hydrate\n",
      "tweet ids to hydrate\n",
      "Started with 3000 tweet ids to hydrate\n",
      "thread17 thread18 Started withStarted withthread19 Started with 3000 tweet ids to hydrate\n",
      "  thread20 Started with 3000 tweet ids to hydrate\n",
      "30003000  tweet ids to hydratetweet ids to hydrate\n",
      "\n",
      "thread21 Started with 3000 tweet ids to hydrate\n",
      "thread22 Started with 3000 tweet ids to hydrate\n",
      "thread23 thread24Started with 3000  Started with 3000 tweet ids to hydrate\n",
      "tweet ids to hydrate\n",
      "thread25 Started with 3000 tweet ids to hydrate\n",
      "thread26 Started with 3000 tweet ids to hydrate\n",
      "thread27 Started with 3000 tweet ids to hydrate\n",
      "thread28 Started with 3000 tweet ids to hydrate\n",
      "thread29 Started with 3000 tweet ids to hydrate\n",
      "thread30 Started with thread313000  thread32Started with 3000 tweet ids to hydrate\n",
      " Started with 3000 tweet ids to hydrate\n",
      "tweet ids to hydrate\n",
      "thread33 Started withthread34 3000 tweet ids to hydrate\n",
      " thread35 Started with 3000 tweet ids to hydrate\n",
      "Started with 3000 tweet ids to hydrate\n",
      "thread36 Started with 3000 tweet ids to hydrate\n",
      "thread37 thread38Started with  3000 tweet ids to hydrate\n",
      "thread39Started with 3000 tweet ids to hydrate\n",
      " Started with thread403000 tweet ids to hydrate\n",
      " thread41Started with 3000 tweet ids to hydrate\n",
      " Started with 3000 tweet ids to hydrate\n",
      "thread42 thread43 Started with 3000 tweet ids to hydrate\n",
      "Started withthread44  3000 tweet ids to hydrate\n",
      "Started with 3000 tweet ids to hydrate\n",
      "thread45 thread46Started with Started with 3000 tweet ids to hydrate\n",
      "thread47 3000 tweet ids to hydrate\n",
      " thread48Started with Started with 3000 tweet ids to hydrate\n",
      " thread49 3000thread50 Started with 3000 tweet ids to hydrate\n",
      "Started withthread51  Started with thread523000   tweet ids to hydrate\n",
      "Started with3000tweet ids to hydratethread53 Started with 3000 tweet ids to hydrate\n",
      "\n",
      " 3000 tweet ids to hydrate\n",
      "thread54  Started with 3000 tweet ids to hydrate\n",
      "tweet ids to hydratethread55 Started with 3000 tweet ids to hydrate\n",
      "\n",
      "thread56 Started with 3000 tweet ids to hydrate\n",
      "thread57 thread58Started with 3000 tweet ids to hydrate\n",
      "thread59  Started with 3000 tweet ids to hydrate\n",
      "Started with 3000 tweet ids to hydrate\n",
      "thread30 :finished last save_every, remaining_tweets =  0\n",
      "thread30 FINISHED\n",
      "thread53 :finished last save_every, remaining_tweets =  0\n",
      "thread53 FINISHED\n",
      "thread46 :finished last save_every, remaining_tweets =  0\n",
      "thread46 FINISHED\n",
      "thread54 :finished last save_every, remaining_tweets =  0\n",
      "thread54 thread31 FINISHED:finished last save_every, remaining_tweets = \n",
      " 0\n",
      "thread31 FINISHED\n",
      "thread45 :finished last save_every, remaining_tweets =  0\n",
      "thread45 FINISHED\n",
      "thread38 :finished last save_every, remaining_tweets =  0\n",
      "thread32 :finished last save_every, remaining_tweets =  0\n",
      "thread38 FINISHED\n",
      "thread32 FINISHED\n",
      "thread58 thread51 :finished last save_every, remaining_tweets =  0\n",
      ":finished last save_every, remaining_tweets =  0\n",
      "thread51 FINISHED\n",
      "thread58 FINISHED\n",
      "thread24 :finished last save_every, remaining_tweets =  0\n",
      "thread44thread24 :finished last save_every, remaining_tweets =  0\n",
      " FINISHED\n",
      "thread44 FINISHED\n",
      "thread55 :finished last save_every, remaining_tweets =  0\n",
      "thread55 FINISHED\n",
      "thread5 :finished last save_every, remaining_tweets =  0\n",
      "thread52thread5  :finished last save_every, remaining_tweets = FINISHED\n",
      " 0\n",
      "thread6 :finished last save_every, remaining_tweets =  thread52 FINISHED\n",
      "0\n",
      "thread6 FINISHED\n",
      "thread47 :finished last save_every, remaining_tweets =  0\n",
      "thread47 FINISHED\n",
      "thread21 :finished last save_every, remaining_tweets =  0\n",
      "thread21 FINISHED\n",
      "thread10 :finished last save_every, remaining_tweets =  0\n",
      "thread27thread28 thread10  :finished last save_every, remaining_tweets = :finished last save_every, remaining_tweets =  FINISHED\n",
      "0\n",
      "thread57 0\n",
      " :finished last save_every, remaining_tweets =  0\n",
      "thread29 thread28:finished last save_every, remaining_tweets = thread57 FINISHED  \n",
      "FINISHED\n",
      "0thread11\n",
      "thread27  FINISHED:finished last save_every, remaining_tweets =  \n",
      "0thread29\n",
      " FINISHED\n",
      "thread43thread23 :finished last save_every, remaining_tweets =  0\n",
      " :finished last save_every, remaining_tweets =  0\n",
      "thread11 FINISHED\n",
      "thread43thread23 FINISHED FINISHED\n",
      "\n",
      "thread9 :finished last save_every, remaining_tweets =  0\n",
      "thread9 FINISHED\n",
      "thread33 :finished last save_every, remaining_tweets =  0\n",
      "thread20 thread7thread33 thread19 :finished last save_every, remaining_tweets =  0\n",
      " :finished last save_every, remaining_tweets = :finished last save_every, remaining_tweets =  0\n",
      "FINISHED thread170\n",
      "thread22\n",
      "thread19   thread20 :finished last save_every, remaining_tweets = :finished last save_every, remaining_tweets = FINISHEDFINISHED  \n",
      "00\n",
      "\n",
      "\n",
      "thread14 :finished last save_every, remaining_tweets =  0\n",
      "thread7 FINISHEDthread22\n",
      " thread17FINISHED FINISHED\n",
      "\n",
      "thread14 FINISHED\n",
      "thread0 :finished last save_every, remaining_tweets =  0\n",
      "thread0 FINISHED\n",
      "thread26 :finished last save_every, remaining_tweets =  0\n",
      "thread26 thread59FINISHED\n",
      " :finished last save_every, remaining_tweets =  0\n",
      "thread4 :finished last save_every, remaining_tweets =  0\n",
      "thread59 FINISHED\n",
      "thread4 FINISHED\n",
      "thread8 :finished last save_every, remaining_tweets =  0\n",
      "thread37 :finished last save_every, remaining_tweets =  0\n",
      "thread8 FINISHED\n",
      "thread37 FINISHED\n",
      "thread41 :finished last save_every, remaining_tweets = thread25  0\n",
      ":finished last save_every, remaining_tweets =  0\n",
      "thread41thread25  FINISHED\n",
      "FINISHED\n",
      "thread16 :finished last save_every, remaining_tweets =  0\n",
      "thread16 FINISHED\n",
      "thread3 thread35:finished last save_every, remaining_tweets =  0\n",
      " :finished last save_every, remaining_tweets =  0\n",
      "thread3 FINISHED\n",
      "thread35 FINISHED\n",
      "thread40thread50  :finished last save_every, remaining_tweets =  0\n",
      ":finished last save_every, remaining_tweets =  0\n",
      "thread40 FINISHED\n",
      "thread50 FINISHEDthread42\n",
      " :finished last save_every, remaining_tweets =  thread36 :finished last save_every, remaining_tweets =  0\n",
      "0\n",
      "thread15 :finished last save_every, remaining_tweets = thread42 FINISHED\n",
      " 0\n",
      "thread15thread36  FINISHED\n",
      "FINISHED\n",
      "thread18 :finished last save_every, remaining_tweets =  0\n",
      "thread18 FINISHED\n",
      "thread49 :finished last save_every, remaining_tweets =  0thread12\n",
      " :finished last save_every, remaining_tweets =  0\n",
      "thread49 thread12FINISHED FINISHED\n",
      "\n",
      "thread34 :finished last save_every, remaining_tweets =  0\n",
      "thread34 FINISHED\n",
      "thread2 :finished last save_every, remaining_tweets =  0\n",
      "thread2 FINISHED\n",
      "thread56 :finished last save_every, remaining_tweets =  0\n",
      "thread56 FINISHED\n",
      "thread1 :finished last save_every, remaining_tweets =  0\n",
      "thread1 FINISHED\n",
      "thread39 :finished last save_every, remaining_tweets =  0\n",
      "thread39 FINISHED\n",
      "thread13 :finished last save_every, remaining_tweets =  0\n",
      "thread13 FINISHED\n",
      "thread48 :finished last save_every, remaining_tweets =  0\n",
      "thread48 FINISHED\n"
     ]
    }
   ],
   "source": [
    "Ec.start_threads(hydrator_threads)"
   ]
  },
  {
   "cell_type": "code",
   "execution_count": 18,
   "metadata": {},
   "outputs": [
    {
     "name": "stdout",
     "output_type": "stream",
     "text": [
      "reading...\n",
      "concatenating\n",
      "saving\n"
     ]
    }
   ],
   "source": [
    "Ec.objs_txt_unifier(threading_folder = r\"F:\\TwitterUsers\\monitor\\retweet_network\\hydration\\threading_objs\" , destination_folder =r\"F:\\TwitterUsers\\monitor\\retweet_network\\hydration\", name = \"10000_hydrated_objs_pre_monitor\", mode = \"e\")"
   ]
  },
  {
   "cell_type": "markdown",
   "metadata": {},
   "source": [
    "Load hydrated tweets and extract all tweets with date < 2012"
   ]
  },
  {
   "cell_type": "code",
   "execution_count": 20,
   "metadata": {},
   "outputs": [],
   "source": [
    "tweets_10000_pre_monitor = np.load(r\"F:\\TwitterUsers\\monitor\\retweet_network\\hydration\\10000_hydrated_objs_pre_monitor.npy\", allow_pickle = True)"
   ]
  },
  {
   "cell_type": "code",
   "execution_count": 22,
   "metadata": {},
   "outputs": [
    {
     "data": {
      "text/plain": [
       "{'tweet_id': 1311861496813625345,\n",
       " 'retweeted_tweet_id': 1311859196892151808,\n",
       " 'retweeted_user_id': 21175250,\n",
       " 'hashtags': [],\n",
       " 'tweet_created_at': 'Fri Oct 02 02:52:08 +0000 2020',\n",
       " 'text': 'RT @PerryStein: The D.C. mayor is expected to make an announcement soon  on whether schools will reopen in Nov. -- and the union and school…',\n",
       " 'user_mentions': [21175250],\n",
       " 'user_id': 21797658,\n",
       " 'profile_created_at': datetime.datetime(2009, 2, 24, 21, 6, 37),\n",
       " 'followers_count': 11850,\n",
       " 'friends_count': 914,\n",
       " 'statuses_count': 3548,\n",
       " 'favourites_count': 545}"
      ]
     },
     "execution_count": 22,
     "metadata": {},
     "output_type": "execute_result"
    }
   ],
   "source": [
    "tweets_10000_pre_monitor[0]"
   ]
  },
  {
   "cell_type": "code",
   "execution_count": 50,
   "metadata": {},
   "outputs": [],
   "source": [
    "tweets_10000_pre_monitor_2012 = [tweet for tweet in tweets_10000_pre_monitor if int(tweet[\"tweet_created_at\"][-4:]) == 2012]"
   ]
  },
  {
   "cell_type": "code",
   "execution_count": 51,
   "metadata": {},
   "outputs": [
    {
     "data": {
      "text/plain": [
       "[{'tweet_id': 258381822562541569,\n",
       "  'retweeted_tweet_id': [],\n",
       "  'retweeted_user_id': [],\n",
       "  'hashtags': ['debates', 'ObamaWinning'],\n",
       "  'tweet_created_at': 'Wed Oct 17 01:40:01 +0000 2012',\n",
       "  'text': \"I'm watching @abc's livestream of the #debates. I think @BarackObama is winning. What do you think? http://t.co/ThWj3SvJ #ObamaWinning\",\n",
       "  'user_mentions': [28785486, 813286],\n",
       "  'user_id': 702191222,\n",
       "  'profile_created_at': datetime.datetime(2012, 7, 18, 2, 24, 6),\n",
       "  'followers_count': 5,\n",
       "  'friends_count': 0,\n",
       "  'statuses_count': 1,\n",
       "  'favourites_count': 0}]"
      ]
     },
     "execution_count": 51,
     "metadata": {},
     "output_type": "execute_result"
    }
   ],
   "source": [
    "tweets_10000_pre_monitor_2012 #there is only one..."
   ]
  },
  {
   "cell_type": "markdown",
   "metadata": {},
   "source": [
    "Let's try with post monitor hydrated tweets from the 10'000"
   ]
  },
  {
   "cell_type": "code",
   "execution_count": 54,
   "metadata": {},
   "outputs": [
    {
     "data": {
      "text/plain": [
       "datetime.datetime(2012, 10, 17, 1, 40, 1)"
      ]
     },
     "execution_count": 54,
     "metadata": {},
     "output_type": "execute_result"
    }
   ],
   "source": [
    "datetime.strptime('Wed Oct 17 01:40:01 +0000 2012'[:19]+'Wed Oct 17 01:40:01 +0000 2012'[25:], \"%a %b %d %H:%M:%S %Y\")"
   ]
  },
  {
   "cell_type": "code",
   "execution_count": 25,
   "metadata": {},
   "outputs": [],
   "source": [
    "tweets_10000_post_monitor = np.load(r\"F:\\TwitterUsers\\monitor\\retweet_network_final\\monitored\\hydrated_tweets\\10000_hydrated_objs.npy\", allow_pickle = True)"
   ]
  },
  {
   "cell_type": "code",
   "execution_count": 57,
   "metadata": {},
   "outputs": [],
   "source": [
    "# consider only tweets produced in 2012\n",
    "tweets_10000_post_monitor_2012 = [tweet for tweet in tweets_10000_post_monitor if datetime.strptime(tweet[\"tweet_created_at\"][:19]+tweet[\"tweet_created_at\"][25:], \"%a %b %d %H:%M:%S %Y\") <= datetime.strptime(\"2012-11-01\", \"%Y-%m-%d\") and datetime.strptime(tweet[\"tweet_created_at\"][:19]+tweet[\"tweet_created_at\"][25:], \"%a %b %d %H:%M:%S %Y\")  >=  datetime.strptime(\"2012-01-01\", \"%Y-%m-%d\")]"
   ]
  },
  {
   "cell_type": "code",
   "execution_count": 58,
   "metadata": {},
   "outputs": [],
   "source": [
    "authors_10000_post_monitor_2012 = set([tweet[\"user_id\"] for tweet in tweets_10000_post_monitor_2012])"
   ]
  },
  {
   "cell_type": "code",
   "execution_count": 59,
   "metadata": {},
   "outputs": [
    {
     "data": {
      "text/plain": [
       "54"
      ]
     },
     "execution_count": 59,
     "metadata": {},
     "output_type": "execute_result"
    }
   ],
   "source": [
    "len(authors_10000_post_monitor_2012)# only 63 authors..."
   ]
  },
  {
   "cell_type": "markdown",
   "metadata": {},
   "source": [
    "Load relevant hashtags and extract only those tweets that contain them"
   ]
  },
  {
   "cell_type": "code",
   "execution_count": 36,
   "metadata": {},
   "outputs": [],
   "source": [
    "with open(r\"F:\\TwitterUsers\\processed_files\\hashtags\\hashtags_1_filtered.txt\", \"rb\") as f:\n",
    "    hashtags = set(pickle.load(f))\n",
    "    f.close()"
   ]
  },
  {
   "cell_type": "code",
   "execution_count": 60,
   "metadata": {},
   "outputs": [],
   "source": [
    "tweets_10000_2012 = np.concatenate((tweets_10000_post_monitor_2012 ,tweets_10000_pre_monitor_2012))"
   ]
  },
  {
   "cell_type": "code",
   "execution_count": 61,
   "metadata": {},
   "outputs": [
    {
     "data": {
      "text/plain": [
       "(46140,)"
      ]
     },
     "execution_count": 61,
     "metadata": {},
     "output_type": "execute_result"
    }
   ],
   "source": [
    "tweets_10000_2012.shape"
   ]
  },
  {
   "cell_type": "code",
   "execution_count": 62,
   "metadata": {},
   "outputs": [],
   "source": [
    "authors_10000_2012_relevant = [tweet for tweet in tweets_10000_2012 if not set(tweet[\"hashtags\"]).isdisjoint(hashtags)]"
   ]
  },
  {
   "cell_type": "code",
   "execution_count": 63,
   "metadata": {},
   "outputs": [
    {
     "data": {
      "text/plain": [
       "2633"
      ]
     },
     "execution_count": 63,
     "metadata": {},
     "output_type": "execute_result"
    }
   ],
   "source": [
    "len(authors_10000_2012_relevant)"
   ]
  },
  {
   "cell_type": "markdown",
   "metadata": {},
   "source": [
    "Load previously saved `hashtagged_tweets_AT_38M_10000.txt`"
   ]
  },
  {
   "cell_type": "code",
   "execution_count": 46,
   "metadata": {},
   "outputs": [],
   "source": [
    "with open(r\"D:\\TwitterUsers\\archiveTeam\\final_analysis\\create_hashtagged_tweets\\hashtagged_tweets_AT_38M_10000.txt\", \"rb\") as f:\n",
    "    hashtagged_tweets_AT_38M_10000 = pickle.load(f)\n",
    "    f.close()"
   ]
  },
  {
   "cell_type": "code",
   "execution_count": 68,
   "metadata": {},
   "outputs": [
    {
     "data": {
      "text/plain": [
       "34301"
      ]
     },
     "execution_count": 68,
     "metadata": {},
     "output_type": "execute_result"
    }
   ],
   "source": [
    "len(hashtagged_tweets_AT_38M_10000)"
   ]
  },
  {
   "cell_type": "code",
   "execution_count": 67,
   "metadata": {},
   "outputs": [
    {
     "data": {
      "text/plain": [
       "36934"
      ]
     },
     "execution_count": 67,
     "metadata": {},
     "output_type": "execute_result"
    }
   ],
   "source": [
    "#concatenate teets coming form AT + 38M and user timelines\n",
    "all_tweets = authors_10000_2012_relevant + hashtagged_tweets_AT_38M_10000\n",
    "len(all_tweets)"
   ]
  },
  {
   "cell_type": "code",
   "execution_count": 70,
   "metadata": {},
   "outputs": [],
   "source": [
    "# save\n",
    "with open(r\"D:\\TwitterUsers\\archiveTeam\\final_analysis\\create_hashtagged_tweets\\hashtagged_tweets_AT_38M_2020_timelines_10000.txt\", \"wb\") as f:\n",
    "    pickle.dump(all_tweets,f )\n",
    "    f.close()"
   ]
  },
  {
   "cell_type": "markdown",
   "metadata": {},
   "source": [
    "## Inferred 2012 tweets ids hydration ( aka the new ArchiveTeam)\n",
    "We now plan to infer all 2012 tweets ids, by taking all those numbers between the first and the last 2012 At id "
   ]
  },
  {
   "cell_type": "code",
   "execution_count": 71,
   "metadata": {},
   "outputs": [],
   "source": [
    "# load first processed day and extract first id\n",
    "with open(r\"F:\\TwitterUsers\\saved_objs_withKeywords\\01\\objs_0.txt\", \"rb\") as f:\n",
    "    first_day = pickle.load(f)\n",
    "    f.close()"
   ]
  },
  {
   "cell_type": "code",
   "execution_count": 74,
   "metadata": {},
   "outputs": [
    {
     "data": {
      "text/plain": [
       "153369867985240064"
      ]
     },
     "execution_count": 74,
     "metadata": {},
     "output_type": "execute_result"
    }
   ],
   "source": [
    "first_id =  first_day[0][\"tweet_id\"]\n",
    "first_id"
   ]
  },
  {
   "cell_type": "code",
   "execution_count": 75,
   "metadata": {},
   "outputs": [],
   "source": [
    "# load last processed day and extract last id\n",
    "with open(r\"F:\\TwitterUsers\\saved_objs_withKeywords\\11\\objs_29.txt\", \"rb\") as f:\n",
    "    last_day = pickle.load(f)\n",
    "    f.close()"
   ]
  },
  {
   "cell_type": "code",
   "execution_count": 76,
   "metadata": {},
   "outputs": [
    {
     "data": {
      "text/plain": [
       "274769798787907584"
      ]
     },
     "execution_count": 76,
     "metadata": {},
     "output_type": "execute_result"
    }
   ],
   "source": [
    "last_id =  last_day[-1][\"tweet_id\"]\n",
    "last_id"
   ]
  },
  {
   "cell_type": "code",
   "execution_count": 78,
   "metadata": {},
   "outputs": [
    {
     "data": {
      "text/plain": [
       "121399930802667520"
      ]
     },
     "execution_count": 78,
     "metadata": {},
     "output_type": "execute_result"
    }
   ],
   "source": [
    "num_tweets = last_id-first_id\n",
    "num_tweets #they are too many"
   ]
  },
  {
   "cell_type": "markdown",
   "metadata": {},
   "source": [
    "They are too many, we cannot hydrate them all. So let's repeat the same trick during election period"
   ]
  },
  {
   "cell_type": "code",
   "execution_count": 86,
   "metadata": {},
   "outputs": [],
   "source": [
    "# load first processed election day and extract first id\n",
    "with open(r\"F:\\TwitterUsers\\saved_objs_withKeywords\\10\\objs_20.txt\", \"rb\") as f:\n",
    "    first_election_day = pickle.load(f)\n",
    "    f.close()"
   ]
  },
  {
   "cell_type": "code",
   "execution_count": 87,
   "metadata": {},
   "outputs": [
    {
     "data": {
      "text/plain": [
       "259901079158927360"
      ]
     },
     "execution_count": 87,
     "metadata": {},
     "output_type": "execute_result"
    }
   ],
   "source": [
    "first_election_id =  first_election_day[0][\"tweet_id\"]\n",
    "first_election_id"
   ]
  },
  {
   "cell_type": "code",
   "execution_count": 88,
   "metadata": {},
   "outputs": [],
   "source": [
    "# load last processed election day and extract last id\n",
    "with open(r\"F:\\TwitterUsers\\saved_objs_withKeywords\\11\\objs_11.txt\", \"rb\") as f:\n",
    "    last_election_day = pickle.load(f)\n",
    "    f.close()"
   ]
  },
  {
   "cell_type": "code",
   "execution_count": 89,
   "metadata": {},
   "outputs": [
    {
     "data": {
      "text/plain": [
       "268303691948367872"
      ]
     },
     "execution_count": 89,
     "metadata": {},
     "output_type": "execute_result"
    }
   ],
   "source": [
    "last_election_id =  last_election_day[-1][\"tweet_id\"]\n",
    "last_election_id"
   ]
  },
  {
   "cell_type": "code",
   "execution_count": 85,
   "metadata": {},
   "outputs": [
    {
     "data": {
      "text/plain": [
       "9127388520640513"
      ]
     },
     "execution_count": 85,
     "metadata": {},
     "output_type": "execute_result"
    }
   ],
   "source": [
    "num_election_tweets = last_election_id-first_election_id\n",
    "num_election_tweets #they are too many"
   ]
  },
  {
   "cell_type": "code",
   "execution_count": 90,
   "metadata": {},
   "outputs": [
    {
     "data": {
      "text/plain": [
       "8402612789440512"
      ]
     },
     "execution_count": 90,
     "metadata": {},
     "output_type": "execute_result"
    }
   ],
   "source": [
    "num_election_tweets = last_election_id-first_election_id\n",
    "num_election_tweets #they are too many"
   ]
  },
  {
   "cell_type": "markdown",
   "metadata": {},
   "source": [
    "## KDE fitting vs naive hydration\n",
    "Here we compare hydration performance of tweet_ids resulting from kde fitting during the first ?? days of january vs the naive, difference based approach above. <br>\n",
    "Let's load tweet ids:"
   ]
  },
  {
   "cell_type": "code",
   "execution_count": 57,
   "metadata": {},
   "outputs": [],
   "source": [
    "def get_utc(date_str):\n",
    "    return datetime.strptime(date_str[:19]+date_str[25:], \"%a %b %d %H:%M:%S %Y\").timestamp()"
   ]
  },
  {
   "cell_type": "code",
   "execution_count": 15,
   "metadata": {},
   "outputs": [
    {
     "name": "stdout",
     "output_type": "stream",
     "text": [
      "Wall time: 10.7 s\n"
     ]
    }
   ],
   "source": [
    "%%time\n",
    "paths = Ec.get_listOfFiles(r\"F:\\TwitterUsers\\saved_objs_withKeywords\\02\")\n",
    "all_tweets_ids =[]\n",
    "dates_ids = []\n",
    "total = len(paths)\n",
    "\n",
    "day = Ec.pickle_loader(paths[0])\n",
    "first_date = datetime.strptime(day[][\"tweet_created_at\"][:19]+day[0][\"tweet_created_at\"][25:], \"%a %b %d %H:%M:%S %Y\")\n",
    "for i,path in enumerate(paths):\n",
    "    day  = Ec.pickle_loader(path)\n",
    "#     for tweet in day:\n",
    "#         dates_ids[datetime.strptime(tweet[\"tweet_created_at\"][:19]+tweet[\"tweet_created_at\"][25:], \"%a %b %d %H:%M:%S %Y\")] = tweet[\"tweet_id\"]\n",
    "    dates_ids.extend([(tweet[\"tweet_created_at\"],tweet[\"tweet_id\"]) for tweet in day])\n",
    "    print(\"done\", i, \"out of\", total, end = \"\\r\")"
   ]
  },
  {
   "cell_type": "code",
   "execution_count": null,
   "metadata": {},
   "outputs": [],
   "source": [
    "Ec.pickle_dumper(r\"D:\\TwitterUsers\\archiveTeam\\final_analysis\\create_hashtagged_tweets\\2012_10000_grab\\all_february_tweets_ids.txt\",all_tweets_ids)"
   ]
  },
  {
   "cell_type": "code",
   "execution_count": 45,
   "metadata": {},
   "outputs": [
    {
     "data": {
      "text/plain": [
       "18250"
      ]
     },
     "execution_count": 45,
     "metadata": {},
     "output_type": "execute_result"
    }
   ],
   "source": [
    "first_timestamp = get_utc(day[0][\"tweet_created_at\"])\n",
    "day_dates_ids = [( get_utc(tweet[\"tweet_created_at\"]) - first_timestamp ,tweet[\"tweet_id\"]) for tweet in day]"
   ]
  },
  {
   "cell_type": "code",
   "execution_count": 65,
   "metadata": {},
   "outputs": [
    {
     "data": {
      "text/plain": [
       "172170"
      ]
     },
     "execution_count": 65,
     "metadata": {},
     "output_type": "execute_result"
    }
   ],
   "source": [
    "sampled_tweets_ids = [day_dates_ids[i] for i in range(len(day_dates_ids)) if i%10 == 0 ]\n",
    "len(sampled_tweets_ids)"
   ]
  },
  {
   "cell_type": "code",
   "execution_count": 66,
   "metadata": {},
   "outputs": [
    {
     "data": {
      "image/png": "[encoded data removed]",
      "text/plain": [
       "<Figure size 720x720 with 1 Axes>"
      ]
     },
     "metadata": {
      "needs_background": "light"
     },
     "output_type": "display_data"
    }
   ],
   "source": [
    "fig,ax = plt.subplots(1,1,figsize = (10,10))\n",
    "_ = ax.scatter([sample[0] for sample in sampled_tweets_ids ],[sample[1] for sample in sampled_tweets_ids] )"
   ]
  },
  {
   "cell_type": "markdown",
   "metadata": {},
   "source": [
    "Visualiza tweet ids"
   ]
  },
  {
   "cell_type": "code",
   "execution_count": 12,
   "metadata": {},
   "outputs": [],
   "source": [
    "sampled_tweets_ids = [all_tweets_ids[i] for i in range(len(all_tweets_ids)) if i%1000 == 0 ]"
   ]
  },
  {
   "cell_type": "code",
   "execution_count": 13,
   "metadata": {},
   "outputs": [
    {
     "data": {
      "text/plain": [
       "49263"
      ]
     },
     "execution_count": 13,
     "metadata": {},
     "output_type": "execute_result"
    }
   ],
   "source": [
    "len(sampled_tweets_ids)"
   ]
  },
  {
   "cell_type": "code",
   "execution_count": 9,
   "metadata": {},
   "outputs": [
    {
     "data": {
      "image/png": "[encoded data removed]",
      "text/plain": [
       "<Figure size 720x720 with 1 Axes>"
      ]
     },
     "metadata": {
      "needs_background": "light"
     },
     "output_type": "display_data"
    }
   ],
   "source": [
    "fig,ax = plt.subplots(1,1,figsize = (10,10))\n",
    "_ = ax.scatter(range(0,len(sampled_tweets_ids)),sampled_tweets_ids )"
   ]
  },
  {
   "cell_type": "code",
   "execution_count": 14,
   "metadata": {},
   "outputs": [
    {
     "data": {
      "image/png": "[encoded data removed]",
      "text/plain": [
       "<Figure size 720x720 with 1 Axes>"
      ]
     },
     "metadata": {
      "needs_background": "light"
     },
     "output_type": "display_data"
    }
   ],
   "source": [
    "fig,ax = plt.subplots(1,1,figsize = (10,10))\n",
    "_ = ax.scatter(range(0,len(sampled_tweets_ids)),sampled_tweets_ids )"
   ]
  },
  {
   "cell_type": "code",
   "execution_count": 78,
   "metadata": {},
   "outputs": [
    {
     "name": "stdout",
     "output_type": "stream",
     "text": [
      "Wall time: 10.3 s\n"
     ]
    }
   ],
   "source": [
    "%%time\n",
    "all_tweets_ids_unique = np.array(list(set(all_tweets_ids)))\n",
    "all_tweets_ids_unique_sk = all_tweets_ids_unique.reshape(-1,1)"
   ]
  },
  {
   "cell_type": "code",
   "execution_count": 79,
   "metadata": {},
   "outputs": [
    {
     "name": "stdout",
     "output_type": "stream",
     "text": [
      "Wall time: 787 ms\n"
     ]
    }
   ],
   "source": [
    "%%time\n",
    "kernel_scot = stats.gaussian_kde(all_tweets_ids_unique, bw_method  = \"scott\")\n",
    "kernel_silverman = stats.gaussian_kde(all_tweets_ids_unique, bw_method  = \"silverman\")\n",
    "kernel_bw = stats.gaussian_kde(all_tweets_ids_unique, bw_method  = 0.01)"
   ]
  },
  {
   "cell_type": "code",
   "execution_count": 24,
   "metadata": {},
   "outputs": [
    {
     "data": {
      "text/plain": [
       "KernelDensity(bandwidth=0.5)"
      ]
     },
     "execution_count": 24,
     "metadata": {},
     "output_type": "execute_result"
    }
   ],
   "source": [
    "# instantiate and fit the KDE model\n",
    "%%time\n",
    "kernel_sk = KernelDensity(bandwidth=0.5, kernel='gaussian')\n",
    "kernel_sk.fit(all_tweets_ids_unique_sk)"
   ]
  },
  {
   "cell_type": "code",
   "execution_count": 80,
   "metadata": {},
   "outputs": [
    {
     "name": "stdout",
     "output_type": "stream",
     "text": [
      "Wall time: 869 ms\n"
     ]
    }
   ],
   "source": [
    "%%time\n",
    "data_sample = np.random.choice(all_tweets_ids_unique, 10000, replace=False)\n",
    "predicted_scot = kernel_scot.resample(10000)\n",
    "predicted_silverman = kernel_silverman.resample(10000)\n",
    "predicted_bw  = kernel_bw.resample(10000)\n",
    "#predicted_sk = kernel_sk.sample(10000)\n",
    "#predicted_sk_flt = [val[0] for val in predicted_sk]\n",
    "uniform_sample = np.random.uniform(all_tweets_ids[0],all_tweets_ids[-1], 10000)"
   ]
  },
  {
   "cell_type": "code",
   "execution_count": 81,
   "metadata": {},
   "outputs": [
    {
     "data": {
      "image/png": "[encoded data removed]",
      "text/plain": [
       "<Figure size 720x1080 with 6 Axes>"
      ]
     },
     "metadata": {
      "needs_background": "light"
     },
     "output_type": "display_data"
    }
   ],
   "source": [
    "fig, (ax1,ax2,ax3,ax4,ax5,ax6) = plt.subplots(6,1, figsize = (10,15))\n",
    "ax1.set_title(\"real tweet ids binned distribution\")\n",
    "_ = ax1.hist( data_sample, bins = 100, density = True)\n",
    "ax2.set_title(\"scott\")\n",
    "_ = ax2.hist( predicted_scot[0], bins = 100, density = True)\n",
    "ax3.set_title(\"silverman\")\n",
    "_ = ax3.hist( predicted_silverman[0], bins = 100, density = True)\n",
    "ax4.set_title(\"bw\")\n",
    "_ = ax4.hist( predicted_bw[0], bins = 100, density = True)\n",
    "ax5.set_title(\"sk\")\n",
    "_ = ax5.hist( predicted_sk_flt, bins = 100, density = True)\n",
    "ax6.set_title(\"unif\")\n",
    "_ = ax6.hist( uniform_sample, bins = 100, density = True)\n",
    "plt.tight_layout()\n",
    "#ax.hist(predicted_sample,bins = 1000, density = True)"
   ]
  },
  {
   "cell_type": "markdown",
   "metadata": {},
   "source": [
    "Now let's do it during the election period ( when we have more chances to get interesting hashtags)"
   ]
  },
  {
   "cell_type": "code",
   "execution_count": 82,
   "metadata": {},
   "outputs": [
    {
     "name": "stdout",
     "output_type": "stream",
     "text": [
      "25\n"
     ]
    }
   ],
   "source": [
    "#only 25 days\n",
    "october_folder = r\"F:\\TwitterUsers\\saved_objs_withKeywords\\10\\\\\"\n",
    "november_folder = r\"F:\\TwitterUsers\\saved_objs_withKeywords\\11\\\\\"\n",
    "\n",
    "october_all_days = Ec.get_listOfFiles(october_folder)\n",
    "november_all_days = Ec.get_listOfFiles(november_folder)\n",
    "\n",
    "\n",
    "october_interesting_days = []\n",
    "november_interesting_days = []\n",
    "for i in range(len(october_all_days)):\n",
    "    if int(october_all_days[i][october_all_days[i].rfind(\"objs_\")+len(\"objs_\"):october_all_days[i].rfind(\".txt\")]) >= 19:\n",
    "        october_interesting_days.append(october_all_days[i])\n",
    "        \n",
    "\n",
    "for i in range(len(november_all_days)):\n",
    "    if int(november_all_days[i][november_all_days[i].rfind(\"objs_\")+len(\"objs_\"):november_all_days[i].rfind(\".txt\")]) <= 12:\n",
    "        november_interesting_days.append(november_all_days[i])\n",
    "        \n",
    "interesting_days = october_interesting_days + november_interesting_days\n",
    "total = len(interesting_days)\n",
    "print(total)"
   ]
  },
  {
   "cell_type": "code",
   "execution_count": 83,
   "metadata": {},
   "outputs": [
    {
     "name": "stdout",
     "output_type": "stream",
     "text": [
      "done 24 out of 25\r"
     ]
    }
   ],
   "source": [
    "all_tweets_ids =[]\n",
    "for i,path in enumerate(interesting_days):\n",
    "    day  = Ec.pickle_loader(path)\n",
    "    all_tweets_ids.extend([tweet[\"tweet_id\"] for tweet in day])\n",
    "    print(\"done\", i, \"out of\", total, end = \"\\r\")"
   ]
  },
  {
   "cell_type": "code",
   "execution_count": 84,
   "metadata": {},
   "outputs": [
    {
     "name": "stdout",
     "output_type": "stream",
     "text": [
      "Wall time: 58.8 s\n"
     ]
    }
   ],
   "source": [
    "%%time\n",
    "all_tweets_ids_unique = np.array(list(set(all_tweets_ids)))\n",
    "all_tweets_ids_unique_sk = all_tweets_ids_unique.reshape(-1,1)"
   ]
  },
  {
   "cell_type": "code",
   "execution_count": 136,
   "metadata": {},
   "outputs": [
    {
     "name": "stdout",
     "output_type": "stream",
     "text": [
      "Wall time: 1.05 s\n"
     ]
    }
   ],
   "source": [
    "%%time\n",
    "# kernel_scot = stats.gaussian_kde(all_tweets_ids_unique, bw_method  = \"scott\")\n",
    "# kernel_silverman = stats.gaussian_kde(all_tweets_ids_unique, bw_method  = \"silverman\")\n",
    "kernel_bw = stats.gaussian_kde(all_tweets_ids_unique, bw_method  = 0.0000001)"
   ]
  },
  {
   "cell_type": "code",
   "execution_count": 91,
   "metadata": {},
   "outputs": [
    {
     "name": "stdout",
     "output_type": "stream",
     "text": [
      "Wall time: 3.52 s\n"
     ]
    }
   ],
   "source": [
    "%%time\n",
    "data_sample = np.random.choice(all_tweets_ids_unique, 10000, replace=False)\n",
    "# predicted_scot = kernel_scot.resample(10000)\n",
    "# predicted_silverman = kernel_silverman.resample(10000)\n",
    "predicted_bw  = kernel_bw.resample(10000)\n",
    "#predicted_sk = kernel_sk.sample(10000)\n",
    "#predicted_sk_flt = [val[0] for val in predicted_sk]\n",
    "uniform_sample = np.random.uniform(all_tweets_ids[0],all_tweets_ids[-1], 10000)"
   ]
  },
  {
   "cell_type": "code",
   "execution_count": 93,
   "metadata": {},
   "outputs": [
    {
     "data": {
      "image/png": "[encoded data removed]",
      "text/plain": [
       "<Figure size 720x1080 with 3 Axes>"
      ]
     },
     "metadata": {
      "needs_background": "light"
     },
     "output_type": "display_data"
    }
   ],
   "source": [
    "fig, (ax1,ax2,ax3) = plt.subplots(3,1, figsize = (10,15))\n",
    "ax1.set_title(\"real tweet ids binned distribution\")\n",
    "_ = ax1.hist( data_sample, bins = 1000, density = True)\n",
    "ax2.set_title(\"bw\")\n",
    "_ = ax2.hist( predicted_bw[0], bins = 1000, density = True)\n",
    "ax3.set_title(\"unif\")\n",
    "_ = ax3.hist( uniform_sample, bins = 1000, density = True)\n",
    "plt.tight_layout()\n",
    "#ax.hist(predicted_sample,bins = 1000, density = True)"
   ]
  },
  {
   "cell_type": "code",
   "execution_count": 94,
   "metadata": {},
   "outputs": [],
   "source": [
    "all_tweets_ids_set = set(all_tweets_ids_unique)"
   ]
  },
  {
   "cell_type": "code",
   "execution_count": 137,
   "metadata": {},
   "outputs": [
    {
     "name": "stdout",
     "output_type": "stream",
     "text": [
      "1000000\n"
     ]
    }
   ],
   "source": [
    "sampled_bw = []\n",
    "while len(sampled_bw) < 1000000:\n",
    "    sampled_bw.extend(list(set(kernel_bw.resample(1000000)[0]) - all_tweets_ids_set))\n",
    "sampled_bw = [int(val) for val in sampled_bw]\n",
    "print(len(sampled_bw))"
   ]
  },
  {
   "cell_type": "code",
   "execution_count": 138,
   "metadata": {},
   "outputs": [
    {
     "data": {
      "text/plain": [
       "266048150817472512"
      ]
     },
     "execution_count": 138,
     "metadata": {},
     "output_type": "execute_result"
    }
   ],
   "source": [
    "sampled_bw[0]"
   ]
  },
  {
   "cell_type": "code",
   "execution_count": 140,
   "metadata": {},
   "outputs": [],
   "source": [
    "# get hydrator threads\n",
    "sampled_hydrator_threads = Ec.get_hydrator_threads(n_threads = 100,path_start = r\"D:\\TwitterUsers\\archiveTeam\\final_analysis\\hydration\\tweet_id_inference\\election_period\\threading_objs_inferred\\hydrator_objs_\" ,ids =sampled_bw ,apps = cr.apps,save_every = 10, restart = False)"
   ]
  },
  {
   "cell_type": "code",
   "execution_count": 141,
   "metadata": {
    "collapsed": true,
    "jupyter": {
     "outputs_hidden": true
    }
   },
   "outputs": [
    {
     "name": "stdout",
     "output_type": "stream",
     "text": [
      "thread0 Started with 10000 tweet ids to hydrate\n",
      "thread1 Started with 10000 tweet ids to hydrate\n",
      "thread2 Started with 10000 tweet ids to hydrate\n",
      "thread3 Started with 10000 tweet ids to hydrate\n",
      "thread4 Started with 10000 tweet ids to hydrate\n",
      "thread5 Started with 10000 tweet ids to hydrate\n",
      "thread6 Started with 10000 tweet ids to hydrate\n",
      "thread7 thread8Started with Started with 10000 tweet ids to hydrate\n",
      " thread910000thread10   tweet ids to hydrateStarted with\n",
      " thread11 Started with 10000 tweet ids to hydrate\n",
      "10000Started with thread12tweet ids to hydrate Started with 10000 tweet ids to hydrate\n",
      "\n",
      "thread13  Started with thread1410000 tweet ids to hydrate\n",
      " thread15 Started with 10000 tweet ids to hydrate\n",
      "Started with10000 10000 tweet ids to hydrate\n",
      "thread16 Started with 10000 tweet ids to hydrate\n",
      " thread17tweet ids to hydrate Started with 10000 tweet ids to hydrate\n",
      "\n",
      "thread18 thread19Started with Started with 10000 tweet ids to hydrate\n",
      " thread20 10000Started with 10000 tweet ids to hydrate\n",
      " thread21tweet ids to hydrate Started with 10000 tweet ids to hydrate\n",
      "\n",
      "thread22 Started with 10000 tweet ids to hydrate\n",
      "thread23 thread24Started with Started with 10000 tweet ids to hydrate\n",
      "thread25 10000 tweet ids to hydrate\n",
      "thread26 Started with 10000 tweet ids to hydrate\n",
      "thread27 Started with 10000 tweet ids to hydrate\n",
      " thread28Started with 10000 tweet ids to hydrate\n",
      "thread29 Started with 10000 tweet ids to hydrate\n",
      " Started with 10000 tweet ids to hydrate\n",
      "thread30 Started with 10000 tweet ids to hydrate\n",
      "thread31thread32 Started with 10000 tweet ids to hydrate\n",
      " thread33 Started with 10000 tweet ids to hydrate\n",
      "Started withthread34  Started with 10000 tweet ids to hydrate\n",
      "thread3510000  Started with 10000 tweet ids to hydrate\n",
      "tweet ids to hydrate\n",
      "thread36 Started with 10000 tweet ids to hydrate\n",
      "thread37 Started withthread38  Started with 10000 tweet ids to hydrate\n",
      "thread3910000  thread40tweet ids to hydrateStarted with\n",
      " thread41Started with   thread42 Started with 10000 tweet ids to hydrate\n",
      "Started with10000 10000 tweet ids to hydrate\n",
      "thread43 Started with 10000 tweet ids to hydrate\n",
      "10000 tweet ids to hydrate\n",
      " tweet ids to hydrate\n",
      "thread44 Started with 10000 tweet ids to hydrate\n",
      "thread45 Started with 10000 tweet ids to hydrate\n",
      "thread46 Started withthread47 10000 tweet ids to hydrate\n",
      " Started withthread48 10000 tweet ids to hydrate\n",
      " Started with 10000 tweet ids to hydrate\n",
      "thread49 Started with 10000 tweet ids to hydrate\n",
      "thread50 Started with 10000thread51  Started with 10000 tweet ids to hydrate\n",
      "tweet ids to hydrate\n",
      "thread52 Started with 10000 tweet ids to hydrate\n",
      "thread53 thread54 Started with 10000 tweet ids to hydrate\n",
      "Started withthread55 Started with 10000 tweet ids to hydrate\n",
      "thread56  10000Started with  tweet ids to hydrate10000\n",
      "thread57  Started with 10000 tweet ids to hydrate\n",
      "tweet ids to hydrate\n",
      "thread58 Started with 10000thread59  tweet ids to hydrateStarted with\n",
      " thread60 10000Started withthread61 Started with 10000 tweet ids to hydrate\n",
      " thread62 Started with 10000 tweet ids to hydrate\n",
      "10000thread63  tweet ids to hydratethread64tweet ids to hydrate \n",
      " Started with 10000 tweet ids to hydrate\n",
      "Started with\n",
      " thread6510000  tweet ids to hydrate\n",
      "Started withthread66 thread67 Started with 10000 tweet ids to hydrate\n",
      "10000  Started withtweet ids to hydrate 10000 tweet ids to hydrate\n",
      "\n",
      "thread68 Started with thread6910000 tweet ids to hydrate\n",
      "thread70 Started with 10000 tweet ids to hydrate\n",
      " thread71 Started with 10000 tweet ids to hydrate\n",
      "Started with 10000 tweet ids to hydrate\n",
      "thread72 Started with 10000 tweet ids to hydrate\n",
      "thread73 thread74Started with 10000 tweet ids to hydrate\n",
      " Started with 10000 tweet ids to hydrate\n",
      "thread75 Started with 10000 tweet ids to hydrate\n",
      "thread76 Started with thread7710000  Started withthread78  tweet ids to hydrate10000Started with 10000 tweet ids to hydrate\n",
      "\n",
      " tweet ids to hydrate\n",
      "thread79 Started with 10000 tweet ids to hydrate\n",
      "thread80 thread81Started with 10000 tweet ids to hydrate\n",
      " thread82Started with 10000 tweet ids to hydrate\n",
      " Started with thread83 Started with 10000 tweet ids to hydrate\n",
      "10000thread84  Started with 10000 tweet ids to hydrate\n",
      "thread85 thread86tweet ids to hydrate \n",
      "Started with 10000 tweet ids to hydrate\n",
      "Started with thread8710000 Started withthread88 Started with 10000 tweet ids to hydrate\n",
      " tweet ids to hydrate\n",
      " 10000 thread89tweet ids to hydrate Started with 10000 tweet ids to hydrate\n",
      "thread90\n",
      "thread91 Started with 10000 tweet ids to hydrate\n",
      "thread92 Started with 10000 tweet ids to hydrate\n",
      "thread93 Started with Started with 10000 tweet ids to hydrate\n",
      "thread94  Started with 10000 tweet ids to hydrate\n",
      "10000 tweet ids to hydrate\n",
      "thread95 thread96 Started with Started with thread9710000 tweet ids to hydrate\n",
      " thread98Started with10000 thread99 10000 tweet ids to hydrate\n",
      "tweet ids to hydrate  \n",
      "Started withStarted with 10000 tweet ids to hydrate\n",
      " 10000 tweet ids to hydrate\n",
      "thread93 :finished last save_every, remaining_tweets =  0\n",
      "thread93 FINISHED\n",
      "thread9 :finished last save_every, remaining_tweets =  0\n",
      "thread9 FINISHED\n",
      "thread17 :finished last save_every, remaining_tweets =  0\n",
      "thread0 :finished last save_every, remaining_tweets =  0\n",
      "thread17 thread25:finished last save_every, remaining_tweets =    0\n",
      ":finished last save_every, remaining_tweets = thread0FINISHED \n",
      " 0FINISHED\n",
      "\n",
      "thread8thread88  :finished last save_every, remaining_tweets =  0\n",
      "FINISHEDthread25\n",
      " FINISHED\n",
      "thread8 FINISHED\n",
      "thread20 :finished last save_every, remaining_tweets =  0\n",
      "thread20 FINISHED\n",
      "thread81 :finished last save_every, remaining_tweets =  0\n",
      "thread81 FINISHED\n",
      "thread5 :finished last save_every, remaining_tweets =  0\n",
      "thread5 FINISHED\n",
      "thread33 :finished last save_every, remaining_tweets =  0\n",
      "thread33 FINISHED\n",
      "thread89 :finished last save_every, remaining_tweets =  0thread21 :finished last save_every, remaining_tweets = \n",
      "thread64 thread37 :finished last save_every, remaining_tweets =  :finished last save_every, remaining_tweets =  0\n",
      " thread240 0\n",
      "thread13\n",
      ":finished last save_every, remaining_tweets =  :finished last save_every, remaining_tweets =  0\n",
      "thread89thread73  0 thread52 FINISHED:finished last save_every, remaining_tweets = :finished last save_every, remaining_tweets = \n",
      "thread37\n",
      " 0\n",
      "thread21 FINISHED\n",
      "thread13   FINISHED\n",
      "thread64FINISHED 0\n",
      "\n",
      "FINISHED\n",
      "thread52thread24 FINISHED\n",
      " FINISHED\n",
      "thread73 FINISHED\n",
      "thread40 :finished last save_every, remaining_tweets =  0\n",
      "thread40 FINISHED\n",
      "thread92 :finished last save_every, remaining_tweets =  0\n",
      "thread92 FINISHED\n",
      "thread60 :finished last save_every, remaining_tweets =  0\n",
      "thread60 FINISHED\n",
      "thread96thread28thread41  thread80 :finished last save_every, remaining_tweets =  0\n",
      " :finished last save_every, remaining_tweets =  0:finished last save_every, remaining_tweets = thread36 0\n",
      ":finished last save_every, remaining_tweets =   \n",
      "0\n",
      "thread80thread29:finished last save_every, remaining_tweets =  0\n",
      "thread61 :finished last save_every, remaining_tweets =  0\n",
      "  :finished last save_every, remaining_tweets =  0\n",
      "thread96 thread28FINISHEDthread36 \n",
      "thread41 FINISHEDFINISHED thread61FINISHED FINISHED\n",
      "\n",
      "\n",
      "FINISHEDthread29 FINISHED\n",
      "\n",
      "\n",
      "thread72 :finished last save_every, remaining_tweets =  0\n",
      "thread72 FINISHED\n",
      "thread76 :finished last save_every, remaining_tweets =  0thread48\n",
      " :finished last save_every, remaining_tweets =  0\n",
      "thread16thread45  :finished last save_every, remaining_tweets = thread48 0\n",
      "thread76  FINISHED\n",
      ":finished last save_every, remaining_tweets = FINISHEDthread57\n",
      "  :finished last save_every, remaining_tweets = 0thread1 0\n",
      " :finished last save_every, remaining_tweets =  0\n",
      "\n",
      "thread77thread1 FINISHED\n",
      " thread45thread53:finished last save_every, remaining_tweets =  0\n",
      "thread16 thread57 FINISHED\n",
      "FINISHED :finished last save_every, remaining_tweets =  0\n",
      " \n",
      "FINISHEDthread77\n",
      " FINISHED\n",
      "thread53 FINISHED\n",
      "thread44 :finished last save_every, remaining_tweets =  0\n",
      "thread44 FINISHED\n",
      "thread84 :finished last save_every, remaining_tweets =  0\n",
      "thread84 FINISHED\n",
      "thread4 :finished last save_every, remaining_tweets =  0\n",
      "thread68thread4 FINISHED\n",
      " :finished last save_every, remaining_tweets =  0\n",
      "thread68 FINISHED\n",
      "thread65 :finished last save_every, remaining_tweets =  0\n",
      "thread65 FINISHED\n",
      "thread32 :finished last save_every, remaining_tweets =  0\n",
      "thread49 thread97:finished last save_every, remaining_tweets =   0:finished last save_every, remaining_tweets = \n",
      " thread32 FINISHED\n",
      "0\n",
      "thread49 FINISHED\n",
      "thread97 FINISHED\n",
      "thread12 :finished last save_every, remaining_tweets = thread69  0\n",
      ":finished last save_every, remaining_tweets =  0\n",
      "thread69thread12 FINISHED\n",
      " FINISHED\n",
      "thread85 :finished last save_every, remaining_tweets =  0\n",
      "thread85 FINISHED\n",
      "thread56 :finished last save_every, remaining_tweets =  0\n",
      "thread56 FINISHED\n",
      "thread39thread38  :finished last save_every, remaining_tweets = :finished last save_every, remaining_tweets =   thread5000\n",
      "thread2\n",
      " :finished last save_every, remaining_tweets =  0\n",
      " :finished last save_every, remaining_tweets = thread50  0\n",
      "FINISHED\n",
      "thread38 FINISHED\n",
      "thread39thread2 FINISHED\n",
      " FINISHED\n",
      "thread11thread51 :finished last save_every, remaining_tweets =  0\n",
      " :finished last save_every, remaining_tweets =  0\n",
      "thread11 FINISHED\n",
      "thread51 FINISHED\n",
      "thread19 :finished last save_every, remaining_tweets =  0\n",
      "thread19 FINISHED\n",
      "thread43 thread7:finished last save_every, remaining_tweets =   0\n",
      "thread3:finished last save_every, remaining_tweets =  thread350\n",
      "  thread43:finished last save_every, remaining_tweets = :finished last save_every, remaining_tweets = thread46    00FINISHED:finished last save_every, remaining_tweets = \n",
      "\n",
      "\n",
      " 0\n",
      "thread7thread35thread3  FINISHED\n",
      " FINISHED\n",
      "thread46 FINISHED\n",
      "FINISHED\n",
      "thread31 :finished last save_every, remaining_tweets =  0\n",
      "thread31 FINISHED\n",
      "thread26 :finished last save_every, remaining_tweets =  0\n",
      "thread26 FINISHED\n",
      "thread71 :finished last save_every, remaining_tweets =  0\n",
      "thread71 FINISHED\n",
      "thread10 :finished last save_every, remaining_tweets =  0\n",
      "thread10 FINISHED\n",
      "thread47 :finished last save_every, remaining_tweets =  thread30thread23  :finished last save_every, remaining_tweets =  0\n",
      ":finished last save_every, remaining_tweets =  0\n",
      "0thread15thread59\n",
      "  thread30:finished last save_every, remaining_tweets =  0\n",
      " FINISHED\n",
      ":finished last save_every, remaining_tweets =  0\n",
      "thread23 FINISHED\n",
      "thread47 FINISHED\n",
      "thread15 FINISHED\n",
      "thread59 FINISHED\n",
      "thread79 :finished last save_every, remaining_tweets =  0\n",
      "thread79 FINISHED\n",
      "thread95 :finished last save_every, remaining_tweets =  0\n",
      "thread95 FINISHED\n",
      "thread14thread55thread83 :finished last save_every, remaining_tweets =  0\n",
      "thread18thread90   :finished last save_every, remaining_tweets =  :finished last save_every, remaining_tweets =  0\n",
      " thread22:finished last save_every, remaining_tweets = :finished last save_every, remaining_tweets =  0\n",
      "  :finished last save_every, remaining_tweets =  0\n",
      "0\n",
      "0thread83\n",
      " FINISHED\n",
      "thread90thread22 FINISHED\n",
      "thread14 FINISHED\n",
      " FINISHED\n",
      "thread55 FINISHED\n",
      "thread18 FINISHED\n",
      "thread66 :finished last save_every, remaining_tweets =  0\n",
      "thread66 FINISHED\n",
      "thread63 :finished last save_every, remaining_tweets =  0\n",
      "thread63 FINISHED\n",
      "thread62 :finished last save_every, remaining_tweets =  0\n",
      "thread62 FINISHED\n",
      "thread58 thread91:finished last save_every, remaining_tweets =   :finished last save_every, remaining_tweets =  00\n",
      "\n",
      "thread75 thread58:finished last save_every, remaining_tweets = thread91   FINISHED\n",
      "FINISHED\n",
      "0\n",
      "thread75 FINISHED\n",
      "thread34 :finished last save_every, remaining_tweets =  0\n",
      "thread34 FINISHED\n",
      "thread87 :finished last save_every, remaining_tweets =  0\n",
      "thread87 FINISHED\n",
      "thread27thread98 :finished last save_every, remaining_tweets =  0\n",
      " :finished last save_every, remaining_tweets =  0\n",
      "thread98thread27 FINISHED\n",
      " FINISHED\n",
      "thread70 :finished last save_every, remaining_tweets =  0\n",
      "thread70 FINISHED\n",
      "thread67 :finished last save_every, remaining_tweets =  0\n",
      "thread67 FINISHED\n",
      "thread94 thread86:finished last save_every, remaining_tweets =  0\n",
      " :finished last save_every, remaining_tweets =  0\n",
      "thread94 FINISHED\n",
      "thread86 FINISHED\n",
      "thread78 :finished last save_every, remaining_tweets =  0\n",
      "thread78 FINISHED\n",
      "thread6 :finished last save_every, remaining_tweets =  0\n",
      "thread6 FINISHED\n",
      "thread54 :finished last save_every, remaining_tweets =  0\n",
      "thread54 FINISHED\n",
      "thread82 :finished last save_every, remaining_tweets =  0\n",
      "thread82 FINISHED\n",
      "thread99 :finished last save_every, remaining_tweets =  0\n",
      "thread99 FINISHED\n",
      "thread74 :finished last save_every, remaining_tweets =  0\n",
      "thread74 FINISHED\n",
      "thread42 :finished last save_every, remaining_tweets =  0\n",
      "thread42 FINISHED\n"
     ]
    }
   ],
   "source": [
    "Ec.start_threads(sampled_hydrator_threads)"
   ]
  },
  {
   "cell_type": "code",
   "execution_count": 142,
   "metadata": {},
   "outputs": [
    {
     "name": "stdout",
     "output_type": "stream",
     "text": [
      "reading...\n",
      "concatenating\n",
      "saving\n"
     ]
    }
   ],
   "source": [
    "Ec.objs_txt_unifier(threading_folder = r\"D:\\TwitterUsers\\archiveTeam\\final_analysis\\hydration\\tweet_id_inference\\election_period\\threading_objs_inferred\" , destination_folder =r\"D:\\TwitterUsers\\archiveTeam\\final_analysis\\hydration\\tweet_id_inference\\election_period\", name = \"sampled_inferred\", mode = \"e\")"
   ]
  },
  {
   "cell_type": "code",
   "execution_count": 143,
   "metadata": {},
   "outputs": [],
   "source": [
    "hydrated = np.load(r\"D:\\TwitterUsers\\archiveTeam\\final_analysis\\hydration\\tweet_id_inference\\election_period\\sampled_inferred.npy\", allow_pickle = True)"
   ]
  },
  {
   "cell_type": "code",
   "execution_count": 135,
   "metadata": {},
   "outputs": [
    {
     "data": {
      "text/plain": [
       "array([{'tweet_id': 261341142166155264, 'retweeted_tweet_id': [], 'retweeted_user_id': [], 'hashtags': [], 'tweet_created_at': 'Thu Oct 25 05:39:18 +0000 2012', 'text': 'All We Do Is Smoke And Fuck', 'user_mentions': [], 'user_id': 319722882, 'profile_created_at': datetime.datetime(2011, 6, 18, 16, 32, 22), 'followers_count': 1145, 'friends_count': 1281, 'statuses_count': 24963, 'favourites_count': 2115},\n",
       "       {'tweet_id': 266842823406530560, 'retweeted_tweet_id': [], 'retweeted_user_id': [], 'hashtags': ['primalssc'], 'tweet_created_at': 'Fri Nov 09 10:01:01 +0000 2012', 'text': '@StrongGrizzly cook with it, slop it on your face, heal cuts, dry skin, bake veggies, dry bacon, add to brownies, melt with cocoa #primalssc', 'user_mentions': [872331697], 'user_id': 21040230, 'profile_created_at': datetime.datetime(2009, 2, 16, 23, 3, 50), 'followers_count': 533, 'friends_count': 573, 'statuses_count': 15581, 'favourites_count': 459},\n",
       "       {'tweet_id': 263767624540901376, 'retweeted_tweet_id': [], 'retweeted_user_id': [], 'hashtags': ['kneejerk'], 'tweet_created_at': 'Wed Oct 31 22:21:16 +0000 2012', 'text': '@spicysid20 @terenceeley #kneejerk boys rather it was this than league!not many teams apart from wba an arsenal outplayed us this season!', 'user_mentions': [150970311], 'user_id': 414803499, 'profile_created_at': datetime.datetime(2011, 11, 17, 14, 18, 6), 'followers_count': 416, 'friends_count': 916, 'statuses_count': 11364, 'favourites_count': 72},\n",
       "       {'tweet_id': 264022767995846656, 'retweeted_tweet_id': [], 'retweeted_user_id': [], 'hashtags': [], 'tweet_created_at': 'Thu Nov 01 15:15:07 +0000 2012', 'text': '@gabrielaphe tweet kamu aku liatin ke mamah nya Anto da. :))', 'user_mentions': [215263940], 'user_id': 249020603, 'profile_created_at': datetime.datetime(2011, 2, 8, 5, 36, 9), 'followers_count': 216, 'friends_count': 0, 'statuses_count': 6011, 'favourites_count': 4},\n",
       "       {'tweet_id': 265288317908688896, 'retweeted_tweet_id': [], 'retweeted_user_id': [], 'hashtags': [], 'tweet_created_at': 'Mon Nov 05 03:03:58 +0000 2012', 'text': '@rauhllikebiebz kommer vara döda i skolan... Hahah ska somna på håkans lektion HAHHAHA', 'user_mentions': [510933085], 'user_id': 350882658, 'profile_created_at': datetime.datetime(2011, 8, 8, 13, 17), 'followers_count': 735, 'friends_count': 259, 'statuses_count': 43625, 'favourites_count': 5643},\n",
       "       {'tweet_id': 262902186068041728, 'retweeted_tweet_id': [], 'retweeted_user_id': [], 'hashtags': [], 'tweet_created_at': 'Mon Oct 29 13:02:20 +0000 2012', 'text': 'There can be a world of difference between feeling in love and... More for Capricorn http://t.co/PoASxLRE', 'user_mentions': [], 'user_id': 379502960, 'profile_created_at': datetime.datetime(2011, 9, 25, 2, 37, 25), 'followers_count': 592, 'friends_count': 386, 'statuses_count': 26395, 'favourites_count': 18791},\n",
       "       {'tweet_id': 267790200917356544, 'retweeted_tweet_id': [], 'retweeted_user_id': [], 'hashtags': [], 'tweet_created_at': 'Mon Nov 12 00:45:33 +0000 2012', 'text': '@juampiarocena @moriwalther plagiooooooooooooooooooooooo', 'user_mentions': [298849841, 338022091], 'user_id': 269032476, 'profile_created_at': datetime.datetime(2011, 3, 20, 0, 0, 45), 'followers_count': 318, 'friends_count': 244, 'statuses_count': 5661, 'favourites_count': 654},\n",
       "       {'tweet_id': 259879710983610368, 'retweeted_tweet_id': [], 'retweeted_user_id': [], 'hashtags': [], 'tweet_created_at': 'Sun Oct 21 04:52:06 +0000 2012', 'text': 'ごせんえんひきださなくてほんとによかったと思ってる…', 'user_mentions': [], 'user_id': 547782755, 'profile_created_at': datetime.datetime(2012, 4, 7, 17, 45, 20), 'followers_count': 89, 'friends_count': 395, 'statuses_count': 47377, 'favourites_count': 15753}],\n",
       "      dtype=object)"
      ]
     },
     "execution_count": 135,
     "metadata": {},
     "output_type": "execute_result"
    }
   ],
   "source": [
    "hydrated"
   ]
  },
  {
   "cell_type": "code",
   "execution_count": 146,
   "metadata": {},
   "outputs": [
    {
     "data": {
      "text/plain": [
       "array([{'tweet_id': 260051855869083648, 'retweeted_tweet_id': [], 'retweeted_user_id': [], 'hashtags': ['ixionsaga'], 'tweet_created_at': 'Sun Oct 21 16:16:08 +0000 2012', 'text': 'どっちがカマか分からんぞｗ #ixionsaga', 'user_mentions': [], 'user_id': 370562886, 'profile_created_at': datetime.datetime(2011, 9, 9, 7, 24, 2), 'followers_count': 522, 'friends_count': 620, 'statuses_count': 66016, 'favourites_count': 4508},\n",
       "       {'tweet_id': 265015533534068736, 'retweeted_tweet_id': 265014400400904192, 'retweeted_user_id': 136898100, 'hashtags': [], 'tweet_created_at': 'Sun Nov 04 09:00:01 +0000 2012', 'text': 'RT @TVXQfacts: [JAEJOONG] Cassiopeia was created because they loved TVXQ as a whole, not because they loved individual members.\" http:// ...', 'user_mentions': [136898100], 'user_id': 96470243, 'profile_created_at': datetime.datetime(2009, 12, 13, 2, 51, 32), 'followers_count': 145, 'friends_count': 214, 'statuses_count': 7705, 'favourites_count': 391},\n",
       "       {'tweet_id': 267816649170767872, 'retweeted_tweet_id': [], 'retweeted_user_id': [], 'hashtags': [], 'tweet_created_at': 'Mon Nov 12 02:30:39 +0000 2012', 'text': 'ღི♥ྀღ\\nأشْوَاقٌ تُبَعْـثِر وجدَانِي و حَـيْرَةٌ تَعْصِـفُ بــِ ڪِـيَانِـي ڪَمْ هُوَ مؤْلـِمْ أنْ أحتَآجڪْ ، فيَڪُـون الجَميع حوْليِ إﻵ أنتْ !', 'user_mentions': [], 'user_id': 852621452, 'profile_created_at': datetime.datetime(2012, 9, 29, 10, 23, 13), 'followers_count': 316, 'friends_count': 357, 'statuses_count': 1148, 'favourites_count': 345},\n",
       "       {'tweet_id': 263846979447160832, 'retweeted_tweet_id': [], 'retweeted_user_id': [], 'hashtags': [], 'tweet_created_at': 'Thu Nov 01 03:36:36 +0000 2012', 'text': '@CF_EunhyukSJ followback bias?', 'user_mentions': [], 'user_id': 873355466, 'profile_created_at': datetime.datetime(2012, 10, 11, 10, 9, 45), 'followers_count': 137, 'friends_count': 179, 'statuses_count': 4762, 'favourites_count': 26},\n",
       "       {'tweet_id': 262943581227057152, 'retweeted_tweet_id': 262943198220021761, 'retweeted_user_id': 730267476, 'hashtags': [], 'tweet_created_at': 'Mon Oct 29 15:46:49 +0000 2012', 'text': 'RT @GezichtsxBedrog: RT als je het ziet http://t.co/YDqr7o5H', 'user_mentions': [2562196386], 'user_id': 447149160, 'profile_created_at': datetime.datetime(2011, 12, 26, 15, 20, 27), 'followers_count': 79, 'friends_count': 182, 'statuses_count': 6816, 'favourites_count': 194},\n",
       "       {'tweet_id': 261144661106761728, 'retweeted_tweet_id': [], 'retweeted_user_id': [], 'hashtags': [], 'tweet_created_at': 'Wed Oct 24 16:38:33 +0000 2012', 'text': '@HannahHillegas Your welcome, dont worry most people feel the same way its natural.', 'user_mentions': [], 'user_id': 468877002, 'profile_created_at': datetime.datetime(2012, 1, 20, 0, 43, 18), 'followers_count': 193, 'friends_count': 254, 'statuses_count': 3170, 'favourites_count': 387},\n",
       "       {'tweet_id': 266753993303269376, 'retweeted_tweet_id': [], 'retweeted_user_id': [], 'hashtags': [], 'tweet_created_at': 'Fri Nov 09 04:08:02 +0000 2012', 'text': '@brunaauau seguindo me segue', 'user_mentions': [], 'user_id': 266776529, 'profile_created_at': datetime.datetime(2011, 3, 15, 20, 3, 20), 'followers_count': 845, 'friends_count': 47, 'statuses_count': 46471, 'favourites_count': 241},\n",
       "       {'tweet_id': 266923019505647616, 'retweeted_tweet_id': 266922817466036224, 'retweeted_user_id': 333031179, 'hashtags': [], 'tweet_created_at': 'Fri Nov 09 15:19:41 +0000 2012', 'text': 'RT @josepjulien: Pots treure al Duran del Ku Klux Klan però mai treuràs el Ku Klux Klan de dins el Duran', 'user_mentions': [333031179], 'user_id': 61351207, 'profile_created_at': datetime.datetime(2009, 7, 30, 1, 22, 48), 'followers_count': 1604, 'friends_count': 483, 'statuses_count': 191954, 'favourites_count': 10380},\n",
       "       {'tweet_id': 266397015687188480, 'retweeted_tweet_id': [], 'retweeted_user_id': [], 'hashtags': ['DudasExistenciales'], 'tweet_created_at': 'Thu Nov 08 04:29:32 +0000 2012', 'text': 'Por qué la cuenta de @EddyLoverX nunca tiene las fotos para verlas ese momento, y solo salen links??? #DudasExistenciales', 'user_mentions': [461531963], 'user_id': 227937941, 'profile_created_at': datetime.datetime(2010, 12, 18, 7, 22, 12), 'followers_count': 258, 'friends_count': 249, 'statuses_count': 4235, 'favourites_count': 1658},\n",
       "       {'tweet_id': 262015448672006144, 'retweeted_tweet_id': [], 'retweeted_user_id': [], 'hashtags': ['superdisapointed'], 'tweet_created_at': 'Sat Oct 27 02:18:45 +0000 2012', 'text': 'Didnt get to carve a pumpkin this year #superdisapointed', 'user_mentions': [], 'user_id': 486276085, 'profile_created_at': datetime.datetime(2012, 2, 8, 3, 42, 57), 'followers_count': 144, 'friends_count': 0, 'statuses_count': 3537, 'favourites_count': 456},\n",
       "       {'tweet_id': 266776893871763456, 'retweeted_tweet_id': [], 'retweeted_user_id': [], 'hashtags': [], 'tweet_created_at': 'Fri Nov 09 05:39:02 +0000 2012', 'text': 'OMFG BIRU', 'user_mentions': [], 'user_id': 485596774, 'profile_created_at': datetime.datetime(2012, 2, 7, 11, 17, 58), 'followers_count': 393, 'friends_count': 0, 'statuses_count': 62066, 'favourites_count': 430},\n",
       "       {'tweet_id': 267933963903963136, 'retweeted_tweet_id': [], 'retweeted_user_id': [], 'hashtags': ['IfbadNews'], 'tweet_created_at': 'Mon Nov 12 10:16:49 +0000 2012', 'text': 'Detik: Wakil Presiden Boediono menyebutkan permasalahan sampah dan sanitasi telah menjadi bagian dari... http://t.co/2GVSXC2g #IfbadNews', 'user_mentions': [], 'user_id': 84592024, 'profile_created_at': datetime.datetime(2009, 10, 23, 13, 35, 2), 'followers_count': 1292, 'friends_count': 370, 'statuses_count': 75369, 'favourites_count': 1756}],\n",
       "      dtype=object)"
      ]
     },
     "execution_count": 146,
     "metadata": {},
     "output_type": "execute_result"
    }
   ],
   "source": [
    "hydrated"
   ]
  },
  {
   "cell_type": "code",
   "execution_count": 6,
   "metadata": {},
   "outputs": [],
   "source": [
    "from IPython.display import FileLink, FileLinks\n",
    "q = FileLink(r\"E:\\IlMIoDrive\\magistrale\\1anno\\terzo_periodo\\MAS\\analysis\\EconophysicsInitialization\\notebooks\\snowflake\\snowflake-snowflake-2010\\src\\main\\scala\\com\\twitter\\service\\snowflake\\IdWorker.scala\")"
   ]
  },
  {
   "cell_type": "markdown",
   "metadata": {},
   "source": [
    "## Tweet Id generation\n",
    "### Resources:\n",
    "\n",
    "#### Learn the basics of Scala\n",
    "- [Learn how scala's binary representations work](https://www.tutorialspoint.com/scala/scala_operators.htm)\n",
    "- [Scala functions 1](https://www.tutorialspoint.com/scala/scala_functions.htm#:~:text=Function%20Definitions,-A%20Scala%20function&text=A%20function%2C%20that%20does%20not,Scala%2C%20they%20are%20called%20procedures.)\n",
    "- [Scala functions 2](https://blog.knoldus.com/scala-best-practices-say-no-to-return/)\n",
    "- [Learn Two's Complement](https://www.youtube.com/watch?v=qTAw30GgDZs&ab_channel=MarkLewis)\n",
    "\n",
    "#### Understand snowflake's id generation code\n",
    "- [Look at snowflake's README.mkd IdWorker.scala](https://github.com/twitter-archive/snowflake/releases/tag/snowflake-2010)\n",
    "\n",
    "Let's first save all tweet ids in binary form"
   ]
  },
  {
   "cell_type": "code",
   "execution_count": null,
   "metadata": {},
   "outputs": [],
   "source": [
    "months= [\"january\", \"february\",\"march\",\"april\",\"may\",\"june\",\"july\",\"august\",\"september\",\"october\",\"november\"]"
   ]
  },
  {
   "cell_type": "code",
   "execution_count": 38,
   "metadata": {},
   "outputs": [
    {
     "name": "stdout",
     "output_type": "stream",
     "text": [
      "Wall time: 58min 8s\n"
     ]
    }
   ],
   "source": [
    "%%time\n",
    "paths = Ec.get_listOfFiles(r\"F:\\TwitterUsers\\saved_objs_withKeywords\")\n",
    "all_tweets_ids =[]\n",
    "total = len(paths)\n",
    "\n",
    "for i,path in enumerate(paths):\n",
    "    month = path[path.rfind(\"s\\\\\")+2 : path.rfind(\"s\\\\\")+4]+\"_\"\n",
    "    day_extension = path[path.rfind(\"_\")+1:]\n",
    "    day  = Ec.pickle_loader(path)\n",
    "#     for tweet in day:\n",
    "#         dates_ids[datetime.strptime(tweet[\"tweet_created_at\"][:19]+tweet[\"tweet_created_at\"][25:], \"%a %b %d %H:%M:%S %Y\")] = tweet[\"tweet_id\"]\n",
    "#     dates_ids.extend([(tweet[\"tweet_created_at\"],tweet[\"tweet_id\"]) for tweet in day])\n",
    "    all_tweets_ids = [tweet[\"tweet_id\"] for tweet in  day]\n",
    "    Ec.pickle_dumper(r\"D:\\TwitterUsers\\archiveTeam\\final_analysis\\create_hashtagged_tweets\\2012_10000_grab\\all_daily_ids\\tweet_ids_\"+month+day_extension, all_tweets_ids)\n",
    "    all_tweets_ids = []\n",
    "    print(\"done\", i, \"out of\", total, end = \"\\r\")"
   ]
  },
  {
   "cell_type": "markdown",
   "metadata": {},
   "source": [
    "Construct the metadata for the enterprise"
   ]
  },
  {
   "cell_type": "code",
   "execution_count": null,
   "metadata": {},
   "outputs": [],
   "source": [
    "%%time\n",
    "\n",
    "# get metadata\n",
    "start_path = r\"F:\\TwitterUsers\\final_analysis\\create_hashtagged_tweets\\2012_10000_grab\\all_daily_ids\\\\\"\n",
    "dirs = [start_path + path for path in  os.listdir(start_path)]\n",
    "\n",
    "for j,dirct in enumerate(dirs):\n",
    "    \n",
    "    paths   = Ec.get_listOfFiles(dirct)\n",
    "    \n",
    "    metadatum = dict()\n",
    "    t_mId_seq = []\n",
    "    total_days = len(paths)\n",
    "    for i,path in enumerate(paths):\n",
    "        day = Ec.pickle_loader(path)\n",
    "        #t_mId_seq.append(map(lambda x: (eval(bin(x)[:-22]),eval(\"0b\"+bin(x)[-22:-12]),eval(\"0b\"+bin(x)[-12:])) , day))\n",
    "        t_mId_seq.extend([ (eval(bin(tweet_id)[:-22]),eval(\"0b\"+bin(tweet_id)[-22:-12]),eval(\"0b\"+bin(tweet_id)[-12:])) for tweet_id in day])\n",
    "        print(\"done\",i,\"-th day out of\",total_days, \"within\",j,\"-th month out of\",str(11),\"months\", end = \"\\r\" )\n",
    "    print(\"extracting timestamps...\", end = \"\\r\")\n",
    "    timestamps = [triple[0] for triple in t_mId_seq]\n",
    "    #timestamps = [triple[0] for mp in t_mId_seq for triple in mp]\n",
    "    print(\"timestamps_delta_regularity...\", end = \"\\r\")\n",
    "    metadatum[\"timestamps_delta_regularity\"] = [max(timestamps) , min(timestamps), sum([1 if str(timestamp)[-3:-1] != \"00\" else 0 for timestamp in timestamps])]\n",
    "    print(\"unique_machines...\", end = \"\\r\")\n",
    "    metadatum[\"unique_machines\"]  = dict(Counter([triple[1] for triple in t_mId_seq])) #list(set([triple[1] for triple in t_mId_seq]))\n",
    "    print(\"sequences_counter...\", end = \"\\r\")\n",
    "    metadatum[\"sequences_counter\"] = dict(Counter([triple[2] for triple in t_mId_seq])) #[np.mean()]\n",
    "    \n",
    "    Ec.pickle_dumper(r\"D:\\TwitterUsers\\archiveTeam\\final_analysis\\create_hashtagged_tweets\\2012_10000_grab\\metadata\\metadatum_\"+dirct[-2:]+\".txt\",metadatum)\n",
    "    "
   ]
  },
  {
   "cell_type": "markdown",
   "metadata": {},
   "source": [
    "Get the enterprise threads"
   ]
  },
  {
   "cell_type": "code",
   "execution_count": 3,
   "metadata": {},
   "outputs": [],
   "source": [
    "apps = cr.apps"
   ]
  },
  {
   "cell_type": "code",
   "execution_count": 4,
   "metadata": {},
   "outputs": [
    {
     "data": {
      "text/plain": [
       "13356"
      ]
     },
     "execution_count": 4,
     "metadata": {},
     "output_type": "execute_result"
    }
   ],
   "source": [
    "630772258 - 630758902 "
   ]
  },
  {
   "cell_type": "code",
   "execution_count": 5,
   "metadata": {},
   "outputs": [
    {
     "name": "stdout",
     "output_type": "stream",
     "text": [
      "names_splits =  [['thread0', 'thread1', 'thread2', 'thread3', 'thread4', 'thread5', 'thread6', 'thread7', 'thread8', 'thread9', 'thread10', 'thread11', 'thread12', 'thread13', 'thread14', 'thread15', 'thread16', 'thread17'], ['thread18', 'thread19', 'thread20', 'thread21', 'thread22', 'thread23', 'thread24', 'thread25', 'thread26', 'thread27', 'thread28', 'thread29', 'thread30', 'thread31', 'thread32', 'thread33', 'thread34', 'thread35'], ['thread36', 'thread37', 'thread38', 'thread39', 'thread40', 'thread41', 'thread42', 'thread43', 'thread44', 'thread45', 'thread46', 'thread47', 'thread48', 'thread49', 'thread50', 'thread51', 'thread52', 'thread53'], ['thread54', 'thread55', 'thread56', 'thread57', 'thread58', 'thread59', 'thread60', 'thread61', 'thread62', 'thread63', 'thread64', 'thread65', 'thread66', 'thread67', 'thread68', 'thread69', 'thread70', 'thread71'], ['thread72', 'thread73', 'thread74', 'thread75', 'thread76', 'thread77', 'thread78', 'thread79', 'thread80', 'thread81', 'thread82', 'thread83', 'thread84', 'thread85', 'thread86', 'thread87', 'thread88', 'thread89', 'thread90'], ['thread91', 'thread92', 'thread93', 'thread94', 'thread95', 'thread96', 'thread97', 'thread98', 'thread99', 'thread100', 'thread101', 'thread102', 'thread103', 'thread104', 'thread105', 'thread106', 'thread107', 'thread108'], ['thread109', 'thread110', 'thread111', 'thread112', 'thread113', 'thread114', 'thread115', 'thread116', 'thread117', 'thread118', 'thread119', 'thread120', 'thread121', 'thread122', 'thread123', 'thread124', 'thread125', 'thread126', 'thread127', 'thread128', 'thread129', 'thread130', 'thread131', 'thread132', 'thread133', 'thread134', 'thread135', 'thread136', 'thread137', 'thread138'], ['thread139', 'thread140', 'thread141', 'thread142', 'thread143', 'thread144', 'thread145', 'thread146', 'thread147', 'thread148', 'thread149', 'thread150', 'thread151', 'thread152', 'thread153', 'thread154', 'thread155', 'thread156', 'thread157', 'thread158', 'thread159', 'thread160', 'thread161', 'thread162', 'thread163', 'thread164', 'thread165', 'thread166', 'thread167', 'thread168'], ['thread169', 'thread170', 'thread171', 'thread172', 'thread173', 'thread174', 'thread175', 'thread176', 'thread177', 'thread178', 'thread179', 'thread180', 'thread181', 'thread182', 'thread183', 'thread184', 'thread185', 'thread186', 'thread187', 'thread188', 'thread189', 'thread190', 'thread191', 'thread192', 'thread193', 'thread194', 'thread195', 'thread196', 'thread197'], ['thread198', 'thread199', 'thread200', 'thread201', 'thread202', 'thread203', 'thread204', 'thread205', 'thread206', 'thread207', 'thread208', 'thread209', 'thread210', 'thread211', 'thread212', 'thread213', 'thread214', 'thread215', 'thread216', 'thread217', 'thread218', 'thread219', 'thread220', 'thread221', 'thread222', 'thread223', 'thread224', 'thread225', 'thread226'], ['thread227', 'thread228', 'thread229', 'thread230', 'thread231', 'thread232', 'thread233', 'thread234', 'thread235', 'thread236', 'thread237', 'thread238', 'thread239', 'thread240', 'thread241', 'thread242', 'thread243', 'thread244', 'thread245', 'thread246', 'thread247', 'thread248', 'thread249', 'thread250', 'thread251', 'thread252', 'thread253', 'thread254', 'thread255', 'thread256']]\n",
      "-----------------------------------------\n",
      "Constructed thread0 with 1 apps, 736559722 tweet_ids to hydrate, 5 machines and 1 sequences\n",
      "Constructed thread1 with 1 apps, 736559727 tweet_ids to hydrate, 5 machines and 1 sequences\n",
      "Constructed thread2 with 1 apps, 736559727 tweet_ids to hydrate, 5 machines and 1 sequences\n",
      "Constructed thread3 with 1 apps, 736559727 tweet_ids to hydrate, 5 machines and 1 sequences\n",
      "Constructed thread4 with 1 apps, 736559727 tweet_ids to hydrate, 5 machines and 1 sequences\n",
      "Constructed thread5 with 1 apps, 736559727 tweet_ids to hydrate, 5 machines and 1 sequences\n",
      "Constructed thread6 with 1 apps, 736559727 tweet_ids to hydrate, 5 machines and 1 sequences\n",
      "Constructed thread7 with 1 apps, 736559727 tweet_ids to hydrate, 5 machines and 1 sequences\n",
      "Constructed thread8 with 1 apps, 736559727 tweet_ids to hydrate, 5 machines and 1 sequences\n",
      "Constructed thread9 with 1 apps, 736559727 tweet_ids to hydrate, 5 machines and 1 sequences\n",
      "Constructed thread10 with 1 apps, 736559727 tweet_ids to hydrate, 5 machines and 1 sequences\n",
      "Constructed thread11 with 1 apps, 736559727 tweet_ids to hydrate, 5 machines and 1 sequences\n",
      "Constructed thread12 with 1 apps, 736559727 tweet_ids to hydrate, 5 machines and 1 sequences\n",
      "Constructed thread13 with 1 apps, 736559727 tweet_ids to hydrate, 5 machines and 1 sequences\n",
      "Constructed thread14 with 1 apps, 736559727 tweet_ids to hydrate, 5 machines and 1 sequences\n",
      "Constructed thread15 with 1 apps, 736559727 tweet_ids to hydrate, 5 machines and 1 sequences\n",
      "Constructed thread16 with 1 apps, 736559727 tweet_ids to hydrate, 5 machines and 1 sequences\n",
      "Constructed thread17 with 1 apps, 736559727 tweet_ids to hydrate, 5 machines and 1 sequences\n",
      "-----------------------------------------\n",
      "Constructed thread18 with 1 apps, 689039722 tweet_ids to hydrate, 5 machines and 1 sequences\n",
      "Constructed thread19 with 1 apps, 689039727 tweet_ids to hydrate, 5 machines and 1 sequences\n",
      "Constructed thread20 with 1 apps, 689039727 tweet_ids to hydrate, 5 machines and 1 sequences\n",
      "Constructed thread21 with 1 apps, 689039727 tweet_ids to hydrate, 5 machines and 1 sequences\n",
      "Constructed thread22 with 1 apps, 689039727 tweet_ids to hydrate, 5 machines and 1 sequences\n",
      "Constructed thread23 with 1 apps, 689039727 tweet_ids to hydrate, 5 machines and 1 sequences\n",
      "Constructed thread24 with 1 apps, 689039727 tweet_ids to hydrate, 5 machines and 1 sequences\n",
      "Constructed thread25 with 1 apps, 689039727 tweet_ids to hydrate, 5 machines and 1 sequences\n",
      "Constructed thread26 with 1 apps, 689039727 tweet_ids to hydrate, 5 machines and 1 sequences\n",
      "Constructed thread27 with 1 apps, 689039727 tweet_ids to hydrate, 5 machines and 1 sequences\n",
      "Constructed thread28 with 1 apps, 689039727 tweet_ids to hydrate, 5 machines and 1 sequences\n",
      "Constructed thread29 with 1 apps, 689039727 tweet_ids to hydrate, 5 machines and 1 sequences\n",
      "Constructed thread30 with 1 apps, 689039727 tweet_ids to hydrate, 5 machines and 1 sequences\n",
      "Constructed thread31 with 1 apps, 689039727 tweet_ids to hydrate, 5 machines and 1 sequences\n",
      "Constructed thread32 with 1 apps, 689039727 tweet_ids to hydrate, 5 machines and 1 sequences\n",
      "Constructed thread33 with 1 apps, 689039727 tweet_ids to hydrate, 5 machines and 1 sequences\n",
      "Constructed thread34 with 1 apps, 689039727 tweet_ids to hydrate, 5 machines and 1 sequences\n",
      "Constructed thread35 with 1 apps, 689039727 tweet_ids to hydrate, 5 machines and 1 sequences\n",
      "-----------------------------------------\n",
      "Constructed thread36 with 1 apps, 735569722 tweet_ids to hydrate, 5 machines and 1 sequences\n",
      "Constructed thread37 with 1 apps, 735569727 tweet_ids to hydrate, 5 machines and 1 sequences\n",
      "Constructed thread38 with 1 apps, 735569727 tweet_ids to hydrate, 5 machines and 1 sequences\n",
      "Constructed thread39 with 1 apps, 735569727 tweet_ids to hydrate, 5 machines and 1 sequences\n",
      "Constructed thread40 with 1 apps, 735569727 tweet_ids to hydrate, 5 machines and 1 sequences\n",
      "Constructed thread41 with 1 apps, 735569727 tweet_ids to hydrate, 5 machines and 1 sequences\n",
      "Constructed thread42 with 1 apps, 735569727 tweet_ids to hydrate, 5 machines and 1 sequences\n",
      "Constructed thread43 with 1 apps, 735569727 tweet_ids to hydrate, 5 machines and 1 sequences\n",
      "Constructed thread44 with 1 apps, 735569727 tweet_ids to hydrate, 5 machines and 1 sequences\n",
      "Constructed thread45 with 1 apps, 735569727 tweet_ids to hydrate, 5 machines and 1 sequences\n",
      "Constructed thread46 with 1 apps, 735569727 tweet_ids to hydrate, 5 machines and 1 sequences\n",
      "Constructed thread47 with 1 apps, 735569727 tweet_ids to hydrate, 5 machines and 1 sequences\n",
      "Constructed thread48 with 1 apps, 735569727 tweet_ids to hydrate, 5 machines and 1 sequences\n",
      "Constructed thread49 with 1 apps, 735569727 tweet_ids to hydrate, 5 machines and 1 sequences\n",
      "Constructed thread50 with 1 apps, 735569727 tweet_ids to hydrate, 5 machines and 1 sequences\n",
      "Constructed thread51 with 1 apps, 735569727 tweet_ids to hydrate, 5 machines and 1 sequences\n",
      "Constructed thread52 with 1 apps, 735569727 tweet_ids to hydrate, 5 machines and 1 sequences\n",
      "Constructed thread53 with 1 apps, 735569727 tweet_ids to hydrate, 5 machines and 1 sequences\n",
      "-----------------------------------------\n",
      "Constructed thread54 with 1 apps, 712800000 tweet_ids to hydrate, 5 machines and 1 sequences\n",
      "Constructed thread55 with 1 apps, 712800000 tweet_ids to hydrate, 5 machines and 1 sequences\n",
      "Constructed thread56 with 1 apps, 712800000 tweet_ids to hydrate, 5 machines and 1 sequences\n",
      "Constructed thread57 with 1 apps, 712800000 tweet_ids to hydrate, 5 machines and 1 sequences\n",
      "Constructed thread58 with 1 apps, 712800000 tweet_ids to hydrate, 5 machines and 1 sequences\n",
      "Constructed thread59 with 1 apps, 712800000 tweet_ids to hydrate, 5 machines and 1 sequences\n",
      "Constructed thread60 with 1 apps, 712800000 tweet_ids to hydrate, 5 machines and 1 sequences\n",
      "Constructed thread61 with 1 apps, 712800000 tweet_ids to hydrate, 5 machines and 1 sequences\n",
      "Constructed thread62 with 1 apps, 712800000 tweet_ids to hydrate, 5 machines and 1 sequences\n",
      "Constructed thread63 with 1 apps, 712800000 tweet_ids to hydrate, 5 machines and 1 sequences\n",
      "Constructed thread64 with 1 apps, 712800000 tweet_ids to hydrate, 5 machines and 1 sequences\n",
      "Constructed thread65 with 1 apps, 712800000 tweet_ids to hydrate, 5 machines and 1 sequences\n",
      "Constructed thread66 with 1 apps, 712800000 tweet_ids to hydrate, 5 machines and 1 sequences\n",
      "Constructed thread67 with 1 apps, 712800000 tweet_ids to hydrate, 5 machines and 1 sequences\n",
      "Constructed thread68 with 1 apps, 712800000 tweet_ids to hydrate, 5 machines and 1 sequences\n",
      "Constructed thread69 with 1 apps, 712800000 tweet_ids to hydrate, 5 machines and 1 sequences\n",
      "Constructed thread70 with 1 apps, 712800000 tweet_ids to hydrate, 5 machines and 1 sequences\n",
      "Constructed thread71 with 1 apps, 712800000 tweet_ids to hydrate, 5 machines and 1 sequences\n",
      "-----------------------------------------\n",
      "Constructed thread72 with 1 apps, 697793421 tweet_ids to hydrate, 5 machines and 1 sequences\n",
      "Constructed thread73 with 1 apps, 697793426 tweet_ids to hydrate, 5 machines and 1 sequences\n",
      "Constructed thread74 with 1 apps, 697793426 tweet_ids to hydrate, 5 machines and 1 sequences\n",
      "Constructed thread75 with 1 apps, 697793426 tweet_ids to hydrate, 5 machines and 1 sequences\n",
      "Constructed thread76 with 1 apps, 697793426 tweet_ids to hydrate, 5 machines and 1 sequences\n",
      "Constructed thread77 with 1 apps, 697793426 tweet_ids to hydrate, 5 machines and 1 sequences\n",
      "Constructed thread78 with 1 apps, 697793426 tweet_ids to hydrate, 5 machines and 1 sequences\n",
      "Constructed thread79 with 1 apps, 697793426 tweet_ids to hydrate, 5 machines and 1 sequences\n",
      "Constructed thread80 with 1 apps, 697793426 tweet_ids to hydrate, 5 machines and 1 sequences\n",
      "Constructed thread81 with 1 apps, 697793421 tweet_ids to hydrate, 5 machines and 1 sequences\n",
      "Constructed thread82 with 1 apps, 697793426 tweet_ids to hydrate, 5 machines and 1 sequences\n",
      "Constructed thread83 with 1 apps, 697793426 tweet_ids to hydrate, 5 machines and 1 sequences\n",
      "Constructed thread84 with 1 apps, 697793426 tweet_ids to hydrate, 5 machines and 1 sequences\n",
      "Constructed thread85 with 1 apps, 697793426 tweet_ids to hydrate, 5 machines and 1 sequences\n",
      "Constructed thread86 with 1 apps, 697793426 tweet_ids to hydrate, 5 machines and 1 sequences\n",
      "Constructed thread87 with 1 apps, 697793426 tweet_ids to hydrate, 5 machines and 1 sequences\n",
      "Constructed thread88 with 1 apps, 697793426 tweet_ids to hydrate, 5 machines and 1 sequences\n",
      "Constructed thread89 with 1 apps, 697793426 tweet_ids to hydrate, 5 machines and 1 sequences\n",
      "Constructed thread90 with 1 apps, 697793426 tweet_ids to hydrate, 5 machines and 1 sequences\n",
      "-----------------------------------------\n",
      "Constructed thread91 with 1 apps, 689961798 tweet_ids to hydrate, 5 machines and 1 sequences\n",
      "Constructed thread92 with 1 apps, 689961803 tweet_ids to hydrate, 5 machines and 1 sequences\n",
      "Constructed thread93 with 1 apps, 689961803 tweet_ids to hydrate, 5 machines and 1 sequences\n",
      "Constructed thread94 with 1 apps, 689961798 tweet_ids to hydrate, 5 machines and 1 sequences\n",
      "Constructed thread95 with 1 apps, 689961803 tweet_ids to hydrate, 5 machines and 1 sequences\n",
      "Constructed thread96 with 1 apps, 689961803 tweet_ids to hydrate, 5 machines and 1 sequences\n",
      "Constructed thread97 with 1 apps, 689961803 tweet_ids to hydrate, 5 machines and 1 sequences\n",
      "Constructed thread98 with 1 apps, 689961798 tweet_ids to hydrate, 5 machines and 1 sequences\n",
      "Constructed thread99 with 1 apps, 689961803 tweet_ids to hydrate, 5 machines and 1 sequences\n",
      "Constructed thread100 with 1 apps, 689961803 tweet_ids to hydrate, 5 machines and 1 sequences\n",
      "Constructed thread101 with 1 apps, 689961798 tweet_ids to hydrate, 5 machines and 1 sequences\n",
      "Constructed thread102 with 1 apps, 689961803 tweet_ids to hydrate, 5 machines and 1 sequences\n",
      "Constructed thread103 with 1 apps, 689961803 tweet_ids to hydrate, 5 machines and 1 sequences\n",
      "Constructed thread104 with 1 apps, 689961803 tweet_ids to hydrate, 5 machines and 1 sequences\n",
      "Constructed thread105 with 1 apps, 689961798 tweet_ids to hydrate, 5 machines and 1 sequences\n",
      "Constructed thread106 with 1 apps, 689961803 tweet_ids to hydrate, 5 machines and 1 sequences\n",
      "Constructed thread107 with 1 apps, 689961803 tweet_ids to hydrate, 5 machines and 1 sequences\n",
      "Constructed thread108 with 1 apps, 689961803 tweet_ids to hydrate, 5 machines and 1 sequences\n",
      "-----------------------------------------\n",
      "Constructed thread109 with 1 apps, 707097330 tweet_ids to hydrate, 8 machines and 1 sequences\n",
      "Constructed thread110 with 1 apps, 707097338 tweet_ids to hydrate, 8 machines and 1 sequences\n",
      "Constructed thread111 with 1 apps, 707097338 tweet_ids to hydrate, 8 machines and 1 sequences\n",
      "Constructed thread112 with 1 apps, 707097338 tweet_ids to hydrate, 8 machines and 1 sequences\n",
      "Constructed thread113 with 1 apps, 707097338 tweet_ids to hydrate, 8 machines and 1 sequences\n",
      "Constructed thread114 with 1 apps, 707097338 tweet_ids to hydrate, 8 machines and 1 sequences\n",
      "Constructed thread115 with 1 apps, 707097338 tweet_ids to hydrate, 8 machines and 1 sequences\n",
      "Constructed thread116 with 1 apps, 707097338 tweet_ids to hydrate, 8 machines and 1 sequences\n",
      "Constructed thread117 with 1 apps, 707097338 tweet_ids to hydrate, 8 machines and 1 sequences\n",
      "Constructed thread118 with 1 apps, 707097338 tweet_ids to hydrate, 8 machines and 1 sequences\n",
      "Constructed thread119 with 1 apps, 707097338 tweet_ids to hydrate, 8 machines and 1 sequences\n",
      "Constructed thread120 with 1 apps, 707097338 tweet_ids to hydrate, 8 machines and 1 sequences\n",
      "Constructed thread121 with 1 apps, 707097338 tweet_ids to hydrate, 8 machines and 1 sequences\n",
      "Constructed thread122 with 1 apps, 707097338 tweet_ids to hydrate, 8 machines and 1 sequences\n",
      "Constructed thread123 with 1 apps, 707097338 tweet_ids to hydrate, 8 machines and 1 sequences\n",
      "Constructed thread124 with 1 apps, 707097338 tweet_ids to hydrate, 8 machines and 1 sequences\n",
      "Constructed thread125 with 1 apps, 707097338 tweet_ids to hydrate, 8 machines and 1 sequences\n",
      "Constructed thread126 with 1 apps, 707097338 tweet_ids to hydrate, 8 machines and 1 sequences\n",
      "Constructed thread127 with 1 apps, 707097338 tweet_ids to hydrate, 8 machines and 1 sequences\n",
      "Constructed thread128 with 1 apps, 707097338 tweet_ids to hydrate, 8 machines and 1 sequences\n",
      "Constructed thread129 with 1 apps, 707097338 tweet_ids to hydrate, 8 machines and 1 sequences\n",
      "Constructed thread130 with 1 apps, 707097338 tweet_ids to hydrate, 8 machines and 1 sequences\n",
      "Constructed thread131 with 1 apps, 707097338 tweet_ids to hydrate, 8 machines and 1 sequences\n",
      "Constructed thread132 with 1 apps, 707097338 tweet_ids to hydrate, 8 machines and 1 sequences\n",
      "Constructed thread133 with 1 apps, 707097338 tweet_ids to hydrate, 8 machines and 1 sequences\n",
      "Constructed thread134 with 1 apps, 707097338 tweet_ids to hydrate, 8 machines and 1 sequences\n",
      "Constructed thread135 with 1 apps, 707097338 tweet_ids to hydrate, 8 machines and 1 sequences\n",
      "Constructed thread136 with 1 apps, 707097338 tweet_ids to hydrate, 8 machines and 1 sequences\n",
      "Constructed thread137 with 1 apps, 707097338 tweet_ids to hydrate, 8 machines and 1 sequences\n",
      "Constructed thread138 with 1 apps, 707097338 tweet_ids to hydrate, 8 machines and 1 sequences\n",
      "-----------------------------------------\n",
      "Constructed thread139 with 1 apps, 707097600 tweet_ids to hydrate, 8 machines and 1 sequences\n",
      "Constructed thread140 with 1 apps, 707097600 tweet_ids to hydrate, 8 machines and 1 sequences\n",
      "Constructed thread141 with 1 apps, 707097600 tweet_ids to hydrate, 8 machines and 1 sequences\n",
      "Constructed thread142 with 1 apps, 707097607 tweet_ids to hydrate, 8 machines and 1 sequences\n",
      "Constructed thread143 with 1 apps, 707097600 tweet_ids to hydrate, 8 machines and 1 sequences\n",
      "Constructed thread144 with 1 apps, 707097600 tweet_ids to hydrate, 8 machines and 1 sequences\n",
      "Constructed thread145 with 1 apps, 707097607 tweet_ids to hydrate, 8 machines and 1 sequences\n",
      "Constructed thread146 with 1 apps, 707097600 tweet_ids to hydrate, 8 machines and 1 sequences\n",
      "Constructed thread147 with 1 apps, 707097600 tweet_ids to hydrate, 8 machines and 1 sequences\n",
      "Constructed thread148 with 1 apps, 707097607 tweet_ids to hydrate, 8 machines and 1 sequences\n",
      "Constructed thread149 with 1 apps, 707097600 tweet_ids to hydrate, 8 machines and 1 sequences\n",
      "Constructed thread150 with 1 apps, 707097600 tweet_ids to hydrate, 8 machines and 1 sequences\n",
      "Constructed thread151 with 1 apps, 707097600 tweet_ids to hydrate, 8 machines and 1 sequences\n",
      "Constructed thread152 with 1 apps, 707097607 tweet_ids to hydrate, 8 machines and 1 sequences\n",
      "Constructed thread153 with 1 apps, 707097600 tweet_ids to hydrate, 8 machines and 1 sequences\n",
      "Constructed thread154 with 1 apps, 707097600 tweet_ids to hydrate, 8 machines and 1 sequences\n",
      "Constructed thread155 with 1 apps, 707097607 tweet_ids to hydrate, 8 machines and 1 sequences\n",
      "Constructed thread156 with 1 apps, 707097600 tweet_ids to hydrate, 8 machines and 1 sequences\n",
      "Constructed thread157 with 1 apps, 707097600 tweet_ids to hydrate, 8 machines and 1 sequences\n",
      "Constructed thread158 with 1 apps, 707097607 tweet_ids to hydrate, 8 machines and 1 sequences\n",
      "Constructed thread159 with 1 apps, 707097600 tweet_ids to hydrate, 8 machines and 1 sequences\n",
      "Constructed thread160 with 1 apps, 707097600 tweet_ids to hydrate, 8 machines and 1 sequences\n",
      "Constructed thread161 with 1 apps, 707097600 tweet_ids to hydrate, 8 machines and 1 sequences\n",
      "Constructed thread162 with 1 apps, 707097607 tweet_ids to hydrate, 8 machines and 1 sequences\n",
      "Constructed thread163 with 1 apps, 707097600 tweet_ids to hydrate, 8 machines and 1 sequences\n",
      "Constructed thread164 with 1 apps, 707097600 tweet_ids to hydrate, 8 machines and 1 sequences\n",
      "Constructed thread165 with 1 apps, 707097607 tweet_ids to hydrate, 8 machines and 1 sequences\n",
      "Constructed thread166 with 1 apps, 707097600 tweet_ids to hydrate, 8 machines and 1 sequences\n",
      "Constructed thread167 with 1 apps, 707097600 tweet_ids to hydrate, 8 machines and 1 sequences\n",
      "Constructed thread168 with 1 apps, 707097607 tweet_ids to hydrate, 8 machines and 1 sequences\n",
      "-----------------------------------------\n",
      "Constructed thread169 with 1 apps, 707884135 tweet_ids to hydrate, 8 machines and 1 sequences\n",
      "Constructed thread170 with 1 apps, 707884135 tweet_ids to hydrate, 8 machines and 1 sequences\n",
      "Constructed thread171 with 1 apps, 707884143 tweet_ids to hydrate, 8 machines and 1 sequences\n",
      "Constructed thread172 with 1 apps, 707884135 tweet_ids to hydrate, 8 machines and 1 sequences\n",
      "Constructed thread173 with 1 apps, 707884143 tweet_ids to hydrate, 8 machines and 1 sequences\n",
      "Constructed thread174 with 1 apps, 707884135 tweet_ids to hydrate, 8 machines and 1 sequences\n",
      "Constructed thread175 with 1 apps, 707884143 tweet_ids to hydrate, 8 machines and 1 sequences\n",
      "Constructed thread176 with 1 apps, 707884135 tweet_ids to hydrate, 8 machines and 1 sequences\n",
      "Constructed thread177 with 1 apps, 707884143 tweet_ids to hydrate, 8 machines and 1 sequences\n",
      "Constructed thread178 with 1 apps, 707884135 tweet_ids to hydrate, 8 machines and 1 sequences\n",
      "Constructed thread179 with 1 apps, 707884135 tweet_ids to hydrate, 8 machines and 1 sequences\n",
      "Constructed thread180 with 1 apps, 707884143 tweet_ids to hydrate, 8 machines and 1 sequences\n",
      "Constructed thread181 with 1 apps, 707884135 tweet_ids to hydrate, 8 machines and 1 sequences\n",
      "Constructed thread182 with 1 apps, 707884143 tweet_ids to hydrate, 8 machines and 1 sequences\n",
      "Constructed thread183 with 1 apps, 707884135 tweet_ids to hydrate, 8 machines and 1 sequences\n",
      "Constructed thread184 with 1 apps, 707884143 tweet_ids to hydrate, 8 machines and 1 sequences\n",
      "Constructed thread185 with 1 apps, 707884135 tweet_ids to hydrate, 8 machines and 1 sequences\n",
      "Constructed thread186 with 1 apps, 707884143 tweet_ids to hydrate, 8 machines and 1 sequences\n",
      "Constructed thread187 with 1 apps, 707884135 tweet_ids to hydrate, 8 machines and 1 sequences\n",
      "Constructed thread188 with 1 apps, 707884135 tweet_ids to hydrate, 8 machines and 1 sequences\n",
      "Constructed thread189 with 1 apps, 707884143 tweet_ids to hydrate, 8 machines and 1 sequences\n",
      "Constructed thread190 with 1 apps, 707884135 tweet_ids to hydrate, 8 machines and 1 sequences\n",
      "Constructed thread191 with 1 apps, 707884143 tweet_ids to hydrate, 8 machines and 1 sequences\n",
      "Constructed thread192 with 1 apps, 707884135 tweet_ids to hydrate, 8 machines and 1 sequences\n",
      "Constructed thread193 with 1 apps, 707884143 tweet_ids to hydrate, 8 machines and 1 sequences\n",
      "Constructed thread194 with 1 apps, 707884135 tweet_ids to hydrate, 8 machines and 1 sequences\n",
      "Constructed thread195 with 1 apps, 707884143 tweet_ids to hydrate, 8 machines and 1 sequences\n",
      "Constructed thread196 with 1 apps, 707884135 tweet_ids to hydrate, 8 machines and 1 sequences\n",
      "Constructed thread197 with 1 apps, 707884143 tweet_ids to hydrate, 8 machines and 1 sequences\n",
      "-----------------------------------------\n",
      "Constructed thread198 with 1 apps, 731480001 tweet_ids to hydrate, 8 machines and 1 sequences\n",
      "Constructed thread199 with 1 apps, 731480009 tweet_ids to hydrate, 8 machines and 1 sequences\n",
      "Constructed thread200 with 1 apps, 731480001 tweet_ids to hydrate, 8 machines and 1 sequences\n",
      "Constructed thread201 with 1 apps, 731480009 tweet_ids to hydrate, 8 machines and 1 sequences\n",
      "Constructed thread202 with 1 apps, 731480001 tweet_ids to hydrate, 8 machines and 1 sequences\n",
      "Constructed thread203 with 1 apps, 731480009 tweet_ids to hydrate, 8 machines and 1 sequences\n",
      "Constructed thread204 with 1 apps, 731480001 tweet_ids to hydrate, 8 machines and 1 sequences\n",
      "Constructed thread205 with 1 apps, 731480009 tweet_ids to hydrate, 8 machines and 1 sequences\n",
      "Constructed thread206 with 1 apps, 731480001 tweet_ids to hydrate, 8 machines and 1 sequences\n",
      "Constructed thread207 with 1 apps, 731480009 tweet_ids to hydrate, 8 machines and 1 sequences\n",
      "Constructed thread208 with 1 apps, 731480001 tweet_ids to hydrate, 8 machines and 1 sequences\n",
      "Constructed thread209 with 1 apps, 731480009 tweet_ids to hydrate, 8 machines and 1 sequences\n",
      "Constructed thread210 with 1 apps, 731480001 tweet_ids to hydrate, 8 machines and 1 sequences\n",
      "Constructed thread211 with 1 apps, 731480009 tweet_ids to hydrate, 8 machines and 1 sequences\n",
      "Constructed thread212 with 1 apps, 731480001 tweet_ids to hydrate, 8 machines and 1 sequences\n",
      "Constructed thread213 with 1 apps, 731480009 tweet_ids to hydrate, 8 machines and 1 sequences\n",
      "Constructed thread214 with 1 apps, 731480001 tweet_ids to hydrate, 8 machines and 1 sequences\n",
      "Constructed thread215 with 1 apps, 731480009 tweet_ids to hydrate, 8 machines and 1 sequences\n",
      "Constructed thread216 with 1 apps, 731480001 tweet_ids to hydrate, 8 machines and 1 sequences\n",
      "Constructed thread217 with 1 apps, 731480009 tweet_ids to hydrate, 8 machines and 1 sequences\n",
      "Constructed thread218 with 1 apps, 731480001 tweet_ids to hydrate, 8 machines and 1 sequences\n",
      "Constructed thread219 with 1 apps, 731480009 tweet_ids to hydrate, 8 machines and 1 sequences\n",
      "Constructed thread220 with 1 apps, 731480001 tweet_ids to hydrate, 8 machines and 1 sequences\n",
      "Constructed thread221 with 1 apps, 731480009 tweet_ids to hydrate, 8 machines and 1 sequences\n",
      "Constructed thread222 with 1 apps, 731480001 tweet_ids to hydrate, 8 machines and 1 sequences\n",
      "Constructed thread223 with 1 apps, 731480009 tweet_ids to hydrate, 8 machines and 1 sequences\n",
      "Constructed thread224 with 1 apps, 731480001 tweet_ids to hydrate, 8 machines and 1 sequences\n",
      "Constructed thread225 with 1 apps, 731480009 tweet_ids to hydrate, 8 machines and 1 sequences\n",
      "Constructed thread226 with 1 apps, 731480009 tweet_ids to hydrate, 8 machines and 1 sequences\n",
      "-----------------------------------------\n",
      "Constructed thread227 with 1 apps, 685238400 tweet_ids to hydrate, 8 machines and 1 sequences\n",
      "Constructed thread228 with 1 apps, 685238400 tweet_ids to hydrate, 8 machines and 1 sequences\n",
      "Constructed thread229 with 1 apps, 685238400 tweet_ids to hydrate, 8 machines and 1 sequences\n",
      "Constructed thread230 with 1 apps, 685238400 tweet_ids to hydrate, 8 machines and 1 sequences\n",
      "Constructed thread231 with 1 apps, 685238400 tweet_ids to hydrate, 8 machines and 1 sequences\n",
      "Constructed thread232 with 1 apps, 685238400 tweet_ids to hydrate, 8 machines and 1 sequences\n",
      "Constructed thread233 with 1 apps, 685238400 tweet_ids to hydrate, 8 machines and 1 sequences\n",
      "Constructed thread234 with 1 apps, 685238400 tweet_ids to hydrate, 8 machines and 1 sequences\n",
      "Constructed thread235 with 1 apps, 685238400 tweet_ids to hydrate, 8 machines and 1 sequences\n",
      "Constructed thread236 with 1 apps, 685238400 tweet_ids to hydrate, 8 machines and 1 sequences\n",
      "Constructed thread237 with 1 apps, 685238400 tweet_ids to hydrate, 8 machines and 1 sequences\n",
      "Constructed thread238 with 1 apps, 685238400 tweet_ids to hydrate, 8 machines and 1 sequences\n",
      "Constructed thread239 with 1 apps, 685238400 tweet_ids to hydrate, 8 machines and 1 sequences\n",
      "Constructed thread240 with 1 apps, 685238400 tweet_ids to hydrate, 8 machines and 1 sequences\n",
      "Constructed thread241 with 1 apps, 685238400 tweet_ids to hydrate, 8 machines and 1 sequences\n",
      "Constructed thread242 with 1 apps, 685238400 tweet_ids to hydrate, 8 machines and 1 sequences\n",
      "Constructed thread243 with 1 apps, 685238400 tweet_ids to hydrate, 8 machines and 1 sequences\n",
      "Constructed thread244 with 1 apps, 685238400 tweet_ids to hydrate, 8 machines and 1 sequences\n",
      "Constructed thread245 with 1 apps, 685238400 tweet_ids to hydrate, 8 machines and 1 sequences\n",
      "Constructed thread246 with 1 apps, 685238400 tweet_ids to hydrate, 8 machines and 1 sequences\n",
      "Constructed thread247 with 1 apps, 685238400 tweet_ids to hydrate, 8 machines and 1 sequences\n",
      "Constructed thread248 with 1 apps, 685238400 tweet_ids to hydrate, 8 machines and 1 sequences\n",
      "Constructed thread249 with 1 apps, 685238400 tweet_ids to hydrate, 8 machines and 1 sequences\n",
      "Constructed thread250 with 1 apps, 685238400 tweet_ids to hydrate, 8 machines and 1 sequences\n",
      "Constructed thread251 with 1 apps, 685238400 tweet_ids to hydrate, 8 machines and 1 sequences\n",
      "Constructed thread252 with 1 apps, 685238400 tweet_ids to hydrate, 8 machines and 1 sequences\n",
      "Constructed thread253 with 1 apps, 685238400 tweet_ids to hydrate, 8 machines and 1 sequences\n",
      "Constructed thread254 with 1 apps, 685238400 tweet_ids to hydrate, 8 machines and 1 sequences\n",
      "Constructed thread255 with 1 apps, 685238400 tweet_ids to hydrate, 8 machines and 1 sequences\n",
      "Constructed thread256 with 1 apps, 685238400 tweet_ids to hydrate, 8 machines and 1 sequences\n"
     ]
    }
   ],
   "source": [
    "Ec = reload(Ec)\n",
    "enterprise_threads = Ec.get_enterprise_threads(n_threads = len(apps) ,apps =  apps,metadata_path= r\"D:\\TwitterUsers\\archiveTeam\\final_analysis\\create_hashtagged_tweets\\2012_10000_grab\\metadata\",users_ids_path = r\"F:\\TwitterUsers\\backup\\monitor\\ids\\user_ids.npy\", path_start = r\"D:\\TwitterUsers\\archiveTeam\\final_analysis\\create_hashtagged_tweets\\2012_10000_grab\\threading_objs\\\\\", name = \"enterprise_objs_\" , restart  = False  ) #630772258"
   ]
  },
  {
   "cell_type": "markdown",
   "metadata": {},
   "source": [
    "Start the threads"
   ]
  },
  {
   "cell_type": "code",
   "execution_count": null,
   "metadata": {},
   "outputs": [
    {
     "name": "stdout",
     "output_type": "stream",
     "text": [
      "thread0 Started with 630758902 tweet ids to hydrate\n",
      "thread1 Started with 630763422thread2  Started with 630757893 tweet ids to hydrate\n",
      "tweet ids to hydrate\n",
      "thread3 thread4Started with Started with 630764323 tweet ids to hydrate\n",
      " 630778806thread5  Started withthread6 tweet ids to hydrate Started with 630797280 tweet ids to hydrate\n",
      "630775252\n",
      "thread7 Started with 630803225 tweet ids to hydrate tweet ids to hydrate\n",
      "thread8\n",
      "thread9 Started with 630766788 tweet ids to hydrate\n",
      " Started with 630784014 tweet ids to hydrate\n",
      "thread10 Started with 630776673 tweet ids to hydrate\n",
      "thread11 Started with 630771381 tweet ids to hydrate\n",
      "thread12thread13 Started with 630778039 tweet ids to hydrate\n",
      " Started with 630779331 tweet ids to hydrate\n",
      "thread14 Started with 630779767 tweet ids to hydrate\n",
      "thread15 Started with 630731668 tweet ids to hydrate\n",
      "thread16 Started with 630783737 tweet ids to hydrate\n",
      "thread17 Started with 630719525 tweet ids to hydrate\n",
      "thread18 thread19 Started with 630742464 tweet ids to hydrate\n",
      "Started with 630767317 tweet ids to hydrate\n",
      "thread20 Started with 630770733 tweet ids to hydrate\n",
      "thread21 Started with 619558226 tweet ids to hydrate\n",
      "thread22 thread23Started with 619574170 tweet ids to hydrate\n",
      " thread24 Started with 619586485 tweet ids to hydrate\n",
      "Started with 619564839 tweet ids to hydrate\n",
      "thread25 Started with 619585792 tweet ids to hydrate\n",
      "thread26 Started with 619591000 tweet ids to hydrate\n",
      "thread27 Started with 619590059 tweet ids to hydrate\n",
      "thread28 thread29Started with  thread30 Started with 619533481 tweet ids to hydrate\n",
      "619538282Started with tweet ids to hydrate\n",
      "thread31  Started with 619587089 tweet ids to hydrate\n",
      "thread32 619582966thread33Started with  Started with 619589148 tweet ids to hydrate\n",
      " thread34619551840tweet ids to hydrate \n",
      " Started with 619581802 tweet ids to hydrate\n",
      "tweet ids to hydrate\n",
      "thread35 Started with 619593034 tweet ids to hydrate\n",
      "thread36 Started with 619592980 tweet ids to hydrate\n",
      "thread37 Started with 619565997 tweet ids to hydrate\n",
      "thread38 Started with 619571472 tweet ids to hydrate\n",
      "thread39 thread40Started with Started with 619578649 tweet ids to hydrate\n",
      " 619552300 tweet ids to hydrate\n",
      "thread41 Started with 629891811 tweet ids to hydrate\n",
      "thread42 thread43Started with Started with 629917200 tweet ids to hydrate\n",
      "thread44 Started with 629938881 tweet ids to hydrate\n",
      " 629929377 tweet ids to hydrate\n",
      "thread45 Started with 629928010 tweet ids to hydrate\n",
      "thread46 thread47Started withthread48   Started with 629938450 tweet ids to hydrate\n",
      "629949592Started with 629935168 tweet ids to hydrate\n",
      "thread49 Started with 629951439 tweet ids to hydrate\n",
      " tweet ids to hydrate\n",
      "thread50 Started with 629944449 tweet ids to hydrate\n",
      "thread51thread52 Started with 629948820 tweet ids to hydrate\n",
      "thread53 Started with 629939786 tweet ids to hydrate\n",
      "thread54 Started with 629904112 tweet ids to hydrate\n",
      " Started with 629915358 tweet ids to hydrate\n",
      "thread55 Started with 629951449 tweet ids to hydrate\n",
      "thread56 Started with 629915096 tweet ids to hydrate\n",
      "thread57 thread58 thread59Started withStarted with  629927367 tweet ids to hydrate\n",
      "thread60Started with  629944108 tweet ids to hydrate\n",
      "Started with  629891969 tweet ids to hydrate\n",
      "thread61 629884822Started with tweet ids to hydrate\n",
      " thread62629938435 Started with 610399384 tweet ids to hydrate\n",
      " tweet ids to hydrate\n",
      "thread63 thread64 Started with 610431025 tweet ids to hydrate\n",
      "Started with thread65610441459  tweet ids to hydratethread66\n",
      " Started with 610423060 tweet ids to hydrate\n",
      "Started with thread67610416328thread68 Started with 610418996 tweet ids to hydrate\n",
      " tweet ids to hydrate\n",
      " Started with 610395583 tweet ids to hydrate\n",
      "thread69 Started with thread70 Started with 610441048 tweet ids to hydrate\n",
      "610397157 tweet ids to hydrate\n",
      "thread71 Started with 610429520 tweet ids to hydrate\n",
      "thread72 Started withthread73  Started with 610429950 tweet ids to hydrate\n",
      "thread74610423570 Started with 610384688 tweet ids to hydrate\n",
      " tweet ids to hydratethread75 \n",
      "Started withthread76 610422624 tweet ids to hydrate\n",
      " thread77Started with Started with 610443518 tweet ids to hydrate\n",
      " 610394409thread78 tweet ids to hydrate \n",
      "Started withthread79  610442320 tweet ids to hydrate\n",
      "Started with thread80610428901  Started withthread81tweet ids to hydrate\n",
      "  Started with 610387717 tweet ids to hydrate\n",
      "610426169 tweet ids to hydrate\n",
      "thread82 Started with 610432970 tweet ids to hydrate\n",
      "thread83thread84 Started with 630797923 tweet ids to hydrate\n",
      " Started with 630768614 tweet ids to hydrate\n",
      "thread85 Started with 630768085 tweet ids to hydrate\n",
      "thread86 thread87Started with  Started withthread88 Started with 630807442 tweet ids to hydrate\n",
      "630810209 630805769 tweet ids to hydrate\n",
      " thread89 Started with 630804581 tweet ids to hydrate\n",
      "tweet ids to hydrate\n",
      "thread90thread91 Started with 630793647 tweet ids to hydrate\n",
      "thread92 Started with 630788038 tweet ids to hydrate\n",
      "thread93  Started withStarted with 630822376 tweet ids to hydrate\n",
      "thread94  630798735 tweet ids to hydrate\n",
      "Started with thread95 Started with 630790751 tweet ids to hydrate\n",
      "630781455 thread96 Started with 630780628 tweet ids to hydrate\n",
      "tweet ids to hydrate\n",
      "thread97 thread98 Started with 630783336 tweet ids to hydrate\n",
      "Started with 630804220 tweet ids to hydrate\n",
      "thread99 Started with 630799953 tweet ids to hydrate\n",
      "thread100thread101 Started with 630791993 tweet ids to hydrate\n",
      " thread102Started with  thread103630748329  tweet ids to hydrate\n",
      "Started withthread104 Started with 630777906 thread105630791959Started with  tweet ids to hydrate\n",
      "thread106 Started with 590854581 tweet ids to hydrate\n",
      " tweet ids to hydratethread107590835593   Started with 590872802 tweet ids to hydrate\n",
      "thread108tweet ids to hydrateStarted with\n",
      "thread109\n",
      " 590865066 tweet ids to hydrate\n",
      "  Started with 590849661 tweet ids to hydrate\n",
      "thread110 Started with 590851938thread111Started with 590862566 tweet ids to hydrate\n",
      " tweet ids to hydrate\n",
      " thread112Started with 590862635 tweet ids to hydrate\n",
      " Started with 590822832 tweet ids to hydrate\n",
      "thread113 thread114 Started with 590868580 tweet ids to hydrate\n",
      "Started with thread115590888400 tweet ids to hydrate\n",
      "thread116  thread117Started with thread118Started with Started with590892394   tweet ids to hydrate\n",
      "590849077 Started withtweet ids to hydratethread119\n",
      "  590870179Started with tweet ids to hydrate\n",
      " 590835766 tweet ids to hydrate\n",
      "thread120  590865580Started with  thread121590829025tweet ids to hydrate \n",
      " tweet ids to hydratethread122Started with\n",
      "  thread123Started with590865877   Started with 590865991 tweet ids to hydrate\n",
      "tweet ids to hydrate\n",
      "590872946 thread124tweet ids to hydrate Started with 590862373 tweet ids to hydrate\n",
      "\n",
      "thread0 : hydrated 5000 tweets out of 630758902 . Found 0 tweets in total.. Found 0 tweets in total.\r"
     ]
    }
   ],
   "source": [
    "# 11 threads lookup approx 120000 tweet ids in 8 minutes per thread \n",
    "# 22 threads lookup approx 750000*22 tweet ids in 48 min-> 15625 al min -> 589 gg\n",
    "# started at 18:37 with 257 threads( only 6 months), lookup approx 68'000*257 in 31 min -> 2193 al min -> 233gg\n",
    "# started at 12:02 with 125 threads ( pietro launched the other 125) , \n",
    "# lookup approx 80000 tweet ids in 17 min -> 93 gg\n",
    "#pietro : started at 12:02 125 threads (starting from july), lookup approx 33000 tweet ids in 17 min -> 291 gg\n",
    "#started at 9:11 with 125 threads ( only 6 months), lookup 487000 in 104 minutes -> \n",
    "Ec.start_threads(enterprise_threads) #started at 12:02"
   ]
  },
  {
   "cell_type": "code",
   "execution_count": 2,
   "metadata": {},
   "outputs": [],
   "source": [
    "# various saved objs loading attempts\n",
    "# tweets = Ec.pickle_loader(r\"D:\\TwitterUsers\\archiveTeam\\final_analysis\\create_hashtagged_tweets\\2012_10000_grab\\threading_objs\\enterprise_objs_0.txt\")\n",
    "# tweets_npy = np.load(r\"D:\\TwitterUsers\\archiveTeam\\final_analysis\\create_hashtagged_tweets\\2012_10000_grab\\threading_objs\\proof\\enterprise.npy\", allow_pickle = True)\n",
    "# tweets_e = Ec.loader_e(r\"D:\\TwitterUsers\\archiveTeam\\final_analysis\\create_hashtagged_tweets\\2012_10000_grab\\threading_objs\\enterprise_objs_0.txt\")"
   ]
  },
  {
   "cell_type": "code",
   "execution_count": 7,
   "metadata": {},
   "outputs": [
    {
     "data": {
      "text/plain": [
       "array([{'tweet_id': 153369869616812032, 'retweeted_tweet_id': [], 'retweeted_user_id': [], 'hashtags': [], 'tweet_created_at': 'Sun Jan 01 07:00:01 +0000 2012', 'text': 'HAPPY NEW YEAR Mountain Time!!! Make the most of your 2012!', 'user_mentions': [], 'user_id': 19026288, 'profile_created_at': datetime.datetime(2009, 1, 15, 15, 56, 6), 'followers_count': 32964, 'friends_count': 3107, 'statuses_count': 80441, 'favourites_count': 7853},\n",
       "       {'tweet_id': 153369872225681408, 'retweeted_tweet_id': [], 'retweeted_user_id': [], 'hashtags': ['iNews9k', 'ThatWas2011'], 'tweet_created_at': 'Sun Jan 01 07:00:01 +0000 2012', 'text': '#iNews9k #ThatWas2011 May: Harold Camping reviews Roland Emmerich\\'s \"2012\" - \"The world can end now, because this is the best movie ever.\"', 'user_mentions': [], 'user_id': 47451515, 'profile_created_at': datetime.datetime(2009, 6, 15, 21, 35, 50), 'followers_count': 2697, 'friends_count': 1665, 'statuses_count': 162162, 'favourites_count': 20704},\n",
       "       {'tweet_id': 153369873312002048, 'retweeted_tweet_id': [], 'retweeted_user_id': [], 'hashtags': [], 'tweet_created_at': 'Sun Jan 01 07:00:01 +0000 2012', 'text': 'New avi I think! First pic kf the New Year http://t.co/Z09ZENEZ', 'user_mentions': [], 'user_id': 34775925, 'profile_created_at': datetime.datetime(2009, 4, 23, 23, 51, 25), 'followers_count': 3125, 'friends_count': 1927, 'statuses_count': 80914, 'favourites_count': 4386},\n",
       "       ...,\n",
       "       {'tweet_id': 219310086798061568, 'retweeted_tweet_id': 219309387708252160, 'retweeted_user_id': 302422512, 'hashtags': [], 'tweet_created_at': 'Sun Jul 01 06:02:53 +0000 2012', 'text': 'RT @CajunConservatv: Crown @FingersMalloy Jack?RT @Snarky_Basterd: @EyeDesertBlog Neat trick I discovered: dip the smoking end of your c ...', 'user_mentions': [302422512, 19480011, 226409888, 172797273], 'user_id': 226409888, 'profile_created_at': datetime.datetime(2010, 12, 14, 2, 54, 8), 'followers_count': 4909, 'friends_count': 17, 'statuses_count': 102334, 'favourites_count': 2236},\n",
       "       {'tweet_id': 219310087494311936, 'retweeted_tweet_id': [], 'retweeted_user_id': [], 'hashtags': [], 'tweet_created_at': 'Sun Jul 01 06:02:54 +0000 2012', 'text': 'im not even supposed to be on here now lol everytime i say im off i cant leave O.o', 'user_mentions': [], 'user_id': 437921218, 'profile_created_at': datetime.datetime(2011, 12, 16, 0, 22, 22), 'followers_count': 4368, 'friends_count': 4129, 'statuses_count': 36994, 'favourites_count': 536},\n",
       "       {'tweet_id': 219310093601210368, 'retweeted_tweet_id': 194631249304887297, 'retweeted_user_id': 521365060, 'hashtags': ['TheatreKidProblems'], 'tweet_created_at': 'Sun Jul 01 06:02:55 +0000 2012', 'text': 'RT @TheatreKidLives: The year after you graduate, your school finally puts on a cool show. #TheatreKidProblems', 'user_mentions': [521365060], 'user_id': 527683538, 'profile_created_at': datetime.datetime(2012, 3, 17, 17, 50, 58), 'followers_count': 5751, 'friends_count': 4011, 'statuses_count': 47888, 'favourites_count': 69663}],\n",
       "      dtype=object)"
      ]
     },
     "execution_count": 7,
     "metadata": {},
     "output_type": "execute_result"
    }
   ],
   "source": [
    "# this is teh one that works best\n",
    "#tweets_e"
   ]
  }
 ],
 "metadata": {
  "kernelspec": {
   "display_name": "tf-gpu",
   "language": "python",
   "name": "tf-gpu"
  },
  "language_info": {
   "codemirror_mode": {
    "name": "ipython",
    "version": 3
   },
   "file_extension": ".py",
   "mimetype": "text/x-python",
   "name": "python",
   "nbconvert_exporter": "python",
   "pygments_lexer": "ipython3",
   "version": "3.7.9"
  }
 },
 "nbformat": 4,
 "nbformat_minor": 4
}
