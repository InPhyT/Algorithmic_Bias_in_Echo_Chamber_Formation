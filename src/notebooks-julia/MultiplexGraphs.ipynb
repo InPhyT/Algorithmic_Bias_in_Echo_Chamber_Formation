{
 "cells": [
  {
   "cell_type": "markdown",
   "metadata": {},
   "source": [
    "# LightGraphs Multiplex Extension\n",
    "\n",
    "## Useful Links\n",
    "\n",
    "### LightGraphs & related\n",
    "- [Extend Lightgraph](https://juliagraphs.org/LightGraphs.jl/latest/developing/#Developing-Alternate-Graph-Types-1)\n",
    "\n",
    "- [SimpleWeightedGraphs - GitHub](https://github.com/JuliaGraphs/SimpleWeightedGraphs.jl)\n",
    "\n",
    "- [MultiGraphs - GitHub](https://github.com/QuantumBFS/Multigraphs.jl)\n",
    "\n",
    "- [LightGraphs - GitHub](https://github.com/JuliaGraphs/LightGraphs.jl/tree/master/src)\n",
    "\n",
    "### Programming in Julia\n",
    "\n",
    "- [Julia OOP (non exhaustive)_1 ](https://github.com/ninjaaron/oo-and-polymorphism-in-julia/tree/5324b09a08bd27419006868c68c5b0fa6084c8f1)\n",
    "\n",
    "- [Julia OOP (non exhaustive)_2](http://www.stochasticlifestyle.com/type-dispatch-design-post-object-oriented-programming-julia/)\n",
    "\n",
    "- [Julia - Collections](https://docs.julialang.org/en/v1/base/collections/)\n",
    "\n",
    "\n",
    "## Implementation"
   ]
  },
  {
   "cell_type": "code",
   "execution_count": 1,
   "metadata": {},
   "outputs": [],
   "source": [
    "using LightGraphs\n",
    "using SimpleWeightedGraphs\n",
    "import Base"
   ]
  },
  {
   "cell_type": "code",
   "execution_count": 2,
   "metadata": {},
   "outputs": [],
   "source": [
    "mutable struct MultiplexGraph{T <: Int} <: AbstractGraph{T} #{T <: Integer}\n",
    "    #n::Int64\n",
    "    #src = Vector{T}\n",
    "    follower_graph::SimpleWeightedDiGraph\n",
    "    retweet_graph::SimpleWeightedDiGraph\n",
    "    favorite_graph::SimpleWeightedDiGraph\n",
    "    \n",
    "    function MultiplexGraph(n::Int) # to be added the src/dst/weights constructor\n",
    "        follower_graph = SimpleWeightedDiGraph{Int,Int}(n)\n",
    "        retweet_graph = SimpleWeightedDiGraph{Int,Int}(n)\n",
    "        favorite_graph = SimpleWeightedDiGraph{Int,Int}(n)\n",
    "        return new{Int}(follower_graph,retweet_graph,favorite_graph) #(n,\n",
    "    end\n",
    "    \n",
    "end"
   ]
  },
  {
   "cell_type": "code",
   "execution_count": 3,
   "metadata": {},
   "outputs": [
    {
     "data": {
      "text/plain": [
       "MultiplexGraph{Int64}({3, 0} directed simple Int64 graph with Int64 weights, {3, 0} directed simple Int64 graph with Int64 weights, {3, 0} directed simple Int64 graph with Int64 weights)"
      ]
     },
     "execution_count": 3,
     "metadata": {},
     "output_type": "execute_result"
    }
   ],
   "source": [
    "multiplex = MultiplexGraph(3)"
   ]
  },
  {
   "cell_type": "markdown",
   "metadata": {},
   "source": [
    "### `has_edge`"
   ]
  },
  {
   "cell_type": "code",
   "execution_count": 4,
   "metadata": {},
   "outputs": [
    {
     "data": {
      "text/plain": [
       "false"
      ]
     },
     "execution_count": 4,
     "metadata": {},
     "output_type": "execute_result"
    }
   ],
   "source": [
    "function has_edge(mp::MultiplexGraph, s::Int, d::Int, which::Symbol)\n",
    "    return SimpleWeightedGraphs.has_edge(getfield(mp, which) , s , d )\n",
    "end\n",
    "\n",
    "has_edge(multiplex, 1,3,:follower_graph)"
   ]
  },
  {
   "cell_type": "markdown",
   "metadata": {},
   "source": [
    "### `get_weight`"
   ]
  },
  {
   "cell_type": "code",
   "execution_count": 5,
   "metadata": {},
   "outputs": [
    {
     "data": {
      "text/plain": [
       "0"
      ]
     },
     "execution_count": 5,
     "metadata": {},
     "output_type": "execute_result"
    }
   ],
   "source": [
    "function get_weight(mp::MultiplexGraph, s::Int, d::Int, which::Symbol)\n",
    "    return SimpleWeightedGraphs.weights(getfield(mp, which))[s,d]\n",
    "end\n",
    "\n",
    "get_weight(multiplex, 1,2,:follower_graph)"
   ]
  },
  {
   "cell_type": "markdown",
   "metadata": {},
   "source": [
    "### `add_edge!`"
   ]
  },
  {
   "cell_type": "code",
   "execution_count": 6,
   "metadata": {},
   "outputs": [
    {
     "data": {
      "text/plain": [
       "add_edge! (generic function with 2 methods)"
      ]
     },
     "execution_count": 6,
     "metadata": {},
     "output_type": "execute_result"
    }
   ],
   "source": [
    "function add_edge!(mp::MultiplexGraph, s::Int, d::Int, which::Symbol , weight::Int = 1 )\n",
    "    current_weight = get_weight(mp,s,d,which)\n",
    "    if which == :follower_graph && !(weight in [1,-1])\n",
    "        return error(\"Error: follower graph weights must be 1.\")\n",
    "    elseif which == :follower_graph && current_weight == 1 && weight == 1\n",
    "        return error(\"Error: edge already esisting.\")\n",
    "    else\n",
    "        if current_weight+weight != 0\n",
    "            SimpleWeightedGraphs.add_edge!(getfield(mp,which) ,s,d ,current_weight+weight)\n",
    "        else  \n",
    "            SimpleWeightedGraphs.rem_edge!(getfield(mp,which) ,s,d)\n",
    "        end\n",
    "    end\n",
    "end"
   ]
  },
  {
   "cell_type": "markdown",
   "metadata": {},
   "source": [
    "### `edges` implementation"
   ]
  },
  {
   "cell_type": "code",
   "execution_count": 7,
   "metadata": {},
   "outputs": [
    {
     "data": {
      "text/plain": [
       "edges (generic function with 1 method)"
      ]
     },
     "execution_count": 7,
     "metadata": {},
     "output_type": "execute_result"
    }
   ],
   "source": [
    "function edges(mp::MultiplexGraph, which::Symbol)\n",
    "    return [edge for edge in SimpleWeightedGraphs.edges(getfield(mp,which)) if edge.weight != 0  ]\n",
    "end"
   ]
  },
  {
   "cell_type": "code",
   "execution_count": 8,
   "metadata": {},
   "outputs": [
    {
     "name": "stdout",
     "output_type": "stream",
     "text": [
      "SimpleWeightedEdge{Int64,Int64}[Edge 1 => 2 with weight 1, Edge 3 => 1 with weight 1]\n",
      "SimpleWeightedEdge{Int64,Int64}[Edge 2 => 3 with weight 3]\n",
      "SimpleWeightedEdge{Int64,Int64}[Edge 1 => 3 with weight 2]\n"
     ]
    },
    {
     "ename": "LoadError",
     "evalue": "Error: edge already esisting.",
     "output_type": "error",
     "traceback": [
      "Error: edge already esisting.",
      "",
      "Stacktrace:",
      " [1] error(::String) at ./error.jl:33",
      " [2] add_edge!(::MultiplexGraph{Int64}, ::Int64, ::Int64, ::Symbol, ::Int64) at ./In[6]:6",
      " [3] top-level scope at In[8]:8",
      " [4] include_string(::Function, ::Module, ::String, ::String) at ./loading.jl:1091",
      " [5] execute_code(::String, ::String) at /Users/Pit/.julia/packages/IJulia/rWZ9e/src/execute_request.jl:27",
      " [6] execute_request(::ZMQ.Socket, ::IJulia.Msg) at /Users/Pit/.julia/packages/IJulia/rWZ9e/src/execute_request.jl:86",
      " [7] #invokelatest#1 at ./essentials.jl:710 [inlined]",
      " [8] invokelatest at ./essentials.jl:709 [inlined]",
      " [9] eventloop(::ZMQ.Socket) at /Users/Pit/.julia/packages/IJulia/rWZ9e/src/eventloop.jl:8",
      " [10] (::IJulia.var\"#15#18\")() at ./task.jl:356"
     ]
    }
   ],
   "source": [
    "add_edge!(multiplex, 1, 2, :follower_graph)\n",
    "add_edge!(multiplex, 3, 1, :follower_graph)\n",
    "add_edge!(multiplex, 2, 3, :retweet_graph, 3)\n",
    "add_edge!(multiplex, 1, 3, :favorite_graph, 2)\n",
    "println(collect(edges(multiplex, :follower_graph)))\n",
    "println(collect(edges(multiplex, :retweet_graph)))\n",
    "println(collect(edges(multiplex, :favorite_graph)))\n",
    "println(add_edge!(multiplex, 1, 2, :follower_graph, 1))"
   ]
  },
  {
   "cell_type": "markdown",
   "metadata": {},
   "source": [
    "### `eltype` implementation"
   ]
  },
  {
   "cell_type": "code",
   "execution_count": 9,
   "metadata": {},
   "outputs": [
    {
     "data": {
      "text/plain": [
       "Int64"
      ]
     },
     "execution_count": 9,
     "metadata": {},
     "output_type": "execute_result"
    }
   ],
   "source": [
    "eltype(mp::MultiplexGraph{T}) where {T <: Int} = T\n",
    "eltype(multiplex)"
   ]
  },
  {
   "cell_type": "markdown",
   "metadata": {},
   "source": [
    "### `edgetype`"
   ]
  },
  {
   "cell_type": "code",
   "execution_count": 10,
   "metadata": {},
   "outputs": [
    {
     "data": {
      "text/plain": [
       "SimpleWeightedEdge{Int64,Int64}"
      ]
     },
     "execution_count": 10,
     "metadata": {},
     "output_type": "execute_result"
    }
   ],
   "source": [
    "edgetype(mp::MultiplexGraph{T}) where {T <: Int} = SimpleWeightedGraphs.edgetype(mp.retweet_graph)\n",
    "\n",
    "edgetype(multiplex)"
   ]
  },
  {
   "cell_type": "markdown",
   "metadata": {},
   "source": [
    "### `inneighbors`"
   ]
  },
  {
   "cell_type": "code",
   "execution_count": 11,
   "metadata": {},
   "outputs": [
    {
     "data": {
      "text/plain": [
       "1-element Array{Int64,1}:\n",
       " 3"
      ]
     },
     "execution_count": 11,
     "metadata": {},
     "output_type": "execute_result"
    }
   ],
   "source": [
    "function inneighbors(mp::MultiplexGraph{T}, v::T, which::Symbol) where {T <: Int}\n",
    "    return SimpleWeightedGraphs.inneighbors(getfield(mp, which) ,v)\n",
    "end\n",
    "\n",
    "inneighbors(multiplex,1, :follower_graph)"
   ]
  },
  {
   "cell_type": "markdown",
   "metadata": {},
   "source": [
    "### `ne`"
   ]
  },
  {
   "cell_type": "code",
   "execution_count": 12,
   "metadata": {},
   "outputs": [
    {
     "data": {
      "text/plain": [
       "1"
      ]
     },
     "execution_count": 12,
     "metadata": {},
     "output_type": "execute_result"
    }
   ],
   "source": [
    "function ne(mp::MultiplexGraph{T}, which::Symbol) where {T <: Int}\n",
    "    return SimpleWeightedGraphs.ne(getfield(mp, which))\n",
    "end\n",
    "\n",
    "ne(multiplex, :favorite_graph)"
   ]
  },
  {
   "cell_type": "markdown",
   "metadata": {},
   "source": [
    "### `nv`"
   ]
  },
  {
   "cell_type": "code",
   "execution_count": 13,
   "metadata": {},
   "outputs": [
    {
     "data": {
      "text/plain": [
       "3"
      ]
     },
     "execution_count": 13,
     "metadata": {},
     "output_type": "execute_result"
    }
   ],
   "source": [
    "function nv(mp::MultiplexGraph{T}, which::Symbol) where {T <: Int}\n",
    "    return SimpleWeightedGraphs.nv(getfield(mp, which))\n",
    "end\n",
    "\n",
    "nv(multiplex, :retweet_graph)"
   ]
  },
  {
   "cell_type": "markdown",
   "metadata": {},
   "source": [
    "### `outneighbors`"
   ]
  },
  {
   "cell_type": "code",
   "execution_count": 14,
   "metadata": {},
   "outputs": [
    {
     "data": {
      "text/plain": [
       "0-element view(::Array{Int64,1}, 2:1) with eltype Int64"
      ]
     },
     "execution_count": 14,
     "metadata": {},
     "output_type": "execute_result"
    }
   ],
   "source": [
    "function outneighbors(mp::MultiplexGraph{T}, v::T, which::Symbol) where {T <: Int}\n",
    "    return SimpleWeightedGraphs.outneighbors(getfield(mp, which),v)\n",
    "end\n",
    "\n",
    "outneighbors(multiplex, 2, :follower_graph)"
   ]
  },
  {
   "cell_type": "markdown",
   "metadata": {},
   "source": [
    "### `zero`"
   ]
  },
  {
   "cell_type": "code",
   "execution_count": 15,
   "metadata": {},
   "outputs": [
    {
     "data": {
      "text/plain": [
       "MultiplexGraph{Int64}({0, 0} directed simple Int64 graph with Int64 weights, {0, 0} directed simple Int64 graph with Int64 weights, {0, 0} directed simple Int64 graph with Int64 weights)"
      ]
     },
     "execution_count": 15,
     "metadata": {},
     "output_type": "execute_result"
    }
   ],
   "source": [
    "function zero(::MultiplexGraph{T})  where {T <: Int}\n",
    "    return MultiplexGraph(0)\n",
    "end\n",
    "\n",
    "zero(multiplex)"
   ]
  },
  {
   "cell_type": "markdown",
   "metadata": {},
   "source": [
    "### `is_directed`"
   ]
  },
  {
   "cell_type": "code",
   "execution_count": 16,
   "metadata": {},
   "outputs": [
    {
     "data": {
      "text/plain": [
       "true"
      ]
     },
     "execution_count": 16,
     "metadata": {},
     "output_type": "execute_result"
    }
   ],
   "source": [
    "function is_directed(::MultiplexGraph{T}) where {T <: Integer}\n",
    "    return true\n",
    "end\n",
    "\n",
    "is_directed(multiplex)"
   ]
  },
  {
   "cell_type": "markdown",
   "metadata": {},
   "source": [
    "### `get_edge`"
   ]
  },
  {
   "cell_type": "code",
   "execution_count": 17,
   "metadata": {},
   "outputs": [
    {
     "name": "stdout",
     "output_type": "stream",
     "text": [
      "Edge 3 => 1 with weight 1\n"
     ]
    },
    {
     "ename": "LoadError",
     "evalue": "Error: specified source and destination in follower_graph have no edge between them. Use `edges(mp::MultiplexGraph, which::String)` to get the list of all edges in subnetwork `which`",
     "output_type": "error",
     "traceback": [
      "Error: specified source and destination in follower_graph have no edge between them. Use `edges(mp::MultiplexGraph, which::String)` to get the list of all edges in subnetwork `which`",
      "",
      "Stacktrace:",
      " [1] error(::String, ::Symbol, ::String) at ./error.jl:42",
      " [2] get_edge(::MultiplexGraph{Int64}, ::Int64, ::Int64, ::Symbol) at ./In[17]:5",
      " [3] top-level scope at In[17]:10",
      " [4] include_string(::Function, ::Module, ::String, ::String) at ./loading.jl:1091",
      " [5] execute_code(::String, ::String) at /Users/Pit/.julia/packages/IJulia/rWZ9e/src/execute_request.jl:27",
      " [6] execute_request(::ZMQ.Socket, ::IJulia.Msg) at /Users/Pit/.julia/packages/IJulia/rWZ9e/src/execute_request.jl:86",
      " [7] #invokelatest#1 at ./essentials.jl:710 [inlined]",
      " [8] invokelatest at ./essentials.jl:709 [inlined]",
      " [9] eventloop(::ZMQ.Socket) at /Users/Pit/.julia/packages/IJulia/rWZ9e/src/eventloop.jl:8",
      " [10] (::IJulia.var\"#15#18\")() at ./task.jl:356"
     ]
    }
   ],
   "source": [
    "function get_edge(mp::MultiplexGraph, s::Int, d::Int, which::Symbol)\n",
    "    if has_edge(mp, s,d,which)\n",
    "        return  SimpleWeightedGraphs.SimpleWeightedEdge(s,d, get_weight(mp,s,d,which))\n",
    "    else\n",
    "        return error(\"Error: specified source and destination in \",which,\" have no edge between them. Use `edges(mp::MultiplexGraph, which::String)` to get the list of all edges in subnetwork `which`\")\n",
    "    end\n",
    "end\n",
    "\n",
    "println(get_edge(multiplex, 3,1,:follower_graph))\n",
    "get_edge(multiplex, 1,1,:follower_graph)"
   ]
  },
  {
   "cell_type": "markdown",
   "metadata": {},
   "source": [
    "### `rem_edge!`"
   ]
  },
  {
   "cell_type": "code",
   "execution_count": 18,
   "metadata": {},
   "outputs": [
    {
     "name": "stdout",
     "output_type": "stream",
     "text": [
      "SimpleWeightedEdge{Int64,Int64}[Edge 1 => 2 with weight 1, Edge 3 => 1 with weight 1]\n",
      "SimpleWeightedEdge{Int64,Int64}[Edge 3 => 1 with weight 1]\n",
      "SimpleWeightedEdge{Int64,Int64}[Edge 2 => 3 with weight 3]\n",
      "SimpleWeightedEdge{Int64,Int64}[Edge 2 => 3 with weight 1]\n",
      "SimpleWeightedEdge{Int64,Int64}[Edge 1 => 3 with weight 2]\n",
      "SimpleWeightedEdge{Int64,Int64}[Edge 1 => 3 with weight 1]\n"
     ]
    },
    {
     "ename": "LoadError",
     "evalue": "The required link does not exist, or the its weight is lesser than the weight to be subracted passed as argument.link weight = 0 , weight to be subtracted = 1 ",
     "output_type": "error",
     "traceback": [
      "The required link does not exist, or the its weight is lesser than the weight to be subracted passed as argument.link weight = 0 , weight to be subtracted = 1 ",
      "",
      "Stacktrace:",
      " [1] error(::String, ::String) at ./error.jl:42",
      " [2] rem_edge!(::MultiplexGraph{Int64}, ::Int64, ::Int64, ::Symbol, ::Int64) at ./In[18]:10",
      " [3] rem_edge!(::MultiplexGraph{Int64}, ::Int64, ::Int64, ::Symbol) at ./In[18]:2",
      " [4] top-level scope at In[18]:23",
      " [5] include_string(::Function, ::Module, ::String, ::String) at ./loading.jl:1091",
      " [6] execute_code(::String, ::String) at /Users/Pit/.julia/packages/IJulia/rWZ9e/src/execute_request.jl:27",
      " [7] execute_request(::ZMQ.Socket, ::IJulia.Msg) at /Users/Pit/.julia/packages/IJulia/rWZ9e/src/execute_request.jl:86",
      " [8] #invokelatest#1 at ./essentials.jl:710 [inlined]",
      " [9] invokelatest at ./essentials.jl:709 [inlined]",
      " [10] eventloop(::ZMQ.Socket) at /Users/Pit/.julia/packages/IJulia/rWZ9e/src/eventloop.jl:8",
      " [11] (::IJulia.var\"#15#18\")() at ./task.jl:356"
     ]
    }
   ],
   "source": [
    "function rem_edge!(mp::MultiplexGraph, s::Int, d::Int, which::Symbol , weight::Int = 1)\n",
    "    current_weight = get_weight(mp, s,d,which)\n",
    "    if has_edge(mp,s,d,which) && current_weight >= weight\n",
    "        if which == :follower_graph && !(weight in [1,0])\n",
    "            return error(\"Error: follower graph weights must be 1 or 0.\")\n",
    "        else\n",
    "            add_edge!(mp, s, d , which, -weight)\n",
    "        end\n",
    "    else\n",
    "        return error(\"The required link does not exist, or the its weight is lesser than the weight to be subracted passed as argument.\", \"link weight = $current_weight , weight to be subtracted = $weight \")\n",
    "    end\n",
    "end\n",
    "\n",
    "println(collect(edges(multiplex, :follower_graph)))\n",
    "rem_edge!(multiplex, 1, 2, :follower_graph)\n",
    "println(collect(edges(multiplex, :follower_graph)))\n",
    "println(collect(edges(multiplex, :retweet_graph)))\n",
    "rem_edge!(multiplex, 2, 3, :retweet_graph, 2)\n",
    "println(collect(edges(multiplex, :retweet_graph)))\n",
    "println(collect(edges(multiplex, :favorite_graph)))\n",
    "rem_edge!(multiplex, 1, 3, :favorite_graph, 1)\n",
    "println(collect(edges(multiplex, :favorite_graph)))\n",
    "rem_edge!(multiplex, 1, 2, :follower_graph)"
   ]
  },
  {
   "cell_type": "code",
   "execution_count": 19,
   "metadata": {},
   "outputs": [],
   "source": [
    "# swdg = SimpleWeightedDiGraph(2)\n",
    "# SimpleWeightedGraphs.add_edge!(swdg,1,2,1)\n",
    "# println(collect(SimpleWeightedGraphs.edges(swdg)))\n",
    "# SimpleWeightedGraphs.add_edge!(swdg,1,2,2)\n",
    "# println(collect(SimpleWeightedGraphs.edges(swdg)))"
   ]
  }
 ],
 "metadata": {
  "kernelspec": {
   "display_name": "Julia 1.5.3",
   "language": "julia",
   "name": "julia-1.5"
  },
  "language_info": {
   "file_extension": ".jl",
   "mimetype": "application/julia",
   "name": "julia",
   "version": "1.5.3"
  }
 },
 "nbformat": 4,
 "nbformat_minor": 4
}
