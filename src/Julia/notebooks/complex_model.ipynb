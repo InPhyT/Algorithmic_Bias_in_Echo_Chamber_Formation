{
 "cells": [
  {
   "cell_type": "markdown",
   "metadata": {},
   "source": [
    "# Twitter: Complex"
   ]
  },
  {
   "cell_type": "markdown",
   "metadata": {},
   "source": [
    "## Summary \n",
    "\n",
    "### Data \n",
    "* Degree distributions \n",
    "* Activity distributions\n",
    "    * Tweet\n",
    "    * Favourite \n",
    "    * Follow\n",
    "\n",
    "### Types \n",
    "\n",
    "#### Tweet \n",
    "\n",
    "* `id` $\\in V \\subset \\mathbb{N}$            \n",
    "* `user_id` $\\in \\mathbb{N}$         \n",
    "* `retweet_status` $\\in \\mathbb{B}$  \n",
    "* `retweeted_id` $\\in \\mathbb{N}$ \n",
    "* `retweeted_user_id` $\\in \\mathbb{N}$ \n",
    "* `content` $\\in \\mathbb{R}$ \n",
    "* `favorite_count` $\\in \\mathbb{N}$\n",
    "* `retweet_count` $\\in \\mathbb{N}$  \n",
    "* `step` $\\in \\mathbb{N}$        \n",
    "\n",
    "#### User \n",
    "\n",
    "* `id` $\\in \\mathbb{N}$       \n",
    "* `pos` $\\in \\mathbb{N}$              \n",
    "* `feed` $\\subset \\mathcal{T}$  \n",
    "* `opinion` $\\in \\mathbb{R}$       \n",
    "* `tweet_rate` $\\in \\mathbb{R}$     \n",
    "* `retweet_rate` $\\in \\mathbb{R}$     \n",
    "* `favorite_rate` $\\in \\mathbb{R}$   \n",
    "* `follow_rate` $\\in \\mathbb{R}$     \n",
    "* `unfollow_rate` $\\in \\mathbb{R}$    \n",
    "* `tweets` $\\subset \\mathcal{T}$  \n",
    "* `favorites` $\\subset \\mathcal{T}$  \n",
    "\n",
    "### Model \n",
    "\n",
    "#### Parameters\n",
    "\n",
    "* Population size $N$\n",
    "* Number of replicates $R$\n",
    "* Number of time steps $T$\n",
    "* Controversialness $\\alpha$ \n",
    "* Follow threshold $f$\n",
    "* Unfollow threshold $u$\n",
    "\n",
    "#### Properties \n",
    "\n",
    "* Population size `N` \n",
    "* Time step `step` \n",
    "* Tweet ID counter `tweet_id` \n",
    "* Tweet objects `tweets` \n",
    "* Controversialness `α`\n",
    "* Follow threshold `follow_threshold`\n",
    "* Unfollow threshold `unfollow_threshold`\n",
    "\n",
    "#### Initialization \n",
    "\n",
    "* `id` has been initialized sequentially \n",
    "* `pos` has been initialized sequentially \n",
    "* `feed` has been initialized as an empty array              \n",
    "* `opinion` has been initialized as drawn from $\\mathcal{U}(-1,1)$          \n",
    "* `tweet_rate` and `retweet_rate` have been initialized with a sample of 2012 activity data \n",
    "* `favorite_rate` has been initialized with a sample of 2012 activity data \n",
    "* `follow_rate` and `unfollow_rate` have been initialized with a sample of 2012 activity data \n",
    "* `tweets` has been initialized as an empty array\n",
    "* `favorites` has been initialized as an empty array\n",
    "* `follower_graph` has been constructed such that the friends (outneighbors) of each user (node) have been drawn from a $\\Gamma(2,1)$\n",
    "\n",
    "#### Calibration \n",
    "\n",
    "Not discussed yet. \n",
    "\n",
    "#### Validation \n",
    "\n",
    "Not discussed yet.\n",
    "\n",
    "#### Micro-Dynamics (`agent_step!`)\n",
    "\n",
    "* The minimal opinion dynamics (`Update!`) follows the equation by [Baumann et al. (2020)](https://doi.org/10.1103/PhysRevLett.124.048301) \n",
    "* The minimal follow dynamics (`Follow!`) consists in a uniform sampling from the complement of set of friends according to the user's `follow_rate` and `follow_threshold` \n",
    "* The minimal unfollow dynamics (`Unollow!`) consists in a uniform sampling from the set of friends according to the user's `unfollow_rate` and `unfollow_threshold` \n",
    "\n",
    "#### Macro-Dynamics (`model_step!`)\n",
    "\n",
    "* Time step `step` is incremented by one at each iteration\n",
    "* Tweet ID counter `tweet_id` is incremented by one every time a tweet is authored (or retweeted)\n",
    "* Tweet objects `tweets` is enriched with every tweet object authored (or retweeted)"
   ]
  },
  {
   "cell_type": "markdown",
   "metadata": {},
   "source": [
    "## Thoughts & Doubts  \n",
    "* How to define distinct time scales ($T_{F} \\gg T_{RT} > T_{L}$)\n",
    "* What about defining a status type as a reduced representation of the status object\n",
    "* Choose `nsteps` taking into account the constraints induced by Monitor limits \n",
    "* highlight the latency of the opinion variable: users do not have direct access to the *cognitive opinion* of other but  they have indirect access to *behavioral opinion* leading to a non-zero (tipically high) probability of mis-interpretation (we may model it via a portfolio of probability distributions centered around the true value)\n",
    "* think about how to implement possibile polarization/segregation mitigation strategies (e.g. *homophily-induced heterophily*)\n",
    "* Can we learn anything significant from Higgs2012 static and temporal graphs\n",
    "* How to reliably mine temporal behavioral opinion and reaction mechanisms (e.g. net positive interaction rate: net of T,RTs,L of known polarity / total number of interactions) "
   ]
  },
  {
   "cell_type": "markdown",
   "metadata": {},
   "source": [
    "## To-Do List\n",
    "* Overwrite all graph-related functions in Agents to ensure compatibility with `MultiplexGraphs.jl` (e.g. `get_node_agents()`,...)\n",
    "* Think about all elementary variables, parameters and timing distributions\n",
    "* Explore the portfolio of possible recommendation systems (e.g. GNN, bipartite, centrality-based, simple weighted sum,...)\n",
    "* Implement basic `Follow!` and `RT!` behaviors\n",
    "* Implement the simplest recommendation system (in `model_step!`)\n",
    "* Implement non-trivial interpretation distribution $\\rho_i$\n",
    "* Explore and evaluate Higgs2012 static and temporal graph data\n",
    "* Think of the best parametrization that allows effective calibration "
   ]
  },
  {
   "cell_type": "markdown",
   "metadata": {},
   "source": [
    "## Modules"
   ]
  },
  {
   "cell_type": "code",
   "execution_count": 1,
   "metadata": {},
   "outputs": [
    {
     "data": {
      "text/plain": [
       "Main.MultiplexGraphs"
      ]
     },
     "execution_count": 1,
     "metadata": {},
     "output_type": "execute_result"
    }
   ],
   "source": [
    "using Agents\n",
    "#using LightGraphs, SimpleWeightedGraphs\n",
    "using Random\n",
    "using GraphPlot\n",
    "using Distributions\n",
    "using DrWatson\n",
    "using BenchmarkTools\n",
    "using StatsBase\n",
    "using Plots\n",
    "using DataFrames\n",
    "\n",
    "# Costum Modules\n",
    "MG = include(\"/Users/Pit/GitHub/Econophysics/Project/Models/ourModels/Pietro&Riccardo/MultiplexGraphs.jl\")"
   ]
  },
  {
   "cell_type": "markdown",
   "metadata": {},
   "source": [
    "## Agent Type"
   ]
  },
  {
   "cell_type": "code",
   "execution_count": 2,
   "metadata": {},
   "outputs": [],
   "source": [
    "mutable struct User <: AbstractAgent\n",
    "    id::Int                # idenfier code ∈ ℕ\n",
    "    pos::Int               # nodal position ∈ ℕ\n",
    "    login::Bool            # activity binary state ∈ 𝔹\n",
    "    tweets::Array          # tweet history \n",
    "    favorites::Array       # favorite history \n",
    "    feed::Array            # tweet feed\n",
    "    effective_feed::Array  # effective feed of tweets to be read \n",
    "    opinion::Real          # leaning ∈ [-1,1] \n",
    "    attention::Int         # cardinality effective feed\n",
    "    epsilon_like::Real     # favorite threshold\n",
    "    epsilon_RT::Real       # RT threshold\n",
    "    epsilon_follow::Real   # follow threshold\n",
    "    login_rate::Real        \n",
    "    logout_rate::Real\n",
    "    tweet_rate::Real       # probability to tweet its opinion if active\n",
    "end"
   ]
  },
  {
   "cell_type": "markdown",
   "metadata": {},
   "source": [
    "## Tweet Type"
   ]
  },
  {
   "cell_type": "code",
   "execution_count": 3,
   "metadata": {},
   "outputs": [],
   "source": [
    "mutable struct Tweet\n",
    "    id::Int \n",
    "    user_id::Int\n",
    "    retweet_status::Bool\n",
    "    retweeted_id::Int\n",
    "    retweeted_user_id::Int\n",
    "    content::Real\n",
    "    favorite_count::Int\n",
    "    retweet_count::Int\n",
    "    step::Int\n",
    "end"
   ]
  },
  {
   "cell_type": "markdown",
   "metadata": {},
   "source": [
    "## Utilities"
   ]
  },
  {
   "cell_type": "code",
   "execution_count": 4,
   "metadata": {},
   "outputs": [],
   "source": [
    "function node_neighbors(agent::User, model::ABM{User,GraphSpace{Main.MultiplexGraphs.MultiplexGraph{Int64}},typeof(fastest),Dict{Symbol,Any}}, which::Symbol; neighbor_type::Symbol=:default) \n",
    "    @assert neighbor_type ∈ (:default, :in, :out)\n",
    "    if neighbor_type == :default\n",
    "        MG.neighbors(model.space.graph, agent.pos, which)\n",
    "    elseif neighbor_type == :in\n",
    "        MG.inneighbors(model.space.graph, agent.pos, which)\n",
    "    elseif neighbor_type == :out\n",
    "        MG.outneighbors(model.space.graph, agent.pos, which)\n",
    "    end\n",
    "end\n",
    "\n",
    "# Power law sampling\n",
    "function PowerlawSample(a::Real, b::Real, γ::Real)\n",
    "    a + (b-a)*rand()^γ\n",
    "end;\n",
    "#round(Int, PowerlawSample(1,1000,2.2))\n",
    "\n",
    "function get_tweet_from_id(id::Int, model)\n",
    "    tweet=[t for t in model.tweets if t.id == id]\n",
    "    return tweet[1]\n",
    "end;"
   ]
  },
  {
   "cell_type": "markdown",
   "metadata": {},
   "source": [
    "### Initialization "
   ]
  },
  {
   "cell_type": "code",
   "execution_count": 5,
   "metadata": {},
   "outputs": [
    {
     "data": {
      "text/plain": [
       "InitializeModel (generic function with 1 method)"
      ]
     },
     "execution_count": 5,
     "metadata": {},
     "output_type": "execute_result"
    }
   ],
   "source": [
    "function InitializeModel(N)\n",
    "    step=0\n",
    "    tweet_id=0\n",
    "    tweets=[]\n",
    "    properties = @dict(N,step,tweet_id,tweets) # or @dict(N) where @dict is a \"macro\" which is equivalent to  Dict(:N => N)\n",
    "    space=GraphSpace(MG.MultiplexGraph(N))\n",
    "    model = ABM(User, space; properties) #AgentType, space; properties (dict)\n",
    "    \n",
    "    # Populate the model\n",
    "    for id in 1:N\n",
    "        pos = id\n",
    "        login=false\n",
    "        tweets=[]\n",
    "        favorites=[]\n",
    "        feed=[]\n",
    "        effective_feed=[]\n",
    "        opinion = rand(Uniform(-1, 1))\n",
    "        attention = round(Int, PowerlawSample(1,N,2.5))\n",
    "        epsilon_like = rand(Uniform(0, 1)) # Remember to check for polarity alignment\n",
    "        epsilon_RT = rand(Uniform(0, 0.1))\n",
    "        epsilon_follow = rand(Uniform(0, 0.01))\n",
    "        login_rate = rand(Uniform(0, 1))\n",
    "        logout_rate = rand(Uniform(0, 1))\n",
    "        tweet_rate=rand(Uniform(0, 1))\n",
    "        add_agent!(pos, model, login, tweets, favorites, feed, effective_feed, opinion, attention, epsilon_like, epsilon_RT, epsilon_follow, login_rate, logout_rate, tweet_rate) # even though opinion is optional\n",
    "    end\n",
    "    \n",
    "    agents=[a for a in allagents(model)]\n",
    "    # Initialize follower graph (static)\n",
    "    for agent in agents\n",
    "        others=[a for a in agents if a !=agent]\n",
    "        friends=StatsBase.sample(others, rand(1:length(others)); replace=false, ordered=false) # replace=true for favorite graph\n",
    "        for friend in friends\n",
    "            MG.add_edge!(model.space.graph, agent.pos, friend.pos, :follower_graph)\n",
    "        end\n",
    "    end\n",
    "    \n",
    "    # Initialize feeds\n",
    "    friends=StatsBase.sample(agents, rand(1:round(Int, length(agents)/3)) ; replace=false, ordered=false) # replace=true for favorite graph\n",
    "    tweet_id=1\n",
    "    for friend in friends \n",
    "        append!(friend.tweets, model.tweet_id)\n",
    "        followers_pos=node_neighbors(friend, model, :follower_graph, neighbor_type=:in) \n",
    "        followers=[f for f in agents if f.pos in followers_pos]\n",
    "        tweet=Tweet(tweet_id, friend.id, false, 0, 0, friend.opinion, 0, 0, model.step)\n",
    "        for follower in followers\n",
    "            push!(follower.feed, tweet)\n",
    "        end\n",
    "        push!(model.tweets, tweet)\n",
    "        model.tweet_id+=1\n",
    "    end\n",
    "    \n",
    "    # Shuffle feeds \n",
    "    for agent in agents \n",
    "        agent.feed[randperm(length(agent.feed))]\n",
    "    end\n",
    "    \n",
    "    return model\n",
    "end"
   ]
  },
  {
   "cell_type": "markdown",
   "metadata": {},
   "source": [
    "### Macro-Dynamics"
   ]
  },
  {
   "cell_type": "code",
   "execution_count": 6,
   "metadata": {},
   "outputs": [
    {
     "data": {
      "text/plain": [
       "model_step! (generic function with 1 method)"
      ]
     },
     "execution_count": 6,
     "metadata": {},
     "output_type": "execute_result"
    }
   ],
   "source": [
    "function model_step!(model)\n",
    "    model.step+=1\n",
    "end"
   ]
  },
  {
   "cell_type": "markdown",
   "metadata": {},
   "source": [
    "### Micro-Dynamics"
   ]
  },
  {
   "cell_type": "code",
   "execution_count": 7,
   "metadata": {},
   "outputs": [
    {
     "data": {
      "text/plain": [
       "agent_step! (generic function with 1 method)"
      ]
     },
     "execution_count": 7,
     "metadata": {},
     "output_type": "execute_result"
    }
   ],
   "source": [
    "# Login dynamics \n",
    "function Login!(agent,model)\n",
    "    if agent.login==false && rand()≤agent.login_rate\n",
    "        agent.login=true\n",
    "    end\n",
    "end\n",
    "\n",
    "# Read dynamics \n",
    "function Read!(agent, model)\n",
    "    if agent.attention ≤ length(agent.feed)\n",
    "        agent.effective_feed=agent.feed[1:agent.attention]\n",
    "    else\n",
    "        agent.effective_feed=agent.feed\n",
    "    end\n",
    "end\n",
    "\n",
    "# Tweet dynamics\n",
    "function Tweet!(agent,model)\n",
    "    if rand() ≤ agent.tweet_rate\n",
    "        followers_pos=node_neighbors(agent, model, :follower_graph, neighbor_type=:in) \n",
    "        followers=[f for f in allagents(model) if f.pos in followers_pos]\n",
    "        tweet=Tweet(model.tweet_id, agent.id, false, 0, 0, agent.opinion, 0, 0, model.step)\n",
    "        for follower in followers\n",
    "            push!(follower.feed, tweet)\n",
    "        end \n",
    "        append!(agent.tweets, model.tweet_id)\n",
    "        push!(model.tweets, tweet)\n",
    "        model.tweet_id+=1\n",
    "    end\n",
    "end\n",
    "\n",
    "# Like dynamics\n",
    "function Like!(agent,model) \n",
    "    for tweet in agent.effective_feed \n",
    "        if tweet.id ∉ agent.favorites\n",
    "            if abs(agent.opinion-tweet.content) ≤ agent.epsilon_like\n",
    "                tweet.favorite_count+=1\n",
    "                append!(agent.favorites, tweet.id)\n",
    "                MG.add_edge!(model.space.graph, agent.pos, tweet.user_id, :favorite_graph)\n",
    "            end\n",
    "        end\n",
    "    end\n",
    "end\n",
    "\n",
    "# Retweet dyamics \n",
    "function RT!(agent,model) \n",
    "    for tweet in agent.effective_feed\n",
    "        if tweet.retweet_status==false \n",
    "            if abs(agent.opinion-tweet.content) ≤ agent.epsilon_RT\n",
    "                tweet.retweet_count+=1\n",
    "                MG.add_edge!(model.space.graph, agent.pos, tweet.user_id, :retweet_graph)\n",
    "                \n",
    "                followers_pos=node_neighbors(agent, model, :follower_graph, neighbor_type=:in) \n",
    "                followers=[f for f in allagents(model) if f.pos in followers_pos]\n",
    "                retweet=Tweet(model.tweet_id, agent.id, true, tweet.id, tweet.user_id, tweet.content, 0, 0, model.step)\n",
    "                for follower in followers\n",
    "                    push!(follower.feed, retweet)\n",
    "                end \n",
    "                append!(agent.tweets, model.tweet_id)\n",
    "                push!(model.tweets, tweet)\n",
    "                model.tweet_id+=1\n",
    "            end\n",
    "        else\n",
    "            retweet=tweet\n",
    "            if retweet.user_id==agent.id\n",
    "                return\n",
    "            else\n",
    "                tweet=get_tweet_from_id(retweet.retweeted_id, model)\n",
    "                if abs(agent.opinion-tweet.content) ≤ agent.epsilon_RT\n",
    "                    tweet.retweet_count+=1\n",
    "                    MG.add_edge!(model.space.graph, agent.pos, tweet.user_id, :retweet_graph)\n",
    "                \n",
    "                    followers_pos=node_neighbors(agent, model, :follower_graph, neighbor_type=:in) \n",
    "                    followers=[f for f in allagents(model) if f.pos in followers_pos]\n",
    "                    for follower in followers\n",
    "                        push!(follower.feed, Tweet(model.tweet_id, agent.id, true, tweet.id, tweet.user_id, tweet.content, 0, 0, model.step))\n",
    "                    end \n",
    "                    append!(agent.tweets, model.tweet_id)\n",
    "                    push!(model.tweets, tweet)\n",
    "                    model.tweet_id+=1\n",
    "                end\n",
    "            end\n",
    "        end\n",
    "    end\n",
    "end\n",
    "\n",
    "# Follow dyamics \n",
    "function Follow!(agent,model) \n",
    "end\n",
    "\n",
    "# Unfollow dyamics \n",
    "function Unfollow!(agent,model) \n",
    "end\n",
    "\n",
    "# Logout dynamics \n",
    "function Logout!(agent,model)\n",
    "    if rand() ≤ agent.logout_rate\n",
    "        agent.login=false\n",
    "    end\n",
    "end\n",
    "\n",
    "# Agent dynamics\n",
    "function agent_step!(agent,model)\n",
    "    \n",
    "    Login!(agent,model)\n",
    "    \n",
    "    agent.login==false && return \n",
    "    \n",
    "    Read!(agent,model)\n",
    "    \n",
    "    Tweet!(agent,model)\n",
    "    \n",
    "    Like!(agent,model)\n",
    "    \n",
    "    RT!(agent,model)\n",
    "    \n",
    "    Logout!(agent,model)\n",
    "\n",
    "end"
   ]
  },
  {
   "cell_type": "markdown",
   "metadata": {},
   "source": [
    "## Parameters"
   ]
  },
  {
   "cell_type": "code",
   "execution_count": 8,
   "metadata": {},
   "outputs": [
    {
     "data": {
      "text/plain": [
       "100"
      ]
     },
     "execution_count": 8,
     "metadata": {},
     "output_type": "execute_result"
    }
   ],
   "source": [
    "# Population size\n",
    "const N=100\n",
    "const nsteps=100"
   ]
  },
  {
   "cell_type": "markdown",
   "metadata": {},
   "source": [
    "## Simulations "
   ]
  },
  {
   "cell_type": "code",
   "execution_count": 9,
   "metadata": {},
   "outputs": [
    {
     "name": "stdout",
     "output_type": "stream",
     "text": [
      "  2.716393 seconds (2.93 M allocations: 153.526 MiB, 2.36% gc time)\n",
      "119.385768 seconds (1.54 G allocations: 32.269 GiB, 8.85% gc time)\n"
     ]
    }
   ],
   "source": [
    "model = @time InitializeModel(N)\n",
    "\n",
    "agent_data, _ = @time run!(model, agent_step!, model_step!, nsteps, agents_first=true)\n",
    "                           #replicates=1, parallel=false); \n",
    "#or adata = [\"opinion\"] #@btime for a more accurate timing than @time (uses BenchmarkTools). \n",
    "# Warning: it runs the run! function multiple times and then averages: potentially dangerous!"
   ]
  },
  {
   "cell_type": "code",
   "execution_count": 10,
   "metadata": {},
   "outputs": [
    {
     "data": {
      "text/plain": [
       "User(82, 82, true, Any[1078, 2213, 3171, 3650, 5177, 5579, 6043, 7350, 7498, 7646  …  9306, 9993, 10158, 10430, 11682, 12458, 12767, 13693, 14116, 14450], Any[1], Any[Tweet(1, 77, false, 0, 0, 0.0664663745942673, 15, 215, 0), Tweet(1, 68, false, 0, 0, -0.02053215844743539, 5, 0, 0), Tweet(1, 47, false, 0, 0, 0.417142411837796, 2, 0, 0), Tweet(1, 8, false, 0, 0, 0.764112496200509, 4, 25, 0), Tweet(1, 27, false, 0, 0, -0.39929835204533903, 0, 204, 0), Tweet(1, 95, false, 0, 0, 0.5795744343772591, 0, 61, 0), Tweet(1, 35, false, 0, 0, 0.4682553112739196, 0, 90, 0), Tweet(1, 51, false, 0, 0, -0.2502070931900784, 0, 101, 0), Tweet(1, 60, false, 0, 0, -0.8205616530319029, 2, 75, 0), Tweet(1, 74, false, 0, 0, -0.14058141781844702, 0, 62, 0)  …  Tweet(14496, 15, false, 0, 0, -0.7099665487958053, 0, 0, 99), Tweet(14497, 15, true, 47, 94, -0.6628136795620834, 0, 0, 99), Tweet(14498, 15, true, 67, 63, -0.7035264628696849, 0, 0, 99), Tweet(14499, 15, true, 47, 94, -0.6628136795620834, 0, 0, 99), Tweet(14500, 15, true, 55, 71, -0.6423909094202553, 0, 0, 99), Tweet(14501, 15, true, 47, 94, -0.6628136795620834, 0, 0, 99), Tweet(14502, 15, true, 99, 94, -0.6628136795620834, 0, 0, 99), Tweet(14503, 15, true, 55, 71, -0.6423909094202553, 0, 0, 99), Tweet(14504, 15, true, 47, 94, -0.6628136795620834, 0, 0, 99), Tweet(14505, 15, true, 67, 63, -0.7035264628696849, 0, 0, 99)], Any[Tweet(1, 77, false, 0, 0, 0.0664663745942673, 15, 215, 0), Tweet(1, 68, false, 0, 0, -0.02053215844743539, 5, 0, 0), Tweet(1, 47, false, 0, 0, 0.417142411837796, 2, 0, 0), Tweet(1, 8, false, 0, 0, 0.764112496200509, 4, 25, 0), Tweet(1, 27, false, 0, 0, -0.39929835204533903, 0, 204, 0), Tweet(1, 95, false, 0, 0, 0.5795744343772591, 0, 61, 0), Tweet(1, 35, false, 0, 0, 0.4682553112739196, 0, 90, 0), Tweet(1, 51, false, 0, 0, -0.2502070931900784, 0, 101, 0), Tweet(1, 60, false, 0, 0, -0.8205616530319029, 2, 75, 0), Tweet(1, 74, false, 0, 0, -0.14058141781844702, 0, 62, 0), Tweet(1, 2, false, 0, 0, -0.6596660371882597, 0, 226, 0), Tweet(1, 38, false, 0, 0, -0.5406038150475916, 2, 200, 0), Tweet(1, 85, false, 0, 0, -0.8713722001116624, 0, 76, 0), Tweet(1, 92, false, 0, 0, 0.7626839593267225, 0, 0, 0)], 0.9863612574614233, 14, 0.4741971286557738, 0.07000938184975425, 0.008976175113082739, 0.40359430231687643, 0.06530931865077183, 0.21030305818939987)"
      ]
     },
     "execution_count": 10,
     "metadata": {},
     "output_type": "execute_result"
    }
   ],
   "source": [
    "agent=random_agent(model)"
   ]
  },
  {
   "cell_type": "code",
   "execution_count": 11,
   "metadata": {},
   "outputs": [
    {
     "data": {
      "text/plain": [
       "Base.ValueIterator for a Dict{Int64,User} with 100 entries. Values:\n",
       "  User(68, 68, true, Any[3, 1284, 1285, 1286, 1444, 1445, 1605, 1606, 1739, 174…\n",
       "  User(2, 2, false, Any[22, 994, 995, 996, 997, 998, 999, 1000, 1001, 1002  …  …\n",
       "  User(89, 89, false, Any[21, 9741, 9742], Any[1, 64, 65, 66, 97, 137, 138, 200…\n",
       "  User(11, 11, true, Any[168, 169, 299, 300, 443, 444, 584, 585, 733, 734  …  1…\n",
       "  User(39, 39, false, Any[76, 301, 586, 859, 1010, 2108, 2372, 3243, 3409, 3713…\n",
       "  User(46, 46, false, Any[170, 302, 445, 587, 735, 860, 1011, 1135, 1289, 1448 …\n",
       "  User(85, 85, false, Any[24, 588, 14186], Any[67, 68], Any[Tweet(1, 62, false,…\n",
       "  User(25, 25, false, Any[2816, 2974, 2975, 9221], Any[32], Any[Tweet(1, 14, fa…\n",
       "  User(55, 55, true, Any[31, 77, 171, 303, 446, 736, 861, 1012, 1290, 1610  …  …\n",
       "  User(42, 42, false, Any[32, 172, 304, 589, 862, 1013, 1449, 1611, 1871, 1965 …\n",
       "  User(29, 29, false, Any[78, 173, 737, 863, 1136, 1291, 1450, 1612, 1966, 2377…\n",
       "  User(58, 58, true, Any[590, 1014, 3568, 3866, 4477, 5260, 5949, 6406, 6837, 6…\n",
       "  User(66, 66, false, Any[], Any[1, 36, 38, 45, 46, 47, 48, 50, 62, 63  …  92, …\n",
       "  User(59, 59, false, Any[79, 174, 447, 864, 1015, 1451, 1613, 1746, 1872, 1967…\n",
       "  User(8, 8, false, Any[6, 80, 175, 448, 738, 865, 1016, 1292, 1452, 1614  …  1…\n",
       "  User(74, 74, true, Any[18, 33, 34, 81, 176, 305, 449, 591, 739, 740  …  13299…\n",
       "  User(95, 95, true, Any[9, 35, 82, 177, 306, 450, 592, 741, 867, 1018  …  1283…\n",
       "  User(57, 57, true, Any[1140, 1141, 1142, 1296, 1297, 1298, 1971, 1972, 1973, …\n",
       "  User(20, 20, false, Any[83, 178, 451, 1019, 1143, 1455, 1618, 4147, 4639, 538…\n",
       "  User(90, 90, true, Any[84, 85, 86, 179, 180, 181, 182, 307, 308, 309  …  1420…\n",
       "  User(14, 14, false, Any[5, 36, 183, 312, 1758, 1982, 2666, 3585, 3731, 4155  …\n",
       "  User(31, 31, true, Any[25, 37, 87, 88, 184, 313, 459, 601, 750, 751  …  13312…\n",
       "  User(78, 78, true, Any[38, 89, 185, 314, 460, 602, 752, 878, 1029, 1154  …  1…\n",
       "  User(70, 70, true, Any[], Any[1], Any[Tweet(1, 68, false, 0, 0, -0.0205321584…\n",
       "  User(33, 33, false, Any[8, 3428, 8379, 8680, 9509, 11754], Any[1], Any[Tweet(…\n",
       "  ⋮"
      ]
     },
     "execution_count": 11,
     "metadata": {},
     "output_type": "execute_result"
    }
   ],
   "source": [
    "allagents(model)"
   ]
  },
  {
   "cell_type": "code",
   "execution_count": 12,
   "metadata": {},
   "outputs": [
    {
     "data": {
      "text/plain": [
       "21"
      ]
     },
     "execution_count": 12,
     "metadata": {},
     "output_type": "execute_result"
    }
   ],
   "source": [
    "maximum(model.space.graph.favorite_graph.weights)"
   ]
  },
  {
   "cell_type": "code",
   "execution_count": 13,
   "metadata": {},
   "outputs": [
    {
     "data": {
      "text/html": [
       "<table class=\"data-frame\"><thead><tr><th></th><th>id</th><th>pos</th><th>login</th><th>tweets</th></tr><tr><th></th><th>Int64</th><th>Int64</th><th>Bool</th><th>Array…</th></tr></thead><tbody><p>100 rows × 15 columns (omitted printing of 11 columns)</p><tr><th>1</th><td>1</td><td>1</td><td>1</td><td>[17, 370, 371, 372, 373, 374, 514, 515, 516, 517, 518, 656, 657, 658, 659, 660, 784, 785, 786, 787, 788, 930, 931, 932, 933, 934, 1057, 1058, 1059, 1060, 1061, 1216, 1217, 1218, 1219, 1369, 1370, 1371, 1372, 1373, 1525, 1526, 1527, 1528, 1529, 1680, 1681, 1682, 1683, 1684, 1809, 1810, 1811, 1812, 1813, 1906, 1907, 1908, 1909, 2048, 2049, 2050, 2051, 2052, 2192, 2193, 2194, 2195, 2196, 2307, 2308, 2309, 2310, 2311, 2445, 2446, 2447, 2448, 2449, 2574, 2575, 2576, 2577, 2578, 2731, 2732, 2733, 2734, 2735, 2895, 2896, 2897, 2898, 2899, 3016, 3017, 3018, 3019, 3020, 3161, 3162, 3163, 3164, 3165, 3320, 3321, 3322, 3323, 3324, 3484, 3485, 3486, 3487, 3488, 3631, 3632, 3633, 3634, 3635, 3777, 3778, 3779, 3780, 3781, 3928, 3929, 3930, 3931, 3932, 4051, 4052, 4053, 4054, 4055, 4219, 4220, 4221, 4222, 4223, 4387, 4388, 4389, 4390, 4391, 4551, 4552, 4553, 4554, 4555, 4706, 4707, 4708, 4709, 4710, 4866, 4867, 4868, 4869, 4870, 5014, 5015, 5016, 5017, 5018, 5158, 5159, 5160, 5161, 5162, 5300, 5301, 5302, 5303, 5304, 5409, 5410, 5411, 5412, 5413, 5561, 5562, 5563, 5564, 5565, 5717, 5718, 5719, 5720, 5721, 5867, 5868, 5869, 5870, 5871, 6031, 6032, 6033, 6034, 6035, 6169, 6170, 6171, 6172, 6173, 6334, 6335, 6336, 6337, 6338, 6484, 6485, 6486, 6487, 6488, 6625, 6626, 6627, 6628, 6629, 6768, 6769, 6770, 6771, 6772, 6890, 6891, 6892, 6893, 6894, 7044, 7045, 7046, 7047, 7048, 7192, 7193, 7194, 7195, 7196, 7338, 7339, 7340, 7341, 7342, 7485, 7486, 7487, 7488, 7630, 7631, 7632, 7633, 7634, 7774, 7775, 7776, 7777, 7778, 7952, 7953, 7954, 7955, 7956, 8101, 8102, 8103, 8104, 8105, 8269, 8270, 8271, 8272, 8273, 8428, 8429, 8430, 8431, 8578, 8579, 8580, 8581, 8582, 8725, 8726, 8727, 8728, 8729, 8873, 8874, 8875, 8876, 8877, 8989, 8990, 8991, 8992, 8993, 9141, 9142, 9143, 9144, 9145, 9295, 9296, 9297, 9298, 9299, 9410, 9411, 9412, 9413, 9414, 9536, 9537, 9538, 9539, 9540, 9662, 9663, 9664, 9665, 9666, 9810, 9811, 9812, 9813, 9814, 9984, 9985, 9986, 9987, 9988, 10145, 10146, 10147, 10148, 10149, 10279, 10280, 10281, 10282, 10283, 10417, 10418, 10419, 10420, 10547, 10548, 10549, 10550, 10551, 10686, 10687, 10688, 10689, 10690, 10812, 10813, 10814, 10815, 10816, 10917, 10918, 10919, 10920, 10921, 11066, 11067, 11068, 11069, 11070, 11215, 11216, 11217, 11218, 11219, 11363, 11364, 11365, 11366, 11367, 11516, 11517, 11518, 11519, 11520, 11668, 11669, 11670, 11671, 11672, 11800, 11801, 11802, 11803, 11804, 11974, 11975, 11976, 11977, 11978, 12125, 12126, 12127, 12128, 12129, 12280, 12281, 12282, 12283, 12284, 12443, 12444, 12445, 12446, 12447, 12597, 12598, 12599, 12600, 12601, 12748, 12749, 12750, 12751, 12752, 12881, 12882, 12883, 12884, 12885, 13051, 13052, 13053, 13054, 13055, 13209, 13210, 13211, 13212, 13213, 13378, 13379, 13380, 13381, 13382, 13536, 13537, 13538, 13539, 13540, 13683, 13684, 13685, 13686, 13687, 13821, 13822, 13823, 13824, 13825, 13955, 13956, 13957, 13958, 13959, 14107, 14108, 14109, 14110, 14111, 14262, 14263, 14264, 14265, 14266, 14439, 14440, 14441, 14442, 14443]</td></tr><tr><th>2</th><td>2</td><td>2</td><td>0</td><td>[22, 994, 995, 996, 997, 998, 999, 1000, 1001, 1002, 1003, 1004, 1005, 1006, 1007, 3227, 3228, 3229, 3230, 3231, 3232, 3233, 3234, 3235, 3236, 3237, 3238, 3239, 3240, 3392, 3393, 3394, 3395, 3396, 3397, 3398, 3399, 3400, 3401, 3402, 3403, 3404, 3405, 3406, 5241, 5242, 5243, 5244, 5245, 5246, 5247, 5248, 5249, 5250, 5251, 5252, 5253, 5254, 12962, 12963, 12964, 12965, 12966, 12967, 12968, 12969, 12970, 12971, 12972, 12973, 12974, 12975]</td></tr><tr><th>3</th><td>3</td><td>3</td><td>0</td><td>[1547, 1697, 1824, 1918, 2065, 2323, 2459, 2597, 2911, 3046, 3177, 3342, 3512, 3656, 3805, 3948, 4081, 4250, 4411, 4574, 4882, 5036, 5187, 5315, 5442, 6787, 7649, 7801, 8450, 8601, 9015, 11829, 11995, 12149, 12302, 13240, 13395, 13565, 13699]</td></tr><tr><th>4</th><td>4</td><td>4</td><td>1</td><td>[27, 96, 199, 334, 479, 780, 1052, 1177, 1329, 1485, 1639, 1771, 2010, 2154, 2300, 2406, 2535, 2691, 2857, 3127, 3282, 3447, 3599, 3740, 3890, 4016, 4183, 4514, 5119, 5402, 5521, 5681, 5831, 5992, 6300, 6446, 6589, 7153, 7911, 8066, 8232, 8688, 8981, 9107, 9378, 9629, 9947, 10105, 10245, 10384, 10511, 10653, 10774, 10907, 11178, 11322, 11474, 11629, 11765, 11932, 12087, 12245, 12404, 12560, 12707, 13341, 13645, 13789, 13921, 14070, 14226, 14400]</td></tr><tr><th>5</th><td>5</td><td>5</td><td>1</td><td>[64, 65, 66, 137, 138, 267, 268, 269, 411, 412, 413, 562, 563, 564, 707, 708, 825, 826, 827, 974, 975, 976, 1260, 1261, 1262, 1414, 1415, 1574, 1575, 1576, 1718, 1719, 1842, 1843, 1844, 1939, 1940, 1941, 2087, 2088, 2089, 2241, 2242, 2340, 2341, 2480, 2481, 2482, 2626, 2627, 2628, 3203, 3204, 3205, 3361, 3362, 3363, 3538, 3539, 3540, 3678, 3679, 3680, 3832, 3833, 4109, 4110, 4111, 4270, 4271, 4438, 4439, 4604, 4605, 4606, 4756, 4757, 4758, 4912, 4913, 4914, 5054, 5055, 5209, 5210, 5211, 5340, 5341, 5342, 5467, 5468, 5611, 5612, 5613, 6070, 6071, 6220, 6221, 6376, 6377, 6525, 6526, 6671, 6672, 6673, 6801, 6802, 6803, 6930, 6931, 7086, 7087, 7088, 7384, 7385, 7386, 7525, 7526, 7668, 7669, 7670, 7830, 7831, 7832, 7995, 7996, 8154, 8155, 8156, 8329, 8330, 8331, 9041, 9042, 9185, 9186, 9465, 9466, 9581, 9582, 9583, 9707, 9708, 9872, 9873, 9874, 10025, 10026, 10190, 10191, 10192, 10322, 10323, 10324, 10469, 10470, 10471, 10594, 10595, 10596, 10720, 10721, 10722, 11109, 11110, 11260, 11261, 11408, 11409, 11410, 11561, 11562, 11563, 11707, 11708, 11709, 11855, 11856, 11857, 12013, 12014, 12015, 12167, 12168, 12169, 12321, 12322, 12323, 12485, 12486, 12645, 12646, 12804, 12805, 12806, 13090, 13091, 13092, 13270, 13271, 13421, 13422, 13423, 13582, 13583, 13584, 13716, 13717, 13718, 13857, 13858, 13998, 13999, 14147, 14148, 14149, 14313, 14314, 14315, 14475, 14476, 14477]</td></tr><tr><th>6</th><td>6</td><td>6</td><td>0</td><td>[696, 697, 698, 699, 812, 813, 814, 965, 966, 967, 968, 2077, 2078, 2079, 2080, 2231, 2232, 2233, 2234, 2615, 2616, 2617, 2772, 2773, 2774, 2931, 2932, 2933, 2934, 5202, 5203, 5204, 5205, 5332, 5333, 5334, 5458, 5459, 5460, 5461, 5914, 5915, 5916, 5917, 7516, 7517, 7518, 8318, 8319, 8320, 8321, 8767, 8768, 8769, 8770, 9177, 9178, 9179, 9858, 9859, 9860, 10182, 10183, 10184, 10185, 10945, 10946, 10947, 11100, 11101, 11102, 11103, 11697, 11698, 11699, 12797, 12798, 12799, 12800, 13411, 13412, 13413, 13987, 13988, 13989]</td></tr><tr><th>7</th><td>7</td><td>7</td><td>0</td><td>[394, 395, 396, 525, 526, 1081, 1082, 1083, 1235, 1236, 1384, 1385, 1543, 1544, 1693, 1694, 2059, 2060, 2061, 2750, 2751, 2752, 3503, 3504, 3653, 3654, 3655, 4239, 4240, 5031, 5032, 5033, 5431, 5432, 5433, 5884, 5885, 7060, 7061, 7961, 7962, 7963, 8118, 8119, 8120, 8445, 8446, 8447, 9009, 9010, 9011, 9156, 9157, 9308, 9309, 9433, 9434, 9675, 9676, 9677, 9829, 9830, 9831, 10161, 10162, 10294, 10295, 10296, 10565, 10566, 10704, 10705, 10706, 10828, 10829, 10932, 10933, 11081, 11082, 11534, 11535, 11685, 11686, 11993, 11994, 12139, 12140, 12297, 12298, 12460, 12461, 12462, 12615, 12616, 12617, 12768, 12769, 12904, 12905, 12906, 13230, 13231, 13554, 13555, 13970, 13971, 14118, 14119, 14120, 14282, 14283, 14284, 14451, 14452]</td></tr><tr><th>8</th><td>8</td><td>8</td><td>0</td><td>[6, 80, 175, 448, 738, 865, 1016, 1292, 1452, 1614, 1873, 1968, 2113, 2268, 2379, 2513, 2821, 3415, 3570, 3868, 3997, 4307, 4479, 4635, 5092, 5261, 5380, 5504, 5648, 5951, 6407, 6703, 6839, 6968, 7267, 7411, 7559, 7700, 7869, 8026, 8197, 8509, 8816, 9070, 10064, 10215, 10484, 10750, 10991, 11136, 11298, 11602, 12044, 12205, 12361, 12837, 12981, 13298, 13458, 13883, 14034]</td></tr><tr><th>9</th><td>9</td><td>9</td><td>0</td><td>[674, 4721, 6044, 8288, 14121]</td></tr><tr><th>10</th><td>10</td><td>10</td><td>1</td><td>[127, 258, 554, 694, 1107, 1929, 2227, 2333, 2472, 2612, 2770, 2930, 3193, 3358, 3528, 3669, 4262, 4428, 4747, 5912, 6367, 7378, 7514, 7821, 7988, 8146, 8316, 8471, 8620, 8917, 9031, 9457, 10457, 10716, 10942, 11850, 12008, 12317, 12639, 12795, 13258, 13408, 14469]</td></tr><tr><th>11</th><td>11</td><td>11</td><td>1</td><td>[168, 169, 299, 300, 443, 444, 584, 585, 733, 734, 857, 858, 1008, 1009, 1133, 1134, 1287, 1288, 1446, 1447, 1607, 1608, 1742, 1743, 1744, 1866, 1867, 1961, 1962, 2106, 2107, 2262, 2263, 2370, 2371, 2508, 2509, 2651, 2652, 2813, 2814, 2972, 2973, 3094, 3095, 3241, 3242, 3407, 3408, 3563, 3564, 3711, 3712, 3992, 3993, 4138, 4139, 4300, 4301, 4472, 4473, 4628, 4629, 4790, 4791, 4792, 4943, 4944, 5085, 5086, 5255, 5256, 5374, 5375, 5500, 5501, 5643, 5644, 5785, 5786, 6093, 6094, 6253, 6254, 6400, 6401, 6549, 6550, 6695, 6696, 6697, 6832, 6833, 6963, 6964, 7119, 7120, 7260, 7261, 7693, 7694, 7864, 7865, 8018, 8019, 8191, 8192, 8657, 8658, 8659, 8811, 8812, 8955, 8956, 9064, 9065, 9217, 9218, 9350, 9351, 9488, 9489, 9602, 9603, 9906, 9907, 10057, 10058, 10059, 10209, 10210, 10348, 10349, 10478, 10479, 10614, 10615, 10744, 10745, 10869, 10870, 10983, 10984, 11129, 11130, 11291, 11292, 11440, 11441, 11595, 11596, 11730, 11731, 11887, 11888, 12035, 12036, 12037, 12199, 12200, 12354, 12355, 12516, 12517, 12675, 12676, 12832, 12833, 12976, 12977, 13123, 13124, 13291, 13292, 13293, 13452, 13453, 13604, 13605, 13746, 13747, 13877, 13878, 14027, 14028, 14029, 14181, 14182, 14348, 14349, 14350]</td></tr><tr><th>12</th><td>12</td><td>12</td><td>0</td><td>[252, 253, 254, 400, 401, 402, 403, 542, 543, 544, 545, 805, 806, 807, 808, 953, 954, 955, 1095, 1096, 1097, 1098, 1244, 1245, 1246, 1247, 1399, 1400, 1401, 1402, 1554, 1555, 1556, 1557, 1705, 1706, 1707, 2327, 2328, 2329, 2330, 2463, 2464, 2465, 2604, 2605, 2606, 2761, 2762, 2763, 2764, 2921, 2922, 2923, 2924, 3054, 3055, 3056, 3057, 3181, 3182, 3183, 3184, 3348, 3349, 3350, 3351, 3520, 3521, 3522, 3661, 3662, 3663, 3810, 3811, 3812, 3813, 3953, 3954, 3955, 3956, 4089, 4090, 4091, 4092, 4258, 4259, 4260, 4420, 4421, 4422, 4423, 4583, 4584, 4585, 4586, 4737, 4738, 4739, 4890, 4891, 4892, 4893, 5041, 5042, 5043, 5044, 5192, 5193, 5194, 5318, 5319, 5320, 5321, 5450, 5451, 5452, 5453, 5598, 5599, 5600, 5601, 5903, 5904, 5905, 5906, 6055, 6056, 6057, 6058, 6205, 6206, 6207, 6208, 6361, 6362, 6363, 6364, 6513, 6514, 6515, 6516, 6654, 6655, 6656, 6657, 6914, 6915, 6916, 6917, 7069, 7070, 7071, 7072, 7216, 7217, 7218, 7219, 7369, 7370, 7371, 7505, 7506, 7507, 7508, 7656, 7657, 7658, 7809, 7810, 7811, 7812, 7982, 7983, 7984, 7985, 8139, 8140, 8141, 8142, 8304, 8305, 8306, 8307, 8459, 8460, 8461, 8462, 8611, 8612, 8613, 8614, 8755, 8756, 8757, 8758, 8904, 8905, 8906, 8907, 9020, 9021, 9022, 9023, 9168, 9169, 9170, 9171, 9850, 9851, 9852, 10010, 10011, 10012, 10013, 10174, 10175, 10176, 10313, 10314, 10315, 10316, 10448, 10449, 10450, 10451, 10581, 10582, 10583, 10584, 11839, 11840, 11841, 11842]</td></tr><tr><th>13</th><td>13</td><td>13</td><td>1</td><td>[781, 1178, 1331, 3010, 4185, 5522, 6448, 7302, 7592, 8233, 8396, 8983, 9771, 10385, 10908, 11026, 11324, 11477, 11936, 13173]</td></tr><tr><th>14</th><td>14</td><td>14</td><td>0</td><td>[5, 36, 183, 312, 1758, 1982, 2666, 3585, 3731, 4155, 4319, 4490, 4809, 5102, 5272, 5384, 5507, 5659, 5965, 6270, 6418, 7140, 7274, 7714, 8039, 9080, 9505, 10079, 10763, 11309, 11460, 11750, 13144, 14204]</td></tr><tr><th>15</th><td>15</td><td>15</td><td>0</td><td>[159, 160, 161, 162, 163, 164, 165, 166, 167, 289, 290, 291, 292, 293, 294, 295, 296, 297, 298, 433, 434, 435, 436, 437, 438, 439, 440, 441, 442, 724, 725, 726, 727, 728, 729, 730, 731, 732, 847, 848, 849, 850, 851, 852, 853, 854, 855, 856, 1434, 1435, 1436, 1437, 1438, 1439, 1440, 1441, 1442, 1443, 1595, 1596, 1597, 1598, 1599, 1600, 1601, 1602, 1603, 1604, 2357, 2358, 2359, 2360, 2361, 2362, 2363, 2364, 2365, 2366, 2497, 2498, 2499, 2500, 2501, 2502, 2503, 2504, 2505, 2802, 2803, 2804, 2805, 2806, 2807, 2808, 2809, 2810, 2959, 2960, 2961, 2962, 2963, 2964, 2965, 2966, 2967, 2968, 3381, 3382, 3383, 3384, 3385, 3386, 3387, 3388, 3389, 3700, 3701, 3702, 3703, 3704, 3705, 3706, 3707, 3708, 3849, 3850, 3851, 3852, 3853, 3854, 3855, 3856, 3857, 3858, 4127, 4128, 4129, 4130, 4131, 4132, 4133, 4134, 4135, 4288, 4289, 4290, 4291, 4292, 4293, 4294, 4295, 4296, 4460, 4461, 4462, 4463, 4464, 4465, 4466, 4467, 4468, 4469, 4777, 4778, 4779, 4780, 4781, 4782, 4783, 4784, 4785, 4786, 4931, 4932, 4933, 4934, 4935, 4936, 4937, 4938, 4939, 4940, 5074, 5075, 5076, 5077, 5078, 5079, 5080, 5081, 5082, 5230, 5231, 5232, 5233, 5234, 5235, 5236, 5237, 5238, 5361, 5362, 5363, 5364, 5365, 5366, 5367, 5368, 5369, 5370, 5488, 5489, 5490, 5491, 5492, 5493, 5494, 5495, 5496, 5497, 5631, 5632, 5633, 5634, 5635, 5636, 5637, 5638, 5639, 5640, 5773, 5774, 5775, 5776, 5777, 5778, 5779, 5780, 5781, 5782, 6242, 6243, 6244, 6245, 6246, 6247, 6248, 6249, 6250, 6820, 6821, 6822, 6823, 6824, 6825, 6826, 6827, 6828, 6951, 6952, 6953, 6954, 6955, 6956, 6957, 6958, 6959, 6960, 7106, 7107, 7108, 7109, 7110, 7111, 7112, 7113, 7114, 7115, 7248, 7249, 7250, 7251, 7252, 7253, 7254, 7255, 7256, 7257, 7546, 7547, 7548, 7549, 7550, 7551, 7552, 7553, 7554, 7853, 7854, 7855, 7856, 7857, 7858, 7859, 7860, 7861, 8178, 8179, 8180, 8181, 8182, 8183, 8184, 8185, 8186, 8187, 8350, 8351, 8352, 8353, 8354, 8355, 8356, 8357, 8358, 8496, 8497, 8498, 8499, 8500, 8501, 8502, 8503, 8504, 8645, 8646, 8647, 8648, 8649, 8650, 8651, 8652, 8653, 8799, 8800, 8801, 8802, 8803, 8804, 8805, 8806, 8807, 8808, 8943, 8944, 8945, 8946, 8947, 8948, 8949, 8950, 8951, 9206, 9207, 9208, 9209, 9210, 9211, 9212, 9213, 9214, 9337, 9338, 9339, 9340, 9341, 9342, 9343, 9344, 9345, 9346, 9728, 9729, 9730, 9731, 9732, 9733, 9734, 9735, 9736, 9737, 9894, 9895, 9896, 9897, 9898, 9899, 9900, 9901, 9902, 9903, 10046, 10047, 10048, 10049, 10050, 10051, 10052, 10053, 10054, 10970, 10971, 10972, 10973, 10974, 10975, 10976, 10977, 10978, 10979, 11280, 11281, 11282, 11283, 11284, 11285, 11286, 11287, 11288, 11429, 11430, 11431, 11432, 11433, 11434, 11435, 11436, 11437, 11583, 11584, 11585, 11586, 11587, 11588, 11589, 11590, 11591, 11592, 11874, 11875, 11876, 11877, 11878, 11879, 11880, 11881, 11882, 11883, 12189, 12190, 12191, 12192, 12193, 12194, 12195, 12196, 12197, 12198, 12344, 12345, 12346, 12347, 12348, 12349, 12350, 12351, 12352, 12353, 12506, 12507, 12508, 12509, 12510, 12511, 12512, 12513, 12514, 12515, 12665, 12666, 12667, 12668, 12669, 12670, 12671, 12672, 12673, 12674, 12822, 12823, 12824, 12825, 12826, 12827, 12828, 12829, 12830, 12831, 12953, 12954, 12955, 12956, 12957, 12958, 12959, 12960, 12961, 13113, 13114, 13115, 13116, 13117, 13118, 13119, 13120, 13121, 13122, 13442, 13443, 13444, 13445, 13446, 13447, 13448, 13449, 13450, 13451, 13737, 13738, 13739, 13740, 13741, 13742, 13743, 13744, 13745, 14014, 14015, 14016, 14017, 14018, 14019, 14020, 14021, 14022, 14023, 14169, 14170, 14171, 14172, 14173, 14174, 14175, 14176, 14177, 14178, 14336, 14337, 14338, 14339, 14340, 14341, 14342, 14343, 14344, 14345, 14496, 14497, 14498, 14499, 14500, 14501, 14502, 14503, 14504, 14505]</td></tr><tr><th>16</th><td>16</td><td>16</td><td>1</td><td>[5199]</td></tr><tr><th>17</th><td>17</td><td>17</td><td>1</td><td>[30, 92, 188, 462, 606, 758, 1310, 2131, 2287, 2672, 3115, 3261, 3591, 3736, 4160, 4493, 4652, 5109, 5276, 5389, 5665, 5972, 6854, 6985, 7718, 7893, 8044, 8383, 9087, 9240, 9369, 9514, 9621, 9926, 10082, 10236, 10502, 10894, 11007, 11153, 12064, 13317, 13476, 13902, 14049]</td></tr><tr><th>18</th><td>18</td><td>18</td><td>0</td><td>[39, 40, 90, 315, 316, 461, 603, 604, 753, 754, 879, 1030, 1031, 1155, 1156, 1308, 1761, 1762, 1887, 1888, 1986, 2129, 2285, 2396, 2526, 2527, 2669, 2670, 2834, 2835, 2990, 3111, 3429, 3430, 3588, 3734, 3735, 4010, 4011, 4158, 4159, 4962, 4963, 5106, 5107, 5510, 5511, 5662, 5804, 5805, 5968, 5969, 6106, 6273, 6274, 6420, 6564, 6565, 6717, 6718, 6851, 6852, 6982, 7143, 7144, 7575, 7716, 7887, 7888, 8041, 8042, 8213, 8380, 8381, 8830, 8831, 8975, 9084, 9085, 9237, 9238, 9367, 9510, 9511, 9620, 9761, 9925, 10232, 10233, 10370, 10371, 10499, 10500, 10639, 10892, 10893, 11004, 11463, 11464, 11620, 12061, 12062, 12378, 12379, 12538, 12697, 12846, 12847, 12991, 13147, 13148, 13314, 13315, 13769, 13770, 14047, 14048, 14372, 14373]</td></tr><tr><th>19</th><td>19</td><td>19</td><td>0</td><td>[408, 695, 811, 1408, 1711, 2228, 2334, 2473, 2613, 3194, 3529, 3822, 3962, 4101, 4263, 4595, 5200, 5330, 5606, 6796, 7379, 7515, 8147, 8472, 9032, 9176, 9575, 9857, 10021, 10587, 10842, 10943, 11098, 11255, 11404, 11553, 12009, 12162, 12796, 12926, 13409]</td></tr><tr><th>20</th><td>20</td><td>20</td><td>0</td><td>[83, 178, 451, 1019, 1143, 1455, 1618, 4147, 4639, 5383, 6261, 6841, 7131, 7417, 7705, 7876, 8819, 9226, 9609, 10070, 10488, 10627, 10881, 11139, 11608, 13135, 13304, 14361]</td></tr><tr><th>21</th><td>21</td><td>21</td><td>0</td><td>[405, 406, 407, 551, 552, 553, 962, 963, 964, 1104, 1105, 1106, 2470, 2471, 3190, 3191, 3192, 3819, 3820, 3821, 4098, 4099, 4100, 4592, 4593, 4594, 4745, 4746, 4900, 4901, 4902, 5327, 5328, 5329, 6060, 6061, 6062, 6211, 6212, 6213, 6663, 6664, 6665, 6920, 6921, 6922, 7079, 7080, 7081, 7511, 7512, 7513, 7818, 7819, 7820, 8314, 8315, 8468, 8469, 8470, 8617, 8618, 8619, 8764, 8765, 8766, 8914, 8915, 8916, 9028, 9029, 9030, 9174, 9175, 9322, 9323, 10019, 10020, 11253, 11254, 11695, 11696, 11847, 11848, 11849, 12159, 12160, 12161, 12315, 12316, 12478, 12479, 12480, 12636, 12637, 12638, 12792, 12793, 12794, 12924, 12925, 13078, 13079, 13080, 13255, 13256, 13257, 13406, 13407, 13575, 13576, 13577, 14299, 14300]</td></tr><tr><th>22</th><td>22</td><td>22</td><td>0</td><td>[259, 1252, 1837, 2771, 3063, 3530, 4264, 4596, 4903, 5201, 5331, 5607, 7989, 8317, 8621, 8918, 9033, 9694, 10458, 10588, 10843, 10944, 11099, 11256, 11851, 12164, 12481, 13260, 13410, 13578, 13986, 14303]</td></tr><tr><th>23</th><td>23</td><td>23</td><td>0</td><td>[139, 414, 709, 1263, 1942, 2243, 2629, 3206, 3541, 3974, 4112, 4272, 4440, 4607, 4915, 5212, 5753, 6072, 6222, 6378, 6527, 6674, 6804, 7671, 7997, 8477, 8924, 9043, 9331, 9467, 9709, 10325, 10597, 10950, 11858, 12016, 12324, 12647, 12938, 13093, 14316]</td></tr><tr><th>24</th><td>24</td><td>24</td><td>0</td><td>[260, 261, 815, 816, 969, 1108, 1109, 1253, 1254, 1409, 1563, 1564, 1712, 1930, 1931, 2081, 2082, 2235, 2236, 2335, 2474, 2475, 2618, 2619, 2775, 2776, 3064, 3065, 3195, 3196, 3670, 3671, 3823, 3824, 3965, 3966, 4102, 4103, 4748, 4904, 4905, 5048, 5049, 5608, 5746, 5747, 5918, 5919, 6063, 6923, 6924, 7083, 7226, 7227, 8148, 8149, 8322, 8323, 8771, 8772, 8919, 9034, 9035, 9180, 9861, 9862, 10459, 10460, 11554, 11555, 11700, 11701, 12927, 12928, 13261, 13262, 13414, 13415, 13710, 13711, 14138, 14139, 14304, 14305]</td></tr><tr><th>25</th><td>25</td><td>25</td><td>0</td><td>[2816, 2974, 2975, 9221]</td></tr><tr><th>26</th><td>26</td><td>26</td><td>0</td><td>[15, 2671, 5275, 5663, 7576, 7717, 14375]</td></tr><tr><th>27</th><td>27</td><td>27</td><td>1</td><td>[7, 72, 73, 74, 75, 155, 156, 157, 158, 285, 286, 287, 288, 429, 430, 431, 432, 580, 581, 582, 583, 843, 844, 845, 846, 1129, 1130, 1131, 1132, 1279, 1280, 1281, 1282, 1431, 1432, 1433, 1591, 1592, 1593, 1594, 1735, 1736, 1737, 1738, 1860, 1861, 1862, 1863, 2644, 2645, 2646, 2647, 2797, 2798, 2799, 2800, 2955, 2956, 2957, 2958, 3087, 3088, 3089, 3221, 3222, 3223, 3378, 3379, 3380, 3557, 3558, 3559, 3560, 3696, 3697, 3698, 3699, 4456, 4457, 4458, 4622, 4623, 4624, 4625, 4773, 4774, 4775, 5071, 5072, 5073, 5227, 5228, 5229, 5357, 5358, 5359, 5360, 5483, 5484, 5485, 5628, 5629, 5630, 5769, 5770, 5771, 5772, 5939, 5940, 5941, 5942, 6087, 6088, 6089, 6238, 6239, 6240, 6241, 6394, 6395, 6396, 6397, 6543, 6544, 6545, 6546, 6689, 6690, 6691, 6692, 6946, 6947, 6948, 6949, 7103, 7104, 7105, 7245, 7246, 7247, 7401, 7402, 7403, 7542, 7543, 7544, 7545, 7686, 7687, 7688, 7689, 7848, 7849, 7850, 7851, 8012, 8013, 8014, 8015, 8172, 8173, 8174, 8175, 8346, 8347, 8348, 8493, 8494, 8495, 8641, 8642, 8643, 8644, 8795, 8796, 8797, 8940, 8941, 8942, 9058, 9059, 9060, 9061, 9202, 9203, 9204, 9332, 9333, 9334, 9335, 9483, 9484, 9485, 9724, 9725, 9726, 9727, 9890, 9891, 9892, 9893, 10042, 10043, 10044, 10045, 10341, 10342, 10343, 10344, 10472, 10473, 10474, 10475, 10737, 10738, 10739, 10740, 10861, 10862, 10863, 10864, 10966, 10967, 10968, 11276, 11277, 11278, 11279, 11425, 11426, 11427, 11428, 11579, 11580, 11581, 11582, 11725, 11726, 11727, 12031, 12032, 12033, 12034, 12184, 12185, 12186, 12187, 12340, 12341, 12342, 12343, 12502, 12503, 12504, 12505, 12662, 12663, 12664, 13109, 13110, 13111, 13112, 13287, 13288, 13289, 13438, 13439, 13440, 13441, 13600, 13601, 13602, 13603, 13733, 13734, 13735, 13873, 13874, 13875, 13876, 14165, 14166, 14167, 14168, 14332, 14333, 14334, 14335, 14492, 14493, 14494, 14495]</td></tr><tr><th>28</th><td>28</td><td>28</td><td>0</td><td>[19, 134, 135, 136, 560, 561, 822, 823, 824, 972, 973, 1937, 1938, 2780, 2781, 2782, 2939, 2940, 3070, 3071, 3072, 3201, 3202, 3676, 3677, 3830, 3831, 3971, 3972, 3973, 4435, 4436, 4437, 4601, 4602, 4603, 4753, 4754, 4755, 4909, 4910, 4911, 5750, 5751, 5752, 6067, 6068, 6069, 6373, 6374, 6375, 7523, 7524, 7827, 7828, 7829, 7993, 7994, 8778, 8779, 9329, 9330, 9462, 9463, 9464, 9704, 9705, 9706, 9869, 9870, 9871, 10467, 10468, 11559, 11560, 12318, 12319, 12320, 12935, 12936, 12937, 13087, 13088, 13089, 13267, 13268, 13269, 13419, 13420, 13995, 13996, 13997, 14144, 14145, 14146, 14310, 14311, 14312]</td></tr><tr><th>29</th><td>29</td><td>29</td><td>0</td><td>[78, 173, 737, 863, 1136, 1291, 1450, 1612, 1966, 2377, 2655, 2819, 2978, 3246, 3717, 3865, 4305, 4634, 4797, 4949, 5090, 5259, 5379, 5647, 5790, 6405, 6552, 6701, 6836, 7125, 7265, 7409, 8024, 8663, 8815, 8960, 9223, 9354, 9911, 10214, 10481, 10875, 10988, 11134, 11296, 11445, 11601, 11736, 12042, 12204, 12522, 12679, 12836, 13297, 13753, 14032]</td></tr><tr><th>30</th><td>30</td><td>30</td><td>1</td><td>[49, 234, 369, 513, 655, 783, 929, 1056, 1215, 1368, 1524, 1679, 1808, 1905, 2047, 2191, 2306, 2444, 2573, 2730, 2894, 3015, 3160, 3319, 3630, 3776, 3927, 4050, 4218, 4386, 4550, 4705, 5013, 5157, 5299, 5408, 5560, 5716, 5866, 6030, 6168, 6333, 6483, 6624, 6767, 6889, 7043, 7191, 7337, 7484, 7629, 7773, 7951, 8100, 8268, 8427, 8577, 8724, 8872, 8988, 9140, 9294, 9409, 9535, 9661, 9809, 9983, 10144, 10278, 10416, 10546, 10685, 10811, 10916, 11065, 11214, 11362, 11515, 11667, 11799, 11973, 12124, 12279, 12442, 12596, 12747, 12880, 13050, 13208, 13377, 13535, 13682, 13820, 13954, 14106, 14261, 14438]</td></tr><tr><th>&vellip;</th><td>&vellip;</td><td>&vellip;</td><td>&vellip;</td><td>&vellip;</td></tr></tbody></table>"
      ],
      "text/latex": [
       "\\begin{tabular}{r|ccccc}\n",
       "\t& id & pos & login & tweets & \\\\\n",
       "\t\\hline\n",
       "\t& Int64 & Int64 & Bool & Array… & \\\\\n",
       "\t\\hline\n",
       "\t1 & 1 & 1 & 1 & [17, 370, 371, 372, 373, 374, 514, 515, 516, 517  …  14262, 14263, 14264, 14265, 14266, 14439, 14440, 14441, 14442, 14443] & $\\dots$ \\\\\n",
       "\t2 & 2 & 2 & 0 & [22, 994, 995, 996, 997, 998, 999, 1000, 1001, 1002  …  12966, 12967, 12968, 12969, 12970, 12971, 12972, 12973, 12974, 12975] & $\\dots$ \\\\\n",
       "\t3 & 3 & 3 & 0 & [1547, 1697, 1824, 1918, 2065, 2323, 2459, 2597, 2911, 3046  …  8601, 9015, 11829, 11995, 12149, 12302, 13240, 13395, 13565, 13699] & $\\dots$ \\\\\n",
       "\t4 & 4 & 4 & 1 & [27, 96, 199, 334, 479, 780, 1052, 1177, 1329, 1485  …  12404, 12560, 12707, 13341, 13645, 13789, 13921, 14070, 14226, 14400] & $\\dots$ \\\\\n",
       "\t5 & 5 & 5 & 1 & [64, 65, 66, 137, 138, 267, 268, 269, 411, 412  …  13999, 14147, 14148, 14149, 14313, 14314, 14315, 14475, 14476, 14477] & $\\dots$ \\\\\n",
       "\t6 & 6 & 6 & 0 & [696, 697, 698, 699, 812, 813, 814, 965, 966, 967  …  12797, 12798, 12799, 12800, 13411, 13412, 13413, 13987, 13988, 13989] & $\\dots$ \\\\\n",
       "\t7 & 7 & 7 & 0 & [394, 395, 396, 525, 526, 1081, 1082, 1083, 1235, 1236  …  13970, 13971, 14118, 14119, 14120, 14282, 14283, 14284, 14451, 14452] & $\\dots$ \\\\\n",
       "\t8 & 8 & 8 & 0 & [6, 80, 175, 448, 738, 865, 1016, 1292, 1452, 1614  …  11602, 12044, 12205, 12361, 12837, 12981, 13298, 13458, 13883, 14034] & $\\dots$ \\\\\n",
       "\t9 & 9 & 9 & 0 & [674, 4721, 6044, 8288, 14121] & $\\dots$ \\\\\n",
       "\t10 & 10 & 10 & 1 & [127, 258, 554, 694, 1107, 1929, 2227, 2333, 2472, 2612  …  10716, 10942, 11850, 12008, 12317, 12639, 12795, 13258, 13408, 14469] & $\\dots$ \\\\\n",
       "\t11 & 11 & 11 & 1 & [168, 169, 299, 300, 443, 444, 584, 585, 733, 734  …  13877, 13878, 14027, 14028, 14029, 14181, 14182, 14348, 14349, 14350] & $\\dots$ \\\\\n",
       "\t12 & 12 & 12 & 0 & [252, 253, 254, 400, 401, 402, 403, 542, 543, 544  …  10450, 10451, 10581, 10582, 10583, 10584, 11839, 11840, 11841, 11842] & $\\dots$ \\\\\n",
       "\t13 & 13 & 13 & 1 & [781, 1178, 1331, 3010, 4185, 5522, 6448, 7302, 7592, 8233, 8396, 8983, 9771, 10385, 10908, 11026, 11324, 11477, 11936, 13173] & $\\dots$ \\\\\n",
       "\t14 & 14 & 14 & 0 & [5, 36, 183, 312, 1758, 1982, 2666, 3585, 3731, 4155  …  8039, 9080, 9505, 10079, 10763, 11309, 11460, 11750, 13144, 14204] & $\\dots$ \\\\\n",
       "\t15 & 15 & 15 & 0 & [159, 160, 161, 162, 163, 164, 165, 166, 167, 289  …  14496, 14497, 14498, 14499, 14500, 14501, 14502, 14503, 14504, 14505] & $\\dots$ \\\\\n",
       "\t16 & 16 & 16 & 1 & [5199] & $\\dots$ \\\\\n",
       "\t17 & 17 & 17 & 1 & [30, 92, 188, 462, 606, 758, 1310, 2131, 2287, 2672  …  10236, 10502, 10894, 11007, 11153, 12064, 13317, 13476, 13902, 14049] & $\\dots$ \\\\\n",
       "\t18 & 18 & 18 & 0 & [39, 40, 90, 315, 316, 461, 603, 604, 753, 754  …  13147, 13148, 13314, 13315, 13769, 13770, 14047, 14048, 14372, 14373] & $\\dots$ \\\\\n",
       "\t19 & 19 & 19 & 0 & [408, 695, 811, 1408, 1711, 2228, 2334, 2473, 2613, 3194  …  10943, 11098, 11255, 11404, 11553, 12009, 12162, 12796, 12926, 13409] & $\\dots$ \\\\\n",
       "\t20 & 20 & 20 & 0 & [83, 178, 451, 1019, 1143, 1455, 1618, 4147, 4639, 5383  …  9609, 10070, 10488, 10627, 10881, 11139, 11608, 13135, 13304, 14361] & $\\dots$ \\\\\n",
       "\t21 & 21 & 21 & 0 & [405, 406, 407, 551, 552, 553, 962, 963, 964, 1104  …  13255, 13256, 13257, 13406, 13407, 13575, 13576, 13577, 14299, 14300] & $\\dots$ \\\\\n",
       "\t22 & 22 & 22 & 0 & [259, 1252, 1837, 2771, 3063, 3530, 4264, 4596, 4903, 5201  …  11099, 11256, 11851, 12164, 12481, 13260, 13410, 13578, 13986, 14303] & $\\dots$ \\\\\n",
       "\t23 & 23 & 23 & 0 & [139, 414, 709, 1263, 1942, 2243, 2629, 3206, 3541, 3974  …  10325, 10597, 10950, 11858, 12016, 12324, 12647, 12938, 13093, 14316] & $\\dots$ \\\\\n",
       "\t24 & 24 & 24 & 0 & [260, 261, 815, 816, 969, 1108, 1109, 1253, 1254, 1409  …  13261, 13262, 13414, 13415, 13710, 13711, 14138, 14139, 14304, 14305] & $\\dots$ \\\\\n",
       "\t25 & 25 & 25 & 0 & [2816, 2974, 2975, 9221] & $\\dots$ \\\\\n",
       "\t26 & 26 & 26 & 0 & [15, 2671, 5275, 5663, 7576, 7717, 14375] & $\\dots$ \\\\\n",
       "\t27 & 27 & 27 & 1 & [7, 72, 73, 74, 75, 155, 156, 157, 158, 285  …  14167, 14168, 14332, 14333, 14334, 14335, 14492, 14493, 14494, 14495] & $\\dots$ \\\\\n",
       "\t28 & 28 & 28 & 0 & [19, 134, 135, 136, 560, 561, 822, 823, 824, 972  …  13420, 13995, 13996, 13997, 14144, 14145, 14146, 14310, 14311, 14312] & $\\dots$ \\\\\n",
       "\t29 & 29 & 29 & 0 & [78, 173, 737, 863, 1136, 1291, 1450, 1612, 1966, 2377  …  11601, 11736, 12042, 12204, 12522, 12679, 12836, 13297, 13753, 14032] & $\\dots$ \\\\\n",
       "\t30 & 30 & 30 & 1 & [49, 234, 369, 513, 655, 783, 929, 1056, 1215, 1368  …  13050, 13208, 13377, 13535, 13682, 13820, 13954, 14106, 14261, 14438] & $\\dots$ \\\\\n",
       "\t$\\dots$ & $\\dots$ & $\\dots$ & $\\dots$ & $\\dots$ &  \\\\\n",
       "\\end{tabular}\n"
      ],
      "text/plain": [
       "100×15 DataFrame. Omitted printing of 12 columns\n",
       "│ Row │ id    │ pos   │ login │\n",
       "│     │ \u001b[90mInt64\u001b[39m │ \u001b[90mInt64\u001b[39m │ \u001b[90mBool\u001b[39m  │\n",
       "├─────┼───────┼───────┼───────┤\n",
       "│ 1   │ 1     │ 1     │ 1     │\n",
       "│ 2   │ 2     │ 2     │ 0     │\n",
       "│ 3   │ 3     │ 3     │ 0     │\n",
       "│ 4   │ 4     │ 4     │ 1     │\n",
       "│ 5   │ 5     │ 5     │ 1     │\n",
       "│ 6   │ 6     │ 6     │ 0     │\n",
       "│ 7   │ 7     │ 7     │ 0     │\n",
       "│ 8   │ 8     │ 8     │ 0     │\n",
       "│ 9   │ 9     │ 9     │ 0     │\n",
       "│ 10  │ 10    │ 10    │ 1     │\n",
       "⋮\n",
       "│ 90  │ 90    │ 90    │ 1     │\n",
       "│ 91  │ 91    │ 91    │ 0     │\n",
       "│ 92  │ 92    │ 92    │ 0     │\n",
       "│ 93  │ 93    │ 93    │ 0     │\n",
       "│ 94  │ 94    │ 94    │ 0     │\n",
       "│ 95  │ 95    │ 95    │ 1     │\n",
       "│ 96  │ 96    │ 96    │ 0     │\n",
       "│ 97  │ 97    │ 97    │ 0     │\n",
       "│ 98  │ 98    │ 98    │ 0     │\n",
       "│ 99  │ 99    │ 99    │ 0     │\n",
       "│ 100 │ 100   │ 100   │ 1     │"
      ]
     },
     "execution_count": 13,
     "metadata": {},
     "output_type": "execute_result"
    }
   ],
   "source": [
    "data=sort(DataFrame(allagents(model)), :id)"
   ]
  },
  {
   "cell_type": "markdown",
   "metadata": {},
   "source": [
    "## Updates (4-10-2020)\n",
    "\n",
    "### Activity \n",
    "* `neighbors` has been successfully implemented in `MultiplexGraphs.jl`\n",
    "* `node_neighbors` compatible with `MultiplexGraphs.jl` has been successfully implemented (see *Utilities*)\n",
    "* Reformed `InitializeModel` with follower graph (still random) initialization \n",
    "* Begin thinking about the portfolio of recommendation algorithms \n",
    "    * Auxiliary bipartite graph (mono or multi-edge)\n",
    "    * Weighted sum over multiple edge types"
   ]
  },
  {
   "cell_type": "markdown",
   "metadata": {},
   "source": [
    "## Updates (5-10-2020)\n",
    "\n",
    "### Activity \n",
    "* Added agent attribute $\\epsilon_\\ell$ : the opinion distance such that if $|o_i-\\rho_i(o_j)| \\leq \\epsilon_{L} \\Rightarrow i$ likes $j$ 's tweet. As a first simple example we'll assume that $\\rho_i$ is the identity such that $\\rho_i(x)=x$\n",
    "* Added new attributes (e.g. `attention`, `login_rate`,...)\n",
    "* Created tweet type\n",
    "* Implemented powerlaw sampling utility\n",
    "* Initialized static follower graph, tweet histories and feeds\n",
    "* Implemented a basic micro dynamics with `Tweet` and `Like!` behaviors\n",
    "* Simple successful run with `N`=1000 and `nsteps`=100 with a pretty good execution time (the code is not at all optimized!)"
   ]
  },
  {
   "cell_type": "markdown",
   "metadata": {},
   "source": [
    "## Updates (6-10-2020)\n",
    "\n",
    "### Activity \n",
    "* Added new agent and tweet type attributes (e.g. `favorites`, `favorite_count`, `retweet_count`)\n",
    "* Implemented `get_tweet_from_id` function \n",
    "* Added new attributes to model (e.g. `tweets`: chronologically ordered archive of all tweets)\n",
    "* Implemented `Read!`, `RT!` behaviors and defined `Login!` and `Logout!` behaviors\n",
    "* Assumed a an order of magnitude difference between the maximum of *threshold distributions* (e.g. $\\epsilon_{L}$, $\\epsilon_{RT}$, $\\epsilon_{F}$)\n",
    "* A few corrections to previously implemented behavior functions"
   ]
  },
  {
   "cell_type": "markdown",
   "metadata": {},
   "source": [
    "## Thoughts & Doubts  \n",
    "* How to define distinct time scales ($T_{F} \\gg T_{RT} > T_{L}$)\n",
    "* What about defining a status type as a reduced representation of the status object\n",
    "* Choose `nsteps` taking into account the constraints induced by Monitor limits \n",
    "* highlight the latency of the opinion variable: users do not have direct access to the *cognitive opinion* of other but  they have indirect access to *behavioral opinion* leading to a non-zero (tipically high) probability of mis-interpretation (we may model it via a portfolio of probability distributions centered around the true value)\n",
    "* think about how to implement possibile polarization/segregation mitigation strategies (e.g. *homophily-induced heterophily*)\n",
    "* Can we learn anything significant from Higgs2012 static and temporal graphs\n",
    "* How to reliably mine temporal behavioral opinion and reaction mechanisms (e.g. net positive interaction rate: net of T,RTs,L of known polarity / total number of interactions) "
   ]
  },
  {
   "cell_type": "markdown",
   "metadata": {},
   "source": [
    "## To-Do List\n",
    "* Overwrite all graph-related functions in Agents to ensure compatibility with `MultiplexGraphs.jl` (e.g. `get_node_agents()`,...)\n",
    "* Think about all elementary variables, parameters and timing distributions\n",
    "* Explore the portfolio of possible recommendation systems (e.g. GNN, bipartite, centrality-based, simple weighted sum,...)\n",
    "* Implement basic `Follow!` and `RT!` behaviors\n",
    "* Implement the simplest recommendation system (in `model_step!`)\n",
    "* Implement non-trivial interpretation distribution $\\rho_i$\n",
    "* Explore and evaluate Higgs2012 static and temporal graph data\n",
    "* Think of the best parametrization that allows effective calibration "
   ]
  }
 ],
 "metadata": {
  "kernelspec": {
   "display_name": "Julia 1.5.2",
   "language": "julia",
   "name": "julia-1.5"
  },
  "language_info": {
   "file_extension": ".jl",
   "mimetype": "application/julia",
   "name": "julia",
   "version": "1.5.2"
  }
 },
 "nbformat": 4,
 "nbformat_minor": 4
}
