{
 "cells": [
  {
   "cell_type": "markdown",
   "metadata": {},
   "source": [
    "# Twitter: Simple  "
   ]
  },
  {
   "cell_type": "markdown",
   "metadata": {},
   "source": [
    "## Summary \n",
    "\n",
    "### Data \n",
    "* Degree distributions \n",
    "* Activity distributions\n",
    "    * Tweet\n",
    "    * Favourite \n",
    "    * Follow\n",
    "\n",
    "### Types \n",
    "\n",
    "#### Tweet \n",
    "\n",
    "* `id` $\\in V \\subset \\mathbb{N}$            \n",
    "* `user_id` $\\in \\mathbb{N}$         \n",
    "* `retweet_status` $\\in \\mathbb{B}$  \n",
    "* `retweeted_id` $\\in \\mathbb{N}$ \n",
    "* `retweeted_user_id` $\\in \\mathbb{N}$ \n",
    "* `content` $\\in \\mathbb{R}$ \n",
    "* `favorite_count` $\\in \\mathbb{N}$\n",
    "* `retweet_count` $\\in \\mathbb{N}$  \n",
    "* `step` $\\in \\mathbb{N}$        \n",
    "\n",
    "#### User \n",
    "\n",
    "* `id` $\\in \\mathbb{N}$       \n",
    "* `pos` $\\in \\mathbb{N}$              \n",
    "* `feed` $\\subset \\mathcal{T}$  \n",
    "* `opinion` $\\in \\mathbb{R}$       \n",
    "* `tweet_rate` $\\in \\mathbb{R}$     \n",
    "* `retweet_rate` $\\in \\mathbb{R}$     \n",
    "* `favorite_rate` $\\in \\mathbb{R}$   \n",
    "* `follow_rate` $\\in \\mathbb{R}$     \n",
    "* `unfollow_rate` $\\in \\mathbb{R}$    \n",
    "* `tweets` $\\subset \\mathcal{T}$  \n",
    "* `favorites` $\\subset \\mathcal{T}$  \n",
    "\n",
    "### Model \n",
    "\n",
    "#### Parameters\n",
    "\n",
    "* Population size $N$\n",
    "* Number of replicates $R$\n",
    "* Number of time steps $T$\n",
    "* Controversialness $\\alpha$ \n",
    "* Follow threshold $f$\n",
    "* Unfollow threshold $u$\n",
    "\n",
    "#### Properties \n",
    "\n",
    "* Population size `N` \n",
    "* Time step `step` \n",
    "* Tweet ID counter `tweet_id` \n",
    "* Tweet objects `tweets` \n",
    "* Controversialness `α`\n",
    "* Follow threshold `follow_threshold`\n",
    "* Unfollow threshold `unfollow_threshold`\n",
    "\n",
    "#### Initialization \n",
    "\n",
    "* `id` has been initialized sequentially \n",
    "* `pos` has been initialized sequentially \n",
    "* `feed` has been initialized as an empty array              \n",
    "* `opinion` has been initialized as drawn from $\\mathcal{U}(-1,1)$          \n",
    "* `tweet_rate` and `retweet_rate` have been initialized with a sample of 2012 activity data \n",
    "* `favorite_rate` has been initialized with a sample of 2012 activity data \n",
    "* `follow_rate` and `unfollow_rate` have been initialized with a sample of 2012 activity data \n",
    "* `tweets` has been initialized as an empty array\n",
    "* `favorites` has been initialized as an empty array\n",
    "* `follower_graph` has been constructed such that the friends (outneighbors) of each user (node) have been drawn from a $\\Gamma(2,1)$\n",
    "\n",
    "#### Calibration \n",
    "\n",
    "Not discussed yet. \n",
    "\n",
    "#### Validation \n",
    "\n",
    "Not discussed yet.\n",
    "\n",
    "#### Micro-Dynamics (`agent_step!`)\n",
    "\n",
    "* The minimal opinion dynamics (`Update!`) follows the equation by [Baumann et al. (2020)](https://doi.org/10.1103/PhysRevLett.124.048301) \n",
    "* The minimal follow dynamics (`Follow!`) consists in a uniform sampling from the complement of set of friends according to the user's `follow_rate` and `follow_threshold` \n",
    "* The minimal unfollow dynamics (`Unollow!`) consists in a uniform sampling from the set of friends according to the user's `unfollow_rate` and `unfollow_threshold` \n",
    "\n",
    "#### Macro-Dynamics (`model_step!`)\n",
    "\n",
    "* Time step `step` is incremented by one at each iteration\n",
    "* Tweet ID counter `tweet_id` is incremented by one every time a tweet is authored (or retweeted)\n",
    "* Tweet objects `tweets` is enriched with every tweet object authored (or retweeted)"
   ]
  },
  {
   "cell_type": "markdown",
   "metadata": {},
   "source": [
    "## Thoughts & Doubts  \n",
    "\n",
    "* How to define distinct time scales ($T_{F} \\gg T_{RT} > T_{L}$)\n",
    "* What about defining a status type as a reduced representation of the status object\n",
    "* Choose `nsteps` taking into account the constraints induced by Monitor limits \n",
    "* Highlight the latency of the opinion variable: users do not have direct access to the *cognitive opinion* of other but they have indirect access to *behavioral opinion* leading to a non-zero (tipically high) probability of mis-interpretation (we may model it via probability distributions centered around the true value)\n",
    "* Think about how to implement possibile polarization/segregation mitigation strategies (e.g. *homophily-induced heterophily*)\n",
    "* Can we learn anything significant from Higgs2012 static and temporal graphs ?\n",
    "* How to reliably mine temporal behavioral opinion and reaction mechanisms (e.g. net positive interaction rate: net of T,RTs,L of known polarity / total number of interactions) "
   ]
  },
  {
   "cell_type": "markdown",
   "metadata": {},
   "source": [
    "## To-Do List\n",
    "\n",
    "* Overwrite all graph-related functions in Agents to ensure compatibility with `MultiplexGraphs.jl` (e.g. `get_node_agents()`,...)\n",
    "* Think about all elementary variables, parameters and timing distributions\n",
    "* Explore the portfolio of possible recommendation systems (e.g. GNN, bipartite, centrality-based, simple weighted sum,...)\n",
    "* Implement basic `Follow!` and `RT!` behaviors\n",
    "* Implement the simplest recommendation system (in `model_step!`)\n",
    "* Implement non-trivial interpretation distribution $\\rho_i$\n",
    "* Explore and evaluate Higgs2012 static and temporal graph data\n",
    "* Think of the best parametrization that allows effective calibration "
   ]
  },
  {
   "cell_type": "markdown",
   "metadata": {},
   "source": [
    "## Modules"
   ]
  },
  {
   "cell_type": "code",
   "execution_count": 1,
   "metadata": {},
   "outputs": [],
   "source": [
    "# Basic Utilities\n",
    "using Distributed, StaticArrays, SparseArrays, BenchmarkTools\n",
    "# Numerical Computation\n",
    "using LinearAlgebra\n",
    "# Statistics \n",
    "using Random, StatsBase, Distributions\n",
    "# Graphs \n",
    "using LightGraphs, SimpleWeightedGraphs, GraphPlot\n",
    "# Modelling \n",
    "using Agents\n",
    "# Data Wrangling \n",
    "using Queryverse, DataFrames, HTTP, CSV, DrWatson\n",
    "# Data Visualization\n",
    "using Plots, PlotThemes\n",
    "# Python Interface \n",
    "using PyCall\n",
    "\n",
    "# Costum Modules\n",
    "MG = include(\"/Users/Pit/GitHub/Econophysics/Project/Models/ourModels/Pietro&Riccardo/MultiplexGraphs.jl\");"
   ]
  },
  {
   "cell_type": "markdown",
   "metadata": {},
   "source": [
    "## Data"
   ]
  },
  {
   "cell_type": "markdown",
   "metadata": {},
   "source": [
    "### Degree"
   ]
  },
  {
   "cell_type": "code",
   "execution_count": 2,
   "metadata": {},
   "outputs": [],
   "source": [
    "#py\"\"\"\n",
    "#import pickle\n",
    "#with open(r\"/Users/Pit/GitHub/Econophysics/Project/Models/ourModels/Pietro&Riccardo/Data/degree_data.txt\", \"rb\") as f:\n",
    "#    degree_data = pickle.load(f)\n",
    "#    f.close()\n",
    "#\"\"\"\n",
    "#degree_data = py\"degree_data\""
   ]
  },
  {
   "cell_type": "markdown",
   "metadata": {},
   "source": [
    "### Activity"
   ]
  },
  {
   "cell_type": "code",
   "execution_count": null,
   "metadata": {},
   "outputs": [],
   "source": [
    "py\"\"\"\n",
    "import pickle\n",
    "with open(r\"/Users/Pit/GitHub/Econophysics/Project/Models/ourModels/Pietro&Riccardo/Data/activity_data.txt\", \"rb\") as f:\n",
    "    activity_data = pickle.load(f)\n",
    "    f.close()\n",
    "\"\"\"\n",
    "activity_data = py\"activity_data\""
   ]
  },
  {
   "cell_type": "markdown",
   "metadata": {},
   "source": [
    "## Tweet Type"
   ]
  },
  {
   "cell_type": "code",
   "execution_count": null,
   "metadata": {},
   "outputs": [],
   "source": [
    "mutable struct Tweet\n",
    "    id::Int                # tweet id\n",
    "    user_id::Int           # author id\n",
    "    retweet_status::Bool   # retweeet status \n",
    "    retweeted_id::Int      # retweeted tweet id \n",
    "    retweeted_user_id::Int # retweeted tweet author\n",
    "    content::Real          # expressed opinion \n",
    "    favorite_count::Int    # favorite count\n",
    "    retweet_count::Int     # retweet count \n",
    "    step::Int              # time step at which it's been generated\n",
    "end"
   ]
  },
  {
   "cell_type": "markdown",
   "metadata": {},
   "source": [
    "## Agent Type"
   ]
  },
  {
   "cell_type": "code",
   "execution_count": null,
   "metadata": {},
   "outputs": [],
   "source": [
    "mutable struct User <: AbstractAgent\n",
    "    id::Int               # idenfier code ∈ ℕ\n",
    "    pos::Int              # nodal position ∈ ℕ \n",
    "    feed::Array{Tweet,1}  # tweet feed\n",
    "    opinion::Real         # leaning ∈ [-1,1] \n",
    "    tweet_rate::Real      # probability to tweet its opinion \n",
    "    retweet_rate::Real    # probability to retweet a tweet\n",
    "    favorite_rate::Real   # probability to like a tweet\n",
    "    follow_rate::Real     # probability to follow a user\n",
    "    unfollow_rate::Real   # probability to unfollow a user\n",
    "    tweets::Array{Int,1}  # tweet ids history \n",
    "    favorites::Array      # liked tweet ids history\n",
    "end"
   ]
  },
  {
   "cell_type": "markdown",
   "metadata": {},
   "source": [
    "## Utilities"
   ]
  },
  {
   "cell_type": "code",
   "execution_count": null,
   "metadata": {},
   "outputs": [],
   "source": [
    "function node_neighbors(agent::User, model::ABM{User,GraphSpace{Main.MultiplexGraphs.MultiplexGraph{Int64}},typeof(fastest),Dict{Symbol,Any}}, which::Symbol; neighbor_type::Symbol=:default) \n",
    "    @assert neighbor_type ∈ (:default, :in, :out)\n",
    "    if neighbor_type == :default\n",
    "        MG.neighbors(model.space.graph, agent.pos, which)\n",
    "    elseif neighbor_type == :in\n",
    "        MG.inneighbors(model.space.graph, agent.pos, which)\n",
    "    elseif neighbor_type == :out\n",
    "        MG.outneighbors(model.space.graph, agent.pos, which)\n",
    "    end\n",
    "end\n",
    "\n",
    "# Power law sampling\n",
    "function PowerlawSample(a::Real, b::Real, γ::Real)\n",
    "    a + (b - a) * rand()^γ\n",
    "end; ### #round(Int, PowerlawSample(1,1000,2.2))\n",
    "\n",
    "# Hydrator \n",
    "function hydrate(id::Int, model)\n",
    "    tweet=[t for t in model.tweets if t.id == id]\n",
    "    return tweet[1]\n",
    "end;"
   ]
  },
  {
   "cell_type": "markdown",
   "metadata": {},
   "source": [
    "## Parameters"
   ]
  },
  {
   "cell_type": "code",
   "execution_count": null,
   "metadata": {},
   "outputs": [],
   "source": [
    "# Population size\n",
    "const N=1000\n",
    "\n",
    "# Number ot time steps \n",
    "const nsteps=25\n",
    "\n",
    "# Controversialness\n",
    "α = 0.5 # parameter sensitivity [0, 0.02, 0.04, 0.06]\n",
    "\n",
    "# Follow threshold \n",
    "follow_threshold=0.2\n",
    "unfollow_threshold=0.4\n",
    "\n",
    "# Replicates \n",
    "replicates=1;"
   ]
  },
  {
   "cell_type": "markdown",
   "metadata": {},
   "source": [
    "### Initialization "
   ]
  },
  {
   "cell_type": "code",
   "execution_count": 80,
   "metadata": {},
   "outputs": [
    {
     "data": {
      "text/plain": [
       "InitializeModel (generic function with 1 method)"
      ]
     },
     "execution_count": 80,
     "metadata": {},
     "output_type": "execute_result"
    }
   ],
   "source": [
    "function InitializeModel(N::Int, α::Real, follow_threshold, unfollow_threshold)\n",
    "    step=0\n",
    "    tweet_id=0\n",
    "    tweets=[]\n",
    "    properties = @dict(N, step, tweet_id, tweets, α, follow_threshold, unfollow_threshold) # or @dict(N) where @dict is a \"macro\" which is equivalent to  Dict(:N => N)\n",
    "    space=GraphSpace(MG.MultiplexGraph(N))\n",
    "    model = ABM(User, space; properties) #AgentType, space; properties (dict)\n",
    "    \n",
    "    # Populate the model\n",
    "    for id in 1:N\n",
    "        pos = id\n",
    "        feed=Array{Tweet,1}()              \n",
    "        opinion=rand(Uniform(-1, 1))          \n",
    "        tweet_rate=abs(round(Int, activity_data[1,id]))+1     # round(Int, rand(Gamma(3, 1))) \n",
    "        retweet_rate=abs(round(Int, activity_data[1,id]))+1   # round(Int, rand(Gamma(3, 1)))\n",
    "        favorite_rate=abs(round(Int, activity_data[2,id]))+1  # round(Int, rand(Gamma(3, 1))) \n",
    "        follow_rate=abs(round(Int, activity_data[3,id]))+1    # round(Int, rand(Gamma(3, 1))) \n",
    "        unfollow_rate=abs(round(Int, activity_data[3,id]))+1  # round(Int, rand(Gamma(3, 1))) \n",
    "        tweets=Array{Int,1}()     \n",
    "        favorites=Array{Int,1}()  \n",
    "        add_agent!(pos, model, feed, opinion, tweet_rate, retweet_rate, favorite_rate, follow_rate, unfollow_rate, tweets, favorites) # even though opinion is optional\n",
    "    end\n",
    "    \n",
    "    agents=[a for a in allagents(model)]\n",
    "    # Initialize follower graph (static)\n",
    "    for agent in agents\n",
    "        others=[a for a in agents if a !=agent]\n",
    "        friends=StatsBase.sample(others, round(Int, rand(Gamma(2, 1))); replace=false, ordered=false) # replace=true for favorite graph\n",
    "        for friend in friends\n",
    "            MG.add_edge!(model.space.graph, agent.pos, friend.pos, :follower_graph)\n",
    "        end\n",
    "    end\n",
    "    \n",
    "    return model\n",
    "end"
   ]
  },
  {
   "cell_type": "markdown",
   "metadata": {},
   "source": [
    "### Macro-Dynamics"
   ]
  },
  {
   "cell_type": "code",
   "execution_count": 81,
   "metadata": {},
   "outputs": [
    {
     "data": {
      "text/plain": [
       "model_step! (generic function with 1 method)"
      ]
     },
     "execution_count": 81,
     "metadata": {},
     "output_type": "execute_result"
    }
   ],
   "source": [
    "function model_step!(model)\n",
    "    model.step+=1\n",
    "end"
   ]
  },
  {
   "cell_type": "markdown",
   "metadata": {},
   "source": [
    "### Micro-Dynamics"
   ]
  },
  {
   "cell_type": "markdown",
   "metadata": {},
   "source": [
    "#### Opinion-Dynamics Module "
   ]
  },
  {
   "cell_type": "code",
   "execution_count": 87,
   "metadata": {},
   "outputs": [],
   "source": [
    "# Opinion dynamics\n",
    "function Update!(agent, model)\n",
    "    friends_pos=node_neighbors(agent, model, :follower_graph, neighbor_type=:out) \n",
    "    length(friends_pos)==0 && return\n",
    "    friends=[f for f ∈ allagents(model) if f.pos in friends_pos]\n",
    "    opinions=[a.opinion for a in allagents(model)]\n",
    "    agent.opinion = sum([(1)*tanh(model.α*friend.opinion) for friend in friends]) \n",
    "end;"
   ]
  },
  {
   "cell_type": "markdown",
   "metadata": {},
   "source": [
    "#### Social-Dynamics Module "
   ]
  },
  {
   "cell_type": "code",
   "execution_count": 88,
   "metadata": {},
   "outputs": [],
   "source": [
    "# Tweet dynamics\n",
    "function Tweet!(agent,model)\n",
    "    agent.tweet_rate==0 && return\n",
    "    for t in 1:agent.tweet_rate\n",
    "        followers_pos=node_neighbors(agent, model, :follower_graph, neighbor_type=:in) \n",
    "        followers=[f for f in allagents(model) if f.pos in followers_pos]\n",
    "        tweet=Tweet(model.tweet_id, agent.id, false, 0, 0, agent.opinion, 0, 0, model.step)\n",
    "        for follower in followers\n",
    "            push!(follower.feed, tweet)\n",
    "        end \n",
    "        append!(agent.tweets, model.tweet_id)\n",
    "        push!(model.tweets, tweet)\n",
    "        model.tweet_id+=1\n",
    "    end\n",
    "end\n",
    "\n",
    "# Like dynamics\n",
    "function Like!(agent,model) \n",
    "    agent.favorite_rate==0 && return\n",
    "    potential_favorites=[t for t in agent.feed if t.id ∉ agent.favorites]\n",
    "    effective_favorites=StatsBase.sample(potential_favorites, min(agent.favorite_rate,length(potential_favorites)) ; replace=false, ordered=false)\n",
    "    for tweet in effective_favorites\n",
    "        tweet.favorite_count+=1\n",
    "        append!(agent.favorites, tweet.id)\n",
    "        MG.add_edge!(model.space.graph, agent.pos, tweet.user_id, :favorite_graph)\n",
    "    end\n",
    "end\n",
    "\n",
    "# Retweet dyamics \n",
    "function RT!(agent,model) \n",
    "    agent.retweet_rate==0 && return\n",
    "    effective_retweets=StatsBase.sample(agent.feed, min(agent.retweet_rate, length(agent.feed)); replace=false, ordered=false)\n",
    "    for tweet in effective_retweets\n",
    "        if tweet.retweet_status==false \n",
    "                tweet.retweet_count+=1\n",
    "                MG.add_edge!(model.space.graph, agent.pos, tweet.user_id, :retweet_graph)\n",
    "                \n",
    "                followers_pos=node_neighbors(agent, model, :follower_graph, neighbor_type=:in) \n",
    "                followers=[f for f in allagents(model) if f.pos in followers_pos]\n",
    "                retweet=Tweet(model.tweet_id, agent.id, true, tweet.id, tweet.user_id, tweet.content, 0, 0, model.step)\n",
    "                for follower in followers\n",
    "                    push!(follower.feed, retweet)\n",
    "                end \n",
    "                append!(agent.tweets, model.tweet_id)\n",
    "                push!(model.tweets, tweet)\n",
    "                model.tweet_id+=1\n",
    "        else\n",
    "            retweet=tweet\n",
    "            if retweet.user_id != agent.id\n",
    "                tweet=hydrate(retweet.retweeted_id, model)\n",
    "                tweet.retweet_count+=1\n",
    "                MG.add_edge!(model.space.graph, agent.pos, tweet.user_id, :retweet_graph)\n",
    "            \n",
    "                followers_pos=node_neighbors(agent, model, :follower_graph, neighbor_type=:in) \n",
    "                followers=[f for f in allagents(model) if f.pos in followers_pos]\n",
    "                for follower in followers\n",
    "                    push!(follower.feed, Tweet(model.tweet_id, agent.id, true, tweet.id, tweet.user_id, tweet.content, 0, 0, model.step))\n",
    "                end \n",
    "                append!(agent.tweets, model.tweet_id)\n",
    "                push!(model.tweets, tweet)\n",
    "                model.tweet_id+=1\n",
    "            end\n",
    "        end\n",
    "    end\n",
    "end\n",
    "\n",
    "# Follow dynamics \n",
    "function Follow!(agent,model)\n",
    "    agent.follow_rate==0 && return\n",
    "    friends_pos=node_neighbors(agent, model, :follower_graph, neighbor_type=:out) \n",
    "    friends=[f for f in allagents(model) if f.pos in friends_pos]\n",
    "    others=[a for a in allagents(model) if a !=agent && a ∉ friends]\n",
    "    possible_friends=[other for other in others if (sign(agent.opinion)==1 && agent.opinion - model.follow_threshold ≤ other.opinion) || (sign(agent.opinion)==-1 && agent.opinion+model.follow_threshold ≥ other.opinion)]\n",
    "    other_to_follow=StatsBase.sample(possible_friends, min(agent.follow_rate,length(possible_friends)) ; replace=false, ordered=false)\n",
    "    for other in other_to_follow\n",
    "        MG.add_edge!(model.space.graph, agent.pos, other.pos, :follower_graph)\n",
    "    end\n",
    "end\n",
    "\n",
    "# Unfollow dynamics \n",
    "function Unfollow!(agent,model)\n",
    "    agent.unfollow_rate==0 && return\n",
    "    friends_pos=node_neighbors(agent, model, :follower_graph, neighbor_type=:out) \n",
    "    friends=[f for f in allagents(model) if f.pos in friends_pos]\n",
    "    controversial_friends=[friend for friend in friends if (sign(agent.opinion)==1 && agent.opinion - model.unfollow_threshold > friend.opinion) || (sign(agent.opinion)==-1 && agent.opinion+model.unfollow_threshold < friend.opinion)]\n",
    "    friends_to_unfollow = StatsBase.sample(controversial_friends, min(agent.unfollow_rate,length(controversial_friends)) ; replace=false, ordered=false)\n",
    "    for friend in friends_to_unfollow\n",
    "        if MG.get_weight(model.space.graph, agent.pos, friend.pos, :follower_graph) == 0 \n",
    "            agent_pos=agent.pos\n",
    "            friend_pos=friend.pos\n",
    "            println(\"$agent_pos , $friend_pos\")\n",
    "        end\n",
    "        MG.rem_edge!(model.space.graph, agent.pos, friend.pos, :follower_graph)\n",
    "    end\n",
    "end\n",
    "\n",
    "# Agent dynamics\n",
    "function agent_step!(agent,model)\n",
    "    Tweet!(agent,model)\n",
    "    #Like!(agent,model)\n",
    "    #RT!(agent,model)\n",
    "    Update!(agent,model)\n",
    "    Follow!(agent,model)\n",
    "    Unfollow!(agent,model)\n",
    "end;"
   ]
  },
  {
   "cell_type": "markdown",
   "metadata": {},
   "source": [
    "## Simulations "
   ]
  },
  {
   "cell_type": "code",
   "execution_count": 89,
   "metadata": {},
   "outputs": [
    {
     "name": "stdout",
     "output_type": "stream",
     "text": [
      "  0.109258 seconds (51.30 k allocations: 17.932 MiB, 55.27% gc time)\n",
      " 43.660853 seconds (418.16 M allocations: 12.670 GiB, 11.98% gc time)\n"
     ]
    }
   ],
   "source": [
    "model = @time InitializeModel(N, α, follow_threshold, unfollow_threshold)\n",
    "\n",
    "###agent_data, model_data = @time run!(model, agent_step!, model_step!, nsteps, agents_first=false; \n",
    "###                                    adata = to_collect, mdata=[:geo, :contact_tracing_array],replicates=1, parallel=false); \n",
    "\n",
    "agent_data, _ = @time run!(model, agent_step!, model_step!, nsteps, agents_first=true; \n",
    "                           adata = [:opinion], replicates=replicates, parallel=false); "
   ]
  },
  {
   "cell_type": "markdown",
   "metadata": {},
   "source": [
    "## Visualization "
   ]
  },
  {
   "cell_type": "code",
   "execution_count": 90,
   "metadata": {},
   "outputs": [],
   "source": [
    "gd=groupby(agent_data, [:id]);"
   ]
  },
  {
   "cell_type": "code",
   "execution_count": 91,
   "metadata": {},
   "outputs": [
    {
     "data": {
      "image/svg+xml": "<?xml version=\"1.0\" encoding=\"utf-8\"?>\n<svg xmlns=\"http://www.w3.org/2000/svg\" xmlns:xlink=\"http://www.w3.org/1999/xlink\" width=\"900\" height=\"500\" viewBox=\"0 0 3600 2000\">\n<defs>\n  <clipPath id=\"clip160\">\n    <rect x=\"0\" y=\"0\" width=\"3600\" height=\"2000\"/>\n  </clipPath>\n</defs>\n<path clip-path=\"url(#clip160)\" d=\"\nM0 2000 L3600 2000 L3600 0 L0 0  Z\n  \" fill=\"#ffffff\" fill-rule=\"evenodd\" fill-opacity=\"1\"/>\n<defs>\n  <clipPath id=\"clip161\">\n    <rect x=\"720\" y=\"0\" width=\"2521\" height=\"2000\"/>\n  </clipPath>\n</defs>\n<path clip-path=\"url(#clip160)\" d=\"\nM238.53 1832.86 L3552.76 1832.86 L3552.76 113.392 L238.53 113.392  Z\n  \" fill=\"#ffffff\" fill-rule=\"evenodd\" fill-opacity=\"1\"/>\n<defs>\n  <clipPath id=\"clip162\">\n    <rect x=\"238\" y=\"113\" width=\"3315\" height=\"1720\"/>\n  </clipPath>\n</defs>\n<polyline clip-path=\"url(#clip162)\" style=\"stroke:#000000; stroke-width:2; stroke-opacity:0.1; fill:none\" points=\"\n  332.328,1832.86 332.328,113.392 \n  \"/>\n<polyline clip-path=\"url(#clip162)\" style=\"stroke:#000000; stroke-width:2; stroke-opacity:0.1; fill:none\" points=\"\n  957.654,1832.86 957.654,113.392 \n  \"/>\n<polyline clip-path=\"url(#clip162)\" style=\"stroke:#000000; stroke-width:2; stroke-opacity:0.1; fill:none\" points=\"\n  1582.98,1832.86 1582.98,113.392 \n  \"/>\n<polyline clip-path=\"url(#clip162)\" style=\"stroke:#000000; stroke-width:2; stroke-opacity:0.1; fill:none\" points=\"\n  2208.31,1832.86 2208.31,113.392 \n  \"/>\n<polyline clip-path=\"url(#clip162)\" style=\"stroke:#000000; stroke-width:2; stroke-opacity:0.1; fill:none\" points=\"\n  2833.63,1832.86 2833.63,113.392 \n  \"/>\n<polyline clip-path=\"url(#clip162)\" style=\"stroke:#000000; stroke-width:2; stroke-opacity:0.1; fill:none\" points=\"\n  3458.96,1832.86 3458.96,113.392 \n  \"/>\n<polyline clip-path=\"url(#clip160)\" style=\"stroke:#000000; stroke-width:4; stroke-opacity:1; fill:none\" points=\"\n  238.53,1832.86 3552.76,1832.86 \n  \"/>\n<polyline clip-path=\"url(#clip160)\" style=\"stroke:#000000; stroke-width:4; stroke-opacity:1; fill:none\" points=\"\n  332.328,1832.86 332.328,1812.23 \n  \"/>\n<polyline clip-path=\"url(#clip160)\" style=\"stroke:#000000; stroke-width:4; stroke-opacity:1; fill:none\" points=\"\n  957.654,1832.86 957.654,1812.23 \n  \"/>\n<polyline clip-path=\"url(#clip160)\" style=\"stroke:#000000; stroke-width:4; stroke-opacity:1; fill:none\" points=\"\n  1582.98,1832.86 1582.98,1812.23 \n  \"/>\n<polyline clip-path=\"url(#clip160)\" style=\"stroke:#000000; stroke-width:4; stroke-opacity:1; fill:none\" points=\"\n  2208.31,1832.86 2208.31,1812.23 \n  \"/>\n<polyline clip-path=\"url(#clip160)\" style=\"stroke:#000000; stroke-width:4; stroke-opacity:1; fill:none\" points=\"\n  2833.63,1832.86 2833.63,1812.23 \n  \"/>\n<polyline clip-path=\"url(#clip160)\" style=\"stroke:#000000; stroke-width:4; stroke-opacity:1; fill:none\" points=\"\n  3458.96,1832.86 3458.96,1812.23 \n  \"/>\n<path clip-path=\"url(#clip160)\" d=\"M 0 0 M332.328 1871.65 Q328.717 1871.65 326.889 1875.22 Q325.083 1878.76 325.083 1885.89 Q325.083 1892.99 326.889 1896.56 Q328.717 1900.1 332.328 1900.1 Q335.963 1900.1 337.768 1896.56 Q339.597 1892.99 339.597 1885.89 Q339.597 1878.76 337.768 1875.22 Q335.963 1871.65 332.328 1871.65 M332.328 1867.95 Q338.139 1867.95 341.194 1872.55 Q344.273 1877.14 344.273 1885.89 Q344.273 1894.61 341.194 1899.22 Q338.139 1903.8 332.328 1903.8 Q326.518 1903.8 323.44 1899.22 Q320.384 1894.61 320.384 1885.89 Q320.384 1877.14 323.44 1872.55 Q326.518 1867.95 332.328 1867.95 Z\" fill=\"#000000\" fill-rule=\"evenodd\" fill-opacity=\"1\" /><path clip-path=\"url(#clip160)\" d=\"M 0 0 M947.932 1868.57 L966.288 1868.57 L966.288 1872.51 L952.214 1872.51 L952.214 1880.98 Q953.233 1880.63 954.251 1880.47 Q955.27 1880.28 956.288 1880.28 Q962.075 1880.28 965.455 1883.46 Q968.835 1886.63 968.835 1892.04 Q968.835 1897.62 965.362 1900.72 Q961.89 1903.8 955.571 1903.8 Q953.395 1903.8 951.126 1903.43 Q948.881 1903.06 946.474 1902.32 L946.474 1897.62 Q948.557 1898.76 950.779 1899.31 Q953.001 1899.87 955.478 1899.87 Q959.483 1899.87 961.821 1897.76 Q964.159 1895.66 964.159 1892.04 Q964.159 1888.43 961.821 1886.33 Q959.483 1884.22 955.478 1884.22 Q953.603 1884.22 951.728 1884.64 Q949.876 1885.05 947.932 1885.93 L947.932 1868.57 Z\" fill=\"#000000\" fill-rule=\"evenodd\" fill-opacity=\"1\" /><path clip-path=\"url(#clip160)\" d=\"M 0 0 M1559.85 1899.2 L1567.49 1899.2 L1567.49 1872.83 L1559.18 1874.5 L1559.18 1870.24 L1567.45 1868.57 L1572.12 1868.57 L1572.12 1899.2 L1579.76 1899.2 L1579.76 1903.13 L1559.85 1903.13 L1559.85 1899.2 Z\" fill=\"#000000\" fill-rule=\"evenodd\" fill-opacity=\"1\" /><path clip-path=\"url(#clip160)\" d=\"M 0 0 M1594.83 1871.65 Q1591.22 1871.65 1589.39 1875.22 Q1587.59 1878.76 1587.59 1885.89 Q1587.59 1892.99 1589.39 1896.56 Q1591.22 1900.1 1594.83 1900.1 Q1598.47 1900.1 1600.27 1896.56 Q1602.1 1892.99 1602.1 1885.89 Q1602.1 1878.76 1600.27 1875.22 Q1598.47 1871.65 1594.83 1871.65 M1594.83 1867.95 Q1600.64 1867.95 1603.7 1872.55 Q1606.78 1877.14 1606.78 1885.89 Q1606.78 1894.61 1603.7 1899.22 Q1600.64 1903.8 1594.83 1903.8 Q1589.02 1903.8 1585.94 1899.22 Q1582.89 1894.61 1582.89 1885.89 Q1582.89 1877.14 1585.94 1872.55 Q1589.02 1867.95 1594.83 1867.95 Z\" fill=\"#000000\" fill-rule=\"evenodd\" fill-opacity=\"1\" /><path clip-path=\"url(#clip160)\" d=\"M 0 0 M2185.68 1899.2 L2193.32 1899.2 L2193.32 1872.83 L2185.01 1874.5 L2185.01 1870.24 L2193.27 1868.57 L2197.95 1868.57 L2197.95 1899.2 L2205.59 1899.2 L2205.59 1903.13 L2185.68 1903.13 L2185.68 1899.2 Z\" fill=\"#000000\" fill-rule=\"evenodd\" fill-opacity=\"1\" /><path clip-path=\"url(#clip160)\" d=\"M 0 0 M2210.7 1868.57 L2229.06 1868.57 L2229.06 1872.51 L2214.98 1872.51 L2214.98 1880.98 Q2216 1880.63 2217.02 1880.47 Q2218.04 1880.28 2219.06 1880.28 Q2224.84 1880.28 2228.22 1883.46 Q2231.6 1886.63 2231.6 1892.04 Q2231.6 1897.62 2228.13 1900.72 Q2224.66 1903.8 2218.34 1903.8 Q2216.16 1903.8 2213.9 1903.43 Q2211.65 1903.06 2209.24 1902.32 L2209.24 1897.62 Q2211.33 1898.76 2213.55 1899.31 Q2215.77 1899.87 2218.25 1899.87 Q2222.25 1899.87 2224.59 1897.76 Q2226.93 1895.66 2226.93 1892.04 Q2226.93 1888.43 2224.59 1886.33 Q2222.25 1884.22 2218.25 1884.22 Q2216.37 1884.22 2214.5 1884.64 Q2212.65 1885.05 2210.7 1885.93 L2210.7 1868.57 Z\" fill=\"#000000\" fill-rule=\"evenodd\" fill-opacity=\"1\" /><path clip-path=\"url(#clip160)\" d=\"M 0 0 M2814.78 1899.2 L2831.1 1899.2 L2831.1 1903.13 L2809.15 1903.13 L2809.15 1899.2 Q2811.81 1896.44 2816.4 1891.81 Q2821 1887.16 2822.18 1885.82 Q2824.43 1883.29 2825.31 1881.56 Q2826.21 1879.8 2826.21 1878.11 Q2826.21 1875.35 2824.27 1873.62 Q2822.35 1871.88 2819.24 1871.88 Q2817.05 1871.88 2814.59 1872.65 Q2812.16 1873.41 2809.38 1874.96 L2809.38 1870.24 Q2812.21 1869.1 2814.66 1868.53 Q2817.12 1867.95 2819.15 1867.95 Q2824.52 1867.95 2827.72 1870.63 Q2830.91 1873.32 2830.91 1877.81 Q2830.91 1879.94 2830.1 1881.86 Q2829.31 1883.76 2827.21 1886.35 Q2826.63 1887.02 2823.53 1890.24 Q2820.43 1893.43 2814.78 1899.2 Z\" fill=\"#000000\" fill-rule=\"evenodd\" fill-opacity=\"1\" /><path clip-path=\"url(#clip160)\" d=\"M 0 0 M2846.17 1871.65 Q2842.55 1871.65 2840.73 1875.22 Q2838.92 1878.76 2838.92 1885.89 Q2838.92 1892.99 2840.73 1896.56 Q2842.55 1900.1 2846.17 1900.1 Q2849.8 1900.1 2851.61 1896.56 Q2853.43 1892.99 2853.43 1885.89 Q2853.43 1878.76 2851.61 1875.22 Q2849.8 1871.65 2846.17 1871.65 M2846.17 1867.95 Q2851.98 1867.95 2855.03 1872.55 Q2858.11 1877.14 2858.11 1885.89 Q2858.11 1894.61 2855.03 1899.22 Q2851.98 1903.8 2846.17 1903.8 Q2840.36 1903.8 2837.28 1899.22 Q2834.22 1894.61 2834.22 1885.89 Q2834.22 1877.14 2837.28 1872.55 Q2840.36 1867.95 2846.17 1867.95 Z\" fill=\"#000000\" fill-rule=\"evenodd\" fill-opacity=\"1\" /><path clip-path=\"url(#clip160)\" d=\"M 0 0 M3440.6 1899.2 L3456.92 1899.2 L3456.92 1903.13 L3434.98 1903.13 L3434.98 1899.2 Q3437.64 1896.44 3442.22 1891.81 Q3446.83 1887.16 3448.01 1885.82 Q3450.25 1883.29 3451.13 1881.56 Q3452.04 1879.8 3452.04 1878.11 Q3452.04 1875.35 3450.09 1873.62 Q3448.17 1871.88 3445.07 1871.88 Q3442.87 1871.88 3440.42 1872.65 Q3437.98 1873.41 3435.21 1874.96 L3435.21 1870.24 Q3438.03 1869.1 3440.48 1868.53 Q3442.94 1867.95 3444.98 1867.95 Q3450.35 1867.95 3453.54 1870.63 Q3456.73 1873.32 3456.73 1877.81 Q3456.73 1879.94 3455.92 1881.86 Q3455.14 1883.76 3453.03 1886.35 Q3452.45 1887.02 3449.35 1890.24 Q3446.25 1893.43 3440.6 1899.2 Z\" fill=\"#000000\" fill-rule=\"evenodd\" fill-opacity=\"1\" /><path clip-path=\"url(#clip160)\" d=\"M 0 0 M3462.04 1868.57 L3480.39 1868.57 L3480.39 1872.51 L3466.32 1872.51 L3466.32 1880.98 Q3467.34 1880.63 3468.36 1880.47 Q3469.37 1880.28 3470.39 1880.28 Q3476.18 1880.28 3479.56 1883.46 Q3482.94 1886.63 3482.94 1892.04 Q3482.94 1897.62 3479.47 1900.72 Q3475.99 1903.8 3469.67 1903.8 Q3467.5 1903.8 3465.23 1903.43 Q3462.98 1903.06 3460.58 1902.32 L3460.58 1897.62 Q3462.66 1898.76 3464.88 1899.31 Q3467.11 1899.87 3469.58 1899.87 Q3473.59 1899.87 3475.92 1897.76 Q3478.26 1895.66 3478.26 1892.04 Q3478.26 1888.43 3475.92 1886.33 Q3473.59 1884.22 3469.58 1884.22 Q3467.71 1884.22 3465.83 1884.64 Q3463.98 1885.05 3462.04 1885.93 L3462.04 1868.57 Z\" fill=\"#000000\" fill-rule=\"evenodd\" fill-opacity=\"1\" /><path clip-path=\"url(#clip160)\" d=\"M 0 0 M1823.25 1930.2 L1863.45 1930.2 L1863.45 1935.61 L1846.58 1935.61 L1846.58 1977.72 L1840.12 1977.72 L1840.12 1935.61 L1823.25 1935.61 L1823.25 1930.2 Z\" fill=\"#000000\" fill-rule=\"evenodd\" fill-opacity=\"1\" /><path clip-path=\"url(#clip160)\" d=\"M 0 0 M1867.59 1942.08 L1873.44 1942.08 L1873.44 1977.72 L1867.59 1977.72 L1867.59 1942.08 M1867.59 1928.2 L1873.44 1928.2 L1873.44 1935.61 L1867.59 1935.61 L1867.59 1928.2 Z\" fill=\"#000000\" fill-rule=\"evenodd\" fill-opacity=\"1\" /><path clip-path=\"url(#clip160)\" d=\"M 0 0 M1907.34 1948.92 Q1909.54 1944.97 1912.59 1943.09 Q1915.65 1941.22 1919.78 1941.22 Q1925.35 1941.22 1928.38 1945.13 Q1931.4 1949.01 1931.4 1956.21 L1931.4 1977.72 L1925.51 1977.72 L1925.51 1956.4 Q1925.51 1951.27 1923.7 1948.79 Q1921.89 1946.31 1918.16 1946.31 Q1913.61 1946.31 1910.97 1949.33 Q1908.33 1952.36 1908.33 1957.58 L1908.33 1977.72 L1902.44 1977.72 L1902.44 1956.4 Q1902.44 1951.24 1900.62 1948.79 Q1898.81 1946.31 1895.02 1946.31 Q1890.53 1946.31 1887.89 1949.36 Q1885.25 1952.39 1885.25 1957.58 L1885.25 1977.72 L1879.36 1977.72 L1879.36 1942.08 L1885.25 1942.08 L1885.25 1947.61 Q1887.26 1944.34 1890.06 1942.78 Q1892.86 1941.22 1896.71 1941.22 Q1900.59 1941.22 1903.3 1943.19 Q1906.03 1945.16 1907.34 1948.92 Z\" fill=\"#000000\" fill-rule=\"evenodd\" fill-opacity=\"1\" /><path clip-path=\"url(#clip160)\" d=\"M 0 0 M1968.04 1958.44 L1968.04 1961.3 L1941.11 1961.3 Q1941.49 1967.35 1944.74 1970.53 Q1948.02 1973.68 1953.84 1973.68 Q1957.22 1973.68 1960.37 1972.85 Q1963.55 1972.03 1966.67 1970.37 L1966.67 1975.91 Q1963.52 1977.25 1960.21 1977.95 Q1956.9 1978.65 1953.49 1978.65 Q1944.96 1978.65 1939.96 1973.68 Q1935 1968.72 1935 1960.25 Q1935 1951.5 1939.71 1946.37 Q1944.45 1941.22 1952.47 1941.22 Q1959.67 1941.22 1963.84 1945.86 Q1968.04 1950.48 1968.04 1958.44 M1962.18 1956.72 Q1962.12 1951.91 1959.47 1949.05 Q1956.86 1946.18 1952.54 1946.18 Q1947.63 1946.18 1944.67 1948.95 Q1941.75 1951.72 1941.3 1956.75 L1962.18 1956.72 Z\" fill=\"#000000\" fill-rule=\"evenodd\" fill-opacity=\"1\" /><polyline clip-path=\"url(#clip162)\" style=\"stroke:#000000; stroke-width:2; stroke-opacity:0.1; fill:none\" points=\"\n  238.53,1447.07 3552.76,1447.07 \n  \"/>\n<polyline clip-path=\"url(#clip162)\" style=\"stroke:#000000; stroke-width:2; stroke-opacity:0.1; fill:none\" points=\"\n  238.53,1025.67 3552.76,1025.67 \n  \"/>\n<polyline clip-path=\"url(#clip162)\" style=\"stroke:#000000; stroke-width:2; stroke-opacity:0.1; fill:none\" points=\"\n  238.53,604.26 3552.76,604.26 \n  \"/>\n<polyline clip-path=\"url(#clip162)\" style=\"stroke:#000000; stroke-width:2; stroke-opacity:0.1; fill:none\" points=\"\n  238.53,182.854 3552.76,182.854 \n  \"/>\n<polyline clip-path=\"url(#clip160)\" style=\"stroke:#000000; stroke-width:4; stroke-opacity:1; fill:none\" points=\"\n  238.53,1832.86 238.53,113.392 \n  \"/>\n<polyline clip-path=\"url(#clip160)\" style=\"stroke:#000000; stroke-width:4; stroke-opacity:1; fill:none\" points=\"\n  238.53,1447.07 278.3,1447.07 \n  \"/>\n<polyline clip-path=\"url(#clip160)\" style=\"stroke:#000000; stroke-width:4; stroke-opacity:1; fill:none\" points=\"\n  238.53,1025.67 278.3,1025.67 \n  \"/>\n<polyline clip-path=\"url(#clip160)\" style=\"stroke:#000000; stroke-width:4; stroke-opacity:1; fill:none\" points=\"\n  238.53,604.26 278.3,604.26 \n  \"/>\n<polyline clip-path=\"url(#clip160)\" style=\"stroke:#000000; stroke-width:4; stroke-opacity:1; fill:none\" points=\"\n  238.53,182.854 278.3,182.854 \n  \"/>\n<path clip-path=\"url(#clip160)\" d=\"M 0 0 M100.664 1447.52 L130.34 1447.52 L130.34 1451.46 L100.664 1451.46 L100.664 1447.52 Z\" fill=\"#000000\" fill-rule=\"evenodd\" fill-opacity=\"1\" /><path clip-path=\"url(#clip160)\" d=\"M 0 0 M145.988 1445.21 Q142.84 1445.21 140.988 1447.36 Q139.159 1449.51 139.159 1453.26 Q139.159 1456.99 140.988 1459.17 Q142.84 1461.32 145.988 1461.32 Q149.136 1461.32 150.965 1459.17 Q152.817 1456.99 152.817 1453.26 Q152.817 1449.51 150.965 1447.36 Q149.136 1445.21 145.988 1445.21 M155.27 1430.56 L155.27 1434.82 Q153.511 1433.98 151.706 1433.54 Q149.923 1433.1 148.164 1433.1 Q143.534 1433.1 141.081 1436.23 Q138.65 1439.35 138.303 1445.67 Q139.669 1443.66 141.729 1442.59 Q143.789 1441.5 146.266 1441.5 Q151.474 1441.5 154.483 1444.68 Q157.516 1447.82 157.516 1453.26 Q157.516 1458.59 154.368 1461.81 Q151.22 1465.02 145.988 1465.02 Q139.993 1465.02 136.821 1460.44 Q133.65 1455.83 133.65 1447.11 Q133.65 1438.91 137.539 1434.05 Q141.428 1429.17 147.979 1429.17 Q149.738 1429.17 151.52 1429.51 Q153.326 1429.86 155.27 1430.56 Z\" fill=\"#000000\" fill-rule=\"evenodd\" fill-opacity=\"1\" /><path clip-path=\"url(#clip160)\" d=\"M 0 0 M172.585 1432.87 Q168.974 1432.87 167.145 1436.44 Q165.34 1439.98 165.34 1447.11 Q165.34 1454.21 167.145 1457.78 Q168.974 1461.32 172.585 1461.32 Q176.219 1461.32 178.025 1457.78 Q179.854 1454.21 179.854 1447.11 Q179.854 1439.98 178.025 1436.44 Q176.219 1432.87 172.585 1432.87 M172.585 1429.17 Q178.395 1429.17 181.451 1433.77 Q184.53 1438.36 184.53 1447.11 Q184.53 1455.83 181.451 1460.44 Q178.395 1465.02 172.585 1465.02 Q166.775 1465.02 163.696 1460.44 Q160.641 1455.83 160.641 1447.11 Q160.641 1438.36 163.696 1433.77 Q166.775 1429.17 172.585 1429.17 Z\" fill=\"#000000\" fill-rule=\"evenodd\" fill-opacity=\"1\" /><path clip-path=\"url(#clip160)\" d=\"M 0 0 M100.34 1026.12 L130.016 1026.12 L130.016 1030.05 L100.34 1030.05 L100.34 1026.12 Z\" fill=\"#000000\" fill-rule=\"evenodd\" fill-opacity=\"1\" /><path clip-path=\"url(#clip160)\" d=\"M 0 0 M147.932 1012.46 L136.127 1030.91 L147.932 1030.91 L147.932 1012.46 M146.706 1008.39 L152.585 1008.39 L152.585 1030.91 L157.516 1030.91 L157.516 1034.8 L152.585 1034.8 L152.585 1042.95 L147.932 1042.95 L147.932 1034.8 L132.331 1034.8 L132.331 1030.28 L146.706 1008.39 Z\" fill=\"#000000\" fill-rule=\"evenodd\" fill-opacity=\"1\" /><path clip-path=\"url(#clip160)\" d=\"M 0 0 M172.585 1011.46 Q168.974 1011.46 167.145 1015.03 Q165.34 1018.57 165.34 1025.7 Q165.34 1032.81 167.145 1036.37 Q168.974 1039.91 172.585 1039.91 Q176.219 1039.91 178.025 1036.37 Q179.854 1032.81 179.854 1025.7 Q179.854 1018.57 178.025 1015.03 Q176.219 1011.46 172.585 1011.46 M172.585 1007.76 Q178.395 1007.76 181.451 1012.37 Q184.53 1016.95 184.53 1025.7 Q184.53 1034.43 181.451 1039.03 Q178.395 1043.62 172.585 1043.62 Q166.775 1043.62 163.696 1039.03 Q160.641 1034.43 160.641 1025.7 Q160.641 1016.95 163.696 1012.37 Q166.775 1007.76 172.585 1007.76 Z\" fill=\"#000000\" fill-rule=\"evenodd\" fill-opacity=\"1\" /><path clip-path=\"url(#clip160)\" d=\"M 0 0 M102.423 604.711 L132.099 604.711 L132.099 608.646 L102.423 608.646 L102.423 604.711 Z\" fill=\"#000000\" fill-rule=\"evenodd\" fill-opacity=\"1\" /><path clip-path=\"url(#clip160)\" d=\"M 0 0 M141.196 617.605 L157.516 617.605 L157.516 621.54 L135.571 621.54 L135.571 617.605 Q138.233 614.85 142.817 610.22 Q147.423 605.568 148.604 604.225 Q150.849 601.702 151.729 599.966 Q152.632 598.207 152.632 596.517 Q152.632 593.762 150.687 592.026 Q148.766 590.29 145.664 590.29 Q143.465 590.29 141.011 591.054 Q138.581 591.818 135.803 593.369 L135.803 588.646 Q138.627 587.512 141.081 586.934 Q143.534 586.355 145.571 586.355 Q150.942 586.355 154.136 589.04 Q157.331 591.725 157.331 596.216 Q157.331 598.345 156.52 600.267 Q155.733 602.165 153.627 604.757 Q153.048 605.429 149.946 608.646 Q146.845 611.841 141.196 617.605 Z\" fill=\"#000000\" fill-rule=\"evenodd\" fill-opacity=\"1\" /><path clip-path=\"url(#clip160)\" d=\"M 0 0 M172.585 590.058 Q168.974 590.058 167.145 593.623 Q165.34 597.165 165.34 604.295 Q165.34 611.401 167.145 614.966 Q168.974 618.507 172.585 618.507 Q176.219 618.507 178.025 614.966 Q179.854 611.401 179.854 604.295 Q179.854 597.165 178.025 593.623 Q176.219 590.058 172.585 590.058 M172.585 586.355 Q178.395 586.355 181.451 590.961 Q184.53 595.545 184.53 604.295 Q184.53 613.021 181.451 617.628 Q178.395 622.211 172.585 622.211 Q166.775 622.211 163.696 617.628 Q160.641 613.021 160.641 604.295 Q160.641 595.545 163.696 590.961 Q166.775 586.355 172.585 586.355 Z\" fill=\"#000000\" fill-rule=\"evenodd\" fill-opacity=\"1\" /><path clip-path=\"url(#clip160)\" d=\"M 0 0 M172.585 168.652 Q168.974 168.652 167.145 172.217 Q165.34 175.759 165.34 182.888 Q165.34 189.995 167.145 193.56 Q168.974 197.101 172.585 197.101 Q176.219 197.101 178.025 193.56 Q179.854 189.995 179.854 182.888 Q179.854 175.759 178.025 172.217 Q176.219 168.652 172.585 168.652 M172.585 164.949 Q178.395 164.949 181.451 169.555 Q184.53 174.138 184.53 182.888 Q184.53 191.615 181.451 196.222 Q178.395 200.805 172.585 200.805 Q166.775 200.805 163.696 196.222 Q160.641 191.615 160.641 182.888 Q160.641 174.138 163.696 169.555 Q166.775 164.949 172.585 164.949 Z\" fill=\"#000000\" fill-rule=\"evenodd\" fill-opacity=\"1\" /><path clip-path=\"url(#clip160)\" d=\"M 0 0 M25.8477 1190.55 L43.7035 1190.55 L43.7035 1182.46 Q43.7035 1177.97 41.38 1175.52 Q39.0565 1173.07 34.7597 1173.07 Q30.4947 1173.07 28.1712 1175.52 Q25.8477 1177.97 25.8477 1182.46 L25.8477 1190.55 M20.5642 1196.98 L20.5642 1182.46 Q20.5642 1174.47 24.1926 1170.4 Q27.7892 1166.29 34.7597 1166.29 Q41.7938 1166.29 45.3904 1170.4 Q48.987 1174.47 48.987 1182.46 L48.987 1190.55 L68.0842 1190.55 L68.0842 1196.98 L20.5642 1196.98 Z\" fill=\"#000000\" fill-rule=\"evenodd\" fill-opacity=\"1\" /><path clip-path=\"url(#clip160)\" d=\"M 0 0 M36.5421 1148.66 Q36.5421 1153.37 40.2342 1156.11 Q43.8945 1158.85 50.292 1158.85 Q56.6895 1158.85 60.3817 1156.14 Q64.0419 1153.4 64.0419 1148.66 Q64.0419 1143.98 60.3498 1141.24 Q56.6577 1138.51 50.292 1138.51 Q43.9581 1138.51 40.266 1141.24 Q36.5421 1143.98 36.5421 1148.66 M31.5768 1148.66 Q31.5768 1141.02 36.5421 1136.66 Q41.5073 1132.3 50.292 1132.3 Q59.0449 1132.3 64.0419 1136.66 Q69.0072 1141.02 69.0072 1148.66 Q69.0072 1156.33 64.0419 1160.69 Q59.0449 1165.02 50.292 1165.02 Q41.5073 1165.02 36.5421 1160.69 Q31.5768 1156.33 31.5768 1148.66 Z\" fill=\"#000000\" fill-rule=\"evenodd\" fill-opacity=\"1\" /><path clip-path=\"url(#clip160)\" d=\"M 0 0 M18.559 1126.16 L18.559 1120.3 L68.0842 1120.3 L68.0842 1126.16 L18.559 1126.16 Z\" fill=\"#000000\" fill-rule=\"evenodd\" fill-opacity=\"1\" /><path clip-path=\"url(#clip160)\" d=\"M 0 0 M32.4362 1114.16 L32.4362 1108.3 L68.0842 1108.3 L68.0842 1114.16 L32.4362 1114.16 M18.559 1114.16 L18.559 1108.3 L25.975 1108.3 L25.975 1114.16 L18.559 1114.16 Z\" fill=\"#000000\" fill-rule=\"evenodd\" fill-opacity=\"1\" /><path clip-path=\"url(#clip160)\" d=\"M 0 0 M22.3147 1096.37 L32.4362 1096.37 L32.4362 1084.3 L36.9877 1084.3 L36.9877 1096.37 L56.3394 1096.37 Q60.6999 1096.37 61.9413 1095.19 Q63.1826 1093.98 63.1826 1090.32 L63.1826 1084.3 L68.0842 1084.3 L68.0842 1090.32 Q68.0842 1097.1 65.5697 1099.68 Q63.0234 1102.25 56.3394 1102.25 L36.9877 1102.25 L36.9877 1106.55 L32.4362 1106.55 L32.4362 1102.25 L22.3147 1102.25 L22.3147 1096.37 Z\" fill=\"#000000\" fill-rule=\"evenodd\" fill-opacity=\"1\" /><path clip-path=\"url(#clip160)\" d=\"M 0 0 M32.4362 1078.16 L32.4362 1072.3 L68.0842 1072.3 L68.0842 1078.16 L32.4362 1078.16 M18.559 1078.16 L18.559 1072.3 L25.975 1072.3 L25.975 1078.16 L18.559 1078.16 Z\" fill=\"#000000\" fill-rule=\"evenodd\" fill-opacity=\"1\" /><path clip-path=\"url(#clip160)\" d=\"M 0 0 M33.8048 1040.51 L39.2793 1040.51 Q37.9107 1042.99 37.2423 1045.5 Q36.5421 1047.99 36.5421 1050.53 Q36.5421 1056.23 40.1705 1059.38 Q43.7672 1062.53 50.292 1062.53 Q56.8169 1062.53 60.4453 1059.38 Q64.0419 1056.23 64.0419 1050.53 Q64.0419 1047.99 63.3735 1045.5 Q62.6733 1042.99 61.3047 1040.51 L66.7155 1040.51 Q67.8614 1042.96 68.4343 1045.6 Q69.0072 1048.21 69.0072 1051.17 Q69.0072 1059.22 63.9464 1063.96 Q58.8857 1068.71 50.292 1068.71 Q41.571 1068.71 36.5739 1063.93 Q31.5768 1059.13 31.5768 1050.79 Q31.5768 1048.08 32.1497 1045.5 Q32.6908 1042.93 33.8048 1040.51 Z\" fill=\"#000000\" fill-rule=\"evenodd\" fill-opacity=\"1\" /><path clip-path=\"url(#clip160)\" d=\"M 0 0 M50.1647 1018.16 Q50.1647 1025.26 51.7879 1028 Q53.4112 1030.74 57.3261 1030.74 Q60.4453 1030.74 62.2914 1028.7 Q64.1056 1026.63 64.1056 1023.1 Q64.1056 1018.23 60.6681 1015.3 Q57.1988 1012.34 51.4697 1012.34 L50.1647 1012.34 L50.1647 1018.16 M47.7457 1006.48 L68.0842 1006.48 L68.0842 1012.34 L62.6733 1012.34 Q65.9198 1014.34 67.4794 1017.34 Q69.0072 1020.33 69.0072 1024.66 Q69.0072 1030.13 65.9516 1033.38 Q62.8643 1036.59 57.7081 1036.59 Q51.6925 1036.59 48.6369 1032.58 Q45.5814 1028.54 45.5814 1020.55 L45.5814 1012.34 L45.0085 1012.34 Q40.9662 1012.34 38.7701 1015.01 Q36.5421 1017.65 36.5421 1022.46 Q36.5421 1025.52 37.2741 1028.41 Q38.0062 1031.31 39.4703 1033.98 L34.0595 1033.98 Q32.8181 1030.77 32.2134 1027.74 Q31.5768 1024.72 31.5768 1021.86 Q31.5768 1014.12 35.5872 1010.3 Q39.5976 1006.48 47.7457 1006.48 Z\" fill=\"#000000\" fill-rule=\"evenodd\" fill-opacity=\"1\" /><path clip-path=\"url(#clip160)\" d=\"M 0 0 M18.559 1000.34 L18.559 994.483 L68.0842 994.483 L68.0842 1000.34 L18.559 1000.34 Z\" fill=\"#000000\" fill-rule=\"evenodd\" fill-opacity=\"1\" /><path clip-path=\"url(#clip160)\" d=\"M 0 0 M20.5642 967.365 L20.5642 960.936 L62.6733 960.936 L62.6733 937.796 L68.0842 937.796 L68.0842 967.365 L20.5642 967.365 Z\" fill=\"#000000\" fill-rule=\"evenodd\" fill-opacity=\"1\" /><path clip-path=\"url(#clip160)\" d=\"M 0 0 M48.7961 902.307 L51.6606 902.307 L51.6606 929.234 Q57.7081 928.852 60.8909 925.606 Q64.0419 922.328 64.0419 916.503 Q64.0419 913.129 63.2144 909.978 Q62.3869 906.795 60.7318 903.676 L66.2699 903.676 Q67.6067 906.827 68.307 910.137 Q69.0072 913.447 69.0072 916.853 Q69.0072 925.383 64.0419 930.38 Q59.0767 935.346 50.6103 935.346 Q41.8574 935.346 36.7331 930.635 Q31.5768 925.892 31.5768 917.872 Q31.5768 910.678 36.2238 906.509 Q40.8389 902.307 48.7961 902.307 M47.0773 908.164 Q42.2712 908.228 39.4066 910.869 Q36.5421 913.479 36.5421 917.808 Q36.5421 922.71 39.3112 925.67 Q42.0802 928.598 47.1092 929.043 L47.0773 908.164 Z\" fill=\"#000000\" fill-rule=\"evenodd\" fill-opacity=\"1\" /><path clip-path=\"url(#clip160)\" d=\"M 0 0 M50.1647 879.964 Q50.1647 887.062 51.7879 889.799 Q53.4112 892.536 57.3261 892.536 Q60.4453 892.536 62.2914 890.499 Q64.1056 888.43 64.1056 884.897 Q64.1056 880.028 60.6681 877.099 Q57.1988 874.139 51.4697 874.139 L50.1647 874.139 L50.1647 879.964 M47.7457 868.283 L68.0842 868.283 L68.0842 874.139 L62.6733 874.139 Q65.9198 876.144 67.4794 879.136 Q69.0072 882.128 69.0072 886.457 Q69.0072 891.931 65.9516 895.178 Q62.8643 898.393 57.7081 898.393 Q51.6925 898.393 48.6369 894.382 Q45.5814 890.34 45.5814 882.351 L45.5814 874.139 L45.0085 874.139 Q40.9662 874.139 38.7701 876.813 Q36.5421 879.455 36.5421 884.261 Q36.5421 887.316 37.2741 890.213 Q38.0062 893.109 39.4703 895.783 L34.0595 895.783 Q32.8181 892.568 32.2134 889.544 Q31.5768 886.521 31.5768 883.656 Q31.5768 875.922 35.5872 872.102 Q39.5976 868.283 47.7457 868.283 Z\" fill=\"#000000\" fill-rule=\"evenodd\" fill-opacity=\"1\" /><path clip-path=\"url(#clip160)\" d=\"M 0 0 M46.5681 832.508 L68.0842 832.508 L68.0842 838.364 L46.759 838.364 Q41.6983 838.364 39.1838 840.337 Q36.6694 842.311 36.6694 846.257 Q36.6694 851 39.6931 853.737 Q42.7168 856.474 47.9367 856.474 L68.0842 856.474 L68.0842 862.363 L32.4362 862.363 L32.4362 856.474 L37.9744 856.474 Q34.7597 854.374 33.1683 851.541 Q31.5768 848.676 31.5768 844.952 Q31.5768 838.81 35.3963 835.659 Q39.1838 832.508 46.5681 832.508 Z\" fill=\"#000000\" fill-rule=\"evenodd\" fill-opacity=\"1\" /><path clip-path=\"url(#clip160)\" d=\"M 0 0 M32.4362 826.365 L32.4362 820.508 L68.0842 820.508 L68.0842 826.365 L32.4362 826.365 M18.559 826.365 L18.559 820.508 L25.975 820.508 L25.975 826.365 L18.559 826.365 Z\" fill=\"#000000\" fill-rule=\"evenodd\" fill-opacity=\"1\" /><path clip-path=\"url(#clip160)\" d=\"M 0 0 M46.5681 784.733 L68.0842 784.733 L68.0842 790.589 L46.759 790.589 Q41.6983 790.589 39.1838 792.563 Q36.6694 794.536 36.6694 798.483 Q36.6694 803.225 39.6931 805.963 Q42.7168 808.7 47.9367 808.7 L68.0842 808.7 L68.0842 814.588 L32.4362 814.588 L32.4362 808.7 L37.9744 808.7 Q34.7597 806.599 33.1683 803.766 Q31.5768 800.902 31.5768 797.178 Q31.5768 791.035 35.3963 787.884 Q39.1838 784.733 46.5681 784.733 Z\" fill=\"#000000\" fill-rule=\"evenodd\" fill-opacity=\"1\" /><path clip-path=\"url(#clip160)\" d=\"M 0 0 M49.8464 755.132 Q43.4807 755.132 39.9796 757.774 Q36.4784 760.384 36.4784 765.127 Q36.4784 769.837 39.9796 772.479 Q43.4807 775.089 49.8464 775.089 Q56.1803 775.089 59.6814 772.479 Q63.1826 769.837 63.1826 765.127 Q63.1826 760.384 59.6814 757.774 Q56.1803 755.132 49.8464 755.132 M63.66 749.276 Q72.763 749.276 77.1871 753.318 Q81.6431 757.36 81.6431 765.699 Q81.6431 768.787 81.1657 771.524 Q80.7201 774.261 79.7652 776.839 L74.0679 776.839 Q75.4684 774.261 76.1368 771.747 Q76.8052 769.232 76.8052 766.622 Q76.8052 760.861 73.7815 757.997 Q70.7896 755.132 64.7103 755.132 L61.8139 755.132 Q64.965 756.947 66.5246 759.779 Q68.0842 762.612 68.0842 766.559 Q68.0842 773.115 63.0871 777.126 Q58.09 781.136 49.8464 781.136 Q41.571 781.136 36.5739 777.126 Q31.5768 773.115 31.5768 766.559 Q31.5768 762.612 33.1364 759.779 Q34.696 756.947 37.8471 755.132 L32.4362 755.132 L32.4362 749.276 L63.66 749.276 Z\" fill=\"#000000\" fill-rule=\"evenodd\" fill-opacity=\"1\" /><path clip-path=\"url(#clip160)\" d=\"M 0 0 M1592.96 17.6457 Q1584.05 17.6457 1578.78 24.2892 Q1573.56 30.9327 1573.56 42.3968 Q1573.56 53.8203 1578.78 60.4638 Q1584.05 67.1073 1592.96 67.1073 Q1601.87 67.1073 1607.06 60.4638 Q1612.28 53.8203 1612.28 42.3968 Q1612.28 30.9327 1607.06 24.2892 Q1601.87 17.6457 1592.96 17.6457 M1592.96 11.0023 Q1605.68 11.0023 1613.29 19.5497 Q1620.91 28.0566 1620.91 42.3968 Q1620.91 56.6965 1613.29 65.2439 Q1605.68 73.7508 1592.96 73.7508 Q1580.2 73.7508 1572.54 65.2439 Q1564.93 56.737 1564.93 42.3968 Q1564.93 28.0566 1572.54 19.5497 Q1580.2 11.0023 1592.96 11.0023 Z\" fill=\"#000000\" fill-rule=\"evenodd\" fill-opacity=\"1\" /><path clip-path=\"url(#clip160)\" d=\"M 0 0 M1635.94 65.7705 L1635.94 89.8329 L1628.45 89.8329 L1628.45 27.2059 L1635.94 27.2059 L1635.94 34.0924 Q1638.29 30.0415 1641.85 28.0971 Q1645.46 26.1121 1650.44 26.1121 Q1658.71 26.1121 1663.85 32.6746 Q1669.04 39.2371 1669.04 49.9314 Q1669.04 60.6258 1663.85 67.1883 Q1658.71 73.7508 1650.44 73.7508 Q1645.46 73.7508 1641.85 71.8063 Q1638.29 69.8214 1635.94 65.7705 M1661.3 49.9314 Q1661.3 41.7081 1657.9 37.0496 Q1654.53 32.3505 1648.62 32.3505 Q1642.7 32.3505 1639.3 37.0496 Q1635.94 41.7081 1635.94 49.9314 Q1635.94 58.1548 1639.3 62.8538 Q1642.7 67.5124 1648.62 67.5124 Q1654.53 67.5124 1657.9 62.8538 Q1661.3 58.1548 1661.3 49.9314 Z\" fill=\"#000000\" fill-rule=\"evenodd\" fill-opacity=\"1\" /><path clip-path=\"url(#clip160)\" d=\"M 0 0 M1676.85 27.2059 L1684.31 27.2059 L1684.31 72.576 L1676.85 72.576 L1676.85 27.2059 M1676.85 9.54393 L1684.31 9.54393 L1684.31 18.9825 L1676.85 18.9825 L1676.85 9.54393 Z\" fill=\"#000000\" fill-rule=\"evenodd\" fill-opacity=\"1\" /><path clip-path=\"url(#clip160)\" d=\"M 0 0 M1729.84 45.1919 L1729.84 72.576 L1722.39 72.576 L1722.39 45.4349 Q1722.39 38.994 1719.87 35.7938 Q1717.36 32.5936 1712.34 32.5936 Q1706.3 32.5936 1702.82 36.4419 Q1699.34 40.2903 1699.34 46.9338 L1699.34 72.576 L1691.84 72.576 L1691.84 27.2059 L1699.34 27.2059 L1699.34 34.2544 Q1702.01 30.163 1705.61 28.1376 Q1709.26 26.1121 1714 26.1121 Q1721.82 26.1121 1725.83 30.9732 Q1729.84 35.7938 1729.84 45.1919 Z\" fill=\"#000000\" fill-rule=\"evenodd\" fill-opacity=\"1\" /><path clip-path=\"url(#clip160)\" d=\"M 0 0 M1737.66 27.2059 L1745.11 27.2059 L1745.11 72.576 L1737.66 72.576 L1737.66 27.2059 M1737.66 9.54393 L1745.11 9.54393 L1745.11 18.9825 L1737.66 18.9825 L1737.66 9.54393 Z\" fill=\"#000000\" fill-rule=\"evenodd\" fill-opacity=\"1\" /><path clip-path=\"url(#clip160)\" d=\"M 0 0 M1770.51 32.4315 Q1764.51 32.4315 1761.03 37.1306 Q1757.55 41.7891 1757.55 49.9314 Q1757.55 58.0738 1760.99 62.7728 Q1764.47 67.4314 1770.51 67.4314 Q1776.47 67.4314 1779.95 62.7323 Q1783.43 58.0333 1783.43 49.9314 Q1783.43 41.8701 1779.95 37.1711 Q1776.47 32.4315 1770.51 32.4315 M1770.51 26.1121 Q1780.23 26.1121 1785.78 32.4315 Q1791.33 38.7509 1791.33 49.9314 Q1791.33 61.0714 1785.78 67.4314 Q1780.23 73.7508 1770.51 73.7508 Q1760.75 73.7508 1755.2 67.4314 Q1749.69 61.0714 1749.69 49.9314 Q1749.69 38.7509 1755.2 32.4315 Q1760.75 26.1121 1770.51 26.1121 Z\" fill=\"#000000\" fill-rule=\"evenodd\" fill-opacity=\"1\" /><path clip-path=\"url(#clip160)\" d=\"M 0 0 M1836.86 45.1919 L1836.86 72.576 L1829.41 72.576 L1829.41 45.4349 Q1829.41 38.994 1826.9 35.7938 Q1824.39 32.5936 1819.36 32.5936 Q1813.33 32.5936 1809.84 36.4419 Q1806.36 40.2903 1806.36 46.9338 L1806.36 72.576 L1798.87 72.576 L1798.87 27.2059 L1806.36 27.2059 L1806.36 34.2544 Q1809.03 30.163 1812.64 28.1376 Q1816.29 26.1121 1821.03 26.1121 Q1828.84 26.1121 1832.85 30.9732 Q1836.86 35.7938 1836.86 45.1919 Z\" fill=\"#000000\" fill-rule=\"evenodd\" fill-opacity=\"1\" /><path clip-path=\"url(#clip160)\" d=\"M 0 0 M1879.56 18.8205 L1879.56 65.8515 L1889.44 65.8515 Q1901.96 65.8515 1907.75 60.1802 Q1913.59 54.509 1913.59 42.2752 Q1913.59 30.1225 1907.75 24.4918 Q1901.96 18.8205 1889.44 18.8205 L1879.56 18.8205 M1871.38 12.096 L1888.19 12.096 Q1905.77 12.096 1913.99 19.4281 Q1922.22 26.7198 1922.22 42.2752 Q1922.22 57.9117 1913.95 65.2439 Q1905.69 72.576 1888.19 72.576 L1871.38 72.576 L1871.38 12.096 Z\" fill=\"#000000\" fill-rule=\"evenodd\" fill-opacity=\"1\" /><path clip-path=\"url(#clip160)\" d=\"M 0 0 M1948.91 76.7889 Q1945.75 84.8907 1942.75 87.3618 Q1939.76 89.8329 1934.73 89.8329 L1928.78 89.8329 L1928.78 83.5945 L1933.15 83.5945 Q1936.23 83.5945 1937.93 82.1361 Q1939.64 80.6778 1941.7 75.2496 L1943.04 71.8468 L1924.69 27.2059 L1932.59 27.2059 L1946.77 62.6918 L1960.94 27.2059 L1968.84 27.2059 L1948.91 76.7889 Z\" fill=\"#000000\" fill-rule=\"evenodd\" fill-opacity=\"1\" /><path clip-path=\"url(#clip160)\" d=\"M 0 0 M2014.37 45.1919 L2014.37 72.576 L2006.92 72.576 L2006.92 45.4349 Q2006.92 38.994 2004.41 35.7938 Q2001.9 32.5936 1996.87 32.5936 Q1990.84 32.5936 1987.36 36.4419 Q1983.87 40.2903 1983.87 46.9338 L1983.87 72.576 L1976.38 72.576 L1976.38 27.2059 L1983.87 27.2059 L1983.87 34.2544 Q1986.55 30.163 1990.15 28.1376 Q1993.8 26.1121 1998.54 26.1121 Q2006.35 26.1121 2010.36 30.9732 Q2014.37 35.7938 2014.37 45.1919 Z\" fill=\"#000000\" fill-rule=\"evenodd\" fill-opacity=\"1\" /><path clip-path=\"url(#clip160)\" d=\"M 0 0 M2042.81 49.7694 Q2033.78 49.7694 2030.29 51.8354 Q2026.81 53.9013 2026.81 58.8839 Q2026.81 62.8538 2029.4 65.2034 Q2032.04 67.5124 2036.53 67.5124 Q2042.73 67.5124 2046.46 63.1374 Q2050.23 58.7219 2050.23 51.4303 L2050.23 49.7694 L2042.81 49.7694 M2057.68 46.6907 L2057.68 72.576 L2050.23 72.576 L2050.23 65.6895 Q2047.67 69.8214 2043.87 71.8063 Q2040.06 73.7508 2034.55 73.7508 Q2027.58 73.7508 2023.45 69.8619 Q2019.36 65.9325 2019.36 59.3701 Q2019.36 51.7138 2024.46 47.825 Q2029.61 43.9361 2039.77 43.9361 L2050.23 43.9361 L2050.23 43.2069 Q2050.23 38.0623 2046.82 35.2672 Q2043.46 32.4315 2037.34 32.4315 Q2033.45 32.4315 2029.77 33.3632 Q2026.08 34.295 2022.68 36.1584 L2022.68 29.2718 Q2026.77 27.692 2030.62 26.9223 Q2034.47 26.1121 2038.11 26.1121 Q2047.96 26.1121 2052.82 31.2163 Q2057.68 36.3204 2057.68 46.6907 Z\" fill=\"#000000\" fill-rule=\"evenodd\" fill-opacity=\"1\" /><path clip-path=\"url(#clip160)\" d=\"M 0 0 M2100.82 35.9153 Q2103.62 30.8922 2107.51 28.5022 Q2111.39 26.1121 2116.66 26.1121 Q2123.75 26.1121 2127.6 31.0947 Q2131.45 36.0368 2131.45 45.1919 L2131.45 72.576 L2123.95 72.576 L2123.95 45.4349 Q2123.95 38.913 2121.64 35.7533 Q2119.33 32.5936 2114.59 32.5936 Q2108.8 32.5936 2105.44 36.4419 Q2102.08 40.2903 2102.08 46.9338 L2102.08 72.576 L2094.58 72.576 L2094.58 45.4349 Q2094.58 38.8725 2092.27 35.7533 Q2089.96 32.5936 2085.14 32.5936 Q2079.43 32.5936 2076.07 36.4824 Q2072.71 40.3308 2072.71 46.9338 L2072.71 72.576 L2065.21 72.576 L2065.21 27.2059 L2072.71 27.2059 L2072.71 34.2544 Q2075.26 30.082 2078.82 28.0971 Q2082.39 26.1121 2087.29 26.1121 Q2092.23 26.1121 2095.68 28.6237 Q2099.16 31.1352 2100.82 35.9153 Z\" fill=\"#000000\" fill-rule=\"evenodd\" fill-opacity=\"1\" /><path clip-path=\"url(#clip160)\" d=\"M 0 0 M2139.26 27.2059 L2146.72 27.2059 L2146.72 72.576 L2139.26 72.576 L2139.26 27.2059 M2139.26 9.54393 L2146.72 9.54393 L2146.72 18.9825 L2139.26 18.9825 L2139.26 9.54393 Z\" fill=\"#000000\" fill-rule=\"evenodd\" fill-opacity=\"1\" /><path clip-path=\"url(#clip160)\" d=\"M 0 0 M2187.19 28.9478 L2187.19 35.9153 Q2184.03 34.1734 2180.83 33.3227 Q2177.67 32.4315 2174.43 32.4315 Q2167.17 32.4315 2163.16 37.0496 Q2159.15 41.6271 2159.15 49.9314 Q2159.15 58.2358 2163.16 62.8538 Q2167.17 67.4314 2174.43 67.4314 Q2177.67 67.4314 2180.83 66.5807 Q2184.03 65.6895 2187.19 63.9476 L2187.19 70.8341 Q2184.07 72.2924 2180.7 73.0216 Q2177.38 73.7508 2173.62 73.7508 Q2163.37 73.7508 2157.33 67.3098 Q2151.3 60.8689 2151.3 49.9314 Q2151.3 38.832 2157.37 32.472 Q2163.49 26.1121 2174.1 26.1121 Q2177.55 26.1121 2180.83 26.8413 Q2184.11 27.5299 2187.19 28.9478 Z\" fill=\"#000000\" fill-rule=\"evenodd\" fill-opacity=\"1\" /><path clip-path=\"url(#clip160)\" d=\"M 0 0 M2223.93 28.5427 L2223.93 35.5912 Q2220.77 33.9709 2217.37 33.1607 Q2213.96 32.3505 2210.32 32.3505 Q2204.77 32.3505 2201.97 34.0519 Q2199.22 35.7533 2199.22 39.156 Q2199.22 41.7486 2201.2 43.2475 Q2203.19 44.7058 2209.18 46.0426 L2211.73 46.6097 Q2219.67 48.3111 2223 51.4303 Q2226.36 54.509 2226.36 60.0587 Q2226.36 66.3781 2221.34 70.0644 Q2216.35 73.7508 2207.6 73.7508 Q2203.96 73.7508 2199.99 73.0216 Q2196.06 72.3329 2191.68 70.9151 L2191.68 63.2184 Q2195.81 65.3654 2199.83 66.4591 Q2203.84 67.5124 2207.76 67.5124 Q2213.03 67.5124 2215.87 65.73 Q2218.7 63.9071 2218.7 60.6258 Q2218.7 57.5877 2216.64 55.9673 Q2214.61 54.3469 2207.68 52.8481 L2205.09 52.2405 Q2198.16 50.7821 2195.09 47.7845 Q2192.01 44.7463 2192.01 39.4801 Q2192.01 33.0797 2196.54 29.5959 Q2201.08 26.1121 2209.43 26.1121 Q2213.56 26.1121 2217.2 26.7198 Q2220.85 27.3274 2223.93 28.5427 Z\" fill=\"#000000\" fill-rule=\"evenodd\" fill-opacity=\"1\" /><polyline clip-path=\"url(#clip162)\" style=\"stroke:#009af9; stroke-width:10; stroke-opacity:1; fill:none\" points=\"\n  332.328,162.056 457.394,162.056 582.459,191.288 707.524,202.837 832.589,328.201 957.654,317.236 1082.72,360.87 1207.78,343.803 1332.85,444.412 1457.91,328.102 \n  1582.98,451.129 1708.04,347.899 1833.11,451.245 1958.18,349.147 2083.24,456.73 2208.31,348.86 2333.37,456.751 2458.44,456.764 2583.5,562.117 2708.57,412.628 \n  2833.63,562.118 2958.7,433.698 3083.76,583.189 3208.83,433.699 3333.89,583.189 3458.96,433.699 \n  \"/>\n<polyline clip-path=\"url(#clip162)\" style=\"stroke:#e26f46; stroke-width:10; stroke-opacity:1; fill:none\" points=\"\n  332.328,182.077 457.394,183.612 582.459,187.188 707.524,188.444 832.589,231.112 957.654,263.113 1082.72,265.357 1207.78,286.718 1332.85,308.401 1457.91,308.866 \n  1582.98,330.108 1708.04,351.232 1833.11,351.339 1958.18,372.438 2083.24,372.463 2208.31,393.542 2333.37,414.619 2458.44,414.622 2583.5,435.695 2708.57,456.766 \n  2833.63,456.767 2958.7,477.837 3083.76,477.838 3208.83,498.908 3333.89,519.978 3458.96,519.979 \n  \"/>\n<polyline clip-path=\"url(#clip162)\" style=\"stroke:#3da44d; stroke-width:10; stroke-opacity:1; fill:none\" points=\"\n  332.328,167.807 457.394,179.177 582.459,185.519 707.524,196.157 832.589,234.578 957.654,244.805 1082.72,266.324 1207.78,287.724 1332.85,308.98 1457.91,330.151 \n  1582.98,330.217 1708.04,351.345 1833.11,351.379 1958.18,372.461 2083.24,393.535 2208.31,393.548 2333.37,414.621 2458.44,414.624 2583.5,435.696 2708.57,456.767 \n  2833.63,456.767 2958.7,477.838 3083.76,498.908 3208.83,519.978 3333.89,519.979 3458.96,541.049 \n  \"/>\n<polyline clip-path=\"url(#clip162)\" style=\"stroke:#c271d2; stroke-width:10; stroke-opacity:1; fill:none\" points=\"\n  332.328,162.566 457.394,162.566 582.459,190.632 707.524,182.516 832.589,210.038 957.654,238.347 1082.72,263.409 1207.78,266.226 1332.85,287.252 1457.91,287.902 \n  1582.98,309.009 1708.04,330.165 1833.11,351.272 1958.18,351.336 2083.24,372.441 2208.31,372.465 2333.37,393.543 2458.44,414.621 2583.5,435.693 2708.57,435.695 \n  2833.63,456.766 2958.7,456.767 3083.76,477.838 3208.83,498.908 3333.89,498.908 3458.96,519.979 \n  \"/>\n<polyline clip-path=\"url(#clip162)\" style=\"stroke:#ac8d18; stroke-width:10; stroke-opacity:1; fill:none\" points=\"\n  332.328,202.333 457.394,181.828 582.459,184.262 707.524,180.193 832.589,199.511 957.654,257.323 1082.72,266.299 1207.78,287.111 1332.85,308.397 1457.91,308.869 \n  1582.98,330.085 1708.04,330.191 1833.11,351.322 1958.18,351.377 2083.24,372.462 2208.31,393.54 2333.37,393.55 2458.44,414.623 2583.5,435.694 2708.57,435.696 \n  2833.63,456.767 2958.7,456.767 3083.76,477.838 3208.83,477.838 3333.89,498.908 3458.96,498.908 \n  \"/>\n<polyline clip-path=\"url(#clip162)\" style=\"stroke:#00a9ad; stroke-width:10; stroke-opacity:1; fill:none\" points=\"\n  332.328,198.29 457.394,182.75 582.459,184.844 707.524,199.845 832.589,236.498 957.654,262.362 1082.72,264.922 1207.78,286.701 1332.85,308.441 1457.91,308.841 \n  1582.98,330.109 1708.04,351.287 1833.11,351.325 1958.18,372.435 2083.24,372.455 2208.31,393.54 2333.37,414.616 2458.44,414.622 2583.5,435.694 2708.57,435.696 \n  2833.63,456.767 2958.7,477.837 3083.76,477.838 3208.83,498.908 3333.89,519.978 3458.96,519.979 \n  \"/>\n<polyline clip-path=\"url(#clip162)\" style=\"stroke:#ed5d92; stroke-width:10; stroke-opacity:1; fill:none\" points=\"\n  332.328,186.61 457.394,191.748 582.459,182.866 707.524,189.439 832.589,227.72 957.654,260.289 1082.72,265.606 1207.78,287.61 1332.85,308.685 1457.91,308.966 \n  1582.98,330.131 1708.04,330.267 1833.11,351.356 1958.18,372.444 2083.24,372.468 2208.31,393.542 2333.37,393.549 2458.44,414.623 2583.5,435.695 2708.57,435.696 \n  2833.63,456.767 2958.7,477.837 3083.76,477.838 3208.83,498.908 3333.89,519.978 3458.96,519.979 \n  \"/>\n<polyline clip-path=\"url(#clip162)\" style=\"stroke:#c68125; stroke-width:10; stroke-opacity:1; fill:none\" points=\"\n  332.328,176.188 457.394,183.856 582.459,240.573 707.524,181.67 832.589,510.043 957.654,237.283 1082.72,1733.36 1207.78,245.336 1332.85,1763.63 1457.91,245.624 \n  1582.98,1778.02 1708.04,245.881 1833.11,1782.52 1958.18,246.047 2083.24,1783.72 2208.31,246.058 2333.37,1784.07 2458.44,246.061 2583.5,1784.04 2708.57,246.064 \n  2833.63,1784.18 2958.7,246.065 3083.76,1784.19 3208.83,246.065 3333.89,1784.2 3458.96,246.065 \n  \"/>\n<polyline clip-path=\"url(#clip162)\" style=\"stroke:#00a98d; stroke-width:10; stroke-opacity:1; fill:none\" points=\"\n  332.328,182.089 457.394,192.491 582.459,189.176 707.524,188.039 832.589,204.684 957.654,272.964 1082.72,287.106 1207.78,329.129 1332.85,329.868 1457.91,330.098 \n  1582.98,351.287 1708.04,351.333 1833.11,393.511 1958.18,393.531 2083.24,414.612 2208.31,414.621 2333.37,456.761 2458.44,456.764 2583.5,456.767 2708.57,498.907 \n  2833.63,498.865 2958.7,498.908 3083.76,498.893 3208.83,519.978 3333.89,519.978 3458.96,519.979 \n  \"/>\n<polyline clip-path=\"url(#clip162)\" style=\"stroke:#8e971d; stroke-width:10; stroke-opacity:1; fill:none\" points=\"\n  332.328,194.458 457.394,181.41 582.459,187.606 707.524,182.504 832.589,197.445 957.654,296.747 1082.72,325.466 1207.78,329.095 1332.85,329.803 1457.91,330.143 \n  1582.98,351.256 1708.04,351.342 1833.11,393.519 1958.18,393.533 2083.24,393.544 2208.31,435.686 2333.37,433.505 2458.44,435.695 2583.5,477.721 2708.57,477.837 \n  2833.63,477.837 2958.7,477.838 3083.76,519.978 3208.83,519.978 3333.89,519.979 3458.96,519.979 \n  \"/>\n<polyline clip-path=\"url(#clip162)\" style=\"stroke:#00a8cb; stroke-width:10; stroke-opacity:1; fill:none\" points=\"\n  332.328,180.801 457.394,187.057 582.459,177.06 707.524,190.888 832.589,270.997 957.654,308.556 1082.72,308.956 1207.78,330.21 1332.85,372.271 1457.91,370.339 \n  1582.98,372.429 1708.04,370.431 1833.11,372.455 1958.18,414.603 2083.24,414.613 2208.31,414.62 2333.37,456.764 2458.44,456.766 2583.5,456.766 2708.57,456.767 \n  2833.63,498.908 2958.7,498.908 3083.76,519.978 3208.83,519.979 3333.89,519.979 3458.96,541.049 \n  \"/>\n<polyline clip-path=\"url(#clip162)\" style=\"stroke:#9b7fe8; stroke-width:10; stroke-opacity:1; fill:none\" points=\"\n  332.328,177.629 457.394,185.356 582.459,191.292 707.524,186.236 832.589,229.482 957.654,263.88 1082.72,266.65 1207.78,287.554 1332.85,308.769 1457.91,308.971 \n  1582.98,330.092 1708.04,330.255 1833.11,351.375 1958.18,372.453 2083.24,372.474 2208.31,393.546 2333.37,393.552 2458.44,414.624 2583.5,435.695 2708.57,435.696 \n  2833.63,456.767 2958.7,477.838 3083.76,477.838 3208.83,498.908 3333.89,498.908 3458.96,519.979 \n  \"/>\n<polyline clip-path=\"url(#clip162)\" style=\"stroke:#608cf6; stroke-width:10; stroke-opacity:1; fill:none\" points=\"\n  332.328,171.688 457.394,190.112 582.459,185.002 707.524,182.683 832.589,201.996 957.654,253.993 1082.72,264.538 1207.78,266.517 1332.85,287.346 1457.91,308.423 \n  1582.98,308.923 1708.04,330.09 1833.11,330.256 1958.18,351.349 2083.24,372.446 2208.31,372.465 2333.37,393.546 2458.44,414.619 2583.5,414.623 2708.57,435.695 \n  2833.63,435.696 2958.7,456.767 3083.76,477.838 3208.83,498.908 3333.89,498.908 3458.96,519.978 \n  \"/>\n<polyline clip-path=\"url(#clip162)\" style=\"stroke:#f05f73; stroke-width:10; stroke-opacity:1; fill:none\" points=\"\n  332.328,178.532 457.394,182.71 582.459,179.436 707.524,188.76 832.589,199.331 957.654,269.867 1082.72,286.273 1207.78,308.341 1332.85,308.796 1457.91,350.983 \n  1582.98,351.18 1708.04,351.327 1833.11,372.432 1958.18,372.464 2083.24,414.613 2208.31,414.138 2333.37,435.692 2458.44,435.693 2583.5,435.696 2708.57,477.837 \n  2833.63,477.837 2958.7,477.838 3083.76,519.978 3208.83,519.978 3333.89,519.979 3458.96,562.119 \n  \"/>\n<polyline clip-path=\"url(#clip162)\" style=\"stroke:#dd64b5; stroke-width:10; stroke-opacity:1; fill:none\" points=\"\n  332.328,184.323 457.394,202.524 582.459,189.075 707.524,187.369 832.589,198.286 957.654,286.148 1082.72,304.888 1207.78,308.42 1332.85,308.895 1457.91,351.052 \n  1582.98,351.293 1708.04,372.377 1833.11,372.461 1958.18,414.596 2083.24,414.613 2208.31,414.619 2333.37,435.691 2458.44,435.695 2583.5,477.836 2708.57,477.837 \n  2833.63,477.837 2958.7,477.838 3083.76,477.838 3208.83,519.978 3333.89,519.979 3458.96,519.979 \n  \"/>\n<polyline clip-path=\"url(#clip162)\" style=\"stroke:#6b9e32; stroke-width:10; stroke-opacity:1; fill:none\" points=\"\n  332.328,196.578 457.394,165.095 582.459,188.716 707.524,191.887 832.589,220.729 957.654,278.082 1082.72,286.457 1207.78,287.556 1332.85,308.587 1457.91,308.996 \n  1582.98,330.14 1708.04,330.264 1833.11,351.375 1958.18,372.463 2083.24,393.542 2208.31,414.62 2333.37,414.624 2458.44,435.63 2583.5,435.696 2708.57,456.767 \n  2833.63,456.767 2958.7,477.838 3083.76,498.908 3208.83,498.908 3333.89,519.979 3458.96,519.979 \n  \"/>\n<polyline clip-path=\"url(#clip162)\" style=\"stroke:#009af9; stroke-width:10; stroke-opacity:1; fill:none\" points=\"\n  332.328,186.774 457.394,173.669 582.459,181.206 707.524,184.788 832.589,240.386 957.654,319.817 1082.72,324.471 1207.78,327.768 1332.85,329.241 1457.91,329.984 \n  1582.98,330.081 1708.04,330.264 1833.11,351.345 1958.18,351.4 2083.24,372.47 2208.31,393.543 2333.37,393.554 2458.44,414.624 2583.5,435.696 2708.57,456.766 \n  2833.63,456.767 2958.7,477.837 3083.76,477.838 3208.83,498.908 3333.89,498.908 3458.96,519.979 \n  \"/>\n<polyline clip-path=\"url(#clip162)\" style=\"stroke:#e26f46; stroke-width:10; stroke-opacity:1; fill:none\" points=\"\n  332.328,169.004 457.394,186.552 582.459,192.547 707.524,192.023 832.589,226.086 957.654,281.732 1082.72,287.371 1207.78,329.752 1332.85,317.948 1457.91,330.175 \n  1582.98,372.352 1708.04,372.445 1833.11,393.525 1958.18,393.54 2083.24,435.684 2208.31,435.687 2333.37,435.693 2458.44,435.695 2583.5,456.767 2708.57,477.837 \n  2833.63,477.837 2958.7,477.838 3083.76,519.978 3208.83,519.978 3333.89,519.979 3458.96,562.119 \n  \"/>\n<polyline clip-path=\"url(#clip162)\" style=\"stroke:#3da44d; stroke-width:10; stroke-opacity:1; fill:none\" points=\"\n  332.328,163.286 457.394,184.924 582.459,188.054 707.524,182.718 832.589,211.614 957.654,260.11 1082.72,264.276 1207.78,285.982 1332.85,287.441 1457.91,308.803 \n  1582.98,330.063 1708.04,330.156 1833.11,351.299 1958.18,351.351 2083.24,372.456 2208.31,393.531 2333.37,393.548 2458.44,414.62 2583.5,414.624 2708.57,435.695 \n  2833.63,456.766 2958.7,456.767 3083.76,477.838 3208.83,477.838 3333.89,498.908 3458.96,519.979 \n  \"/>\n<polyline clip-path=\"url(#clip162)\" style=\"stroke:#c271d2; stroke-width:10; stroke-opacity:1; fill:none\" points=\"\n  332.328,188.334 457.394,184.634 582.459,177.191 707.524,181.837 832.589,216.393 957.654,315.65 1082.72,328.671 1207.78,327.741 1332.85,329.953 1457.91,351.272 \n  1582.98,351.325 1708.04,393.445 1833.11,393.498 1958.18,393.516 2083.24,393.526 2208.31,393.549 2333.37,435.692 2458.44,435.695 2583.5,477.836 2708.57,477.837 \n  2833.63,477.837 2958.7,477.838 3083.76,519.978 3208.83,519.978 3333.89,519.979 3458.96,519.979 \n  \"/>\n<polyline clip-path=\"url(#clip162)\" style=\"stroke:#ac8d18; stroke-width:10; stroke-opacity:1; fill:none\" points=\"\n  332.328,201.92 457.394,175.452 582.459,177.226 707.524,182.436 832.589,206.42 957.654,248.389 1082.72,264.571 1207.78,266.091 1332.85,287.533 1457.91,308.683 \n  1582.98,309.034 1708.04,330.133 1833.11,330.258 1958.18,351.359 2083.24,372.445 2208.31,372.461 2333.37,393.544 2458.44,414.621 2583.5,414.623 2708.57,435.696 \n  2833.63,456.767 2958.7,456.767 3083.76,477.838 3208.83,498.908 3333.89,498.908 3458.96,519.979 \n  \"/>\n<polyline clip-path=\"url(#clip162)\" style=\"stroke:#00a9ad; stroke-width:10; stroke-opacity:1; fill:none\" points=\"\n  332.328,203.127 457.394,198.743 582.459,190.382 707.524,191.243 832.589,215.821 957.654,279.536 1082.72,285.531 1207.78,286.662 1332.85,287.552 1457.91,308.899 \n  1582.98,330.181 1708.04,351.275 1833.11,351.348 1958.18,372.445 2083.24,372.462 2208.31,393.54 2333.37,393.547 2458.44,414.622 2583.5,414.624 2708.57,435.696 \n  2833.63,456.766 2958.7,456.767 3083.76,477.838 3208.83,477.838 3333.89,498.908 3458.96,519.979 \n  \"/>\n<polyline clip-path=\"url(#clip162)\" style=\"stroke:#ed5d92; stroke-width:10; stroke-opacity:1; fill:none\" points=\"\n  332.328,168.456 457.394,180.381 582.459,179.501 707.524,185.547 832.589,283.479 957.654,352.95 1082.72,316.956 1207.78,324.391 1332.85,338.994 1457.91,351.32 \n  1582.98,414.496 1708.04,411.092 1833.11,376.714 1958.18,414.38 2083.24,414.619 2208.31,477.83 2333.37,403.29 2458.44,477.835 2583.5,477.722 2708.57,477.837 \n  2833.63,519.936 2958.7,517.979 3083.76,519.978 3208.83,519.977 3333.89,541.049 3458.96,541.049 \n  \"/>\n<polyline clip-path=\"url(#clip162)\" style=\"stroke:#c68125; stroke-width:10; stroke-opacity:1; fill:none\" points=\"\n  332.328,186.317 457.394,185.376 582.459,190.359 707.524,192.761 832.589,245.87 957.654,264.704 1082.72,286.089 1207.78,287.19 1332.85,287.76 1457.91,308.979 \n  1582.98,330.123 1708.04,330.19 1833.11,351.321 1958.18,351.371 2083.24,372.46 2208.31,393.541 2333.37,393.549 2458.44,414.62 2583.5,414.624 2708.57,435.672 \n  2833.63,435.696 2958.7,456.767 3083.76,477.838 3208.83,477.838 3333.89,498.908 3458.96,519.979 \n  \"/>\n<polyline clip-path=\"url(#clip162)\" style=\"stroke:#00a98d; stroke-width:10; stroke-opacity:1; fill:none\" points=\"\n  332.328,197.632 457.394,186.581 582.459,177.997 707.524,190.859 832.589,258.39 957.654,286.576 1082.72,308.492 1207.78,308.892 1332.85,351.053 1457.91,351.271 \n  1582.98,351.322 1708.04,393.511 1833.11,393.526 1958.18,393.538 2083.24,414.615 2208.31,414.623 2333.37,456.763 2458.44,456.765 2583.5,456.767 2708.57,477.837 \n  2833.63,477.838 2958.7,498.908 3083.76,498.908 3208.83,519.978 3333.89,519.979 3458.96,519.979 \n  \"/>\n<polyline clip-path=\"url(#clip162)\" style=\"stroke:#8e971d; stroke-width:10; stroke-opacity:1; fill:none\" points=\"\n  332.328,167.082 457.394,184.132 582.459,193.816 707.524,189.902 832.589,227.407 957.654,310.977 1082.72,324.435 1207.78,328.266 1332.85,317.696 1457.91,330.186 \n  1582.98,351.313 1708.04,372.42 1833.11,372.452 1958.18,414.601 2083.24,414.615 2208.31,414.62 2333.37,456.764 2458.44,456.765 2583.5,456.767 2708.57,498.908 \n  2833.63,498.907 2958.7,498.908 3083.76,498.908 3208.83,498.908 3333.89,541.049 3458.96,541.049 \n  \"/>\n</svg>\n"
     },
     "execution_count": 91,
     "metadata": {},
     "output_type": "execute_result"
    }
   ],
   "source": [
    "#timestep = 1:model.step\n",
    "#timesteps=0:nsteps\n",
    "#opinions=[gd[i].opinion[1] for i in timesteps]\n",
    "#ft=[quantile(gd[i].tested_diagnosis-gd[i-1].tested_diagnosis,0.05) for i in timestep]\n",
    "#mt=[quantile(gd[i].tested_diagnosis-gd[i-1].tested_diagnosis,0.5) for i in timestep]\n",
    "#nt=[quantile(gd[i].tested_diagnosis-gd[i-1].tested_diagnosis,0.95) for i in timestep]\n",
    "\n",
    "timesteps=[gd[i].step for i in 1:nsteps+1]\n",
    "opinions=[gd[i].opinion for i in 1:nsteps+1]\n",
    "plot(timesteps, opinions,\n",
    "        size=(900,500),\n",
    "        title=\"Opinion Dynamics\",\n",
    "        xlab=\"Time\",\n",
    "        ylabel=\"Political Leaning\",\n",
    "        legend=false,\n",
    "        lw=2.5)#; ribbon=[mt-ft,nt-mt],fillalpha=0.3)"
   ]
  },
  {
   "cell_type": "markdown",
   "metadata": {},
   "source": [
    "## Updates (4-10-2020)\n",
    "\n",
    "### Activity \n",
    "* `neighbors` has been successfully implemented in `MultiplexGraphs.jl`\n",
    "* `node_neighbors` compatible with `MultiplexGraphs.jl` has been successfully implemented (see *Utilities*)\n",
    "* Reformed `InitializeModel` with follower graph (still random) initialization \n",
    "* Begin thinking about the portfolio of recommendation algorithms \n",
    "    * Auxiliary bipartite graph (mono or multi-edge)\n",
    "    * Weighted sum over multiple edge types"
   ]
  },
  {
   "cell_type": "markdown",
   "metadata": {},
   "source": [
    "## Updates (5-10-2020)\n",
    "\n",
    "### Activity \n",
    "* Added agent attribute $\\epsilon_\\ell$ : the opinion distance such that if $|o_i-\\rho_i(o_j)| \\leq \\epsilon_{L} \\Rightarrow i$ likes $j$ 's tweet. As a first simple example we'll assume that $\\rho_i$ is the identity such that $\\rho_i(x)=x$\n",
    "* Added new attributes (e.g. `attention`, `login_rate`,...)\n",
    "* Created tweet type\n",
    "* Implemented powerlaw sampling utility\n",
    "* Initialized static follower graph, tweet histories and feeds\n",
    "* Implemented a basic micro dynamics with `Tweet` and `Like!` behaviors\n",
    "* Simple successful run with `N`=1000 and `nsteps`=100 with a pretty good execution time (the code is not at all optimized!)"
   ]
  },
  {
   "cell_type": "markdown",
   "metadata": {},
   "source": [
    "## Updates (6-10-2020)\n",
    "\n",
    "### Activity \n",
    "* Added new agent and tweet type attributes (e.g. `favorites`, `favorite_count`, `retweet_count`)\n",
    "* Implemented `hydrate` function \n",
    "* Added new attributes to model (e.g. `tweets`: chronologically ordered archive of all tweets)\n",
    "* Implemented `Read!`, `RT!` behaviors and defined `Login!` and `Logout!` behaviors\n",
    "* Assumed a an order of magnitude difference between the maximum of *threshold distributions* (e.g. $\\epsilon_{L}$, $\\epsilon_{RT}$, $\\epsilon_{F}$)\n",
    "* A few corrections to previously implemented behavior functions"
   ]
  },
  {
   "cell_type": "markdown",
   "metadata": {},
   "source": [
    "## Updates (7-10-2020)\n",
    "\n",
    "### Activity \n",
    "* Simplify everything to make it possible to calibrate."
   ]
  },
  {
   "cell_type": "markdown",
   "metadata": {},
   "source": [
    "## Thoughts & Doubts  \n",
    "* How to define distinct time scales ($T_{F} \\gg T_{RT} > T_{L}$)\n",
    "* What about defining a status type as a reduced representation of the status object\n",
    "* Choose `nsteps` taking into account the constraints induced by Monitor limits \n",
    "* highlight the latency of the opinion variable: users do not have direct access to the *cognitive opinion* of other but  they have indirect access to *behavioral opinion* leading to a non-zero (tipically high) probability of mis-interpretation (we may model it via a portfolio of probability distributions centered around the true value)\n",
    "* think about how to implement possibile polarization/segregation mitigation strategies (e.g. *homophily-induced heterophily*)\n",
    "* Can we learn anything significant from Higgs2012 static and temporal graphs\n",
    "* How to reliably mine temporal behavioral opinion and reaction mechanisms (e.g. net positive interaction rate: net of T,RTs,L of known polarity / total number of interactions) "
   ]
  },
  {
   "cell_type": "markdown",
   "metadata": {},
   "source": [
    "## To-Do List\n",
    "* Overwrite all graph-related functions in Agents to ensure compatibility with `MultiplexGraphs.jl` (e.g. `get_node_agents()`,...)\n",
    "* Think about all elementary variables, parameters and timing distributions\n",
    "* Explore the portfolio of possible recommendation systems (e.g. GNN, bipartite, centrality-based, simple weighted sum,...)\n",
    "* Implement basic `Follow!` and `RT!` behaviors\n",
    "* Implement the simplest recommendation system (in `model_step!`)\n",
    "* Implement non-trivial interpretation distribution $\\rho_i$\n",
    "* Explore and evaluate Higgs2012 static and temporal graph data\n",
    "* Think of the best parametrization that allows effective calibration "
   ]
  }
 ],
 "metadata": {
  "kernelspec": {
   "display_name": "Julia 1.5.3",
   "language": "julia",
   "name": "julia-1.5"
  },
  "language_info": {
   "file_extension": ".jl",
   "mimetype": "application/julia",
   "name": "julia",
   "version": "1.5.3"
  }
 },
 "nbformat": 4,
 "nbformat_minor": 4
}
